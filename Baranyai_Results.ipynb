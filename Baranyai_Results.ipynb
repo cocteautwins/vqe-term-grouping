{
 "cells": [
  {
   "cell_type": "code",
   "execution_count": 2,
   "metadata": {},
   "outputs": [],
   "source": [
    "import matplotlib.pyplot as plt"
   ]
  },
  {
   "cell_type": "code",
   "execution_count": 3,
   "metadata": {},
   "outputs": [],
   "source": [
    "import numpy as np"
   ]
  },
  {
   "cell_type": "code",
   "execution_count": 4,
   "metadata": {},
   "outputs": [
    {
     "name": "stdout",
     "output_type": "stream",
     "text": [
      "[262.275106726364, 305.41813444398167, 353.67686466055795, 407.4405534360682, 467.11273138275715, 533.1112036651396, 605.8680500000002, 648.0]\n",
      "[19.142857142857142, 19.885714285714286, 20.628571428571426, 21.37142857142857, 22.114285714285714, 22.857142857142858, 23.6, 24.0]\n"
     ]
    }
   ],
   "source": [
    "Ns = np.linspace(2.3, 2.95, 8)[1:]\n",
    "Ns = np.append(Ns, 3)\n",
    "terms = [8 * (N ** 4) for N in Ns]\n",
    "num_cliques = [(N**3) for N in Ns]\n",
    "reduction_factors = [terms[i]/num_cliques[i] for i in range(len(Ns))]\n",
    "print(terms)\n",
    "print(reduction_factors)"
   ]
  },
  {
   "cell_type": "code",
   "execution_count": null,
   "metadata": {},
   "outputs": [],
   "source": []
  }
 ],
 "metadata": {
  "kernelspec": {
   "display_name": "Python 3",
   "language": "python",
   "name": "python3"
  },
  "language_info": {
   "codemirror_mode": {
    "name": "ipython",
    "version": 3
   },
   "file_extension": ".py",
   "mimetype": "text/x-python",
   "name": "python",
   "nbconvert_exporter": "python",
   "pygments_lexer": "ipython3",
   "version": "3.7.1"
  }
 },
 "nbformat": 4,
 "nbformat_minor": 2
}
