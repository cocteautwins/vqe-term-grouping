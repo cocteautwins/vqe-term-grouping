{
 "cells": [
  {
   "cell_type": "code",
   "execution_count": 114,
   "metadata": {},
   "outputs": [],
   "source": [
    "import sys\n",
    "import os\n",
    "from pathlib import Path\n",
    "from openfermion.hamiltonians import MolecularData\n",
    "from openfermion.transforms import get_fermion_operator, jordan_wigner, bravyi_kitaev\n",
    "from openfermionpsi4 import run_psi4"
   ]
  },
  {
   "cell_type": "markdown",
   "metadata": {},
   "source": [
    "add functions to automate the generation of hamiltonians with varying\n",
    "number of active spaces, choice of mapping, choice of basis representation.\n",
    "\n",
    "May need to install the Openfermion-Psi4 package to run:\n",
    "\n",
    "https://github.com/quantumlib/OpenFermion-Psi4"
   ]
  },
  {
   "cell_type": "code",
   "execution_count": 115,
   "metadata": {},
   "outputs": [],
   "source": [
    "def generate_and_save(geometry, basis, multiplicity, description, mfilename):\n",
    "    # initialize the molecule\n",
    "    molecule = MolecularData(geometry,basis,multiplicity,description=description,filename=mfilename)\n",
    "    \n",
    "    # compute the active space integrals\n",
    "    print('-computing integrals-')\n",
    "    molecule = run_psi4(molecule,run_mp2=True,run_cisd=True,run_ccsd=True,run_fci=True)\n",
    "    print(molecule.filename)\n",
    "    print(molecule.two_body_integrals)\n",
    "    print(molecule.canonical_orbitals)\n",
    "    #molecule.save()    \n",
    "    print('Successful generation')"
   ]
  },
  {
   "cell_type": "code",
   "execution_count": 116,
   "metadata": {},
   "outputs": [],
   "source": [
    "def load_and_transform(filename, orbitals, transform):\n",
    "    # Load data\n",
    "    print('--- loading molecule ---')\n",
    "    molecule = MolecularData(filename=filename)\n",
    "    print(molecule.filename)\n",
    "    #molecule.load()\n",
    "    \n",
    "    molecule = run_psi4(molecule,run_mp2=True,run_cisd=True,run_ccsd=True,run_fci=True)\n",
    "\n",
    "    print('filename: {}'.format(molecule.filename))\n",
    "    print('n_atoms: {}'.format(molecule.n_atoms))\n",
    "    print('n_electrons: {}'.format(molecule.n_electrons))\n",
    "    print('n_orbitals: {}'.format(molecule.n_orbitals))\n",
    "    print('Canonical Orbitals: {}'.format(molecule.canonical_orbitals))\n",
    "    print('n_qubits: {}'.format(molecule.n_qubits))\n",
    "    \n",
    "    # get the Hamiltonian for a specific choice of active space\n",
    "    # set the Hamiltonian parameters\n",
    "    occupied_orbitals, active_orbitals = orbitals\n",
    "    \n",
    "    molecular_hamiltonian = molecule.get_molecular_hamiltonian(\n",
    "                 occupied_indices=range(occupied_orbitals),\n",
    "                 active_indices=range(active_orbitals))\n",
    "    \n",
    "    # map the operator to fermions and then qubits\n",
    "    fermion_hamiltonian = get_fermion_operator(molecular_hamiltonian)\n",
    "    \n",
    "    if transform is 'JW':\n",
    "        qubit_h = jordan_wigner(fermion_hamiltonian)\n",
    "        qubit_h.compress()\n",
    "    elif transform is 'BK':\n",
    "        qubit_h = bravyi_kitaev(fermion_hamiltonian)\n",
    "        qubit_h.compress()\n",
    "    else:\n",
    "        print('ERROR: Unrecognized qubit transformation: {}'.format(transform))\n",
    "        sys.exit(2)\n",
    "        \n",
    "    return qubit_h"
   ]
  },
  {
   "cell_type": "code",
   "execution_count": 117,
   "metadata": {},
   "outputs": [],
   "source": [
    "def write_to_file(filename, name, Ne, hamiltonian, description):\n",
    "    # write the resulting qubit H to file\n",
    "    print('\\n\\n~~ writing Qubit Hamiltonian to file~~\\n')\n",
    "    print('filename: {}'.format(filename))\n",
    "    with open(filename, 'w') as H_file:\n",
    "        H_file.write('{} {}\\n'.format(name, Ne))\n",
    "        hstring = '{}'.format(hamiltonian)\n",
    "        terms = hstring.split('\\n')\n",
    "        for t in terms:\n",
    "            t2 = t.split('[')\n",
    "            if len(t2) is 2:\n",
    "                coef = t2[0]\n",
    "                paul = t2[1].split(']')[0]\n",
    "                # Check for identity operator\n",
    "                if paul is '':\n",
    "                    paul = 'I0'\n",
    "                    \n",
    "                # Write coefficients and operators to file\n",
    "                H_file.write('{0:17s} {1}\\n'.format(coef,paul))\n",
    "                \n",
    "            else:\n",
    "                print('ERROR: Something went wrong parsing string')\n",
    "    print('Successful write\\n')"
   ]
  },
  {
   "cell_type": "code",
   "execution_count": 118,
   "metadata": {},
   "outputs": [],
   "source": [
    "# Main\n",
    "# Set molecule parameters\n",
    "name = 'H2'\n",
    "basis = '6-31g'\n",
    "multiplicity = 1\n",
    "num_electrons = 2\n",
    "transform = 'JW'\n",
    "num_orbitals = 4"
   ]
  },
  {
   "cell_type": "code",
   "execution_count": 119,
   "metadata": {},
   "outputs": [
    {
     "name": "stdout",
     "output_type": "stream",
     "text": [
      "--- Generate Molecule: H2_6-31g_0.74 ---\n",
      "-computing integrals-\n",
      "molecule_data/H2_6-31g_singlet_0.7414\n",
      "None\n",
      "None\n",
      "Successful generation\n",
      "--- loading molecule ---\n"
     ]
    },
    {
     "name": "stderr",
     "output_type": "stream",
     "text": [
      "/Users/teague/anaconda3/lib/python3.7/site-packages/openfermionpsi4/_run_psi4.py:226: Warning: No calculation saved. Psi4 segmentation fault possible.\n",
      "  Warning)\n"
     ]
    },
    {
     "ename": "OSError",
     "evalue": "Unable to open file (unable to open file: name = 'molecule_data/H2_6-31g_singlet_0.7414.hdf5', errno = 2, error message = 'No such file or directory', flags = 0, o_flags = 0)",
     "output_type": "error",
     "traceback": [
      "\u001b[0;31m---------------------------------------------------------------------------\u001b[0m",
      "\u001b[0;31mOSError\u001b[0m                                   Traceback (most recent call last)",
      "\u001b[0;32m<ipython-input-119-a7ef80effd74>\u001b[0m in \u001b[0;36m<module>\u001b[0;34m\u001b[0m\n\u001b[1;32m     23\u001b[0m         \u001b[0;31m# Load the molecule and perform qubit transformation\\\u001b[0m\u001b[0;34m\u001b[0m\u001b[0;34m\u001b[0m\u001b[0;34m\u001b[0m\u001b[0m\n\u001b[1;32m     24\u001b[0m         \u001b[0morbitals\u001b[0m \u001b[0;34m=\u001b[0m \u001b[0;34m(\u001b[0m\u001b[0moccupied_num\u001b[0m\u001b[0;34m,\u001b[0m \u001b[0mactive_num\u001b[0m\u001b[0;34m)\u001b[0m\u001b[0;34m\u001b[0m\u001b[0;34m\u001b[0m\u001b[0m\n\u001b[0;32m---> 25\u001b[0;31m         \u001b[0mqubit_h\u001b[0m \u001b[0;34m=\u001b[0m \u001b[0mload_and_transform\u001b[0m\u001b[0;34m(\u001b[0m\u001b[0mmolecule_file\u001b[0m\u001b[0;34m,\u001b[0m \u001b[0morbitals\u001b[0m\u001b[0;34m,\u001b[0m \u001b[0mtransform\u001b[0m\u001b[0;34m)\u001b[0m\u001b[0;34m\u001b[0m\u001b[0;34m\u001b[0m\u001b[0m\n\u001b[0m\u001b[1;32m     26\u001b[0m \u001b[0;34m\u001b[0m\u001b[0m\n\u001b[1;32m     27\u001b[0m         \u001b[0;31m# Write the qubit hamiltonian to file\u001b[0m\u001b[0;34m\u001b[0m\u001b[0;34m\u001b[0m\u001b[0;34m\u001b[0m\u001b[0m\n",
      "\u001b[0;32m<ipython-input-116-2560024ad802>\u001b[0m in \u001b[0;36mload_and_transform\u001b[0;34m(filename, orbitals, transform)\u001b[0m\n\u001b[1;32m      2\u001b[0m     \u001b[0;31m# Load data\u001b[0m\u001b[0;34m\u001b[0m\u001b[0;34m\u001b[0m\u001b[0;34m\u001b[0m\u001b[0m\n\u001b[1;32m      3\u001b[0m     \u001b[0mprint\u001b[0m\u001b[0;34m(\u001b[0m\u001b[0;34m'--- loading molecule ---'\u001b[0m\u001b[0;34m)\u001b[0m\u001b[0;34m\u001b[0m\u001b[0;34m\u001b[0m\u001b[0m\n\u001b[0;32m----> 4\u001b[0;31m     \u001b[0mmolecule\u001b[0m \u001b[0;34m=\u001b[0m \u001b[0mMolecularData\u001b[0m\u001b[0;34m(\u001b[0m\u001b[0mfilename\u001b[0m\u001b[0;34m=\u001b[0m\u001b[0mfilename\u001b[0m\u001b[0;34m)\u001b[0m\u001b[0;34m\u001b[0m\u001b[0;34m\u001b[0m\u001b[0m\n\u001b[0m\u001b[1;32m      5\u001b[0m     \u001b[0mprint\u001b[0m\u001b[0;34m(\u001b[0m\u001b[0mmolecule\u001b[0m\u001b[0;34m.\u001b[0m\u001b[0mfilename\u001b[0m\u001b[0;34m)\u001b[0m\u001b[0;34m\u001b[0m\u001b[0;34m\u001b[0m\u001b[0m\n\u001b[1;32m      6\u001b[0m     \u001b[0;31m#molecule.load()\u001b[0m\u001b[0;34m\u001b[0m\u001b[0;34m\u001b[0m\u001b[0;34m\u001b[0m\u001b[0m\n",
      "\u001b[0;32m~/anaconda3/lib/python3.7/site-packages/openfermion/hamiltonians/_molecular_data.py\u001b[0m in \u001b[0;36m__init__\u001b[0;34m(self, geometry, basis, multiplicity, charge, description, filename, data_directory)\u001b[0m\n\u001b[1;32m    268\u001b[0m                 \u001b[0;32melse\u001b[0m\u001b[0;34m:\u001b[0m\u001b[0;34m\u001b[0m\u001b[0;34m\u001b[0m\u001b[0m\n\u001b[1;32m    269\u001b[0m                     \u001b[0mself\u001b[0m\u001b[0;34m.\u001b[0m\u001b[0mfilename\u001b[0m \u001b[0;34m=\u001b[0m \u001b[0mfilename\u001b[0m\u001b[0;34m\u001b[0m\u001b[0;34m\u001b[0m\u001b[0m\n\u001b[0;32m--> 270\u001b[0;31m                 \u001b[0mself\u001b[0m\u001b[0;34m.\u001b[0m\u001b[0mload\u001b[0m\u001b[0;34m(\u001b[0m\u001b[0;34m)\u001b[0m\u001b[0;34m\u001b[0m\u001b[0;34m\u001b[0m\u001b[0m\n\u001b[0m\u001b[1;32m    271\u001b[0m                 \u001b[0mself\u001b[0m\u001b[0;34m.\u001b[0m\u001b[0minit_lazy_properties\u001b[0m\u001b[0;34m(\u001b[0m\u001b[0;34m)\u001b[0m\u001b[0;34m\u001b[0m\u001b[0;34m\u001b[0m\u001b[0m\n\u001b[1;32m    272\u001b[0m                 \u001b[0;32mreturn\u001b[0m\u001b[0;34m\u001b[0m\u001b[0;34m\u001b[0m\u001b[0m\n",
      "\u001b[0;32m~/anaconda3/lib/python3.7/site-packages/openfermion/hamiltonians/_molecular_data.py\u001b[0m in \u001b[0;36mload\u001b[0;34m(self)\u001b[0m\n\u001b[1;32m    645\u001b[0m         \u001b[0mgeometry\u001b[0m \u001b[0;34m=\u001b[0m \u001b[0;34m[\u001b[0m\u001b[0;34m]\u001b[0m\u001b[0;34m\u001b[0m\u001b[0;34m\u001b[0m\u001b[0m\n\u001b[1;32m    646\u001b[0m \u001b[0;34m\u001b[0m\u001b[0m\n\u001b[0;32m--> 647\u001b[0;31m         \u001b[0;32mwith\u001b[0m \u001b[0mh5py\u001b[0m\u001b[0;34m.\u001b[0m\u001b[0mFile\u001b[0m\u001b[0;34m(\u001b[0m\u001b[0;34m\"{}.hdf5\"\u001b[0m\u001b[0;34m.\u001b[0m\u001b[0mformat\u001b[0m\u001b[0;34m(\u001b[0m\u001b[0mself\u001b[0m\u001b[0;34m.\u001b[0m\u001b[0mfilename\u001b[0m\u001b[0;34m)\u001b[0m\u001b[0;34m,\u001b[0m \u001b[0;34m\"r\"\u001b[0m\u001b[0;34m)\u001b[0m \u001b[0;32mas\u001b[0m \u001b[0mf\u001b[0m\u001b[0;34m:\u001b[0m\u001b[0;34m\u001b[0m\u001b[0;34m\u001b[0m\u001b[0m\n\u001b[0m\u001b[1;32m    648\u001b[0m             \u001b[0;31m# Load geometry:\u001b[0m\u001b[0;34m\u001b[0m\u001b[0;34m\u001b[0m\u001b[0;34m\u001b[0m\u001b[0m\n\u001b[1;32m    649\u001b[0m             \u001b[0mdata\u001b[0m \u001b[0;34m=\u001b[0m \u001b[0mf\u001b[0m\u001b[0;34m[\u001b[0m\u001b[0;34m\"geometry/atoms\"\u001b[0m\u001b[0;34m]\u001b[0m\u001b[0;34m\u001b[0m\u001b[0;34m\u001b[0m\u001b[0m\n",
      "\u001b[0;32m~/anaconda3/lib/python3.7/site-packages/h5py/_hl/files.py\u001b[0m in \u001b[0;36m__init__\u001b[0;34m(self, name, mode, driver, libver, userblock_size, swmr, **kwds)\u001b[0m\n\u001b[1;32m    310\u001b[0m             \u001b[0;32mwith\u001b[0m \u001b[0mphil\u001b[0m\u001b[0;34m:\u001b[0m\u001b[0;34m\u001b[0m\u001b[0;34m\u001b[0m\u001b[0m\n\u001b[1;32m    311\u001b[0m                 \u001b[0mfapl\u001b[0m \u001b[0;34m=\u001b[0m \u001b[0mmake_fapl\u001b[0m\u001b[0;34m(\u001b[0m\u001b[0mdriver\u001b[0m\u001b[0;34m,\u001b[0m \u001b[0mlibver\u001b[0m\u001b[0;34m,\u001b[0m \u001b[0;34m**\u001b[0m\u001b[0mkwds\u001b[0m\u001b[0;34m)\u001b[0m\u001b[0;34m\u001b[0m\u001b[0;34m\u001b[0m\u001b[0m\n\u001b[0;32m--> 312\u001b[0;31m                 \u001b[0mfid\u001b[0m \u001b[0;34m=\u001b[0m \u001b[0mmake_fid\u001b[0m\u001b[0;34m(\u001b[0m\u001b[0mname\u001b[0m\u001b[0;34m,\u001b[0m \u001b[0mmode\u001b[0m\u001b[0;34m,\u001b[0m \u001b[0muserblock_size\u001b[0m\u001b[0;34m,\u001b[0m \u001b[0mfapl\u001b[0m\u001b[0;34m,\u001b[0m \u001b[0mswmr\u001b[0m\u001b[0;34m=\u001b[0m\u001b[0mswmr\u001b[0m\u001b[0;34m)\u001b[0m\u001b[0;34m\u001b[0m\u001b[0;34m\u001b[0m\u001b[0m\n\u001b[0m\u001b[1;32m    313\u001b[0m \u001b[0;34m\u001b[0m\u001b[0m\n\u001b[1;32m    314\u001b[0m                 \u001b[0;32mif\u001b[0m \u001b[0mswmr_support\u001b[0m\u001b[0;34m:\u001b[0m\u001b[0;34m\u001b[0m\u001b[0;34m\u001b[0m\u001b[0m\n",
      "\u001b[0;32m~/anaconda3/lib/python3.7/site-packages/h5py/_hl/files.py\u001b[0m in \u001b[0;36mmake_fid\u001b[0;34m(name, mode, userblock_size, fapl, fcpl, swmr)\u001b[0m\n\u001b[1;32m    140\u001b[0m         \u001b[0;32mif\u001b[0m \u001b[0mswmr\u001b[0m \u001b[0;32mand\u001b[0m \u001b[0mswmr_support\u001b[0m\u001b[0;34m:\u001b[0m\u001b[0;34m\u001b[0m\u001b[0;34m\u001b[0m\u001b[0m\n\u001b[1;32m    141\u001b[0m             \u001b[0mflags\u001b[0m \u001b[0;34m|=\u001b[0m \u001b[0mh5f\u001b[0m\u001b[0;34m.\u001b[0m\u001b[0mACC_SWMR_READ\u001b[0m\u001b[0;34m\u001b[0m\u001b[0;34m\u001b[0m\u001b[0m\n\u001b[0;32m--> 142\u001b[0;31m         \u001b[0mfid\u001b[0m \u001b[0;34m=\u001b[0m \u001b[0mh5f\u001b[0m\u001b[0;34m.\u001b[0m\u001b[0mopen\u001b[0m\u001b[0;34m(\u001b[0m\u001b[0mname\u001b[0m\u001b[0;34m,\u001b[0m \u001b[0mflags\u001b[0m\u001b[0;34m,\u001b[0m \u001b[0mfapl\u001b[0m\u001b[0;34m=\u001b[0m\u001b[0mfapl\u001b[0m\u001b[0;34m)\u001b[0m\u001b[0;34m\u001b[0m\u001b[0;34m\u001b[0m\u001b[0m\n\u001b[0m\u001b[1;32m    143\u001b[0m     \u001b[0;32melif\u001b[0m \u001b[0mmode\u001b[0m \u001b[0;34m==\u001b[0m \u001b[0;34m'r+'\u001b[0m\u001b[0;34m:\u001b[0m\u001b[0;34m\u001b[0m\u001b[0;34m\u001b[0m\u001b[0m\n\u001b[1;32m    144\u001b[0m         \u001b[0mfid\u001b[0m \u001b[0;34m=\u001b[0m \u001b[0mh5f\u001b[0m\u001b[0;34m.\u001b[0m\u001b[0mopen\u001b[0m\u001b[0;34m(\u001b[0m\u001b[0mname\u001b[0m\u001b[0;34m,\u001b[0m \u001b[0mh5f\u001b[0m\u001b[0;34m.\u001b[0m\u001b[0mACC_RDWR\u001b[0m\u001b[0;34m,\u001b[0m \u001b[0mfapl\u001b[0m\u001b[0;34m=\u001b[0m\u001b[0mfapl\u001b[0m\u001b[0;34m)\u001b[0m\u001b[0;34m\u001b[0m\u001b[0;34m\u001b[0m\u001b[0m\n",
      "\u001b[0;32mh5py/_objects.pyx\u001b[0m in \u001b[0;36mh5py._objects.with_phil.wrapper\u001b[0;34m()\u001b[0m\n",
      "\u001b[0;32mh5py/_objects.pyx\u001b[0m in \u001b[0;36mh5py._objects.with_phil.wrapper\u001b[0;34m()\u001b[0m\n",
      "\u001b[0;32mh5py/h5f.pyx\u001b[0m in \u001b[0;36mh5py.h5f.open\u001b[0;34m()\u001b[0m\n",
      "\u001b[0;31mOSError\u001b[0m: Unable to open file (unable to open file: name = 'molecule_data/H2_6-31g_singlet_0.7414.hdf5', errno = 2, error message = 'No such file or directory', flags = 0, o_flags = 0)"
     ]
    }
   ],
   "source": [
    "# Can add a for loop here to generate different lengths\n",
    "# for now, just focus on H2 bond length\n",
    "bond_length = 0.7414\n",
    "description = str(round(bond_length,2))\n",
    "geometry = [('H', (0., 0., 0.)), ('H', (0., 0., bond_length))]\n",
    "\n",
    "if multiplicity is 1:\n",
    "    mult = 'singlet'\n",
    "elif multiplicity is 3:\n",
    "    mult = 'triplet'\n",
    "\n",
    "molecule_file = 'molecule_data/{}_{}_{}_{}'.format(name,basis,mult,bond_length)\n",
    "\n",
    "if not os.path.isdir('molecule_data/'):\n",
    "    os.makedirs('molecule_data/')\n",
    "\n",
    "print('--- Generate Molecule: {}_{}_{:.2f} ---'.format(name,basis,bond_length))\n",
    "generate_and_save(geometry, basis, multiplicity, description, molecule_file)\n",
    "\n",
    "for occupied_num in range(num_orbitals+1):\n",
    "    for active_num in range(1,num_orbitals+1):\n",
    "                \n",
    "        # Load the molecule and perform qubit transformation\\\n",
    "        orbitals = (occupied_num, active_num)\n",
    "        qubit_h = load_and_transform(molecule_file, orbitals, transform)\n",
    "        \n",
    "        # Write the qubit hamiltonian to file\n",
    "        folder = 'Hamiltonians/'\n",
    "        if not os.path.isdir(folder):\n",
    "            os.makedirs(folder)\n",
    "        fn = '{}_{}_{}_OS{}_AS{}_{}.txt'.format(name,basis,transform,\n",
    "                                               description,occupied_num,active_num)\n",
    "        write_to_file(folder+fn,name,num_electrons,qubit_h,description)"
   ]
  },
  {
   "cell_type": "code",
   "execution_count": null,
   "metadata": {},
   "outputs": [],
   "source": []
  }
 ],
 "metadata": {
  "kernelspec": {
   "display_name": "Python 3",
   "language": "python",
   "name": "python3"
  },
  "language_info": {
   "codemirror_mode": {
    "name": "ipython",
    "version": 3
   },
   "file_extension": ".py",
   "mimetype": "text/x-python",
   "name": "python",
   "nbconvert_exporter": "python",
   "pygments_lexer": "ipython3",
   "version": "3.7.1"
  }
 },
 "nbformat": 4,
 "nbformat_minor": 2
}
