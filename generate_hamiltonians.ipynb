{
 "cells": [
  {
   "cell_type": "code",
   "execution_count": 1,
   "metadata": {},
   "outputs": [],
   "source": [
    "import sys\n",
    "from pathlib import Path\n",
    "from openfermion.hamiltonians import MolecularData\n",
    "import openfermion.hamiltonians as oh\n",
    "from openfermion.transforms import get_fermion_operator, jordan_wigner, bravyi_kitaev\n",
    "from openfermionpsi4 import run_psi4"
   ]
  },
  {
   "cell_type": "markdown",
   "metadata": {},
   "source": [
    "add functions to automate the generation of hamiltonians with varying\n",
    "number of active spaces, choice of mapping, choice of basis representation.\n",
    "\n",
    "May need to install the Openfermion-Psi4 package to run:\n",
    "\n",
    "https://github.com/quantumlib/OpenFermion-Psi4"
   ]
  },
  {
   "cell_type": "code",
   "execution_count": 2,
   "metadata": {},
   "outputs": [],
   "source": [
    "def generate_and_save(geometry, basis, multiplicity, description, filename):\n",
    "    # initialize the molecule\n",
    "    molecule = MolecularData(geometry, basis, multiplicity,\n",
    "                            description=description,\n",
    "                            filename=filename)\n",
    "    \n",
    "    # compute the active space integrals\n",
    "    print('-computing integrals-')\n",
    "    molecule = run_psi4(molecule,run_mp2=True,run_cisd=True,run_ccsd=True,\n",
    "                       run_fci=True)\n",
    "    print('Successful generation')"
   ]
  },
  {
   "cell_type": "code",
   "execution_count": 4,
   "metadata": {},
   "outputs": [],
   "source": [
    "def load_and_transform(filename, orbitals, transform):\n",
    "    # Load data\n",
    "    print('--- loading molecule ---')\n",
    "    molecule = MolecularData(filename=filename)\n",
    "    molecule.load()\n",
    "    \n",
    "    print('filename: {}'.format(molecule.filename))\n",
    "    print('n_atoms: {}'.format(molecule.n_atoms))\n",
    "    print('n_electrons: {}'.format(molecule.n_electrons))\n",
    "    print('n_orbitals: {}'.format(molecule.n_orbitals))\n",
    "    print('Canonical Orbitals: {}'.format(molecule.canonical_orbitals))\n",
    "    print('n_qubits: {}'.format(molecule.n_qubits))\n",
    "    \n",
    "    # get the Hamiltonian for a specific choice of active space\n",
    "    # set the Hamiltonian parameters\n",
    "    occupied_orbitals, active_orbitals = orbitals\n",
    "    \n",
    "    molecular_hamiltonian = molecule.get_molecular_hamiltonian(\n",
    "        occupied_indices=range(occupied_orbitals),\n",
    "        active_indices=range(active_orbitals))\n",
    "    \n",
    "    # map the operator to fermions and then qubits\n",
    "    fermion_hamiltonian = get_fermion_operator(molecular_hamiltonian)\n",
    "    \n",
    "    if transform is 'JW':\n",
    "        qubit_h = jordan_wigner(fermion_hamiltonian)\n",
    "        qubit_h.compress()\n",
    "    elif transform is 'BK':\n",
    "        qubit_h = bravyi_kitaev(fermion_hamiltonian)\n",
    "        qubit_h.compress()\n",
    "    else:\n",
    "        print('ERROR: Unrecognized qubit transformation: {}'.format(transform))\n",
    "        sys.exit(2)\n",
    "        \n",
    "    return qubit_h"
   ]
  },
  {
   "cell_type": "code",
   "execution_count": 5,
   "metadata": {},
   "outputs": [],
   "source": [
    "def write_to_file(filename, name, Ne, hamiltonian, description):\n",
    "    # write the resulting qubit H to file\n",
    "    print('\\n\\n~~ writing Qubit Hamiltonian to file~~\\n')\n",
    "    print('filename: {}'.format(filename))\n",
    "    with open(filename, 'w') as H_file:\n",
    "        H_file.write('{} {}\\n'.format(name, Ne))\n",
    "        hstring = '{}'.format(hamiltonian)\n",
    "        terms = hstring.split('\\n')\n",
    "        for t in terms:\n",
    "            t2 = t.split('[')\n",
    "            if len(t2) is 2:\n",
    "                coef = t2[0]\n",
    "                paul = t2[1].split(']')[0]\n",
    "                # Check for identity operator\n",
    "                if paul is '':\n",
    "                    paul = 'I0'\n",
    "                    \n",
    "                # Write coefficients and operators to file\n",
    "                H_file.write('{0:17s} {1}\\n'.format(coef,paul))\n",
    "                \n",
    "            else:\n",
    "                print('ERROR: Something went wrong parsing string')\n",
    "    print('Successful write\\n')"
   ]
  },
  {
   "cell_type": "code",
   "execution_count": 6,
   "metadata": {},
   "outputs": [],
   "source": [
    "# Main\n",
    "# Set molecule parameters\n",
    "name = 'H2'\n",
    "basis = '6-31g'\n",
    "multiplicity = 1\n",
    "num_electrons = 2\n",
    "transform = 'JW'\n",
    "num_orbitals = 4"
   ]
  },
  {
   "cell_type": "code",
   "execution_count": null,
   "metadata": {},
   "outputs": [],
   "source": [
    "for occupied_num in range(num_orbitals+1):\n",
    "    for active_num in range(1,num_orbitals+1):\n",
    "        \n",
    "        # Can add a for loop here to generate different lengths\n",
    "        # for now, just focus on H2 bond length\n",
    "        bond_length = .7414\n",
    "        description = str(round(bond_length,2))\n",
    "        geometry = [('H', (0., 0., 0.)), ('H', (0., 0., bond_length))]\n",
    "        \n",
    "        if multiplicity is 1:\n",
    "            mult = 'singlet'\n",
    "        elif multiplicity is 3:\n",
    "            mult = 'triplet'\n",
    "        \n",
    "        molecule_file = 'molecule_data/{}_{}_{}_{}.hdf5'.format(name,basis,\n",
    "                                                               mult,bond_length)\n",
    "        config = Path(molecule_file)\n",
    "        \n",
    "        print('--- Generate Molecule: {}_{}_{:.2f} ---'.format(name,basis,bond_length))\n",
    "        generate_and_save(geometry, basis, multiplicity, description, molecule_file)\n",
    "        \n",
    "        # Load the molecule and perform qubit transformation\n",
    "        occupied_num"
   ]
  }
 ],
 "metadata": {
  "kernelspec": {
   "display_name": "Python 3",
   "language": "python",
   "name": "python3"
  },
  "language_info": {
   "codemirror_mode": {
    "name": "ipython",
    "version": 3
   },
   "file_extension": ".py",
   "mimetype": "text/x-python",
   "name": "python",
   "nbconvert_exporter": "python",
   "pygments_lexer": "ipython3",
   "version": "3.7.1"
  }
 },
 "nbformat": 4,
 "nbformat_minor": 2
}
