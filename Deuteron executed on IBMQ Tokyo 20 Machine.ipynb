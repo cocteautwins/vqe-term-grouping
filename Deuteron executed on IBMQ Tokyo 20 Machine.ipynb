{
 "cells": [
  {
   "cell_type": "code",
   "execution_count": 1,
   "metadata": {},
   "outputs": [],
   "source": [
    "import time, sys\n",
    "\n",
    "# Import the Qiskit \n",
    "from qiskit import QuantumCircuit, ClassicalRegister, QuantumRegister, QiskitError\n",
    "from qiskit import execute, IBMQ, BasicAer, transpiler, Aer\n",
    "from qiskit.providers.ibmq import least_busy\n",
    "from qiskit.tools.monitor import job_monitor\n",
    "from qiskit.mapper import Layout"
   ]
  },
  {
   "cell_type": "markdown",
   "metadata": {},
   "source": [
    "## Define your backend"
   ]
  },
  {
   "cell_type": "code",
   "execution_count": 2,
   "metadata": {},
   "outputs": [
    {
     "name": "stderr",
     "output_type": "stream",
     "text": [
      "Remote backend \"ibmqx_qasm_simulator\" could not be instantiated due to an invalid config: {'conditional': ['Missing data for required field.'], 'basis_gates': ['Missing data for required field.'], 'local': ['Missing data for required field.'], 'memory': ['Missing data for required field.'], 'backend_version': ['Missing data for required field.'], 'max_shots': ['Missing data for required field.'], 'open_pulse': ['Missing data for required field.'], 'n_qubits': ['Missing data for required field.'], 'gates': {0: {'name': ['Missing data for required field.'], 'qasm_def': ['Missing data for required field.'], 'parameters': ['Missing data for required field.']}}, 'backend_name': ['Missing data for required field.']}\n"
     ]
    },
    {
     "name": "stdout",
     "output_type": "stream",
     "text": [
      "Available backends:\n"
     ]
    },
    {
     "data": {
      "text/plain": [
       "[<IBMQSimulator('ibmq_qasm_simulator') from IBMQ(ibm-q-ornl, bes-qis, argonne)>,\n",
       " <IBMQBackend('ibmq_20_tokyo') from IBMQ(ibm-q-ornl, bes-qis, argonne)>,\n",
       " <IBMQBackend('ibmq_poughkeepsie') from IBMQ(ibm-q-ornl, bes-qis, argonne)>]"
      ]
     },
     "execution_count": 2,
     "metadata": {},
     "output_type": "execute_result"
    }
   ],
   "source": [
    "from qiskit import IBMQ\n",
    "\n",
    "# insert your token & URL here\n",
    "IBMQ.enable_account('<your token>', url='<your url>')\n",
    "\n",
    "# check available backends\n",
    "print(\"Available backends:\")\n",
    "IBMQ.backends()"
   ]
  },
  {
   "cell_type": "markdown",
   "metadata": {},
   "source": [
    "## Define the layout"
   ]
  },
  {
   "cell_type": "code",
   "execution_count": 3,
   "metadata": {},
   "outputs": [
    {
     "name": "stdout",
     "output_type": "stream",
     "text": [
      "ibmq_20_tokyo\n"
     ]
    },
    {
     "data": {
      "text/plain": [
       "BackendStatus(backend_name='ibmq_20_tokyo', backend_version='1.2.5', operational=True, pending_jobs=0, status_msg='active')"
      ]
     },
     "execution_count": 3,
     "metadata": {},
     "output_type": "execute_result"
    }
   ],
   "source": [
    "# execute on the IBM Tokyo 20 Qubit Machine\n",
    "backend = IBMQ.get_backend('ibmq_20_tokyo')\n",
    "print(backend)\n",
    "backend.status()"
   ]
  },
  {
   "cell_type": "markdown",
   "metadata": {},
   "source": [
    "## Define the UCCSD ansatz circuit"
   ]
  },
  {
   "cell_type": "code",
   "execution_count": 4,
   "metadata": {
    "scrolled": true
   },
   "outputs": [],
   "source": [
    "def get_ucc_ansatz(theta):\n",
    "    circuit = QuantumCircuit(2, 2)\n",
    "    circuit.x(0)\n",
    "    circuit.ry(theta, 1)\n",
    "    circuit.cx(1, 0)\n",
    "    return circuit"
   ]
  },
  {
   "cell_type": "markdown",
   "metadata": {},
   "source": [
    "## Define the naive measurement circuits\n",
    "more automations can be done in here"
   ]
  },
  {
   "cell_type": "code",
   "execution_count": 5,
   "metadata": {},
   "outputs": [],
   "source": [
    "# define the number of shots\n",
    "shots = 1000\n",
    "\n",
    "def measure_zi(theta):\n",
    "    circuit = get_ucc_ansatz(theta)\n",
    "    circuit.measure(0, 0)\n",
    "    circuit.measure(1, 1)\n",
    "    job = qiskit.execute(circuit, backend=backend, shots=shots)\n",
    "    job_monitor(job)\n",
    "    counts = job.result().get_counts(circuit)\n",
    "    return (counts.get('00', 0) + counts.get('10', 0) - counts.get('11', 0) - counts.get('01', 0))/shots\n",
    "\n",
    "\n",
    "def measure_iz(theta):\n",
    "    circuit = get_ucc_ansatz(theta)\n",
    "    circuit.measure(0, 0)\n",
    "    circuit.measure(1, 1)\n",
    "    job = qiskit.execute(circuit, backend=backend, shots=shots)\n",
    "    job_monitor(job)\n",
    "    counts = job.result().get_counts(circuit)\n",
    "    return (counts.get('00', 0) + counts.get('01', 0) - counts.get('10', 0) - counts.get('11', 0))/shots\n",
    "\n",
    "\n",
    "def measure_xx(theta):\n",
    "    circuit = get_ucc_ansatz(theta)\n",
    "    circuit.h(0)\n",
    "    circuit.h(1)\n",
    "    circuit.measure(0, 0)\n",
    "    circuit.measure(1, 1)\n",
    "    job = qiskit.execute(circuit, backend=backend, shots=shots)\n",
    "    job_monitor(job)\n",
    "    counts = job.result().get_counts(circuit)\n",
    "    return (counts.get('00', 0) + counts.get('11', 0) - counts.get('01', 0) - counts.get('10', 0))/shots\n",
    "\n",
    "\n",
    "def measure_yy(theta):\n",
    "    circuit = get_ucc_ansatz(theta)\n",
    "    circuit.h(0)\n",
    "    circuit.sdg(0)\n",
    "    circuit.h(1)\n",
    "    circuit.sdg(1)\n",
    "    circuit.measure(0, 0)\n",
    "    circuit.measure(1, 1)\n",
    "    job = qiskit.execute(circuit, backend=backend, shots=shots)\n",
    "    job_monitor(job)\n",
    "    counts = job.result().get_counts(circuit)\n",
    "    return (counts.get('00', 0) + counts.get('11', 0) - counts.get('01', 0) - counts.get('10', 0))/shots\n",
    "\n",
    "def measure_hamiltonian(theta):\n",
    "    return 5.9 + .22 * measure_zi(theta) - 6.1 * measure_iz(theta) - 2.14 * measure_xx(theta) - 2.14 * measure_yy(theta)"
   ]
  },
  {
   "cell_type": "markdown",
   "metadata": {},
   "source": [
    "### run the experiment with different theta value"
   ]
  },
  {
   "cell_type": "code",
   "execution_count": 6,
   "metadata": {
    "scrolled": false
   },
   "outputs": [
    {
     "name": "stdout",
     "output_type": "stream",
     "text": [
      "Job Status: job has successfully run\n",
      "Job Status: job has successfully run\n",
      "Job Status: job has successfully run\n",
      "Job Status: job has successfully run\n",
      "theta is: \n",
      "-3.141592653589793\n",
      "the current values[] array is: \n",
      "[11.77248]\n",
      "Job Status: job has successfully run\n",
      "Job Status: job has successfully run\n",
      "Job Status: job has successfully run\n",
      "Job Status: job has successfully run\n",
      "theta is: \n",
      "-2.6179938779914944\n",
      "the current values[] array is: \n",
      "[11.77248, 12.465000000000002]\n",
      "Job Status: job has successfully run\n",
      "Job Status: job has successfully run\n",
      "Job Status: job has successfully run\n",
      "Job Status: job has successfully run\n",
      "theta is: \n",
      "-2.0943951023931957\n",
      "the current values[] array is: \n",
      "[11.77248, 12.465000000000002, 11.226320000000001]\n",
      "Job Status: job has successfully run\n",
      "Job Status: job has successfully run\n",
      "Job Status: job has successfully run\n",
      "Job Status: job has successfully run\n",
      "theta is: \n",
      "-1.570796326794897\n",
      "the current values[] array is: \n",
      "[11.77248, 12.465000000000002, 11.226320000000001, 8.612680000000001]\n",
      "Job Status: job has successfully run\n",
      "Job Status: job has successfully run\n",
      "Job Status: job has successfully run\n",
      "Job Status: job has successfully run\n",
      "theta is: \n",
      "-1.0471975511965983\n",
      "the current values[] array is: \n",
      "[11.77248, 12.465000000000002, 11.226320000000001, 8.612680000000001, 5.894]\n",
      "Job Status: job has successfully run\n",
      "Job Status: job has successfully run\n",
      "Job Status: job has successfully run\n",
      "Job Status: job has successfully run\n",
      "theta is: \n",
      "-0.5235987755982996\n",
      "the current values[] array is: \n",
      "[11.77248, 12.465000000000002, 11.226320000000001, 8.612680000000001, 5.894, 2.0026800000000016]\n",
      "Job Status: job has successfully run\n",
      "Job Status: job has successfully run\n",
      "Job Status: job has successfully run\n",
      "Job Status: job has successfully run\n",
      "theta is: \n",
      "-8.881784197001252e-16\n",
      "the current values[] array is: \n",
      "[11.77248, 12.465000000000002, 11.226320000000001, 8.612680000000001, 5.894, 2.0026800000000016, -0.6282799999999995]\n",
      "Job Status: job has successfully run\n",
      "Job Status: job has successfully run\n",
      "Job Status: job has successfully run\n",
      "Job Status: job has successfully run\n",
      "theta is: \n",
      "0.5235987755982978\n",
      "the current values[] array is: \n",
      "[11.77248, 12.465000000000002, 11.226320000000001, 8.612680000000001, 5.894, 2.0026800000000016, -0.6282799999999995, -1.3829999999999996]\n",
      "Job Status: job has successfully run\n",
      "Job Status: job has successfully run\n",
      "Job Status: job has successfully run\n",
      "Job Status: job has successfully run\n",
      "theta is: \n",
      "1.0471975511965965\n",
      "the current values[] array is: \n",
      "[11.77248, 12.465000000000002, 11.226320000000001, 8.612680000000001, 5.894, 2.0026800000000016, -0.6282799999999995, -1.3829999999999996, -0.22271999999999914]\n",
      "Job Status: job has successfully run\n",
      "Job Status: job has successfully run\n",
      "Job Status: job has successfully run\n",
      "Job Status: job has successfully run\n",
      "theta is: \n",
      "1.5707963267948948\n",
      "the current values[] array is: \n",
      "[11.77248, 12.465000000000002, 11.226320000000001, 8.612680000000001, 5.894, 2.0026800000000016, -0.6282799999999995, -1.3829999999999996, -0.22271999999999914, 2.59764]\n",
      "Job Status: job has successfully run\n",
      "Job Status: job has successfully run\n",
      "Job Status: job has successfully run\n",
      "Job Status: job has successfully run\n",
      "theta is: \n",
      "2.094395102393194\n",
      "the current values[] array is: \n",
      "[11.77248, 12.465000000000002, 11.226320000000001, 8.612680000000001, 5.894, 2.0026800000000016, -0.6282799999999995, -1.3829999999999996, -0.22271999999999914, 2.59764, 6.116479999999999]\n",
      "Job Status: job has successfully run\n",
      "Job Status: job has successfully run\n",
      "Job Status: job has successfully run\n",
      "Job Status: job has successfully run\n",
      "theta is: \n",
      "2.617993877991493\n",
      "the current values[] array is: \n",
      "[11.77248, 12.465000000000002, 11.226320000000001, 8.612680000000001, 5.894, 2.0026800000000016, -0.6282799999999995, -1.3829999999999996, -0.22271999999999914, 2.59764, 6.116479999999999, 9.31788]\n"
     ]
    }
   ],
   "source": [
    "import numpy as np\n",
    "import qiskit\n",
    "values = []\n",
    "for theta in np.arange(-np.pi, np.pi, np.pi / 6):\n",
    "    values.append(measure_hamiltonian(theta))\n",
    "    # print out the values after each runs in order to save progress from program collapse/network issue\n",
    "    print('theta is: ')\n",
    "    print(theta)\n",
    "    print('the current values[] array is: ')\n",
    "    print(values)"
   ]
  },
  {
   "cell_type": "markdown",
   "metadata": {},
   "source": [
    "### Plot the results\n",
    "Superimpose the results of the simultaneous measurements and that of the naive measurement"
   ]
  },
  {
   "cell_type": "code",
   "execution_count": 31,
   "metadata": {},
   "outputs": [
    {
     "data": {
      "image/png": "[encoded data removed]",
      "text/plain": [
       "<Figure size 432x288 with 1 Axes>"
      ]
     },
     "metadata": {
      "needs_background": "light"
     },
     "output_type": "display_data"
    }
   ],
   "source": [
    "# simulated results copied from the other ipython notebook\n",
    "values_simulated = [12.318439999999999, 13.70312, 12.840320000000002, 10.260440000000001, 6.42872, 2.7654000000000014, -0.4627999999999991, -1.6761599999999992, -1.1323599999999996, 1.9101599999999999, 5.18572, 9.35652]\n",
    "# physical results from Tokyo 20 for naive measurement method\n",
    "values_physical = [11.77248, 12.465000000000002, 11.226320000000001, 8.612680000000001, 5.894, 2.0026800000000016, -0.6282799999999995, -1.3829999999999996, -0.22271999999999914, 2.59764, 6.116479999999999, 9.31788]\n",
    "# array of theta values\n",
    "thetas = [-3.141592653589793, -2.6179938779914944, -2.0943951023931957, -1.570796326794897, -1.0471975511965983, -0.5235987755982996, -8.881784197001252e-16, 0.5235987755982978, 1.0471975511965965, 1.5707963267948948, 2.094395102393194, 2.617993877991493]\n",
    "# physical results from Tokyo 20 for simultaneous measurement method\n",
    "values2_physical = [11.78468, 12.558240000000001, 11.13888, 8.84964, 5.1592400000000005, 1.5702000000000012, -0.7365999999999993, -1.1382, -0.11680000000000001, 2.16244, 5.65808, 9.46308]\n",
    "\n",
    "# plot them!\n",
    "import matplotlib.pyplot as plt\n",
    "plt.plot(thetas, values2_physical, 'bs', label = 'simultaneous measurement')\n",
    "plt.plot(thetas, values2_physical)\n",
    "plt.plot(thetas, values_physical, 'g^', label = \"naive measurement\")\n",
    "plt.plot(thetas, values_physical)\n",
    "plt.legend(loc='best')\n",
    "plt.title('simultaneous vs naive for Tokyo')\n",
    "plt.xlabel('theta values')\n",
    "plt.ylabel('energy sums')\n",
    "plt.show()\n"
   ]
  },
  {
   "cell_type": "markdown",
   "metadata": {},
   "source": [
    "### Plot the difference of simultaneous vs naive for Tokyo 20"
   ]
  },
  {
   "cell_type": "code",
   "execution_count": 30,
   "metadata": {},
   "outputs": [
    {
     "data": {
      "image/png": "[encoded data removed]",
      "text/plain": [
       "<Figure size 432x288 with 1 Axes>"
      ]
     },
     "metadata": {
      "needs_background": "light"
     },
     "output_type": "display_data"
    }
   ],
   "source": [
    "diff = []\n",
    "for i in range(len(thetas)):\n",
    "    diff.append(values_physical[i] - values2_physical[i])\n",
    "\n",
    "plt.plot(thetas, diff, 'g^')\n",
    "plt.plot(thetas, diff)\n",
    "plt.title('difference between simultaneous and naive for Tokyo')\n",
    "plt.xlabel('theta values')\n",
    "plt.ylabel('energy sums')\n",
    "plt.show()"
   ]
  },
  {
   "cell_type": "markdown",
   "metadata": {},
   "source": [
    "## Define the simultaneous measurement circuits\n",
    "more automations can be done in here"
   ]
  },
  {
   "cell_type": "code",
   "execution_count": 7,
   "metadata": {},
   "outputs": [],
   "source": [
    "# define the number of shots\n",
    "shots = 1000\n",
    "\n",
    "def measure_zi_and_iz(theta):\n",
    "    circuit = get_ucc_ansatz(theta)\n",
    "    circuit.measure(0, 0)\n",
    "    circuit.measure(1, 1)\n",
    "    job = qiskit.execute(circuit, backend=backend, shots=shots)\n",
    "    job_monitor(job)\n",
    "    counts = job.result().get_counts(circuit)\n",
    "    zi = (counts.get('00', 0) + counts.get('10', 0) - counts.get('11', 0) - counts.get('01', 0))/shots\n",
    "    iz = (counts.get('00', 0) + counts.get('01', 0) - counts.get('10', 0) - counts.get('11', 0))/shots\n",
    "    return zi, iz\n",
    "\n",
    "def measure_xx_and_yy(theta):\n",
    "    circuit = get_ucc_ansatz(theta)\n",
    "    circuit.h(1)\n",
    "    circuit.cx(1, 0)\n",
    "    circuit.cz(0, 1)\n",
    "    circuit.h(0)\n",
    "    circuit.h(1)\n",
    "    circuit.measure(0, 0)\n",
    "    circuit.measure(1, 1)\n",
    "    job = qiskit.execute(circuit, backend=backend, shots=shots)\n",
    "    job_monitor(job)\n",
    "    counts = job.result().get_counts(circuit)\n",
    "    xx = (counts.get('00', 0) + counts.get('10', 0) - counts.get('11', 0) - counts.get('01', 0))/shots\n",
    "    yy = (counts.get('00', 0) + counts.get('01', 0) - counts.get('10', 0) - counts.get('11', 0))/shots\n",
    "    return xx, yy\n",
    "\n",
    "def measure_simultaneously_hamiltonian(theta):\n",
    "    xx, yy = measure_xx_and_yy(theta)\n",
    "    zi, iz = measure_zi_and_iz(theta)\n",
    "    return 5.9 + .22 * zi - 6.1 * iz - 2.14 * xx - 2.14 * yy"
   ]
  },
  {
   "cell_type": "markdown",
   "metadata": {},
   "source": [
    "### Run the experiment with different theta value"
   ]
  },
  {
   "cell_type": "code",
   "execution_count": 10,
   "metadata": {},
   "outputs": [
    {
     "name": "stdout",
     "output_type": "stream",
     "text": [
      "Job Status: job has successfully run\n",
      "Job Status: job has successfully run\n",
      "theta is: \n",
      "-3.141592653589793\n",
      "the current values[] array is: \n",
      "[11.78468]\n",
      "Job Status: job has successfully run\n",
      "Job Status: job has successfully run\n",
      "theta is: \n",
      "-2.6179938779914944\n",
      "the current values[] array is: \n",
      "[11.78468, 12.558240000000001]\n",
      "Job Status: job has successfully run\n",
      "Job Status: job has successfully run\n",
      "theta is: \n",
      "-2.0943951023931957\n",
      "the current values[] array is: \n",
      "[11.78468, 12.558240000000001, 11.13888]\n",
      "Job Status: job has successfully run\n",
      "Job Status: job has successfully run\n",
      "theta is: \n",
      "-1.570796326794897\n",
      "the current values[] array is: \n",
      "[11.78468, 12.558240000000001, 11.13888, 8.84964]\n",
      "Job Status: job has successfully run\n",
      "Job Status: job has successfully run\n",
      "theta is: \n",
      "-1.0471975511965983\n",
      "the current values[] array is: \n",
      "[11.78468, 12.558240000000001, 11.13888, 8.84964, 5.1592400000000005]\n",
      "Job Status: job has successfully run\n",
      "Job Status: job has successfully run\n",
      "theta is: \n",
      "-0.5235987755982996\n",
      "the current values[] array is: \n",
      "[11.78468, 12.558240000000001, 11.13888, 8.84964, 5.1592400000000005, 1.5702000000000012]\n",
      "Job Status: job has successfully run\n",
      "Job Status: job has successfully run\n",
      "theta is: \n",
      "-8.881784197001252e-16\n",
      "the current values[] array is: \n",
      "[11.78468, 12.558240000000001, 11.13888, 8.84964, 5.1592400000000005, 1.5702000000000012, -0.7365999999999993]\n",
      "Job Status: job has successfully run\n",
      "Job Status: job has successfully run\n",
      "theta is: \n",
      "0.5235987755982978\n",
      "the current values[] array is: \n",
      "[11.78468, 12.558240000000001, 11.13888, 8.84964, 5.1592400000000005, 1.5702000000000012, -0.7365999999999993, -1.1382]\n",
      "Job Status: job has successfully run\n",
      "Job Status: job has successfully run\n",
      "theta is: \n",
      "1.0471975511965965\n",
      "the current values[] array is: \n",
      "[11.78468, 12.558240000000001, 11.13888, 8.84964, 5.1592400000000005, 1.5702000000000012, -0.7365999999999993, -1.1382, -0.11680000000000001]\n",
      "Job Status: job has successfully run\n",
      "Job Status: job has successfully run\n",
      "theta is: \n",
      "1.5707963267948948\n",
      "the current values[] array is: \n",
      "[11.78468, 12.558240000000001, 11.13888, 8.84964, 5.1592400000000005, 1.5702000000000012, -0.7365999999999993, -1.1382, -0.11680000000000001, 2.16244]\n",
      "Job Status: job has successfully run\n",
      "Job Status: job has successfully run\n",
      "theta is: \n",
      "2.094395102393194\n",
      "the current values[] array is: \n",
      "[11.78468, 12.558240000000001, 11.13888, 8.84964, 5.1592400000000005, 1.5702000000000012, -0.7365999999999993, -1.1382, -0.11680000000000001, 2.16244, 5.65808]\n",
      "Job Status: job has successfully run\n",
      "Job Status: job has successfully run\n",
      "theta is: \n",
      "2.617993877991493\n",
      "the current values[] array is: \n",
      "[11.78468, 12.558240000000001, 11.13888, 8.84964, 5.1592400000000005, 1.5702000000000012, -0.7365999999999993, -1.1382, -0.11680000000000001, 2.16244, 5.65808, 9.46308]\n"
     ]
    }
   ],
   "source": [
    "import qiskit\n",
    "import numpy as np\n",
    "values2 = []\n",
    "for theta in np.arange(-np.pi, np.pi, np.pi / 6):\n",
    "    values2.append(measure_simultaneously_hamiltonian(theta))\n",
    "    \n",
    "    # print out the values after each runs in order to save progress from program collapse/network issue\n",
    "    print('theta is: ')\n",
    "    print(theta)\n",
    "    print('the current values[] array is: ')\n",
    "    print(values2)"
   ]
  },
  {
   "cell_type": "markdown",
   "metadata": {},
   "source": [
    "### plot the results for the simultaneous measurement"
   ]
  },
  {
   "cell_type": "code",
   "execution_count": 19,
   "metadata": {
    "scrolled": true
   },
   "outputs": [
    {
     "data": {
      "image/png": "[encoded data removed]",
      "text/plain": [
       "<Figure size 432x288 with 1 Axes>"
      ]
     },
     "metadata": {
      "needs_background": "light"
     },
     "output_type": "display_data"
    }
   ],
   "source": [
    "values2_physical = [11.78468, 12.558240000000001, 11.13888, 8.84964, 5.1592400000000005, 1.5702000000000012, -0.7365999999999993, -1.1382, -0.11680000000000001, 2.16244, 5.65808, 9.46308]\n",
    "thetas = []\n",
    "for theta in np.arange(-np.pi, np.pi, np.pi/6):\n",
    "    # put the theta values to a list for plotting\n",
    "    thetas.append(theta)\n",
    "import matplotlib.pyplot as plt\n",
    "plt.plot(thetas, values2_physical, 'g^')\n",
    "plt.plot(thetas, values2_physical)\n",
    "plt.xlabel('theta values')\n",
    "plt.ylabel('energy sums')\n",
    "plt.show()"
   ]
  },
  {
   "cell_type": "markdown",
   "metadata": {},
   "source": [
    "### Calculate and plot the difference between results obtained from the simulator and from Tokyo 20"
   ]
  },
  {
   "cell_type": "code",
   "execution_count": 20,
   "metadata": {},
   "outputs": [],
   "source": [
    "# simulated values copied from the other ipython notebook\n",
    "values2_simulated = [12.2842, 13.644680000000001, 12.96908, 10.20912, 6.76572, 2.5197200000000013, -0.45851999999999904, -1.7290799999999997, -1.2657199999999995, 1.5503200000000001, 5.36568, 9.352079999999997]\n",
    "diff_phys_sim = []\n",
    "for theta in range(len(thetas)):\n",
    "    diff_phys_sim.append(values2_physical[theta] - values2_simulated[theta])"
   ]
  },
  {
   "cell_type": "code",
   "execution_count": 21,
   "metadata": {},
   "outputs": [
    {
     "data": {
      "image/png": "[encoded data removed]",
      "text/plain": [
       "<Figure size 432x288 with 1 Axes>"
      ]
     },
     "metadata": {
      "needs_background": "light"
     },
     "output_type": "display_data"
    }
   ],
   "source": [
    "import matplotlib.pyplot as plt\n",
    "plt.plot(thetas, diff_phys_sim, 'g^')\n",
    "plt.plot(thetas, diff_phys_sim)\n",
    "plt.xlabel('theta values')\n",
    "plt.ylabel('energy sums')\n",
    "plt.show()"
   ]
  }
 ],
 "metadata": {
  "kernelspec": {
   "display_name": "Python 3",
   "language": "python",
   "name": "python3"
  },
  "language_info": {
   "codemirror_mode": {
    "name": "ipython",
    "version": 3
   },
   "file_extension": ".py",
   "mimetype": "text/x-python",
   "name": "python",
   "nbconvert_exporter": "python",
   "pygments_lexer": "ipython3",
   "version": "3.7.3"
  }
 },
 "nbformat": 4,
 "nbformat_minor": 2
}
