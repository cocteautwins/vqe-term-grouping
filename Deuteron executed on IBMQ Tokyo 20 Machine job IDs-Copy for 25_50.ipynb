{
 "cells": [
  {
   "cell_type": "code",
   "execution_count": 1,
   "metadata": {},
   "outputs": [],
   "source": [
    "import time, sys\n",
    "\n",
    "# Import the Qiskit \n",
    "from qiskit import QuantumCircuit, ClassicalRegister, QuantumRegister, QiskitError\n",
    "from qiskit import execute, IBMQ, BasicAer, transpiler, Aer\n",
    "from qiskit.providers.ibmq import least_busy\n",
    "from qiskit.tools.monitor import job_monitor\n",
    "from qiskit.mapper import Layout\n",
    "\n",
    "import numpy as np\n",
    "import qiskit"
   ]
  },
  {
   "cell_type": "markdown",
   "metadata": {},
   "source": [
    "# Define your backend"
   ]
  },
  {
   "cell_type": "code",
   "execution_count": 2,
   "metadata": {},
   "outputs": [
    {
     "name": "stderr",
     "output_type": "stream",
     "text": [
      "Remote backend \"ibmqx_qasm_simulator\" could not be instantiated due to an invalid config: {'memory': ['Missing data for required field.'], 'backend_version': ['Missing data for required field.'], 'backend_name': ['Missing data for required field.'], 'open_pulse': ['Missing data for required field.'], 'basis_gates': ['Missing data for required field.'], 'local': ['Missing data for required field.'], 'gates': {0: {'parameters': ['Missing data for required field.'], 'name': ['Missing data for required field.'], 'qasm_def': ['Missing data for required field.']}}, 'n_qubits': ['Missing data for required field.'], 'conditional': ['Missing data for required field.'], 'max_shots': ['Missing data for required field.']}\n"
     ]
    },
    {
     "name": "stdout",
     "output_type": "stream",
     "text": [
      "Available backends:\n"
     ]
    },
    {
     "data": {
      "text/plain": [
       "[<IBMQSimulator('ibmq_qasm_simulator') from IBMQ(ibm-q-ornl, bes-qis, argonne)>,\n",
       " <IBMQBackend('ibmq_20_tokyo') from IBMQ(ibm-q-ornl, bes-qis, argonne)>,\n",
       " <IBMQBackend('ibmq_poughkeepsie') from IBMQ(ibm-q-ornl, bes-qis, argonne)>]"
      ]
     },
     "execution_count": 2,
     "metadata": {},
     "output_type": "execute_result"
    }
   ],
   "source": [
    "from qiskit import IBMQ\n",
    "\n",
    "# insert your token & URL here\n",
    "IBMQ.enable_account('<token>',\n",
    "                    url='<url>')\n",
    "\n",
    "# check available backends\n",
    "print(\"Available backends:\")\n",
    "IBMQ.backends()"
   ]
  },
  {
   "cell_type": "markdown",
   "metadata": {},
   "source": [
    "# Define the layout"
   ]
  },
  {
   "cell_type": "code",
   "execution_count": 3,
   "metadata": {},
   "outputs": [
    {
     "name": "stdout",
     "output_type": "stream",
     "text": [
      "ibmq_20_tokyo\n"
     ]
    },
    {
     "data": {
      "text/plain": [
       "BackendStatus(backend_name='ibmq_20_tokyo', backend_version='1.2.6', operational=True, pending_jobs=0, status_msg='active')"
      ]
     },
     "execution_count": 3,
     "metadata": {},
     "output_type": "execute_result"
    }
   ],
   "source": [
    "# execute on the IBM Tokyo 20 Qubit Machine\n",
    "#backend = IBMQ.get_backend('ibmq_qasm_simulator')\n",
    "backend = IBMQ.get_backend('ibmq_20_tokyo')\n",
    "print(backend)\n",
    "backend.status()"
   ]
  },
  {
   "cell_type": "markdown",
   "metadata": {},
   "source": [
    "# Define the UCCSD ansatz circuit"
   ]
  },
  {
   "cell_type": "code",
   "execution_count": 4,
   "metadata": {
    "scrolled": true
   },
   "outputs": [],
   "source": [
    "def get_ucc_ansatz(theta):\n",
    "    circuit = QuantumCircuit(2, 2)\n",
    "    circuit.x(0)\n",
    "    circuit.ry(theta, 1)\n",
    "    circuit.cx(1, 0)\n",
    "    return circuit"
   ]
  },
  {
   "cell_type": "markdown",
   "metadata": {},
   "source": [
    "# Define the naive measurement circuits"
   ]
  },
  {
   "cell_type": "code",
   "execution_count": 5,
   "metadata": {},
   "outputs": [],
   "source": [
    "shots1 = 25\n",
    "\n",
    "def measure_zi_simple(theta, ZI_job_IDs):\n",
    "    circuit = get_ucc_ansatz(theta)\n",
    "    circuit.measure(0, 0)\n",
    "    circuit.measure(1, 1)\n",
    "    job = qiskit.execute(circuit, backend=backend, shots=shots1)\n",
    "    print(job.job_id())\n",
    "    ZI_job_IDs.append(job.job_id())\n",
    "    \n",
    "def measure_iz_simple(theta, IZ_job_IDs):\n",
    "    circuit = get_ucc_ansatz(theta)\n",
    "    circuit.measure(0, 0)\n",
    "    circuit.measure(1, 1)\n",
    "    job = qiskit.execute(circuit, backend=backend, shots=shots1)\n",
    "    print(job.job_id())\n",
    "    IZ_job_IDs.append(job.job_id())\n",
    "    \n",
    "def measure_xx_simple(theta, XX_job_IDs):\n",
    "    circuit = get_ucc_ansatz(theta)\n",
    "    circuit.h(0)\n",
    "    circuit.h(1)\n",
    "    circuit.measure(0, 0)\n",
    "    circuit.measure(1, 1)\n",
    "    job = qiskit.execute(circuit, backend=backend, shots=shots1)\n",
    "    print(job.job_id())\n",
    "    XX_job_IDs.append(job.job_id())\n",
    "\n",
    "def measure_yy_simple(theta, YY_job_IDs):\n",
    "    circuit = get_ucc_ansatz(theta)\n",
    "    circuit.h(0)\n",
    "    circuit.sdg(0)\n",
    "    circuit.h(1)\n",
    "    circuit.sdg(1)\n",
    "    circuit.measure(0, 0)\n",
    "    circuit.measure(1, 1)\n",
    "    job = qiskit.execute(circuit, backend=backend, shots=shots1)\n",
    "    print(job.job_id())\n",
    "    YY_job_IDs.append(job.job_id())\n",
    "\n",
    "def measure_hamiltonian_simple(theta, ZI_job_IDs, IZ_job_IDs, XX_job_IDs, YY_job_IDs):\n",
    "    measure_zi_simple(theta, ZI_job_IDs)\n",
    "    measure_iz_simple(theta, IZ_job_IDs)\n",
    "    measure_xx_simple(theta, XX_job_IDs)\n",
    "    measure_yy_simple(theta, YY_job_IDs)"
   ]
  },
  {
   "cell_type": "markdown",
   "metadata": {},
   "source": [
    "# Define the simultaneous measurement circuits"
   ]
  },
  {
   "cell_type": "code",
   "execution_count": 6,
   "metadata": {},
   "outputs": [],
   "source": [
    "shots2 = 50\n",
    "\n",
    "def measure_zi_and_iz(theta, ZI_and_IZ_job_IDs):\n",
    "    circuit = get_ucc_ansatz(theta)\n",
    "    circuit.measure(0, 0)\n",
    "    circuit.measure(1, 1)\n",
    "    job = qiskit.execute(circuit, backend=backend, shots=shots2)\n",
    "    print(job.job_id())\n",
    "    ZI_and_IZ_job_IDs.append(job.job_id())\n",
    "    \n",
    "def measure_xx_and_yy(theta, XX_and_YY_job_IDs):\n",
    "    circuit = get_ucc_ansatz(theta)\n",
    "    circuit.cx(0, 1)\n",
    "    circuit.h(0)\n",
    "    circuit.measure(0, 0)\n",
    "    circuit.measure(1, 1)\n",
    "    job = qiskit.execute(circuit, backend=backend, shots=shots2)\n",
    "    print(job.job_id())\n",
    "    XX_and_YY_job_IDs.append(job.job_id())\n",
    "\n",
    "def measure_simultaneously_hamiltonian_simple(theta, ZI_and_IZ_job_IDs, XX_and_YY_job_IDs):\n",
    "    measure_zi_and_iz(theta, ZI_and_IZ_job_IDs)\n",
    "    measure_xx_and_yy(theta, XX_and_YY_job_IDs)"
   ]
  },
  {
   "cell_type": "markdown",
   "metadata": {},
   "source": [
    "# Submit the job to Qiskit and get the job IDs"
   ]
  },
  {
   "cell_type": "code",
   "execution_count": 7,
   "metadata": {
    "scrolled": false
   },
   "outputs": [
    {
     "name": "stdout",
     "output_type": "stream",
     "text": [
      "-3.141592653589793\n",
      "5d3b6e7b9bb742001ac32d8c\n",
      "5d3b6e7f6c947600181bb414\n",
      "5d3b6e84f8ffa90019ad2c42\n",
      "5d3b6e88b61d040018076b2d\n",
      "5d3b6e8db61d040018076b2f\n",
      "5d3b6e91b61d040018076b31\n",
      "-2.8797932657906435\n",
      "5d3b6e956c947600181bb416\n",
      "5d3b6e9a5e9f6500181e74da\n",
      "5d3b6e9eb61d040018076b33\n",
      "5d3b6ea1a06411001849a8de\n",
      "5d3b6ea6f22d1200183f9f21\n",
      "5d3b6eaaf22d1200183f9f23\n",
      "-2.617993877991494\n",
      "5d3b6eae5e9f6500181e74dc\n",
      "5d3b6eb2b411ea00186e46b9\n",
      "5d3b6eb6a06411001849a8e0\n",
      "5d3b6ebaa06411001849a8e2\n",
      "5d3b6ebfb61d040018076b35\n",
      "5d3b6ec3f22d1200183f9f25\n",
      "-2.3561944901923444\n",
      "5d3b6ec7f22d1200183f9f27\n",
      "5d3b6ecb5e9f6500181e74de\n",
      "5d3b6ecfb411ea00186e46bb\n",
      "5d3b6ed3b411ea00186e46bd\n",
      "5d3b6ed7b411ea00186e46bf\n",
      "5d3b6edb9bb742001ac32d8e\n",
      "-2.094395102393195\n",
      "5d3b6edffb29900018d5fadf\n",
      "5d3b6ee35e9f6500181e74e0\n",
      "5d3b6ee7f8ffa90019ad2c44\n",
      "5d3b6eebb61d040018076b37\n",
      "5d3b6eeff8ffa90019ad2c46\n",
      "5d3b6ef4a06411001849a8e4\n",
      "-1.8325957145940452\n",
      "5d3b6ef8b61d040018076b39\n",
      "5d3b6efc4610b6001873fefe\n",
      "5d3b6f015e9f6500181e74e2\n",
      "5d3b6f05a06411001849a8e6\n",
      "5d3b6f09fb29900018d5fae4\n",
      "5d3b6f0dfb29900018d5fae6\n",
      "-1.5707963267948957\n",
      "5d3b6f12fb29900018d5fae8\n",
      "5d3b6f16b61d040018076b3b\n",
      "5d3b6f1ab61d040018076b3d\n",
      "5d3b6f1e5e9f6500181e74e7\n",
      "5d3b6f22f8ffa90019ad2c49\n",
      "5d3b6f26a06411001849a8eb\n",
      "-1.308996938995746\n",
      "5d3b6f2a9bb742001ac32d91\n",
      "5d3b6f2eb411ea00186e46c4\n",
      "5d3b6f32b411ea00186e46c6\n",
      "5d3b6f365e9f6500181e74e9\n",
      "5d3b6f3ab411ea00186e46c8\n",
      "5d3b6f3e4610b6001873ff00\n",
      "-1.0471975511965965\n",
      "5d3b6f42b411ea00186e46ca\n",
      "5d3b6f46b411ea00186e46cc\n",
      "5d3b6f4bfb29900018d5faea\n",
      "5d3b6f4ff8ffa90019ad2c4b\n",
      "5d3b6f539bb742001ac32d93\n",
      "5d3b6f57b411ea00186e46ce\n",
      "-0.785398163397447\n",
      "5d3b6f5aa06411001849a8ed\n",
      "5d3b6f5f6c947600181bb419\n",
      "5d3b6f636c947600181bb41b\n",
      "5d3b6f67b411ea00186e46d0\n",
      "5d3b6f6bb411ea00186e46d2\n",
      "5d3b6f6ffb29900018d5faec\n",
      "-0.5235987755982974\n",
      "5d3b6f73fb29900018d5faee\n",
      "5d3b6f77f22d1200183f9f2a\n",
      "5d3b6f7ca06411001849a8ef\n",
      "5d3b6f80fb29900018d5faf0\n",
      "5d3b6f84fb29900018d5faf2\n",
      "5d3b6f884610b6001873ff02\n",
      "-0.2617993877991478\n",
      "5d3b6f8c9bb742001ac32d95\n",
      "5d3b6f909bb742001ac32d97\n",
      "5d3b6f94fb29900018d5faf4\n",
      "5d3b6f994610b6001873ff04\n",
      "5d3b6f9c5e9f6500181e74eb\n",
      "5d3b6fa14610b6001873ff06\n",
      "1.7763568394002505e-15\n",
      "5d3b6fa5b411ea00186e46d4\n",
      "5d3b6fa95e9f6500181e74ed\n",
      "5d3b6fadf8ffa90019ad2c4d\n",
      "5d3b6fb2f8ffa90019ad2c4f\n",
      "5d3b6fb65e9f6500181e74ef\n",
      "5d3b6fba6c947600181bb41d\n",
      "0.26179938779915135\n",
      "5d3b6fbe5e9f6500181e74f1\n",
      "5d3b6fc3a06411001849a8f1\n",
      "5d3b6fc75e9f6500181e74f3\n",
      "5d3b6fcb5e9f6500181e74f5\n",
      "5d3b6fcff8ffa90019ad2c51\n",
      "5d3b6fd5a06411001849a8f3\n",
      "0.5235987755983009\n",
      "5d3b6fda6c947600181bb41f\n",
      "5d3b6fde9bb742001ac32d99\n",
      "5d3b6fe3a06411001849a8f5\n",
      "5d3b6fe8b61d040018076b3f\n",
      "5d3b6fecfb29900018d5faf6\n",
      "5d3b6ff15e9f6500181e74f7\n",
      "0.7853981633974505\n",
      "5d3b6ff59bb742001ac32d9b\n",
      "5d3b6ffaf22d1200183f9f2c\n",
      "5d3b6ffe5e9f6500181e74f9\n",
      "5d3b70025e9f6500181e74fb\n",
      "5d3b7007b61d040018076b41\n",
      "5d3b700b4610b6001873ff08\n",
      "1.0471975511966\n",
      "5d3b70104610b6001873ff0a\n",
      "5d3b7015b61d040018076b43\n",
      "5d3b70195e9f6500181e74fd\n",
      "5d3b701f5e9f6500181e74ff\n",
      "5d3b70236c947600181bb421\n",
      "5d3b70285e9f6500181e7501\n",
      "1.3089969389957492\n",
      "5d3b702c4610b6001873ff0c\n",
      "5d3b70316c947600181bb423\n",
      "5d3b7036a06411001849a8f7\n",
      "5d3b703bfb29900018d5faf8\n",
      "5d3b703ff8ffa90019ad2c53\n",
      "5d3b7044b411ea00186e46d6\n",
      "1.5707963267948992\n",
      "5d3b70495e9f6500181e7503\n",
      "5d3b704d5e9f6500181e7505\n",
      "5d3b7052f8ffa90019ad2c55\n",
      "5d3b70575e9f6500181e7507\n",
      "5d3b705b4610b6001873ff0e\n",
      "5d3b7061f22d1200183f9f2e\n",
      "1.8325957145940492\n",
      "5d3b70664610b6001873ff10\n",
      "5d3b706b9bb742001ac32d9d\n",
      "5d3b706ff8ffa90019ad2c57\n",
      "5d3b7074a06411001849a8f9\n",
      "5d3b70785e9f6500181e7509\n",
      "5d3b707c5e9f6500181e750b\n",
      "2.0943951023931984\n",
      "5d3b70804610b6001873ff12\n",
      "5d3b70855e9f6500181e750d\n",
      "5d3b70896c947600181bb425\n",
      "5d3b708e5e9f6500181e750f\n",
      "5d3b70929bb742001ac32d9f\n",
      "5d3b7096a06411001849a8fb\n",
      "2.3561944901923475\n",
      "5d3b709af22d1200183f9f30\n",
      "5d3b709e4610b6001873ff14\n",
      "5d3b70a25e9f6500181e7511\n",
      "5d3b70a7f22d1200183f9f32\n",
      "5d3b70ab5e9f6500181e7513\n",
      "5d3b70aff8ffa90019ad2c59\n",
      "2.6179938779914975\n",
      "5d3b70b3fb29900018d5fafa\n",
      "5d3b70b7b411ea00186e46d8\n",
      "5d3b70bbf8ffa90019ad2c5b\n",
      "5d3b70c04610b6001873ff16\n",
      "5d3b70c49bb742001ac32da1\n",
      "5d3b70c8f22d1200183f9f34\n",
      "2.8797932657906475\n",
      "5d3b70ccb411ea00186e46da\n",
      "5d3b70d1b411ea00186e46dc\n",
      "5d3b70d5f22d1200183f9f36\n",
      "5d3b70d9fb29900018d5fafc\n",
      "5d3b70ddf8ffa90019ad2c5d\n",
      "5d3b70e2f8ffa90019ad2c5f\n",
      "Done!\n"
     ]
    }
   ],
   "source": [
    "import numpy as np\n",
    "import qiskit\n",
    "\n",
    "ZI_job_IDs = []\n",
    "IZ_job_IDs = []\n",
    "XX_job_IDs = []\n",
    "YY_job_IDs = []\n",
    "\n",
    "ZI_and_IZ_job_IDs = []\n",
    "XX_and_YY_job_IDs = []\n",
    "\n",
    "theta_values = []\n",
    "\n",
    "for theta in np.arange(-np.pi, np.pi, np.pi / 12):\n",
    "    print(theta)\n",
    "    measure_hamiltonian_simple(theta, ZI_job_IDs, IZ_job_IDs, XX_job_IDs, YY_job_IDs)\n",
    "    measure_simultaneously_hamiltonian_simple(theta, ZI_and_IZ_job_IDs, XX_and_YY_job_IDs)\n",
    "    theta_values.append(theta)\n",
    "print('Done!')"
   ]
  },
  {
   "cell_type": "markdown",
   "metadata": {},
   "source": [
    "# push job IDs to list for easier processing\n",
    "you will need to do this before closing the computer to make your life easier later on :)"
   ]
  },
  {
   "cell_type": "code",
   "execution_count": 8,
   "metadata": {
    "scrolled": false
   },
   "outputs": [
    {
     "name": "stdout",
     "output_type": "stream",
     "text": [
      "ZI_job_IDs is = \n",
      "['5d3b6e7b9bb742001ac32d8c', '5d3b6e956c947600181bb416', '5d3b6eae5e9f6500181e74dc', '5d3b6ec7f22d1200183f9f27', '5d3b6edffb29900018d5fadf', '5d3b6ef8b61d040018076b39', '5d3b6f12fb29900018d5fae8', '5d3b6f2a9bb742001ac32d91', '5d3b6f42b411ea00186e46ca', '5d3b6f5aa06411001849a8ed', '5d3b6f73fb29900018d5faee', '5d3b6f8c9bb742001ac32d95', '5d3b6fa5b411ea00186e46d4', '5d3b6fbe5e9f6500181e74f1', '5d3b6fda6c947600181bb41f', '5d3b6ff59bb742001ac32d9b', '5d3b70104610b6001873ff0a', '5d3b702c4610b6001873ff0c', '5d3b70495e9f6500181e7503', '5d3b70664610b6001873ff10', '5d3b70804610b6001873ff12', '5d3b709af22d1200183f9f30', '5d3b70b3fb29900018d5fafa', '5d3b70ccb411ea00186e46da']\n",
      "\n",
      "IZ_job_IDs is = \n",
      "['5d3b6e7f6c947600181bb414', '5d3b6e9a5e9f6500181e74da', '5d3b6eb2b411ea00186e46b9', '5d3b6ecb5e9f6500181e74de', '5d3b6ee35e9f6500181e74e0', '5d3b6efc4610b6001873fefe', '5d3b6f16b61d040018076b3b', '5d3b6f2eb411ea00186e46c4', '5d3b6f46b411ea00186e46cc', '5d3b6f5f6c947600181bb419', '5d3b6f77f22d1200183f9f2a', '5d3b6f909bb742001ac32d97', '5d3b6fa95e9f6500181e74ed', '5d3b6fc3a06411001849a8f1', '5d3b6fde9bb742001ac32d99', '5d3b6ffaf22d1200183f9f2c', '5d3b7015b61d040018076b43', '5d3b70316c947600181bb423', '5d3b704d5e9f6500181e7505', '5d3b706b9bb742001ac32d9d', '5d3b70855e9f6500181e750d', '5d3b709e4610b6001873ff14', '5d3b70b7b411ea00186e46d8', '5d3b70d1b411ea00186e46dc']\n",
      "\n",
      "XX_job_IDs is = \n",
      "['5d3b6e84f8ffa90019ad2c42', '5d3b6e9eb61d040018076b33', '5d3b6eb6a06411001849a8e0', '5d3b6ecfb411ea00186e46bb', '5d3b6ee7f8ffa90019ad2c44', '5d3b6f015e9f6500181e74e2', '5d3b6f1ab61d040018076b3d', '5d3b6f32b411ea00186e46c6', '5d3b6f4bfb29900018d5faea', '5d3b6f636c947600181bb41b', '5d3b6f7ca06411001849a8ef', '5d3b6f94fb29900018d5faf4', '5d3b6fadf8ffa90019ad2c4d', '5d3b6fc75e9f6500181e74f3', '5d3b6fe3a06411001849a8f5', '5d3b6ffe5e9f6500181e74f9', '5d3b70195e9f6500181e74fd', '5d3b7036a06411001849a8f7', '5d3b7052f8ffa90019ad2c55', '5d3b706ff8ffa90019ad2c57', '5d3b70896c947600181bb425', '5d3b70a25e9f6500181e7511', '5d3b70bbf8ffa90019ad2c5b', '5d3b70d5f22d1200183f9f36']\n",
      "\n",
      "YY_job_IDs = \n",
      "['5d3b6e88b61d040018076b2d', '5d3b6ea1a06411001849a8de', '5d3b6ebaa06411001849a8e2', '5d3b6ed3b411ea00186e46bd', '5d3b6eebb61d040018076b37', '5d3b6f05a06411001849a8e6', '5d3b6f1e5e9f6500181e74e7', '5d3b6f365e9f6500181e74e9', '5d3b6f4ff8ffa90019ad2c4b', '5d3b6f67b411ea00186e46d0', '5d3b6f80fb29900018d5faf0', '5d3b6f994610b6001873ff04', '5d3b6fb2f8ffa90019ad2c4f', '5d3b6fcb5e9f6500181e74f5', '5d3b6fe8b61d040018076b3f', '5d3b70025e9f6500181e74fb', '5d3b701f5e9f6500181e74ff', '5d3b703bfb29900018d5faf8', '5d3b70575e9f6500181e7507', '5d3b7074a06411001849a8f9', '5d3b708e5e9f6500181e750f', '5d3b70a7f22d1200183f9f32', '5d3b70c04610b6001873ff16', '5d3b70d9fb29900018d5fafc']\n",
      "\n",
      "ZI_and_IZ_job_IDs = \n",
      "['5d3b6e8db61d040018076b2f', '5d3b6ea6f22d1200183f9f21', '5d3b6ebfb61d040018076b35', '5d3b6ed7b411ea00186e46bf', '5d3b6eeff8ffa90019ad2c46', '5d3b6f09fb29900018d5fae4', '5d3b6f22f8ffa90019ad2c49', '5d3b6f3ab411ea00186e46c8', '5d3b6f539bb742001ac32d93', '5d3b6f6bb411ea00186e46d2', '5d3b6f84fb29900018d5faf2', '5d3b6f9c5e9f6500181e74eb', '5d3b6fb65e9f6500181e74ef', '5d3b6fcff8ffa90019ad2c51', '5d3b6fecfb29900018d5faf6', '5d3b7007b61d040018076b41', '5d3b70236c947600181bb421', '5d3b703ff8ffa90019ad2c53', '5d3b705b4610b6001873ff0e', '5d3b70785e9f6500181e7509', '5d3b70929bb742001ac32d9f', '5d3b70ab5e9f6500181e7513', '5d3b70c49bb742001ac32da1', '5d3b70ddf8ffa90019ad2c5d']\n",
      "\n",
      "XX_and_YY_job_IDs = :\n",
      "['5d3b6e91b61d040018076b31', '5d3b6eaaf22d1200183f9f23', '5d3b6ec3f22d1200183f9f25', '5d3b6edb9bb742001ac32d8e', '5d3b6ef4a06411001849a8e4', '5d3b6f0dfb29900018d5fae6', '5d3b6f26a06411001849a8eb', '5d3b6f3e4610b6001873ff00', '5d3b6f57b411ea00186e46ce', '5d3b6f6ffb29900018d5faec', '5d3b6f884610b6001873ff02', '5d3b6fa14610b6001873ff06', '5d3b6fba6c947600181bb41d', '5d3b6fd5a06411001849a8f3', '5d3b6ff15e9f6500181e74f7', '5d3b700b4610b6001873ff08', '5d3b70285e9f6500181e7501', '5d3b7044b411ea00186e46d6', '5d3b7061f22d1200183f9f2e', '5d3b707c5e9f6500181e750b', '5d3b7096a06411001849a8fb', '5d3b70aff8ffa90019ad2c59', '5d3b70c8f22d1200183f9f34', '5d3b70e2f8ffa90019ad2c5f']\n",
      "\n",
      "theta_values = \n",
      "[-3.141592653589793, -2.8797932657906435, -2.617993877991494, -2.3561944901923444, -2.094395102393195, -1.8325957145940452, -1.5707963267948957, -1.308996938995746, -1.0471975511965965, -0.785398163397447, -0.5235987755982974, -0.2617993877991478, 1.7763568394002505e-15, 0.26179938779915135, 0.5235987755983009, 0.7853981633974505, 1.0471975511966, 1.3089969389957492, 1.5707963267948992, 1.8325957145940492, 2.0943951023931984, 2.3561944901923475, 2.6179938779914975, 2.8797932657906475]\n"
     ]
    }
   ],
   "source": [
    "print('ZI_job_IDs = ')\n",
    "print(ZI_job_IDs)\n",
    "print()\n",
    "\n",
    "print('IZ_job_IDs = ')\n",
    "print(IZ_job_IDs)\n",
    "print()\n",
    "\n",
    "print('XX_job_IDs = ')\n",
    "print(XX_job_IDs)\n",
    "print()\n",
    "\n",
    "print('YY_job_IDs = ')\n",
    "print(YY_job_IDs)\n",
    "print()\n",
    "\n",
    "print('ZI_and_IZ_job_IDs = ')\n",
    "print(ZI_and_IZ_job_IDs)\n",
    "print()\n",
    "\n",
    "print('XX_and_YY_job_IDs = ')\n",
    "print(XX_and_YY_job_IDs)\n",
    "print()\n",
    "\n",
    "print('theta_values = ')\n",
    "print(theta_values)"
   ]
  },
  {
   "cell_type": "markdown",
   "metadata": {},
   "source": [
    "### (Check the status of the specific job)"
   ]
  },
  {
   "cell_type": "code",
   "execution_count": 7,
   "metadata": {},
   "outputs": [
    {
     "data": {
      "text/plain": [
       "<JobStatus.DONE: 'job has successfully run'>"
      ]
     },
     "execution_count": 7,
     "metadata": {},
     "output_type": "execute_result"
    }
   ],
   "source": [
    "backend.retrieve_job('').status()"
   ]
  },
  {
   "cell_type": "markdown",
   "metadata": {},
   "source": [
    "# Retyping the job IDs\n",
    "just copy and paste from the print statement results in the previous block"
   ]
  },
  {
   "cell_type": "code",
   "execution_count": 6,
   "metadata": {},
   "outputs": [],
   "source": [
    "ZI_job_IDs = ['5d3b6e7b9bb742001ac32d8c', '5d3b6e956c947600181bb416', '5d3b6eae5e9f6500181e74dc', '5d3b6ec7f22d1200183f9f27', '5d3b6edffb29900018d5fadf', '5d3b6ef8b61d040018076b39', '5d3b6f12fb29900018d5fae8', '5d3b6f2a9bb742001ac32d91', '5d3b6f42b411ea00186e46ca', '5d3b6f5aa06411001849a8ed', '5d3b6f73fb29900018d5faee', '5d3b6f8c9bb742001ac32d95', '5d3b6fa5b411ea00186e46d4', '5d3b6fbe5e9f6500181e74f1', '5d3b6fda6c947600181bb41f', '5d3b6ff59bb742001ac32d9b', '5d3b70104610b6001873ff0a', '5d3b702c4610b6001873ff0c', '5d3b70495e9f6500181e7503', '5d3b70664610b6001873ff10', '5d3b70804610b6001873ff12', '5d3b709af22d1200183f9f30', '5d3b70b3fb29900018d5fafa', '5d3b70ccb411ea00186e46da']\n",
    "\n",
    "IZ_job_IDs = ['5d3b6e7f6c947600181bb414', '5d3b6e9a5e9f6500181e74da', '5d3b6eb2b411ea00186e46b9', '5d3b6ecb5e9f6500181e74de', '5d3b6ee35e9f6500181e74e0', '5d3b6efc4610b6001873fefe', '5d3b6f16b61d040018076b3b', '5d3b6f2eb411ea00186e46c4', '5d3b6f46b411ea00186e46cc', '5d3b6f5f6c947600181bb419', '5d3b6f77f22d1200183f9f2a', '5d3b6f909bb742001ac32d97', '5d3b6fa95e9f6500181e74ed', '5d3b6fc3a06411001849a8f1', '5d3b6fde9bb742001ac32d99', '5d3b6ffaf22d1200183f9f2c', '5d3b7015b61d040018076b43', '5d3b70316c947600181bb423', '5d3b704d5e9f6500181e7505', '5d3b706b9bb742001ac32d9d', '5d3b70855e9f6500181e750d', '5d3b709e4610b6001873ff14', '5d3b70b7b411ea00186e46d8', '5d3b70d1b411ea00186e46dc']\n",
    "\n",
    "XX_job_IDs = ['5d3b6e84f8ffa90019ad2c42', '5d3b6e9eb61d040018076b33', '5d3b6eb6a06411001849a8e0', '5d3b6ecfb411ea00186e46bb', '5d3b6ee7f8ffa90019ad2c44', '5d3b6f015e9f6500181e74e2', '5d3b6f1ab61d040018076b3d', '5d3b6f32b411ea00186e46c6', '5d3b6f4bfb29900018d5faea', '5d3b6f636c947600181bb41b', '5d3b6f7ca06411001849a8ef', '5d3b6f94fb29900018d5faf4', '5d3b6fadf8ffa90019ad2c4d', '5d3b6fc75e9f6500181e74f3', '5d3b6fe3a06411001849a8f5', '5d3b6ffe5e9f6500181e74f9', '5d3b70195e9f6500181e74fd', '5d3b7036a06411001849a8f7', '5d3b7052f8ffa90019ad2c55', '5d3b706ff8ffa90019ad2c57', '5d3b70896c947600181bb425', '5d3b70a25e9f6500181e7511', '5d3b70bbf8ffa90019ad2c5b', '5d3b70d5f22d1200183f9f36']\n",
    "\n",
    "YY_job_IDs = ['5d3b6e88b61d040018076b2d', '5d3b6ea1a06411001849a8de', '5d3b6ebaa06411001849a8e2', '5d3b6ed3b411ea00186e46bd', '5d3b6eebb61d040018076b37', '5d3b6f05a06411001849a8e6', '5d3b6f1e5e9f6500181e74e7', '5d3b6f365e9f6500181e74e9', '5d3b6f4ff8ffa90019ad2c4b', '5d3b6f67b411ea00186e46d0', '5d3b6f80fb29900018d5faf0', '5d3b6f994610b6001873ff04', '5d3b6fb2f8ffa90019ad2c4f', '5d3b6fcb5e9f6500181e74f5', '5d3b6fe8b61d040018076b3f', '5d3b70025e9f6500181e74fb', '5d3b701f5e9f6500181e74ff', '5d3b703bfb29900018d5faf8', '5d3b70575e9f6500181e7507', '5d3b7074a06411001849a8f9', '5d3b708e5e9f6500181e750f', '5d3b70a7f22d1200183f9f32', '5d3b70c04610b6001873ff16', '5d3b70d9fb29900018d5fafc']\n",
    "\n",
    "ZI_and_IZ_job_IDs = ['5d3b6e8db61d040018076b2f', '5d3b6ea6f22d1200183f9f21', '5d3b6ebfb61d040018076b35', '5d3b6ed7b411ea00186e46bf', '5d3b6eeff8ffa90019ad2c46', '5d3b6f09fb29900018d5fae4', '5d3b6f22f8ffa90019ad2c49', '5d3b6f3ab411ea00186e46c8', '5d3b6f539bb742001ac32d93', '5d3b6f6bb411ea00186e46d2', '5d3b6f84fb29900018d5faf2', '5d3b6f9c5e9f6500181e74eb', '5d3b6fb65e9f6500181e74ef', '5d3b6fcff8ffa90019ad2c51', '5d3b6fecfb29900018d5faf6', '5d3b7007b61d040018076b41', '5d3b70236c947600181bb421', '5d3b703ff8ffa90019ad2c53', '5d3b705b4610b6001873ff0e', '5d3b70785e9f6500181e7509', '5d3b70929bb742001ac32d9f', '5d3b70ab5e9f6500181e7513', '5d3b70c49bb742001ac32da1', '5d3b70ddf8ffa90019ad2c5d']\n",
    "\n",
    "XX_and_YY_job_IDs =['5d3b6e91b61d040018076b31', '5d3b6eaaf22d1200183f9f23', '5d3b6ec3f22d1200183f9f25', '5d3b6edb9bb742001ac32d8e', '5d3b6ef4a06411001849a8e4', '5d3b6f0dfb29900018d5fae6', '5d3b6f26a06411001849a8eb', '5d3b6f3e4610b6001873ff00', '5d3b6f57b411ea00186e46ce', '5d3b6f6ffb29900018d5faec', '5d3b6f884610b6001873ff02', '5d3b6fa14610b6001873ff06', '5d3b6fba6c947600181bb41d', '5d3b6fd5a06411001849a8f3', '5d3b6ff15e9f6500181e74f7', '5d3b700b4610b6001873ff08', '5d3b70285e9f6500181e7501', '5d3b7044b411ea00186e46d6', '5d3b7061f22d1200183f9f2e', '5d3b707c5e9f6500181e750b', '5d3b7096a06411001849a8fb', '5d3b70aff8ffa90019ad2c59', '5d3b70c8f22d1200183f9f34', '5d3b70e2f8ffa90019ad2c5f']\n",
    "\n",
    "theta_values = [-3.141592653589793, -2.8797932657906435, -2.617993877991494, -2.3561944901923444, -2.094395102393195, -1.8325957145940452, -1.5707963267948957, -1.308996938995746, -1.0471975511965965, -0.785398163397447, -0.5235987755982974, -0.2617993877991478, 1.7763568394002505e-15, 0.26179938779915135, 0.5235987755983009, 0.7853981633974505, 1.0471975511966, 1.3089969389957492, 1.5707963267948992, 1.8325957145940492, 2.0943951023931984, 2.3561944901923475, 2.6179938779914975, 2.8797932657906475]"
   ]
  },
  {
   "cell_type": "markdown",
   "metadata": {},
   "source": [
    "# Retrieve the job results"
   ]
  },
  {
   "cell_type": "markdown",
   "metadata": {},
   "source": [
    "### compute the energy sums for naive measurement"
   ]
  },
  {
   "cell_type": "code",
   "execution_count": 7,
   "metadata": {},
   "outputs": [
    {
     "name": "stdout",
     "output_type": "stream",
     "text": [
      "9.8904\n",
      "11.919200000000002\n",
      "12.108\n",
      "11.8408\n",
      "12.2776\n",
      "12.052\n",
      "8.130400000000002\n",
      "8.8728\n",
      "4.068000000000001\n",
      "4.94\n",
      "3.1688\n",
      "0.9672000000000008\n",
      "0.11120000000000085\n",
      "-0.22160000000000002\n",
      "-0.725599999999999\n",
      "-0.01519999999999988\n",
      "-0.04079999999999995\n",
      "0.2280000000000002\n",
      "2.0696000000000003\n",
      "4.58\n",
      "4.839200000000001\n",
      "6.2008\n",
      "9.1976\n",
      "10.4984\n"
     ]
    }
   ],
   "source": [
    "#backend = IBMQ.get_backend('')\n",
    "shots1 = 25\n",
    "final_result_naive = []\n",
    "for i in range (len(theta_values)):\n",
    "    \n",
    "    zi_counts = backend.retrieve_job(ZI_job_IDs[i]).result().get_counts()\n",
    "    zi_contribution = (zi_counts.get('00', 0) + zi_counts.get('10', 0) \n",
    "                       - zi_counts.get('11', 0) - zi_counts.get('01', 0)) / shots1\n",
    "    #print(zi_counts)\n",
    "    #print(zi_counts.get('10', 0))\n",
    "    #print(zi_contribution)\n",
    "    \n",
    "    iz_counts = backend.retrieve_job(IZ_job_IDs[i]).result().get_counts()\n",
    "    iz_contribution = (iz_counts.get('00', 0) + iz_counts.get('01', 0) \n",
    "                       - iz_counts.get('10', 0) - iz_counts.get('11', 0)) / shots1\n",
    "    \n",
    "    xx_counts = backend.retrieve_job(XX_job_IDs[i]).result().get_counts()\n",
    "    xx_contribution = (xx_counts.get('00', 0) + xx_counts.get('11', 0) \n",
    "                       - xx_counts.get('01', 0) - xx_counts.get('10', 0)) / shots1\n",
    "    \n",
    "    yy_counts = backend.retrieve_job(YY_job_IDs[i]).result().get_counts()\n",
    "    yy_contribution = (yy_counts.get('00', 0) + yy_counts.get('11', 0) \n",
    "                       - yy_counts.get('01', 0) - yy_counts.get('10', 0)) / shots1\n",
    "    \n",
    "    total = 5.9 + .22 * zi_contribution - 6.1 * iz_contribution - 2.14 * xx_contribution - 2.14 * yy_contribution\n",
    "    final_result_naive.append(total)\n",
    "    print(total)"
   ]
  },
  {
   "cell_type": "markdown",
   "metadata": {},
   "source": [
    "### compute the energy sums for simultaneous measurement"
   ]
  },
  {
   "cell_type": "code",
   "execution_count": 8,
   "metadata": {},
   "outputs": [
    {
     "name": "stdout",
     "output_type": "stream",
     "text": [
      "11.789312\n",
      "12.531039999999999\n",
      "13.686624000000002\n",
      "12.950975999999999\n",
      "10.417824000000001\n",
      "10.646688\n",
      "9.495584\n",
      "7.283488000000001\n",
      "5.736288000000002\n",
      "2.7667200000000007\n",
      "2.9448640000000004\n",
      "1.6948800000000006\n",
      "-0.8939839999999992\n",
      "-0.5684799999999993\n",
      "0.03478400000000048\n",
      "-0.7553599999999996\n",
      "0.06156800000000029\n",
      "0.3689600000000004\n",
      "1.9888\n",
      "4.571999999999999\n",
      "3.818656\n",
      "7.474719999999999\n",
      "9.504640000000002\n",
      "9.734688\n"
     ]
    }
   ],
   "source": [
    "#backend = IBMQ.get_backend('ibmq_qasm_simulator')\n",
    "shots2 = 50\n",
    "\n",
    "final_result_simultaneous = []\n",
    "for i in range (len(theta_values)):\n",
    "    zi_and_iz_counts = backend.retrieve_job(ZI_and_IZ_job_IDs[i]).result().get_counts()\n",
    "    zi_contribution = (zi_and_iz_counts.get('00', 0) + zi_and_iz_counts.get('10', 0) \n",
    "                       - zi_and_iz_counts.get('11', 0) - zi_and_iz_counts.get('01', 0)) / shots2\n",
    "    iz_contribution = (zi_and_iz_counts.get('00', 0) + zi_and_iz_counts.get('01', 0) \n",
    "                       - zi_and_iz_counts.get('10', 0) - zi_and_iz_counts.get('11', 0)) / shots2\n",
    "    #print(zi_and_iz_counts)\n",
    "    xx_and_yy_counts = backend.retrieve_job(XX_and_YY_job_IDs[i]).result().get_counts()\n",
    "    xx_contribution = (xx_and_yy_counts.get('00', 0) + xx_and_yy_counts.get('10', 0) \n",
    "                       - xx_and_yy_counts.get('11', 0) - xx_and_yy_counts.get('01', 0)) / shots2\n",
    "    zz_contribution = (xx_and_yy_counts.get('00', 0) + xx_and_yy_counts.get('01', 0) \n",
    "                       - xx_and_yy_counts.get('10', 0) - xx_and_yy_counts.get('11', 0)) / shots2\n",
    "    yy_contribution = -xx_contribution * zz_contribution\n",
    "    total = 5.9 + .22 * zi_contribution - 6.1 * iz_contribution - 2.14 * xx_contribution - 2.14 * yy_contribution\n",
    "    final_result_simultaneous.append(total)\n",
    "    print(total)"
   ]
  },
  {
   "cell_type": "markdown",
   "metadata": {},
   "source": [
    "# Superimpose naive vs. simultaneous results"
   ]
  },
  {
   "cell_type": "code",
   "execution_count": 10,
   "metadata": {
    "scrolled": true
   },
   "outputs": [
    {
     "data": {
      "image/png": "[encoded data removed]",
      "text/plain": [
       "<Figure size 432x288 with 1 Axes>"
      ]
     },
     "metadata": {
      "needs_background": "light"
     },
     "output_type": "display_data"
    }
   ],
   "source": [
    "import matplotlib.pyplot as plt\n",
    "plt.plot(theta_values, final_result_naive, 'g^', label = \"naive measurement\")\n",
    "plt.plot(theta_values, final_result_naive)\n",
    "plt.plot(theta_values, final_result_simultaneous, 'bs', label = \"simultaneous measurement\")\n",
    "plt.plot(theta_values, final_result_simultaneous)\n",
    "plt.legend(loc='best')\n",
    "plt.xlabel('theta values')\n",
    "plt.ylabel('energy sums')\n",
    "plt.show()"
   ]
  },
  {
   "cell_type": "markdown",
   "metadata": {},
   "source": [
    "# Compute and plot the difference from theory (many shots running on simulator)"
   ]
  },
  {
   "cell_type": "code",
   "execution_count": 11,
   "metadata": {},
   "outputs": [],
   "source": [
    "values_theory = [12.191751999999997, 13.15524, 13.462224, 13.381992, 12.837567999999997, 11.637923999999998, 10.217920000000001, 8.380472000000001, 6.38668, 4.4392, 2.5525520000000013, 0.8814480000000007, -0.42213999999999907, -1.3090319999999995, -1.7176839999999993, -1.5886079999999994, -0.9050319999999998, 0.2661680000000004, 1.5365760000000002, 3.4022159999999992, 5.413296000000001, 7.372232, 9.278692, 10.918935999999999]\n",
    "value_diff, value2_diff = [], []\n",
    "for theta in range(len(theta_values)):\n",
    "    value_diff.append(abs(final_result_naive[theta] - values_theory[theta]))\n",
    "    value2_diff.append(abs(final_result_simultaneous[theta] - values_theory[theta]))"
   ]
  },
  {
   "cell_type": "code",
   "execution_count": 12,
   "metadata": {},
   "outputs": [
    {
     "data": {
      "image/png": "[encoded data removed]",
      "text/plain": [
       "<Figure size 432x288 with 1 Axes>"
      ]
     },
     "metadata": {
      "needs_background": "light"
     },
     "output_type": "display_data"
    }
   ],
   "source": [
    "import matplotlib.pyplot as plt\n",
    "plt.plot(theta_values, value_diff, 'bs', label='naive')\n",
    "plt.plot(theta_values, value2_diff, 'r^', label='simultaneous')\n",
    "plt.xlabel('theta values')\n",
    "plt.ylabel('energy sums')\n",
    "plt.title('difference between simultaneous and naive for simulator')\n",
    "plt.legend()\n",
    "plt.show()"
   ]
  },
  {
   "cell_type": "code",
   "execution_count": 13,
   "metadata": {},
   "outputs": [
    {
     "data": {
      "text/plain": [
       "13"
      ]
     },
     "execution_count": 13,
     "metadata": {},
     "output_type": "execute_result"
    }
   ],
   "source": [
    "len(['hi' for v1, v2 in zip(value_diff, value2_diff) if v1 > v2])"
   ]
  },
  {
   "cell_type": "code",
   "execution_count": 14,
   "metadata": {},
   "outputs": [
    {
     "name": "stdout",
     "output_type": "stream",
     "text": [
      "22.554807999999994\n"
     ]
    }
   ],
   "source": [
    "print(sum(value_diff))"
   ]
  },
  {
   "cell_type": "code",
   "execution_count": 15,
   "metadata": {},
   "outputs": [
    {
     "name": "stdout",
     "output_type": "stream",
     "text": [
      "20.03780799999999\n"
     ]
    }
   ],
   "source": [
    "print(sum(value2_diff))"
   ]
  },
  {
   "cell_type": "code",
   "execution_count": null,
   "metadata": {},
   "outputs": [],
   "source": []
  }
 ],
 "metadata": {
  "kernelspec": {
   "display_name": "Python 3",
   "language": "python",
   "name": "python3"
  },
  "language_info": {
   "codemirror_mode": {
    "name": "ipython",
    "version": 3
   },
   "file_extension": ".py",
   "mimetype": "text/x-python",
   "name": "python",
   "nbconvert_exporter": "python",
   "pygments_lexer": "ipython3",
   "version": "3.7.3"
  }
 },
 "nbformat": 4,
 "nbformat_minor": 2
}
