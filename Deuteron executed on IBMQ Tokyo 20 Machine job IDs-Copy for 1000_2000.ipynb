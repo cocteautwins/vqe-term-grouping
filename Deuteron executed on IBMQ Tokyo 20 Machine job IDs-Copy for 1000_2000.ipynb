{
 "cells": [
  {
   "cell_type": "code",
   "execution_count": 1,
   "metadata": {},
   "outputs": [],
   "source": [
    "import time, sys\n",
    "\n",
    "# Import the Qiskit \n",
    "from qiskit import QuantumCircuit, ClassicalRegister, QuantumRegister, QiskitError\n",
    "from qiskit import execute, IBMQ, BasicAer, transpiler, Aer\n",
    "from qiskit.providers.ibmq import least_busy\n",
    "from qiskit.tools.monitor import job_monitor\n",
    "from qiskit.mapper import Layout\n",
    "\n",
    "import numpy as np\n",
    "import qiskit"
   ]
  },
  {
   "cell_type": "markdown",
   "metadata": {},
   "source": [
    "# Define your backend"
   ]
  },
  {
   "cell_type": "code",
   "execution_count": 2,
   "metadata": {},
   "outputs": [
    {
     "name": "stderr",
     "output_type": "stream",
     "text": [
      "Remote backend \"ibmqx_qasm_simulator\" could not be instantiated due to an invalid config: {'memory': ['Missing data for required field.'], 'open_pulse': ['Missing data for required field.'], 'local': ['Missing data for required field.'], 'basis_gates': ['Missing data for required field.'], 'n_qubits': ['Missing data for required field.'], 'backend_name': ['Missing data for required field.'], 'max_shots': ['Missing data for required field.'], 'conditional': ['Missing data for required field.'], 'backend_version': ['Missing data for required field.'], 'gates': {0: {'qasm_def': ['Missing data for required field.'], 'name': ['Missing data for required field.'], 'parameters': ['Missing data for required field.']}}}\n"
     ]
    },
    {
     "name": "stdout",
     "output_type": "stream",
     "text": [
      "Available backends:\n"
     ]
    },
    {
     "data": {
      "text/plain": [
       "[<IBMQSimulator('ibmq_qasm_simulator') from IBMQ(ibm-q-ornl, bes-qis, argonne)>,\n",
       " <IBMQBackend('ibmq_20_tokyo') from IBMQ(ibm-q-ornl, bes-qis, argonne)>,\n",
       " <IBMQBackend('ibmq_poughkeepsie') from IBMQ(ibm-q-ornl, bes-qis, argonne)>]"
      ]
     },
     "execution_count": 2,
     "metadata": {},
     "output_type": "execute_result"
    }
   ],
   "source": [
    "from qiskit import IBMQ\n",
    "\n",
    "# insert your token & URL here\n",
    "IBMQ.enable_account('<token>',\n",
    "                    url='<url>')\n",
    "\n",
    "# check available backends\n",
    "print(\"Available backends:\")\n",
    "IBMQ.backends()"
   ]
  },
  {
   "cell_type": "markdown",
   "metadata": {},
   "source": [
    "# Define the layout"
   ]
  },
  {
   "cell_type": "code",
   "execution_count": 3,
   "metadata": {},
   "outputs": [
    {
     "name": "stdout",
     "output_type": "stream",
     "text": [
      "ibmq_20_tokyo\n"
     ]
    },
    {
     "data": {
      "text/plain": [
       "BackendStatus(backend_name='ibmq_20_tokyo', backend_version='1.2.6', operational=True, pending_jobs=0, status_msg='active')"
      ]
     },
     "execution_count": 3,
     "metadata": {},
     "output_type": "execute_result"
    }
   ],
   "source": [
    "# execute on the IBM Tokyo 20 Qubit Machine\n",
    "#backend = IBMQ.get_backend('ibmq_qasm_simulator')\n",
    "backend = IBMQ.get_backend('ibmq_20_tokyo')\n",
    "print(backend)\n",
    "backend.status()"
   ]
  },
  {
   "cell_type": "markdown",
   "metadata": {},
   "source": [
    "# Define the UCCSD ansatz circuit"
   ]
  },
  {
   "cell_type": "code",
   "execution_count": 4,
   "metadata": {
    "scrolled": true
   },
   "outputs": [],
   "source": [
    "def get_ucc_ansatz(theta):\n",
    "    circuit = QuantumCircuit(2, 2)\n",
    "    circuit.x(0)\n",
    "    circuit.ry(theta, 1)\n",
    "    circuit.cx(1, 0)\n",
    "    return circuit"
   ]
  },
  {
   "cell_type": "markdown",
   "metadata": {},
   "source": [
    "# Define the naive measurement circuits"
   ]
  },
  {
   "cell_type": "code",
   "execution_count": 5,
   "metadata": {},
   "outputs": [],
   "source": [
    "shots1 = 1000\n",
    "\n",
    "def measure_zi_simple(theta, ZI_job_IDs):\n",
    "    circuit = get_ucc_ansatz(theta)\n",
    "    circuit.measure(0, 0)\n",
    "    circuit.measure(1, 1)\n",
    "    job = qiskit.execute(circuit, backend=backend, shots=shots1)\n",
    "    print(job.job_id())\n",
    "    ZI_job_IDs.append(job.job_id())\n",
    "    \n",
    "def measure_iz_simple(theta, IZ_job_IDs):\n",
    "    circuit = get_ucc_ansatz(theta)\n",
    "    circuit.measure(0, 0)\n",
    "    circuit.measure(1, 1)\n",
    "    job = qiskit.execute(circuit, backend=backend, shots=shots1)\n",
    "    print(job.job_id())\n",
    "    IZ_job_IDs.append(job.job_id())\n",
    "    \n",
    "def measure_xx_simple(theta, XX_job_IDs):\n",
    "    circuit = get_ucc_ansatz(theta)\n",
    "    circuit.h(0)\n",
    "    circuit.h(1)\n",
    "    circuit.measure(0, 0)\n",
    "    circuit.measure(1, 1)\n",
    "    job = qiskit.execute(circuit, backend=backend, shots=shots1)\n",
    "    print(job.job_id())\n",
    "    XX_job_IDs.append(job.job_id())\n",
    "\n",
    "def measure_yy_simple(theta, YY_job_IDs):\n",
    "    circuit = get_ucc_ansatz(theta)\n",
    "    circuit.h(0)\n",
    "    circuit.sdg(0)\n",
    "    circuit.h(1)\n",
    "    circuit.sdg(1)\n",
    "    circuit.measure(0, 0)\n",
    "    circuit.measure(1, 1)\n",
    "    job = qiskit.execute(circuit, backend=backend, shots=shots1)\n",
    "    print(job.job_id())\n",
    "    YY_job_IDs.append(job.job_id())\n",
    "\n",
    "def measure_hamiltonian_simple(theta, ZI_job_IDs, IZ_job_IDs, XX_job_IDs, YY_job_IDs):\n",
    "    measure_zi_simple(theta, ZI_job_IDs)\n",
    "    measure_iz_simple(theta, IZ_job_IDs)\n",
    "    measure_xx_simple(theta, XX_job_IDs)\n",
    "    measure_yy_simple(theta, YY_job_IDs)"
   ]
  },
  {
   "cell_type": "markdown",
   "metadata": {},
   "source": [
    "# Define the simultaneous measurement circuits"
   ]
  },
  {
   "cell_type": "code",
   "execution_count": 6,
   "metadata": {},
   "outputs": [],
   "source": [
    "shots2 = 2000\n",
    "\n",
    "def measure_zi_and_iz(theta, ZI_and_IZ_job_IDs):\n",
    "    circuit = get_ucc_ansatz(theta)\n",
    "    circuit.measure(0, 0)\n",
    "    circuit.measure(1, 1)\n",
    "    job = qiskit.execute(circuit, backend=backend, shots=shots2)\n",
    "    print(job.job_id())\n",
    "    ZI_and_IZ_job_IDs.append(job.job_id())\n",
    "    \n",
    "def measure_xx_and_yy(theta, XX_and_YY_job_IDs):\n",
    "    circuit = get_ucc_ansatz(theta)\n",
    "    circuit.cx(0, 1)\n",
    "    circuit.h(0)\n",
    "    circuit.measure(0, 0)\n",
    "    circuit.measure(1, 1)\n",
    "    job = qiskit.execute(circuit, backend=backend, shots=shots2)\n",
    "    print(job.job_id())\n",
    "    XX_and_YY_job_IDs.append(job.job_id())\n",
    "\n",
    "def measure_simultaneously_hamiltonian_simple(theta, ZI_and_IZ_job_IDs, XX_and_YY_job_IDs):\n",
    "    measure_zi_and_iz(theta, ZI_and_IZ_job_IDs)\n",
    "    measure_xx_and_yy(theta, XX_and_YY_job_IDs)"
   ]
  },
  {
   "cell_type": "markdown",
   "metadata": {},
   "source": [
    "# Submit the job to Qiskit and get the job IDs"
   ]
  },
  {
   "cell_type": "code",
   "execution_count": 7,
   "metadata": {
    "scrolled": false
   },
   "outputs": [
    {
     "name": "stdout",
     "output_type": "stream",
     "text": [
      "-3.141592653589793\n",
      "5d3cb9064610b6001873ff28\n",
      "5d3cb9106c947600181bb431\n",
      "5d3cb9185e9f6500181e752d\n",
      "5d3cb9235e9f6500181e752f\n",
      "5d3cb92b6c947600181bb433\n",
      "5d3cb932b61d040018076b59\n",
      "-2.8797932657906435\n",
      "5d3cb9385e9f6500181e7531\n",
      "5d3cb9415e9f6500181e7533\n",
      "5d3cb94a9bb742001ac32daf\n",
      "5d3cb953b61d040018076b5b\n",
      "5d3cb95bb411ea00186e46eb\n",
      "5d3cb9655e9f6500181e7535\n",
      "-2.617993877991494\n",
      "5d3cb96fa06411001849a903\n",
      "5d3cb9779bb742001ac32db1\n",
      "5d3cb97f6c947600181bb435\n",
      "5d3cb9884610b6001873ff2a\n",
      "5d3cb991b61d040018076b5d\n",
      "5d3cb99bf22d1200183f9f45\n",
      "-2.3561944901923444\n",
      "5d3cb9a39bb742001ac32db3\n",
      "5d3cb9ac6c947600181bb437\n",
      "5d3cb9b45e9f6500181e7537\n",
      "5d3cb9beb411ea00186e46ed\n",
      "5d3cb9c8f22d1200183f9f47\n",
      "5d3cb9cf9bb742001ac32db5\n",
      "-2.094395102393195\n",
      "5d3cb9d9fb29900018d5fb0c\n",
      "5d3cb9e1b411ea00186e46ef\n",
      "5d3cb9eaf22d1200183f9f49\n",
      "5d3cb9f04610b6001873ff2c\n",
      "5d3cb9fb9bb742001ac32db7\n",
      "5d3cba04f22d1200183f9f4b\n",
      "-1.8325957145940452\n",
      "5d3cba0cb61d040018076b5f\n",
      "5d3cba159bb742001ac32db9\n",
      "5d3cba1fa06411001849a905\n",
      "5d3cba26b411ea00186e46f1\n",
      "5d3cba305e9f6500181e7539\n",
      "5d3cba39b411ea00186e46f3\n",
      "-1.5707963267948957\n",
      "5d3cba3e5e9f6500181e753b\n",
      "5d3cba46a06411001849a907\n",
      "5d3cba4e5e9f6500181e753d\n",
      "5d3cba55fb29900018d5fb0e\n",
      "5d3cba5ca06411001849a909\n",
      "5d3cba64b61d040018076b61\n",
      "-1.308996938995746\n",
      "5d3cba6efb29900018d5fb10\n",
      "5d3cba74b61d040018076b63\n",
      "5d3cba7bf22d1200183f9f4d\n",
      "5d3cba86b411ea00186e46f5\n",
      "5d3cba8db411ea00186e46f7\n",
      "5d3cba96b411ea00186e46f9\n",
      "-1.0471975511965965\n",
      "5d3cba9cf22d1200183f9f4f\n",
      "5d3cbaa56c947600181bb439\n",
      "5d3cbaaea06411001849a90b\n",
      "5d3cbab95e9f6500181e753f\n",
      "5d3cbac2b61d040018076b65\n",
      "5d3cbacd5e9f6500181e7541\n",
      "-0.785398163397447\n",
      "5d3cbad4f8ffa90019ad2c6a\n",
      "5d3cbadaf8ffa90019ad2c6c\n",
      "5d3cbae1fb29900018d5fb12\n",
      "5d3cbaeaa06411001849a90d\n",
      "5d3cbaf0fb29900018d5fb14\n",
      "5d3cbaf7b411ea00186e46fb\n",
      "-0.5235987755982974\n",
      "5d3cbb034610b6001873ff2e\n",
      "5d3cbb0b6c947600181bb43b\n",
      "5d3cbb13f8ffa90019ad2c6e\n",
      "5d3cbb195e9f6500181e7543\n",
      "5d3cbb206c947600181bb43d\n",
      "5d3cbb29b61d040018076b67\n",
      "-0.2617993877991478\n",
      "5d3cbb31f22d1200183f9f51\n",
      "5d3cbb38f8ffa90019ad2c70\n",
      "5d3cbb425e9f6500181e7545\n",
      "5d3cbb4ab61d040018076b69\n",
      "5d3cbb52a06411001849a90f\n",
      "5d3cbb586c947600181bb43f\n",
      "1.7763568394002505e-15\n",
      "5d3cbb61f22d1200183f9f53\n",
      "5d3cbb695e9f6500181e7547\n",
      "5d3cbb71a06411001849a911\n",
      "5d3cbb79b411ea00186e46fd\n",
      "5d3cbb824610b6001873ff30\n",
      "5d3cbb88b411ea00186e46ff\n",
      "0.26179938779915135\n",
      "5d3cbb90a06411001849a913\n",
      "5d3cbb99b411ea00186e4701\n",
      "5d3cbba35e9f6500181e7549\n",
      "5d3cbbada06411001849a915\n",
      "5d3cbbb59bb742001ac32dbb\n",
      "5d3cbbbcb411ea00186e4703\n",
      "0.5235987755983009\n",
      "5d3cbbc5a06411001849a917\n",
      "5d3cbbcb5e9f6500181e754b\n",
      "5d3cbbd6f22d1200183f9f55\n",
      "5d3cbbdeb411ea00186e4705\n",
      "5d3cbbe86c947600181bb441\n",
      "5d3cbbf2f8ffa90019ad2c72\n",
      "0.7853981633974505\n",
      "5d3cbbfca06411001849a919\n",
      "5d3cbc03b411ea00186e4707\n",
      "5d3cbc09f8ffa90019ad2c74\n",
      "5d3cbc125e9f6500181e754d\n",
      "5d3cbc19b411ea00186e4709\n",
      "5d3cbc205e9f6500181e754f\n",
      "1.0471975511966\n",
      "5d3cbc264610b6001873ff32\n",
      "5d3cbc2e6c947600181bb443\n",
      "5d3cbc33fb29900018d5fb16\n",
      "5d3cbc3df8ffa90019ad2c76\n",
      "5d3cbc444610b6001873ff34\n",
      "5d3cbc4eb411ea00186e470b\n",
      "1.3089969389957492\n",
      "5d3cbc549bb742001ac32dbd\n",
      "5d3cbc5d9bb742001ac32dbf\n",
      "5d3cbc655e9f6500181e7551\n",
      "5d3cbc6fb411ea00186e470d\n",
      "5d3cbc784610b6001873ff36\n",
      "5d3cbc7d6c947600181bb445\n",
      "1.5707963267948992\n",
      "5d3cbc84b411ea00186e470f\n",
      "5d3cbc8da06411001849a91b\n",
      "5d3cbc97fb29900018d5fb18\n",
      "5d3cbc9eb61d040018076b6b\n",
      "5d3cbca95e9f6500181e7553\n",
      "5d3cbcadb61d040018076b6d\n",
      "1.8325957145940492\n",
      "5d3cbcb24610b6001873ff38\n",
      "5d3cbcb7f8ffa90019ad2c78\n",
      "5d3cbcbcf8ffa90019ad2c7a\n",
      "5d3cbcc3a06411001849a91d\n",
      "5d3cbccafb29900018d5fb1a\n",
      "5d3cbcd0a06411001849a91f\n",
      "2.0943951023931984\n",
      "5d3cbcd55e9f6500181e7555\n",
      "5d3cbcdc5e9f6500181e7557\n",
      "5d3cbce3a06411001849a921\n",
      "5d3cbcebf22d1200183f9f57\n",
      "5d3cbcf15e9f6500181e7559\n",
      "5d3cbcf7b61d040018076b6f\n",
      "2.3561944901923475\n",
      "5d3cbcfdf8ffa90019ad2c7c\n",
      "5d3cbd03f8ffa90019ad2c7e\n",
      "5d3cbd09b61d040018076b71\n",
      "5d3cbd11f22d1200183f9f59\n",
      "5d3cbd17a06411001849a923\n",
      "5d3cbd1d5e9f6500181e755b\n",
      "2.6179938779914975\n",
      "5d3cbd229bb742001ac32dc1\n",
      "5d3cbd274610b6001873ff3a\n",
      "5d3cbd2db411ea00186e4711\n",
      "5d3cbd324610b6001873ff3c\n",
      "5d3cbd3a9bb742001ac32dc3\n",
      "5d3cbd3fb61d040018076b73\n",
      "2.8797932657906475\n",
      "5d3cbd45f8ffa90019ad2c80\n",
      "5d3cbd4afb29900018d5fb1c\n",
      "5d3cbd4f5e9f6500181e755d\n",
      "5d3cbd55fb29900018d5fb1e\n",
      "5d3cbd5dfb29900018d5fb20\n",
      "5d3cbd649bb742001ac32dc5\n",
      "Done!\n"
     ]
    }
   ],
   "source": [
    "import numpy as np\n",
    "import qiskit\n",
    "\n",
    "ZI_job_IDs = []\n",
    "IZ_job_IDs = []\n",
    "XX_job_IDs = []\n",
    "YY_job_IDs = []\n",
    "\n",
    "ZI_and_IZ_job_IDs = []\n",
    "XX_and_YY_job_IDs = []\n",
    "\n",
    "theta_values = []\n",
    "\n",
    "for theta in np.arange(-np.pi, np.pi, np.pi / 12):\n",
    "    print(theta)\n",
    "    measure_hamiltonian_simple(theta, ZI_job_IDs, IZ_job_IDs, XX_job_IDs, YY_job_IDs)\n",
    "    measure_simultaneously_hamiltonian_simple(theta, ZI_and_IZ_job_IDs, XX_and_YY_job_IDs)\n",
    "    theta_values.append(theta)\n",
    "print('Done!')"
   ]
  },
  {
   "cell_type": "markdown",
   "metadata": {},
   "source": [
    "# push job IDs to list for easier processing\n",
    "you will need to do this before closing the computer to make your life easier later on :)"
   ]
  },
  {
   "cell_type": "code",
   "execution_count": 8,
   "metadata": {
    "scrolled": false
   },
   "outputs": [
    {
     "name": "stdout",
     "output_type": "stream",
     "text": [
      "ZI_job_IDs = \n",
      "['5d3cb9064610b6001873ff28', '5d3cb9385e9f6500181e7531', '5d3cb96fa06411001849a903', '5d3cb9a39bb742001ac32db3', '5d3cb9d9fb29900018d5fb0c', '5d3cba0cb61d040018076b5f', '5d3cba3e5e9f6500181e753b', '5d3cba6efb29900018d5fb10', '5d3cba9cf22d1200183f9f4f', '5d3cbad4f8ffa90019ad2c6a', '5d3cbb034610b6001873ff2e', '5d3cbb31f22d1200183f9f51', '5d3cbb61f22d1200183f9f53', '5d3cbb90a06411001849a913', '5d3cbbc5a06411001849a917', '5d3cbbfca06411001849a919', '5d3cbc264610b6001873ff32', '5d3cbc549bb742001ac32dbd', '5d3cbc84b411ea00186e470f', '5d3cbcb24610b6001873ff38', '5d3cbcd55e9f6500181e7555', '5d3cbcfdf8ffa90019ad2c7c', '5d3cbd229bb742001ac32dc1', '5d3cbd45f8ffa90019ad2c80']\n",
      "\n",
      "IZ_job_IDs = \n",
      "['5d3cb9106c947600181bb431', '5d3cb9415e9f6500181e7533', '5d3cb9779bb742001ac32db1', '5d3cb9ac6c947600181bb437', '5d3cb9e1b411ea00186e46ef', '5d3cba159bb742001ac32db9', '5d3cba46a06411001849a907', '5d3cba74b61d040018076b63', '5d3cbaa56c947600181bb439', '5d3cbadaf8ffa90019ad2c6c', '5d3cbb0b6c947600181bb43b', '5d3cbb38f8ffa90019ad2c70', '5d3cbb695e9f6500181e7547', '5d3cbb99b411ea00186e4701', '5d3cbbcb5e9f6500181e754b', '5d3cbc03b411ea00186e4707', '5d3cbc2e6c947600181bb443', '5d3cbc5d9bb742001ac32dbf', '5d3cbc8da06411001849a91b', '5d3cbcb7f8ffa90019ad2c78', '5d3cbcdc5e9f6500181e7557', '5d3cbd03f8ffa90019ad2c7e', '5d3cbd274610b6001873ff3a', '5d3cbd4afb29900018d5fb1c']\n",
      "\n",
      "XX_job_IDs = \n",
      "['5d3cb9185e9f6500181e752d', '5d3cb94a9bb742001ac32daf', '5d3cb97f6c947600181bb435', '5d3cb9b45e9f6500181e7537', '5d3cb9eaf22d1200183f9f49', '5d3cba1fa06411001849a905', '5d3cba4e5e9f6500181e753d', '5d3cba7bf22d1200183f9f4d', '5d3cbaaea06411001849a90b', '5d3cbae1fb29900018d5fb12', '5d3cbb13f8ffa90019ad2c6e', '5d3cbb425e9f6500181e7545', '5d3cbb71a06411001849a911', '5d3cbba35e9f6500181e7549', '5d3cbbd6f22d1200183f9f55', '5d3cbc09f8ffa90019ad2c74', '5d3cbc33fb29900018d5fb16', '5d3cbc655e9f6500181e7551', '5d3cbc97fb29900018d5fb18', '5d3cbcbcf8ffa90019ad2c7a', '5d3cbce3a06411001849a921', '5d3cbd09b61d040018076b71', '5d3cbd2db411ea00186e4711', '5d3cbd4f5e9f6500181e755d']\n",
      "\n",
      "YY_job_IDs = \n",
      "['5d3cb9235e9f6500181e752f', '5d3cb953b61d040018076b5b', '5d3cb9884610b6001873ff2a', '5d3cb9beb411ea00186e46ed', '5d3cb9f04610b6001873ff2c', '5d3cba26b411ea00186e46f1', '5d3cba55fb29900018d5fb0e', '5d3cba86b411ea00186e46f5', '5d3cbab95e9f6500181e753f', '5d3cbaeaa06411001849a90d', '5d3cbb195e9f6500181e7543', '5d3cbb4ab61d040018076b69', '5d3cbb79b411ea00186e46fd', '5d3cbbada06411001849a915', '5d3cbbdeb411ea00186e4705', '5d3cbc125e9f6500181e754d', '5d3cbc3df8ffa90019ad2c76', '5d3cbc6fb411ea00186e470d', '5d3cbc9eb61d040018076b6b', '5d3cbcc3a06411001849a91d', '5d3cbcebf22d1200183f9f57', '5d3cbd11f22d1200183f9f59', '5d3cbd324610b6001873ff3c', '5d3cbd55fb29900018d5fb1e']\n",
      "\n",
      "ZI_and_IZ_job_IDs = \n",
      "['5d3cb92b6c947600181bb433', '5d3cb95bb411ea00186e46eb', '5d3cb991b61d040018076b5d', '5d3cb9c8f22d1200183f9f47', '5d3cb9fb9bb742001ac32db7', '5d3cba305e9f6500181e7539', '5d3cba5ca06411001849a909', '5d3cba8db411ea00186e46f7', '5d3cbac2b61d040018076b65', '5d3cbaf0fb29900018d5fb14', '5d3cbb206c947600181bb43d', '5d3cbb52a06411001849a90f', '5d3cbb824610b6001873ff30', '5d3cbbb59bb742001ac32dbb', '5d3cbbe86c947600181bb441', '5d3cbc19b411ea00186e4709', '5d3cbc444610b6001873ff34', '5d3cbc784610b6001873ff36', '5d3cbca95e9f6500181e7553', '5d3cbccafb29900018d5fb1a', '5d3cbcf15e9f6500181e7559', '5d3cbd17a06411001849a923', '5d3cbd3a9bb742001ac32dc3', '5d3cbd5dfb29900018d5fb20']\n",
      "\n",
      "XX_and_YY_job_IDs = \n",
      "['5d3cb932b61d040018076b59', '5d3cb9655e9f6500181e7535', '5d3cb99bf22d1200183f9f45', '5d3cb9cf9bb742001ac32db5', '5d3cba04f22d1200183f9f4b', '5d3cba39b411ea00186e46f3', '5d3cba64b61d040018076b61', '5d3cba96b411ea00186e46f9', '5d3cbacd5e9f6500181e7541', '5d3cbaf7b411ea00186e46fb', '5d3cbb29b61d040018076b67', '5d3cbb586c947600181bb43f', '5d3cbb88b411ea00186e46ff', '5d3cbbbcb411ea00186e4703', '5d3cbbf2f8ffa90019ad2c72', '5d3cbc205e9f6500181e754f', '5d3cbc4eb411ea00186e470b', '5d3cbc7d6c947600181bb445', '5d3cbcadb61d040018076b6d', '5d3cbcd0a06411001849a91f', '5d3cbcf7b61d040018076b6f', '5d3cbd1d5e9f6500181e755b', '5d3cbd3fb61d040018076b73', '5d3cbd649bb742001ac32dc5']\n",
      "\n",
      "theta_values = \n",
      "[-3.141592653589793, -2.8797932657906435, -2.617993877991494, -2.3561944901923444, -2.094395102393195, -1.8325957145940452, -1.5707963267948957, -1.308996938995746, -1.0471975511965965, -0.785398163397447, -0.5235987755982974, -0.2617993877991478, 1.7763568394002505e-15, 0.26179938779915135, 0.5235987755983009, 0.7853981633974505, 1.0471975511966, 1.3089969389957492, 1.5707963267948992, 1.8325957145940492, 2.0943951023931984, 2.3561944901923475, 2.6179938779914975, 2.8797932657906475]\n"
     ]
    }
   ],
   "source": [
    "print('ZI_job_IDs = ')\n",
    "print(ZI_job_IDs)\n",
    "print()\n",
    "\n",
    "print('IZ_job_IDs = ')\n",
    "print(IZ_job_IDs)\n",
    "print()\n",
    "\n",
    "print('XX_job_IDs = ')\n",
    "print(XX_job_IDs)\n",
    "print()\n",
    "\n",
    "print('YY_job_IDs = ')\n",
    "print(YY_job_IDs)\n",
    "print()\n",
    "\n",
    "print('ZI_and_IZ_job_IDs = ')\n",
    "print(ZI_and_IZ_job_IDs)\n",
    "print()\n",
    "\n",
    "print('XX_and_YY_job_IDs = ')\n",
    "print(XX_and_YY_job_IDs)\n",
    "print()\n",
    "\n",
    "print('theta_values = ')\n",
    "print(theta_values)"
   ]
  },
  {
   "cell_type": "markdown",
   "metadata": {},
   "source": [
    "### (Check the status of the specific job)"
   ]
  },
  {
   "cell_type": "code",
   "execution_count": 5,
   "metadata": {},
   "outputs": [
    {
     "data": {
      "text/plain": [
       "<JobStatus.DONE: 'job has successfully run'>"
      ]
     },
     "execution_count": 5,
     "metadata": {},
     "output_type": "execute_result"
    }
   ],
   "source": [
    "backend.retrieve_job('5d3cbd649bb742001ac32dc5').status()"
   ]
  },
  {
   "cell_type": "markdown",
   "metadata": {},
   "source": [
    "# Retyping the job IDs\n",
    "just copy and paste from the print statement results in the previous block"
   ]
  },
  {
   "cell_type": "code",
   "execution_count": 6,
   "metadata": {},
   "outputs": [],
   "source": [
    "ZI_job_IDs = ['5d3cb9064610b6001873ff28', '5d3cb9385e9f6500181e7531', '5d3cb96fa06411001849a903', '5d3cb9a39bb742001ac32db3', '5d3cb9d9fb29900018d5fb0c', '5d3cba0cb61d040018076b5f', '5d3cba3e5e9f6500181e753b', '5d3cba6efb29900018d5fb10', '5d3cba9cf22d1200183f9f4f', '5d3cbad4f8ffa90019ad2c6a', '5d3cbb034610b6001873ff2e', '5d3cbb31f22d1200183f9f51', '5d3cbb61f22d1200183f9f53', '5d3cbb90a06411001849a913', '5d3cbbc5a06411001849a917', '5d3cbbfca06411001849a919', '5d3cbc264610b6001873ff32', '5d3cbc549bb742001ac32dbd', '5d3cbc84b411ea00186e470f', '5d3cbcb24610b6001873ff38', '5d3cbcd55e9f6500181e7555', '5d3cbcfdf8ffa90019ad2c7c', '5d3cbd229bb742001ac32dc1', '5d3cbd45f8ffa90019ad2c80']\n",
    "IZ_job_IDs = ['5d3cb9106c947600181bb431', '5d3cb9415e9f6500181e7533', '5d3cb9779bb742001ac32db1', '5d3cb9ac6c947600181bb437', '5d3cb9e1b411ea00186e46ef', '5d3cba159bb742001ac32db9', '5d3cba46a06411001849a907', '5d3cba74b61d040018076b63', '5d3cbaa56c947600181bb439', '5d3cbadaf8ffa90019ad2c6c', '5d3cbb0b6c947600181bb43b', '5d3cbb38f8ffa90019ad2c70', '5d3cbb695e9f6500181e7547', '5d3cbb99b411ea00186e4701', '5d3cbbcb5e9f6500181e754b', '5d3cbc03b411ea00186e4707', '5d3cbc2e6c947600181bb443', '5d3cbc5d9bb742001ac32dbf', '5d3cbc8da06411001849a91b', '5d3cbcb7f8ffa90019ad2c78', '5d3cbcdc5e9f6500181e7557', '5d3cbd03f8ffa90019ad2c7e', '5d3cbd274610b6001873ff3a', '5d3cbd4afb29900018d5fb1c']\n",
    "XX_job_IDs = ['5d3cb9185e9f6500181e752d', '5d3cb94a9bb742001ac32daf', '5d3cb97f6c947600181bb435', '5d3cb9b45e9f6500181e7537', '5d3cb9eaf22d1200183f9f49', '5d3cba1fa06411001849a905', '5d3cba4e5e9f6500181e753d', '5d3cba7bf22d1200183f9f4d', '5d3cbaaea06411001849a90b', '5d3cbae1fb29900018d5fb12', '5d3cbb13f8ffa90019ad2c6e', '5d3cbb425e9f6500181e7545', '5d3cbb71a06411001849a911', '5d3cbba35e9f6500181e7549', '5d3cbbd6f22d1200183f9f55', '5d3cbc09f8ffa90019ad2c74', '5d3cbc33fb29900018d5fb16', '5d3cbc655e9f6500181e7551', '5d3cbc97fb29900018d5fb18', '5d3cbcbcf8ffa90019ad2c7a', '5d3cbce3a06411001849a921', '5d3cbd09b61d040018076b71', '5d3cbd2db411ea00186e4711', '5d3cbd4f5e9f6500181e755d']\n",
    "YY_job_IDs = ['5d3cb9235e9f6500181e752f', '5d3cb953b61d040018076b5b', '5d3cb9884610b6001873ff2a', '5d3cb9beb411ea00186e46ed', '5d3cb9f04610b6001873ff2c', '5d3cba26b411ea00186e46f1', '5d3cba55fb29900018d5fb0e', '5d3cba86b411ea00186e46f5', '5d3cbab95e9f6500181e753f', '5d3cbaeaa06411001849a90d', '5d3cbb195e9f6500181e7543', '5d3cbb4ab61d040018076b69', '5d3cbb79b411ea00186e46fd', '5d3cbbada06411001849a915', '5d3cbbdeb411ea00186e4705', '5d3cbc125e9f6500181e754d', '5d3cbc3df8ffa90019ad2c76', '5d3cbc6fb411ea00186e470d', '5d3cbc9eb61d040018076b6b', '5d3cbcc3a06411001849a91d', '5d3cbcebf22d1200183f9f57', '5d3cbd11f22d1200183f9f59', '5d3cbd324610b6001873ff3c', '5d3cbd55fb29900018d5fb1e']\n",
    "ZI_and_IZ_job_IDs = ['5d3cb92b6c947600181bb433', '5d3cb95bb411ea00186e46eb', '5d3cb991b61d040018076b5d', '5d3cb9c8f22d1200183f9f47', '5d3cb9fb9bb742001ac32db7', '5d3cba305e9f6500181e7539', '5d3cba5ca06411001849a909', '5d3cba8db411ea00186e46f7', '5d3cbac2b61d040018076b65', '5d3cbaf0fb29900018d5fb14', '5d3cbb206c947600181bb43d', '5d3cbb52a06411001849a90f', '5d3cbb824610b6001873ff30', '5d3cbbb59bb742001ac32dbb', '5d3cbbe86c947600181bb441', '5d3cbc19b411ea00186e4709', '5d3cbc444610b6001873ff34', '5d3cbc784610b6001873ff36', '5d3cbca95e9f6500181e7553', '5d3cbccafb29900018d5fb1a', '5d3cbcf15e9f6500181e7559', '5d3cbd17a06411001849a923', '5d3cbd3a9bb742001ac32dc3', '5d3cbd5dfb29900018d5fb20']\n",
    "XX_and_YY_job_IDs = ['5d3cb932b61d040018076b59', '5d3cb9655e9f6500181e7535', '5d3cb99bf22d1200183f9f45', '5d3cb9cf9bb742001ac32db5', '5d3cba04f22d1200183f9f4b', '5d3cba39b411ea00186e46f3', '5d3cba64b61d040018076b61', '5d3cba96b411ea00186e46f9', '5d3cbacd5e9f6500181e7541', '5d3cbaf7b411ea00186e46fb', '5d3cbb29b61d040018076b67', '5d3cbb586c947600181bb43f', '5d3cbb88b411ea00186e46ff', '5d3cbbbcb411ea00186e4703', '5d3cbbf2f8ffa90019ad2c72', '5d3cbc205e9f6500181e754f', '5d3cbc4eb411ea00186e470b', '5d3cbc7d6c947600181bb445', '5d3cbcadb61d040018076b6d', '5d3cbcd0a06411001849a91f', '5d3cbcf7b61d040018076b6f', '5d3cbd1d5e9f6500181e755b', '5d3cbd3fb61d040018076b73', '5d3cbd649bb742001ac32dc5']\n",
    "theta_values = [-3.141592653589793, -2.8797932657906435, -2.617993877991494, -2.3561944901923444, -2.094395102393195, -1.8325957145940452, -1.5707963267948957, -1.308996938995746, -1.0471975511965965, -0.785398163397447, -0.5235987755982974, -0.2617993877991478, 1.7763568394002505e-15, 0.26179938779915135, 0.5235987755983009, 0.7853981633974505, 1.0471975511966, 1.3089969389957492, 1.5707963267948992, 1.8325957145940492, 2.0943951023931984, 2.3561944901923475, 2.6179938779914975, 2.8797932657906475]"
   ]
  },
  {
   "cell_type": "markdown",
   "metadata": {},
   "source": [
    "# Retrieve the job results"
   ]
  },
  {
   "cell_type": "markdown",
   "metadata": {},
   "source": [
    "### compute the energy sums for naive measurement"
   ]
  },
  {
   "cell_type": "code",
   "execution_count": 7,
   "metadata": {},
   "outputs": [
    {
     "name": "stdout",
     "output_type": "stream",
     "text": [
      "10.807200000000002\n",
      "11.607560000000001\n",
      "11.78512\n",
      "11.89976\n",
      "11.0054\n",
      "10.05568\n",
      "8.39736\n",
      "7.227200000000002\n",
      "5.69628\n",
      "3.4002000000000003\n",
      "2.2773600000000007\n",
      "0.82712\n",
      "-0.2978399999999991\n",
      "-0.8495200000000002\n",
      "-1.2616399999999992\n",
      "-0.7684399999999993\n",
      "-0.17743999999999915\n",
      "0.6048800000000005\n",
      "1.8539600000000012\n",
      "3.68084\n",
      "5.359360000000001\n",
      "6.9428399999999995\n",
      "8.50416\n",
      "9.897359999999999\n"
     ]
    }
   ],
   "source": [
    "#backend = IBMQ.get_backend('')\n",
    "shots1 = 1000\n",
    "final_result_naive = []\n",
    "for i in range (len(theta_values)):\n",
    "    \n",
    "    zi_counts = backend.retrieve_job(ZI_job_IDs[i]).result().get_counts()\n",
    "    zi_contribution = (zi_counts.get('00', 0) + zi_counts.get('10', 0) \n",
    "                       - zi_counts.get('11', 0) - zi_counts.get('01', 0)) / shots1\n",
    "    #print(zi_counts)\n",
    "    #print(zi_counts.get('10', 0))\n",
    "    #print(zi_contribution)\n",
    "    \n",
    "    iz_counts = backend.retrieve_job(IZ_job_IDs[i]).result().get_counts()\n",
    "    iz_contribution = (iz_counts.get('00', 0) + iz_counts.get('01', 0) \n",
    "                       - iz_counts.get('10', 0) - iz_counts.get('11', 0)) / shots1\n",
    "    \n",
    "    xx_counts = backend.retrieve_job(XX_job_IDs[i]).result().get_counts()\n",
    "    xx_contribution = (xx_counts.get('00', 0) + xx_counts.get('11', 0) \n",
    "                       - xx_counts.get('01', 0) - xx_counts.get('10', 0)) / shots1\n",
    "    \n",
    "    yy_counts = backend.retrieve_job(YY_job_IDs[i]).result().get_counts()\n",
    "    yy_contribution = (yy_counts.get('00', 0) + yy_counts.get('11', 0) \n",
    "                       - yy_counts.get('01', 0) - yy_counts.get('10', 0)) / shots1\n",
    "    \n",
    "    total = 5.9 + .22 * zi_contribution - 6.1 * iz_contribution - 2.14 * xx_contribution - 2.14 * yy_contribution\n",
    "    final_result_naive.append(total)\n",
    "    print(total)"
   ]
  },
  {
   "cell_type": "markdown",
   "metadata": {},
   "source": [
    "### compute the energy sums for simultaneous measurement"
   ]
  },
  {
   "cell_type": "code",
   "execution_count": 8,
   "metadata": {},
   "outputs": [
    {
     "name": "stdout",
     "output_type": "stream",
     "text": [
      "10.7013296\n",
      "11.393508\n",
      "11.37970392\n",
      "11.60096976\n",
      "10.944376659999998\n",
      "9.720569440000002\n",
      "8.432333900000001\n",
      "7.174680800000001\n",
      "5.3512792\n",
      "3.486390800000001\n",
      "2.154184780000001\n",
      "0.8099097000000004\n",
      "-0.2586061799999995\n",
      "-0.8986360000000001\n",
      "-1.1858053199999992\n",
      "-0.9109557399999995\n",
      "-0.3971209999999996\n",
      "0.31902728000000025\n",
      "2.0504440200000005\n",
      "3.097132\n",
      "5.620603280000001\n",
      "6.9206620999999995\n",
      "8.4203664\n",
      "10.00763702\n"
     ]
    }
   ],
   "source": [
    "#backend = IBMQ.get_backend('ibmq_qasm_simulator')\n",
    "shots2 = 2000\n",
    "\n",
    "final_result_simultaneous = []\n",
    "for i in range (len(theta_values)):\n",
    "    zi_and_iz_counts = backend.retrieve_job(ZI_and_IZ_job_IDs[i]).result().get_counts()\n",
    "    zi_contribution = (zi_and_iz_counts.get('00', 0) + zi_and_iz_counts.get('10', 0) \n",
    "                       - zi_and_iz_counts.get('11', 0) - zi_and_iz_counts.get('01', 0)) / shots2\n",
    "    iz_contribution = (zi_and_iz_counts.get('00', 0) + zi_and_iz_counts.get('01', 0) \n",
    "                       - zi_and_iz_counts.get('10', 0) - zi_and_iz_counts.get('11', 0)) / shots2\n",
    "    #print(zi_and_iz_counts)\n",
    "    xx_and_yy_counts = backend.retrieve_job(XX_and_YY_job_IDs[i]).result().get_counts()\n",
    "    xx_contribution = (xx_and_yy_counts.get('00', 0) + xx_and_yy_counts.get('10', 0) \n",
    "                       - xx_and_yy_counts.get('11', 0) - xx_and_yy_counts.get('01', 0)) / shots2\n",
    "    zz_contribution = (xx_and_yy_counts.get('00', 0) + xx_and_yy_counts.get('01', 0) \n",
    "                       - xx_and_yy_counts.get('10', 0) - xx_and_yy_counts.get('11', 0)) / shots2\n",
    "    yy_contribution = -xx_contribution * zz_contribution\n",
    "    total = 5.9 + .22 * zi_contribution - 6.1 * iz_contribution - 2.14 * xx_contribution - 2.14 * yy_contribution\n",
    "    final_result_simultaneous.append(total)\n",
    "    print(total)"
   ]
  },
  {
   "cell_type": "markdown",
   "metadata": {},
   "source": [
    "# Superimpose naive vs. simultaneous results"
   ]
  },
  {
   "cell_type": "code",
   "execution_count": 16,
   "metadata": {
    "scrolled": true
   },
   "outputs": [
    {
     "data": {
      "image/png": "[encoded data removed]",
      "text/plain": [
       "<Figure size 432x288 with 1 Axes>"
      ]
     },
     "metadata": {
      "needs_background": "light"
     },
     "output_type": "display_data"
    }
   ],
   "source": [
    "import matplotlib.pyplot as plt\n",
    "plt.plot(theta_values, final_result_naive, 'g^', label = \"naive measurement\")\n",
    "plt.plot(theta_values, final_result_naive)\n",
    "plt.plot(theta_values, final_result_simultaneous, 'bs', label = \"simultaneous measurement\")\n",
    "plt.plot(theta_values, final_result_simultaneous)\n",
    "plt.legend(loc='best')\n",
    "plt.xlabel('theta values')\n",
    "plt.ylabel('energy sums')\n",
    "plt.title('1000/2000 shots')\n",
    "plt.show()"
   ]
  },
  {
   "cell_type": "markdown",
   "metadata": {},
   "source": [
    "# Compute and plot the difference from theory (many shots running on simulator)"
   ]
  },
  {
   "cell_type": "code",
   "execution_count": 11,
   "metadata": {},
   "outputs": [],
   "source": [
    "values_theory = [12.191751999999997, 13.15524, 13.462224, 13.381992, 12.837567999999997, 11.637923999999998, 10.217920000000001, 8.380472000000001, 6.38668, 4.4392, 2.5525520000000013, 0.8814480000000007, -0.42213999999999907, -1.3090319999999995, -1.7176839999999993, -1.5886079999999994, -0.9050319999999998, 0.2661680000000004, 1.5365760000000002, 3.4022159999999992, 5.413296000000001, 7.372232, 9.278692, 10.918935999999999]\n",
    "value_diff, value2_diff = [], []\n",
    "for theta in range(len(theta_values)):\n",
    "    value_diff.append(abs(final_result_naive[theta] - values_theory[theta]))\n",
    "    value2_diff.append(abs(final_result_simultaneous[theta] - values_theory[theta]))"
   ]
  },
  {
   "cell_type": "code",
   "execution_count": 17,
   "metadata": {},
   "outputs": [
    {
     "data": {
      "image/png": "[encoded data removed]",
      "text/plain": [
       "<Figure size 432x288 with 1 Axes>"
      ]
     },
     "metadata": {
      "needs_background": "light"
     },
     "output_type": "display_data"
    }
   ],
   "source": [
    "import matplotlib.pyplot as plt\n",
    "plt.plot(theta_values, value_diff, 'bs', label='naive')\n",
    "plt.plot(theta_values, value2_diff, 'r^', label='simultaneous')\n",
    "plt.xlabel('theta values')\n",
    "plt.ylabel('energy sums')\n",
    "plt.title('1000/2000 difference with theory')\n",
    "plt.legend()\n",
    "plt.show()"
   ]
  },
  {
   "cell_type": "code",
   "execution_count": 19,
   "metadata": {},
   "outputs": [
    {
     "data": {
      "text/plain": [
       "7"
      ]
     },
     "execution_count": 19,
     "metadata": {},
     "output_type": "execute_result"
    }
   ],
   "source": [
    "len(['hi' for v1, v2 in zip(value_diff, value2_diff) if v1 > v2])"
   ]
  },
  {
   "cell_type": "code",
   "execution_count": 14,
   "metadata": {},
   "outputs": [
    {
     "name": "stdout",
     "output_type": "stream",
     "text": [
      "20.340503999999992\n"
     ]
    }
   ],
   "source": [
    "print(sum(value_diff))"
   ]
  },
  {
   "cell_type": "code",
   "execution_count": 15,
   "metadata": {
    "scrolled": true
   },
   "outputs": [
    {
     "name": "stdout",
     "output_type": "stream",
     "text": [
      "21.96742025999999\n"
     ]
    }
   ],
   "source": [
    "print(sum(value2_diff))"
   ]
  },
  {
   "cell_type": "code",
   "execution_count": null,
   "metadata": {},
   "outputs": [],
   "source": []
  }
 ],
 "metadata": {
  "kernelspec": {
   "display_name": "Python 3",
   "language": "python",
   "name": "python3"
  },
  "language_info": {
   "codemirror_mode": {
    "name": "ipython",
    "version": 3
   },
   "file_extension": ".py",
   "mimetype": "text/x-python",
   "name": "python",
   "nbconvert_exporter": "python",
   "pygments_lexer": "ipython3",
   "version": "3.7.3"
  }
 },
 "nbformat": 4,
 "nbformat_minor": 2
}
