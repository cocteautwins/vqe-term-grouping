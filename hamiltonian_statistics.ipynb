{
 "cells": [
  {
   "cell_type": "code",
   "execution_count": 1,
   "metadata": {},
   "outputs": [],
   "source": [
    "import numpy as np\n",
    "import pandas as pd"
   ]
  },
  {
   "cell_type": "markdown",
   "metadata": {},
   "source": [
    "---\n",
    "### Setting up basic matrices:\n",
    "The Pauli matrices are the four 2x2 matrices, I, X, Y, Z.\n",
    "For this example, we have a 4x4 Hamiltonian that is decomposed into IZ, ZI, XX, YY, and ZZ terms (this notation is not matrix multiplication--it is a Kronecker product, which takes two 2x2 matrices and gives a 4x4 matrix)."
   ]
  },
  {
   "cell_type": "code",
   "execution_count": 2,
   "metadata": {},
   "outputs": [],
   "source": [
    "I = np.eye(2)\n",
    "X = np.array([[0., 1.],\n",
    "              [1., 0.]])\n",
    "Y = np.array([[0., -1j],\n",
    "              [1j, 0.]])\n",
    "Z = np.array([[1., 0.],\n",
    "              [0., -1.]])"
   ]
  },
  {
   "cell_type": "code",
   "execution_count": 3,
   "metadata": {},
   "outputs": [
    {
     "name": "stdout",
     "output_type": "stream",
     "text": [
      "[[ 1.  0.  0.  0.]\n",
      " [ 0. -1.  0. -0.]\n",
      " [ 0.  0.  1.  0.]\n",
      " [ 0. -0.  0. -1.]]\n"
     ]
    }
   ],
   "source": [
    "IZ = np.kron(I, Z)\n",
    "print(IZ)"
   ]
  },
  {
   "cell_type": "code",
   "execution_count": 4,
   "metadata": {},
   "outputs": [
    {
     "name": "stdout",
     "output_type": "stream",
     "text": [
      "[[ 1.  0.  0.  0.]\n",
      " [ 0.  1.  0.  0.]\n",
      " [ 0.  0. -1. -0.]\n",
      " [ 0.  0. -0. -1.]]\n"
     ]
    }
   ],
   "source": [
    "ZI = np.kron(Z, I)\n",
    "print(ZI)"
   ]
  },
  {
   "cell_type": "code",
   "execution_count": 5,
   "metadata": {},
   "outputs": [
    {
     "name": "stdout",
     "output_type": "stream",
     "text": [
      "[[0. 0. 0. 1.]\n",
      " [0. 0. 1. 0.]\n",
      " [0. 1. 0. 0.]\n",
      " [1. 0. 0. 0.]]\n"
     ]
    }
   ],
   "source": [
    "XX = np.kron(X, X)\n",
    "print(XX)"
   ]
  },
  {
   "cell_type": "code",
   "execution_count": 6,
   "metadata": {},
   "outputs": [
    {
     "name": "stdout",
     "output_type": "stream",
     "text": [
      "[[ 0.+0.j  0.-0.j  0.-0.j -1.+0.j]\n",
      " [ 0.+0.j  0.+0.j  1.-0.j  0.-0.j]\n",
      " [ 0.+0.j  1.-0.j  0.+0.j  0.-0.j]\n",
      " [-1.+0.j  0.+0.j  0.+0.j  0.+0.j]]\n"
     ]
    }
   ],
   "source": [
    "YY = np.kron(Y, Y)\n",
    "print(YY)"
   ]
  },
  {
   "cell_type": "code",
   "execution_count": 7,
   "metadata": {},
   "outputs": [
    {
     "name": "stdout",
     "output_type": "stream",
     "text": [
      "[[ 1.  0.  0.  0.]\n",
      " [ 0. -1.  0. -0.]\n",
      " [ 0.  0. -1. -0.]\n",
      " [ 0. -0. -0.  1.]]\n"
     ]
    }
   ],
   "source": [
    "ZZ = np.kron(Z, Z)\n",
    "print(ZZ)"
   ]
  },
  {
   "cell_type": "markdown",
   "metadata": {},
   "source": [
    "----\n",
    "### Hamiltonian\n",
    "We consider the Hamiltonian:\n",
    "$H = IZ + ZI - XX - YY + ZZ$"
   ]
  },
  {
   "cell_type": "code",
   "execution_count": 8,
   "metadata": {},
   "outputs": [
    {
     "name": "stdout",
     "output_type": "stream",
     "text": [
      "[[ 3.+0.j  0.+0.j  0.+0.j  0.+0.j]\n",
      " [ 0.+0.j -1.+0.j -2.+0.j  0.+0.j]\n",
      " [ 0.+0.j -2.+0.j -1.+0.j  0.+0.j]\n",
      " [ 0.+0.j  0.+0.j  0.+0.j -1.+0.j]]\n"
     ]
    }
   ],
   "source": [
    "H = IZ + ZI - XX - YY + ZZ\n",
    "print(H)"
   ]
  },
  {
   "cell_type": "markdown",
   "metadata": {},
   "source": [
    "---\n",
    "### Measuring an observable\n",
    "An observable is a matrix that we can measure against a state $\\vec{\\psi}$. The Hamiltonian is an observable. So are the Pauli terms that it is written as a sum of.\n",
    "\n",
    "To measure some observable matrix $M$ with respect to a state $\\vec{\\psi}$, we just compute $\\vec{\\psi}^{\\dagger} M \\vec{\\psi}$. The $\\dagger$ means conjugate transpose = transpose the matrix and then take complex conjugates. In this specific example, all the numbers are real, so it happens to be the same as an ordinary matrix transpose.\n",
    "\n",
    "Here is a helper method that does everything for us:"
   ]
  },
  {
   "cell_type": "code",
   "execution_count": 9,
   "metadata": {},
   "outputs": [],
   "source": [
    "def expected_value(M, state):\n",
    "    return np.asmatrix(state).getH() @ M @ state  # .getH() does conjugate tranpose"
   ]
  },
  {
   "cell_type": "markdown",
   "metadata": {},
   "source": [
    "---\n",
    "### Let's try for $\\vec{\\psi} = [0, 1, 0, 0]^T$"
   ]
  },
  {
   "cell_type": "code",
   "execution_count": 10,
   "metadata": {},
   "outputs": [],
   "source": [
    "state = np.array([[0.], [1.], [0.], [0.]])"
   ]
  },
  {
   "cell_type": "markdown",
   "metadata": {},
   "source": [
    "#### Method 1: measure $H$ directly\n",
    "A quantum computer can't actually measure $H$ directly, but let's just check what the answer should be."
   ]
  },
  {
   "cell_type": "code",
   "execution_count": 11,
   "metadata": {},
   "outputs": [
    {
     "name": "stdout",
     "output_type": "stream",
     "text": [
      "[[-1.+0.j]]\n"
     ]
    }
   ],
   "source": [
    "print(expected_value(H, state))"
   ]
  },
  {
   "cell_type": "markdown",
   "metadata": {},
   "source": [
    "#### Method 2: linearity of expectation\n",
    "A quantum computer can compute the Pauli observables though. So let's use linearity of expectation instead:"
   ]
  },
  {
   "cell_type": "code",
   "execution_count": 12,
   "metadata": {},
   "outputs": [
    {
     "name": "stdout",
     "output_type": "stream",
     "text": [
      "[[-1.]] [[1.]] [[0.]] [[0.+0.j]] [[-1.]]\n",
      "[[-1.+0.j]]\n"
     ]
    }
   ],
   "source": [
    "IZ_expectation = expected_value(IZ, state)\n",
    "ZI_expectation = expected_value(ZI, state)\n",
    "XX_expectation = expected_value(XX, state)\n",
    "YY_expectation = expected_value(YY, state)\n",
    "ZZ_expectation = expected_value(ZZ, state)\n",
    "print(IZ_expectation, ZI_expectation, XX_expectation, YY_expectation, ZZ_expectation)\n",
    "print(IZ_expectation + ZI_expectation - XX_expectation - YY_expectation + ZZ_expectation)"
   ]
  },
  {
   "cell_type": "markdown",
   "metadata": {},
   "source": [
    "Yup, we got -1 both ways!"
   ]
  },
  {
   "cell_type": "markdown",
   "metadata": {},
   "source": [
    "---\n",
    "### Variances / Covariances"
   ]
  },
  {
   "cell_type": "code",
   "execution_count": 13,
   "metadata": {},
   "outputs": [],
   "source": [
    "def variance(M, state):\n",
    "    # variances is <M^2> - <M>^2\n",
    "    return expected_value(M @ M, state) - expected_value(M, state) ** 2\n",
    "\n",
    "def covariance(M_1, M_2, state):\n",
    "    return expected_value(M_1 @ M_2, state) - expected_value(M_1, state) * expected_value(M_2, state)"
   ]
  },
  {
   "cell_type": "markdown",
   "metadata": {},
   "source": [
    "The cells below show that:\n",
    "- Var(H) = 4\n",
    "- Var(IZ) + Var(ZI) + Var(XX) + Var(YY) + Var(ZZ) = 2 -- not equal because we need to account for covariances\n",
    "- the summed covariances do indeed equal 4. Note that the XX and ZZ"
   ]
  },
  {
   "cell_type": "code",
   "execution_count": 14,
   "metadata": {},
   "outputs": [
    {
     "data": {
      "text/plain": [
       "matrix([[4.+0.j]])"
      ]
     },
     "execution_count": 14,
     "metadata": {},
     "output_type": "execute_result"
    }
   ],
   "source": [
    "variance(H, state)"
   ]
  },
  {
   "cell_type": "code",
   "execution_count": 15,
   "metadata": {},
   "outputs": [
    {
     "data": {
      "text/plain": [
       "matrix([[0.]])"
      ]
     },
     "execution_count": 15,
     "metadata": {},
     "output_type": "execute_result"
    }
   ],
   "source": [
    "variance(IZ, state)"
   ]
  },
  {
   "cell_type": "code",
   "execution_count": 16,
   "metadata": {},
   "outputs": [
    {
     "data": {
      "text/plain": [
       "matrix([[0.]])"
      ]
     },
     "execution_count": 16,
     "metadata": {},
     "output_type": "execute_result"
    }
   ],
   "source": [
    "variance(ZI, state)"
   ]
  },
  {
   "cell_type": "code",
   "execution_count": 17,
   "metadata": {},
   "outputs": [
    {
     "data": {
      "text/plain": [
       "matrix([[1.]])"
      ]
     },
     "execution_count": 17,
     "metadata": {},
     "output_type": "execute_result"
    }
   ],
   "source": [
    "variance(XX, state)"
   ]
  },
  {
   "cell_type": "code",
   "execution_count": 18,
   "metadata": {},
   "outputs": [
    {
     "data": {
      "text/plain": [
       "matrix([[1.+0.j]])"
      ]
     },
     "execution_count": 18,
     "metadata": {},
     "output_type": "execute_result"
    }
   ],
   "source": [
    "variance(YY, state)"
   ]
  },
  {
   "cell_type": "code",
   "execution_count": 19,
   "metadata": {},
   "outputs": [
    {
     "data": {
      "text/plain": [
       "matrix([[0.]])"
      ]
     },
     "execution_count": 19,
     "metadata": {},
     "output_type": "execute_result"
    }
   ],
   "source": [
    "variance(ZZ, state)"
   ]
  },
  {
   "cell_type": "code",
   "execution_count": 20,
   "metadata": {},
   "outputs": [
    {
     "name": "stdout",
     "output_type": "stream",
     "text": [
      "[[1.]] 2 2\n",
      "[[1.+0.j]] 2 3\n",
      "[[1.+0.j]] 3 2\n",
      "[[1.+0.j]] 3 3\n",
      "Variance from summed covariances is [[4.+0.j]]\n"
     ]
    }
   ],
   "source": [
    "terms, coefficients = [IZ, ZI, XX, YY, ZZ], [1., 1., -1., -1., 1.]\n",
    "total = np.array([[0.+0.j]])\n",
    "for i in range(5):\n",
    "    for j in range(5):\n",
    "        cov = covariance(terms[i], terms[j], state)\n",
    "        if cov != 0:\n",
    "            print(cov, i, j)\n",
    "            total += (coefficients[i] * coefficients[j] * covariance(terms[i], terms[j], state))\n",
    "print('Variance from summed covariances is %s' % total)"
   ]
  },
  {
   "cell_type": "markdown",
   "metadata": {},
   "source": [
    "----\n",
    "### Different State, $\\vec{\\psi} = [0.43 - 0.16i, -0.49, 0.44i, -0.39 + 0.46i]$"
   ]
  },
  {
   "cell_type": "code",
   "execution_count": 21,
   "metadata": {},
   "outputs": [],
   "source": [
    "state = np.array([[0.43 - 0.16j], [-0.49], [0.43j], [-0.39 + 0.46j]])"
   ]
  },
  {
   "cell_type": "code",
   "execution_count": 22,
   "metadata": {},
   "outputs": [
    {
     "data": {
      "text/plain": [
       "matrix([[4.35848816-2.22044605e-16j]])"
      ]
     },
     "execution_count": 22,
     "metadata": {},
     "output_type": "execute_result"
    }
   ],
   "source": [
    "variance(H, state)"
   ]
  },
  {
   "cell_type": "code",
   "execution_count": 23,
   "metadata": {},
   "outputs": [
    {
     "data": {
      "text/plain": [
       "(matrix([[0.95576944+0.j]]),\n",
       " matrix([[0.989596+0.j]]),\n",
       " matrix([[0.76629724+6.6974204e-18j]]),\n",
       " matrix([[0.76629724+0.j]]),\n",
       " matrix([[0.97693936+0.j]]))"
      ]
     },
     "execution_count": 23,
     "metadata": {},
     "output_type": "execute_result"
    }
   ],
   "source": [
    "variance(IZ, state), variance(ZI, state), variance(-XX, state), variance(-YY, state), variance(ZZ, state)"
   ]
  },
  {
   "cell_type": "code",
   "execution_count": 24,
   "metadata": {},
   "outputs": [
    {
     "name": "stdout",
     "output_type": "stream",
     "text": [
      "[[0.1287768+0.j]]\n",
      "[[-0.06690672+0.j]]\n",
      "[[-0.1937784+0.j]]\n",
      "[[0.08370276-3.3487102e-18j]]\n",
      "[[0.41059608+1.03528297e-18j]]\n",
      "[[-0.41059608+6.9388939e-18j]]\n"
     ]
    }
   ],
   "source": [
    "print(covariance(IZ, ZI, state))\n",
    "print(covariance(IZ, ZZ, state))\n",
    "print(covariance(ZI, ZZ, state))\n",
    "print(covariance(-XX, -YY, state))\n",
    "print(covariance(-XX, ZZ, state))\n",
    "print(covariance(-YY, ZZ, state))"
   ]
  },
  {
   "cell_type": "code",
   "execution_count": 25,
   "metadata": {},
   "outputs": [
    {
     "data": {
      "text/plain": [
       "22.2744964"
      ]
     },
     "execution_count": 25,
     "metadata": {},
     "output_type": "execute_result"
    }
   ],
   "source": [
    "# Setting 1 (measure all terms separately) would require a number of state preparations equal to:\n",
    "5 * (0.95576944 + 0.989596 + 0.76629724 + 0.76629724 + 0.97693936)"
   ]
  },
  {
   "cell_type": "code",
   "execution_count": 26,
   "metadata": {},
   "outputs": [
    {
     "data": {
      "text/plain": [
       "14.6395752"
      ]
     },
     "execution_count": 26,
     "metadata": {},
     "output_type": "execute_result"
    }
   ],
   "source": [
    "# Setting 2 (measure {XX}, {YY, ZZ}, {IZ, ZI}) would require a number of state preparations equal to:\n",
    "3 * (0.95576944 + 0.989596 + 0.76629724 + 0.76629724 + 0.97693936 + 2*0.08370276 + 2*0.1287768)"
   ]
  },
  {
   "cell_type": "code",
   "execution_count": 27,
   "metadata": {},
   "outputs": [
    {
     "data": {
      "text/plain": [
       "9.7597168"
      ]
     },
     "execution_count": 27,
     "metadata": {},
     "output_type": "execute_result"
    }
   ],
   "source": [
    "# Setting 3 (measure {XX, YY, ZZ}, {IZ, ZI}) would require a number of state preparations equal to:\n",
    "2 * (0.95576944 + 0.989596 + 0.76629724 + 0.76629724 + 0.97693936 + 2*0.08370276 + 2*0.41059608 + 2*-0.41059608 + 2*0.1287768)"
   ]
  },
  {
   "cell_type": "markdown",
   "metadata": {},
   "source": [
    "### Programatically finding optimal groupings"
   ]
  },
  {
   "cell_type": "code",
   "execution_count": 28,
   "metadata": {},
   "outputs": [],
   "source": [
    "def variance_grouping(grouping, state):\n",
    "    \"\"\"\n",
    "    Computes the variance of a grouping, via the formula\n",
    "             Var(A+B) = Var(A) + Var(B) + 2*Cov(A,B)\n",
    "    Inputs:\n",
    "       Grouping (as a list, e.g. [-XX, -YY, ZZ])\n",
    "       State (as a np.array, e.g. np.array([[0.], [1.], [0.], [0.]]))\n",
    "    \"\"\"\n",
    "    running_variance = sum([variance(term, state) for term in grouping])\n",
    "    grouping_size = len(grouping)\n",
    "    for i in range(grouping_size):\n",
    "        for j in range(i):\n",
    "            running_variance += 2*covariance(grouping[i], grouping[j], state)\n",
    "    return(np.asscalar(running_variance))"
   ]
  },
  {
   "cell_type": "code",
   "execution_count": 29,
   "metadata": {},
   "outputs": [],
   "source": [
    "# # Credit to: https://stackoverflow.com/questions/19368375/set-partitions-in-python\n",
    "def partition(collection):\n",
    "    if len(collection) == 1:\n",
    "        yield [ collection ]\n",
    "        return\n",
    "\n",
    "    first = collection[0]\n",
    "    for smaller in partition(collection[1:]):\n",
    "        # insert `first` in each of the subpartition's subsets\n",
    "        for n, subset in enumerate(smaller):\n",
    "            yield smaller[:n] + [[ first ] + subset]  + smaller[n+1:]\n",
    "        # put `first` in its own subset \n",
    "        yield [ [ first ] ] + smaller\n"
   ]
  },
  {
   "cell_type": "code",
   "execution_count": 34,
   "metadata": {},
   "outputs": [
    {
     "data": {
      "text/html": [
       "<div>\n",
       "<style scoped>\n",
       "    .dataframe tbody tr th:only-of-type {\n",
       "        vertical-align: middle;\n",
       "    }\n",
       "\n",
       "    .dataframe tbody tr th {\n",
       "        vertical-align: top;\n",
       "    }\n",
       "\n",
       "    .dataframe thead th {\n",
       "        text-align: right;\n",
       "    }\n",
       "</style>\n",
       "<table border=\"1\" class=\"dataframe\">\n",
       "  <thead>\n",
       "    <tr style=\"text-align: right;\">\n",
       "      <th></th>\n",
       "      <th>partition</th>\n",
       "      <th>variance</th>\n",
       "    </tr>\n",
       "  </thead>\n",
       "  <tbody>\n",
       "    <tr>\n",
       "      <th>0</th>\n",
       "      <td>[[-XX, -YY, ZZ, IZ, ZI]]</td>\n",
       "      <td>(4.35848816+0j)</td>\n",
       "    </tr>\n",
       "    <tr>\n",
       "      <th>1</th>\n",
       "      <td>[[-XX], [-YY, ZZ, IZ, ZI]]</td>\n",
       "      <td>(6.148306400000001+2.1663999999999994j)</td>\n",
       "    </tr>\n",
       "    <tr>\n",
       "      <th>28</th>\n",
       "      <td>[[-XX, IZ], [-YY, ZZ, ZI]]</td>\n",
       "      <td>(6.7054168+0j)</td>\n",
       "    </tr>\n",
       "    <tr>\n",
       "      <th>16</th>\n",
       "      <td>[[-YY, ZZ, IZ], [-XX, ZI]]</td>\n",
       "      <td>(6.786671199999999+0j)</td>\n",
       "    </tr>\n",
       "    <tr>\n",
       "      <th>6</th>\n",
       "      <td>[[-YY, ZZ], [-XX, IZ, ZI]]</td>\n",
       "      <td>(8.373996-2.1663999999999994j)</td>\n",
       "    </tr>\n",
       "    <tr>\n",
       "      <th>25</th>\n",
       "      <td>[[-XX, -YY, IZ], [ZZ, ZI]]</td>\n",
       "      <td>(8.469496-3.3712j)</td>\n",
       "    </tr>\n",
       "    <tr>\n",
       "      <th>29</th>\n",
       "      <td>[[IZ], [-XX, -YY, ZZ, ZI]]</td>\n",
       "      <td>(8.469496+3.3712j)</td>\n",
       "    </tr>\n",
       "    <tr>\n",
       "      <th>2</th>\n",
       "      <td>[[-XX, -YY], [ZZ, IZ, ZI]]</td>\n",
       "      <td>(8.71697632+0j)</td>\n",
       "    </tr>\n",
       "    <tr>\n",
       "      <th>19</th>\n",
       "      <td>[[ZZ, IZ], [-XX, -YY, ZI]]</td>\n",
       "      <td>(8.976982719999999+3.3712j)</td>\n",
       "    </tr>\n",
       "    <tr>\n",
       "      <th>15</th>\n",
       "      <td>[[-XX, -YY, ZZ, IZ], [ZI]]</td>\n",
       "      <td>(8.97698272-3.3712j)</td>\n",
       "    </tr>\n",
       "    <tr>\n",
       "      <th>30</th>\n",
       "      <td>[[-XX], [IZ], [-YY, ZZ, ZI]]</td>\n",
       "      <td>(9.454682159999999+4.1532j)</td>\n",
       "    </tr>\n",
       "    <tr>\n",
       "      <th>26</th>\n",
       "      <td>[[-YY, IZ], [-XX, ZZ, ZI]]</td>\n",
       "      <td>(9.563953119999999+0j)</td>\n",
       "    </tr>\n",
       "    <tr>\n",
       "      <th>9</th>\n",
       "      <td>[[ZZ], [-XX, -YY, IZ, ZI]]</td>\n",
       "      <td>(9.7597168+0j)</td>\n",
       "    </tr>\n",
       "    <tr>\n",
       "      <th>5</th>\n",
       "      <td>[[-XX, -YY, ZZ], [IZ, ZI]]</td>\n",
       "      <td>(9.7597168+3.189670749748075e-17j)</td>\n",
       "    </tr>\n",
       "    <tr>\n",
       "      <th>17</th>\n",
       "      <td>[[-XX], [-YY, ZZ, IZ], [ZI]]</td>\n",
       "      <td>(9.896237999999999-0.9036000000000001j)</td>\n",
       "    </tr>\n",
       "    <tr>\n",
       "      <th>8</th>\n",
       "      <td>[[-XX, ZZ], [-YY, IZ, ZI]]</td>\n",
       "      <td>(10.475815520000001+2.1663999999999994j)</td>\n",
       "    </tr>\n",
       "    <tr>\n",
       "      <th>18</th>\n",
       "      <td>[[-XX, ZZ, IZ], [-YY, ZI]]</td>\n",
       "      <td>(10.49767216+0j)</td>\n",
       "    </tr>\n",
       "    <tr>\n",
       "      <th>3</th>\n",
       "      <td>[[-YY], [-XX, ZZ, IZ, ZI]]</td>\n",
       "      <td>(10.616024159999998-2.1663999999999994j)</td>\n",
       "    </tr>\n",
       "    <tr>\n",
       "      <th>37</th>\n",
       "      <td>[[-YY, ZZ], [IZ], [-XX, ZI]]</td>\n",
       "      <td>(11.184890159999998+0.9036000000000001j)</td>\n",
       "    </tr>\n",
       "    <tr>\n",
       "      <th>36</th>\n",
       "      <td>[[-YY, ZZ], [-XX, IZ], [ZI]]</td>\n",
       "      <td>(11.5045644-4.1532j)</td>\n",
       "    </tr>\n",
       "    <tr>\n",
       "      <th>27</th>\n",
       "      <td>[[-XX], [-YY, IZ], [ZZ, ZI]]</td>\n",
       "      <td>(11.5985844-0.9036000000000001j)</td>\n",
       "    </tr>\n",
       "    <tr>\n",
       "      <th>7</th>\n",
       "      <td>[[-XX], [-YY, ZZ], [IZ, ZI]]</td>\n",
       "      <td>(11.67378216+6.172562461159714e-17j)</td>\n",
       "    </tr>\n",
       "    <tr>\n",
       "      <th>4</th>\n",
       "      <td>[[-XX], [-YY], [ZZ, IZ, ZI]]</td>\n",
       "      <td>(12.57324792+2.009226118815377e-17j)</td>\n",
       "    </tr>\n",
       "    <tr>\n",
       "      <th>20</th>\n",
       "      <td>[[-XX], [ZZ, IZ], [-YY, ZI]]</td>\n",
       "      <td>(12.679488719999998+4.1532j)</td>\n",
       "    </tr>\n",
       "    <tr>\n",
       "      <th>31</th>\n",
       "      <td>[[-XX, -YY], [IZ], [ZZ, ZI]]</td>\n",
       "      <td>(12.704244+0j)</td>\n",
       "    </tr>\n",
       "    <tr>\n",
       "      <th>32</th>\n",
       "      <td>[[-YY], [-XX, IZ], [ZZ, ZI]]</td>\n",
       "      <td>(12.80547048-4.1532j)</td>\n",
       "    </tr>\n",
       "    <tr>\n",
       "      <th>41</th>\n",
       "      <td>[[ZZ], [-YY, IZ], [-XX, ZI]]</td>\n",
       "      <td>(13.0450236+0j)</td>\n",
       "    </tr>\n",
       "    <tr>\n",
       "      <th>23</th>\n",
       "      <td>[[-YY], [ZZ, IZ], [-XX, ZI]]</td>\n",
       "      <td>(13.24702632+0.9036000000000001j)</td>\n",
       "    </tr>\n",
       "    <tr>\n",
       "      <th>10</th>\n",
       "      <td>[[-XX], [ZZ], [-YY, IZ, ZI]]</td>\n",
       "      <td>(13.2501468+3.249599999999999j)</td>\n",
       "    </tr>\n",
       "    <tr>\n",
       "      <th>21</th>\n",
       "      <td>[[-XX, -YY], [ZZ, IZ], [ZI]]</td>\n",
       "      <td>(13.46547408+0j)</td>\n",
       "    </tr>\n",
       "    <tr>\n",
       "      <th>44</th>\n",
       "      <td>[[ZZ], [-XX, IZ], [-YY, ZI]]</td>\n",
       "      <td>(13.68437208+0j)</td>\n",
       "    </tr>\n",
       "    <tr>\n",
       "      <th>40</th>\n",
       "      <td>[[ZZ], [-XX, -YY, IZ], [ZI]]</td>\n",
       "      <td>(13.866914399999999-5.0568j)</td>\n",
       "    </tr>\n",
       "    <tr>\n",
       "      <th>45</th>\n",
       "      <td>[[ZZ], [IZ], [-XX, -YY, ZI]]</td>\n",
       "      <td>(13.866914399999999+5.0568j)</td>\n",
       "    </tr>\n",
       "    <tr>\n",
       "      <th>35</th>\n",
       "      <td>[[-XX, -YY, ZZ], [IZ], [ZI]]</td>\n",
       "      <td>(13.8669144+4.784506124622112e-17j)</td>\n",
       "    </tr>\n",
       "    <tr>\n",
       "      <th>38</th>\n",
       "      <td>[[-XX], [-YY, ZZ], [IZ], [ZI]]</td>\n",
       "      <td>(14.534828479999998+8.230083281546286e-17j)</td>\n",
       "    </tr>\n",
       "    <tr>\n",
       "      <th>11</th>\n",
       "      <td>[[-XX, -YY], [ZZ], [IZ, ZI]]</td>\n",
       "      <td>(14.6395752+0j)</td>\n",
       "    </tr>\n",
       "    <tr>\n",
       "      <th>33</th>\n",
       "      <td>[[-YY], [IZ], [-XX, ZZ, ZI]]</td>\n",
       "      <td>(14.94937272+0.9036000000000001j)</td>\n",
       "    </tr>\n",
       "    <tr>\n",
       "      <th>13</th>\n",
       "      <td>[[-YY], [ZZ], [-XX, IZ, ZI]]</td>\n",
       "      <td>(15.02457048-3.249599999999999j)</td>\n",
       "    </tr>\n",
       "    <tr>\n",
       "      <th>39</th>\n",
       "      <td>[[-XX, ZZ], [-YY, IZ], [ZI]]</td>\n",
       "      <td>(15.22483128-0.9036000000000001j)</td>\n",
       "    </tr>\n",
       "    <tr>\n",
       "      <th>43</th>\n",
       "      <td>[[-XX, ZZ], [IZ], [-YY, ZI]]</td>\n",
       "      <td>(15.544505519999998+4.1532j)</td>\n",
       "    </tr>\n",
       "    <tr>\n",
       "      <th>22</th>\n",
       "      <td>[[-YY], [-XX, ZZ, IZ], [ZI]]</td>\n",
       "      <td>(16.03027704-4.1532j)</td>\n",
       "    </tr>\n",
       "    <tr>\n",
       "      <th>34</th>\n",
       "      <td>[[-XX], [-YY], [IZ], [ZZ, ZI]]</td>\n",
       "      <td>(16.26936992+2.678968158420503e-17j)</td>\n",
       "    </tr>\n",
       "    <tr>\n",
       "      <th>12</th>\n",
       "      <td>[[-YY], [-XX, ZZ], [IZ, ZI]]</td>\n",
       "      <td>(16.600935120000003+2.6303959010931527e-17j)</td>\n",
       "    </tr>\n",
       "    <tr>\n",
       "      <th>42</th>\n",
       "      <td>[[-XX], [ZZ], [-YY, IZ], [ZI]]</td>\n",
       "      <td>(17.015006399999997-1.2048j)</td>\n",
       "    </tr>\n",
       "    <tr>\n",
       "      <th>24</th>\n",
       "      <td>[[-XX], [-YY], [ZZ, IZ], [ZI]]</td>\n",
       "      <td>(17.284343359999998+2.678968158420503e-17j)</td>\n",
       "    </tr>\n",
       "    <tr>\n",
       "      <th>46</th>\n",
       "      <td>[[-XX], [ZZ], [IZ], [-YY, ZI]]</td>\n",
       "      <td>(17.441238719999998+5.537599999999999j)</td>\n",
       "    </tr>\n",
       "    <tr>\n",
       "      <th>50</th>\n",
       "      <td>[[-YY], [ZZ], [IZ], [-XX, ZI]]</td>\n",
       "      <td>(18.19795552+1.2048j)</td>\n",
       "    </tr>\n",
       "    <tr>\n",
       "      <th>47</th>\n",
       "      <td>[[-XX, -YY], [ZZ], [IZ], [ZI]]</td>\n",
       "      <td>(18.4892192+0j)</td>\n",
       "    </tr>\n",
       "    <tr>\n",
       "      <th>49</th>\n",
       "      <td>[[-YY], [ZZ], [-XX, IZ], [ZI]]</td>\n",
       "      <td>(18.624187839999998-5.537599999999999j)</td>\n",
       "    </tr>\n",
       "    <tr>\n",
       "      <th>14</th>\n",
       "      <td>[[-XX], [-YY], [ZZ], [IZ, ZI]]</td>\n",
       "      <td>(18.84981152+2.678968158420503e-17j)</td>\n",
       "    </tr>\n",
       "    <tr>\n",
       "      <th>48</th>\n",
       "      <td>[[-YY], [-XX, ZZ], [IZ], [ZI]]</td>\n",
       "      <td>(21.10436576+3.50719453479087e-17j)</td>\n",
       "    </tr>\n",
       "    <tr>\n",
       "      <th>51</th>\n",
       "      <td>[[-XX], [-YY], [ZZ], [IZ], [ZI]]</td>\n",
       "      <td>(22.274496399999997+3.348710198025629e-17j)</td>\n",
       "    </tr>\n",
       "  </tbody>\n",
       "</table>\n",
       "</div>"
      ],
      "text/plain": [
       "                           partition  \\\n",
       "0           [[-XX, -YY, ZZ, IZ, ZI]]   \n",
       "1         [[-XX], [-YY, ZZ, IZ, ZI]]   \n",
       "28        [[-XX, IZ], [-YY, ZZ, ZI]]   \n",
       "16        [[-YY, ZZ, IZ], [-XX, ZI]]   \n",
       "6         [[-YY, ZZ], [-XX, IZ, ZI]]   \n",
       "25        [[-XX, -YY, IZ], [ZZ, ZI]]   \n",
       "29        [[IZ], [-XX, -YY, ZZ, ZI]]   \n",
       "2         [[-XX, -YY], [ZZ, IZ, ZI]]   \n",
       "19        [[ZZ, IZ], [-XX, -YY, ZI]]   \n",
       "15        [[-XX, -YY, ZZ, IZ], [ZI]]   \n",
       "30      [[-XX], [IZ], [-YY, ZZ, ZI]]   \n",
       "26        [[-YY, IZ], [-XX, ZZ, ZI]]   \n",
       "9         [[ZZ], [-XX, -YY, IZ, ZI]]   \n",
       "5         [[-XX, -YY, ZZ], [IZ, ZI]]   \n",
       "17      [[-XX], [-YY, ZZ, IZ], [ZI]]   \n",
       "8         [[-XX, ZZ], [-YY, IZ, ZI]]   \n",
       "18        [[-XX, ZZ, IZ], [-YY, ZI]]   \n",
       "3         [[-YY], [-XX, ZZ, IZ, ZI]]   \n",
       "37      [[-YY, ZZ], [IZ], [-XX, ZI]]   \n",
       "36      [[-YY, ZZ], [-XX, IZ], [ZI]]   \n",
       "27      [[-XX], [-YY, IZ], [ZZ, ZI]]   \n",
       "7       [[-XX], [-YY, ZZ], [IZ, ZI]]   \n",
       "4       [[-XX], [-YY], [ZZ, IZ, ZI]]   \n",
       "20      [[-XX], [ZZ, IZ], [-YY, ZI]]   \n",
       "31      [[-XX, -YY], [IZ], [ZZ, ZI]]   \n",
       "32      [[-YY], [-XX, IZ], [ZZ, ZI]]   \n",
       "41      [[ZZ], [-YY, IZ], [-XX, ZI]]   \n",
       "23      [[-YY], [ZZ, IZ], [-XX, ZI]]   \n",
       "10      [[-XX], [ZZ], [-YY, IZ, ZI]]   \n",
       "21      [[-XX, -YY], [ZZ, IZ], [ZI]]   \n",
       "44      [[ZZ], [-XX, IZ], [-YY, ZI]]   \n",
       "40      [[ZZ], [-XX, -YY, IZ], [ZI]]   \n",
       "45      [[ZZ], [IZ], [-XX, -YY, ZI]]   \n",
       "35      [[-XX, -YY, ZZ], [IZ], [ZI]]   \n",
       "38    [[-XX], [-YY, ZZ], [IZ], [ZI]]   \n",
       "11      [[-XX, -YY], [ZZ], [IZ, ZI]]   \n",
       "33      [[-YY], [IZ], [-XX, ZZ, ZI]]   \n",
       "13      [[-YY], [ZZ], [-XX, IZ, ZI]]   \n",
       "39      [[-XX, ZZ], [-YY, IZ], [ZI]]   \n",
       "43      [[-XX, ZZ], [IZ], [-YY, ZI]]   \n",
       "22      [[-YY], [-XX, ZZ, IZ], [ZI]]   \n",
       "34    [[-XX], [-YY], [IZ], [ZZ, ZI]]   \n",
       "12      [[-YY], [-XX, ZZ], [IZ, ZI]]   \n",
       "42    [[-XX], [ZZ], [-YY, IZ], [ZI]]   \n",
       "24    [[-XX], [-YY], [ZZ, IZ], [ZI]]   \n",
       "46    [[-XX], [ZZ], [IZ], [-YY, ZI]]   \n",
       "50    [[-YY], [ZZ], [IZ], [-XX, ZI]]   \n",
       "47    [[-XX, -YY], [ZZ], [IZ], [ZI]]   \n",
       "49    [[-YY], [ZZ], [-XX, IZ], [ZI]]   \n",
       "14    [[-XX], [-YY], [ZZ], [IZ, ZI]]   \n",
       "48    [[-YY], [-XX, ZZ], [IZ], [ZI]]   \n",
       "51  [[-XX], [-YY], [ZZ], [IZ], [ZI]]   \n",
       "\n",
       "                                        variance  \n",
       "0                                (4.35848816+0j)  \n",
       "1        (6.148306400000001+2.1663999999999994j)  \n",
       "28                                (6.7054168+0j)  \n",
       "16                        (6.786671199999999+0j)  \n",
       "6                 (8.373996-2.1663999999999994j)  \n",
       "25                            (8.469496-3.3712j)  \n",
       "29                            (8.469496+3.3712j)  \n",
       "2                                (8.71697632+0j)  \n",
       "19                   (8.976982719999999+3.3712j)  \n",
       "15                          (8.97698272-3.3712j)  \n",
       "30                   (9.454682159999999+4.1532j)  \n",
       "26                        (9.563953119999999+0j)  \n",
       "9                                 (9.7597168+0j)  \n",
       "5             (9.7597168+3.189670749748075e-17j)  \n",
       "17       (9.896237999999999-0.9036000000000001j)  \n",
       "8       (10.475815520000001+2.1663999999999994j)  \n",
       "18                              (10.49767216+0j)  \n",
       "3       (10.616024159999998-2.1663999999999994j)  \n",
       "37      (11.184890159999998+0.9036000000000001j)  \n",
       "36                          (11.5045644-4.1532j)  \n",
       "27              (11.5985844-0.9036000000000001j)  \n",
       "7           (11.67378216+6.172562461159714e-17j)  \n",
       "4           (12.57324792+2.009226118815377e-17j)  \n",
       "20                  (12.679488719999998+4.1532j)  \n",
       "31                                (12.704244+0j)  \n",
       "32                         (12.80547048-4.1532j)  \n",
       "41                               (13.0450236+0j)  \n",
       "23             (13.24702632+0.9036000000000001j)  \n",
       "10               (13.2501468+3.249599999999999j)  \n",
       "21                              (13.46547408+0j)  \n",
       "44                              (13.68437208+0j)  \n",
       "40                  (13.866914399999999-5.0568j)  \n",
       "45                  (13.866914399999999+5.0568j)  \n",
       "35           (13.8669144+4.784506124622112e-17j)  \n",
       "38   (14.534828479999998+8.230083281546286e-17j)  \n",
       "11                               (14.6395752+0j)  \n",
       "33             (14.94937272+0.9036000000000001j)  \n",
       "13              (15.02457048-3.249599999999999j)  \n",
       "39             (15.22483128-0.9036000000000001j)  \n",
       "43                  (15.544505519999998+4.1532j)  \n",
       "22                         (16.03027704-4.1532j)  \n",
       "34          (16.26936992+2.678968158420503e-17j)  \n",
       "12  (16.600935120000003+2.6303959010931527e-17j)  \n",
       "42                  (17.015006399999997-1.2048j)  \n",
       "24   (17.284343359999998+2.678968158420503e-17j)  \n",
       "46       (17.441238719999998+5.537599999999999j)  \n",
       "50                         (18.19795552+1.2048j)  \n",
       "47                               (18.4892192+0j)  \n",
       "49       (18.624187839999998-5.537599999999999j)  \n",
       "14          (18.84981152+2.678968158420503e-17j)  \n",
       "48           (21.10436576+3.50719453479087e-17j)  \n",
       "51   (22.274496399999997+3.348710198025629e-17j)  "
      ]
     },
     "execution_count": 34,
     "metadata": {},
     "output_type": "execute_result"
    }
   ],
   "source": [
    "def calculate_variance_all_partitions(term_set, state):\n",
    "    \"\"\"\n",
    "    Computes the variance of every possible partition of a set of terms.\n",
    "    Inputs:\n",
    "        term_set: list of *strings*, e.g. [\"-XX\", \"-YY\", \"ZZ\", \"IZ\", \"ZI\"]\n",
    "        state: as a np.array, e.g. np.array([[0.], [1.], [0.], [0.]]))\n",
    "    \"\"\"\n",
    "    evaled_term_set = [eval(term) for term in term_set]\n",
    "    term_list = []\n",
    "    variance_list = []\n",
    "    for pp in partition(list(range(len(term_set)))):\n",
    "         term_list.append([list(np.array(term_set)[grouping]) for grouping in pp])\n",
    "         variance_list.append(sum([variance_grouping(np.array(evaled_term_set)[indices], state)*len(pp) for indices in pp]))\n",
    "    partition_list = pd.DataFrame({'partition': term_list, 'variance': variance_list}).sort_values(by=[\"variance\"])\n",
    "    return(partition_list)\n",
    "\n",
    "# Aspuru-Guzik example\n",
    "test_term_set = [\"-XX\", \"-YY\", \"ZZ\", \"IZ\", \"ZI\"]\n",
    "state = np.array([[0.43 - 0.16j], [-0.49], [0.43j], [-0.39 + 0.46j]])\n",
    "\n",
    "calculate_variance_all_partitions(test_term_set, state)\n"
   ]
  },
  {
   "cell_type": "code",
   "execution_count": null,
   "metadata": {},
   "outputs": [],
   "source": []
  }
 ],
 "metadata": {
  "kernelspec": {
   "display_name": "Python 3",
   "language": "python",
   "name": "python3"
  },
  "language_info": {
   "codemirror_mode": {
    "name": "ipython",
    "version": 3
   },
   "file_extension": ".py",
   "mimetype": "text/x-python",
   "name": "python",
   "nbconvert_exporter": "python",
   "pygments_lexer": "ipython3",
   "version": "3.7.3"
  }
 },
 "nbformat": 4,
 "nbformat_minor": 2
}
