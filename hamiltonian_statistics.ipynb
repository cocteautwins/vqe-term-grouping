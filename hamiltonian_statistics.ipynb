{
 "cells": [
  {
   "cell_type": "code",
   "execution_count": 1,
   "metadata": {},
   "outputs": [],
   "source": [
    "import numpy as np\n",
    "import pandas as pd"
   ]
  },
  {
   "cell_type": "markdown",
   "metadata": {},
   "source": [
    "---\n",
    "### Setting up basic matrices:\n",
    "The Pauli matrices are the four 2x2 matrices, I, X, Y, Z.\n",
    "For this example, we have a 4x4 Hamiltonian that is decomposed into IZ, ZI, XX, YY, and ZZ terms (this notation is not matrix multiplication--it is a Kronecker product, which takes two 2x2 matrices and gives a 4x4 matrix)."
   ]
  },
  {
   "cell_type": "code",
   "execution_count": 2,
   "metadata": {},
   "outputs": [],
   "source": [
    "I = np.eye(2)\n",
    "X = np.array([[0., 1.],\n",
    "              [1., 0.]])\n",
    "Y = np.array([[0., -1j],\n",
    "              [1j, 0.]])\n",
    "Z = np.array([[1., 0.],\n",
    "              [0., -1.]])"
   ]
  },
  {
   "cell_type": "code",
   "execution_count": 3,
   "metadata": {},
   "outputs": [
    {
     "name": "stdout",
     "output_type": "stream",
     "text": [
      "[[ 1.  0.  0.  0.]\n",
      " [ 0. -1.  0. -0.]\n",
      " [ 0.  0.  1.  0.]\n",
      " [ 0. -0.  0. -1.]]\n"
     ]
    }
   ],
   "source": [
    "IZ = np.kron(I, Z)\n",
    "print(IZ)"
   ]
  },
  {
   "cell_type": "code",
   "execution_count": 4,
   "metadata": {},
   "outputs": [
    {
     "name": "stdout",
     "output_type": "stream",
     "text": [
      "[[ 1.  0.  0.  0.]\n",
      " [ 0.  1.  0.  0.]\n",
      " [ 0.  0. -1. -0.]\n",
      " [ 0.  0. -0. -1.]]\n"
     ]
    }
   ],
   "source": [
    "ZI = np.kron(Z, I)\n",
    "print(ZI)"
   ]
  },
  {
   "cell_type": "code",
   "execution_count": 5,
   "metadata": {},
   "outputs": [
    {
     "name": "stdout",
     "output_type": "stream",
     "text": [
      "[[0. 0. 0. 1.]\n",
      " [0. 0. 1. 0.]\n",
      " [0. 1. 0. 0.]\n",
      " [1. 0. 0. 0.]]\n"
     ]
    }
   ],
   "source": [
    "XX = np.kron(X, X)\n",
    "print(XX)"
   ]
  },
  {
   "cell_type": "code",
   "execution_count": 6,
   "metadata": {},
   "outputs": [
    {
     "name": "stdout",
     "output_type": "stream",
     "text": [
      "[[ 0.+0.j  0.-0.j  0.-0.j -1.+0.j]\n",
      " [ 0.+0.j  0.+0.j  1.-0.j  0.-0.j]\n",
      " [ 0.+0.j  1.-0.j  0.+0.j  0.-0.j]\n",
      " [-1.+0.j  0.+0.j  0.+0.j  0.+0.j]]\n"
     ]
    }
   ],
   "source": [
    "YY = np.kron(Y, Y)\n",
    "print(YY)"
   ]
  },
  {
   "cell_type": "code",
   "execution_count": 7,
   "metadata": {},
   "outputs": [
    {
     "name": "stdout",
     "output_type": "stream",
     "text": [
      "[[ 1.  0.  0.  0.]\n",
      " [ 0. -1.  0. -0.]\n",
      " [ 0.  0. -1. -0.]\n",
      " [ 0. -0. -0.  1.]]\n"
     ]
    }
   ],
   "source": [
    "ZZ = np.kron(Z, Z)\n",
    "print(ZZ)"
   ]
  },
  {
   "cell_type": "markdown",
   "metadata": {},
   "source": [
    "----\n",
    "### Hamiltonian\n",
    "We consider the Hamiltonian:\n",
    "$H = IZ + ZI - XX - YY + ZZ$"
   ]
  },
  {
   "cell_type": "code",
   "execution_count": 8,
   "metadata": {},
   "outputs": [
    {
     "name": "stdout",
     "output_type": "stream",
     "text": [
      "[[ 3.+0.j  0.+0.j  0.+0.j  0.+0.j]\n",
      " [ 0.+0.j -1.+0.j -2.+0.j  0.+0.j]\n",
      " [ 0.+0.j -2.+0.j -1.+0.j  0.+0.j]\n",
      " [ 0.+0.j  0.+0.j  0.+0.j -1.+0.j]]\n"
     ]
    }
   ],
   "source": [
    "H = IZ + ZI - XX - YY + ZZ\n",
    "print(H)"
   ]
  },
  {
   "cell_type": "markdown",
   "metadata": {},
   "source": [
    "---\n",
    "### Measuring an observable\n",
    "An observable is a matrix that we can measure against a state $\\vec{\\psi}$. The Hamiltonian is an observable. So are the Pauli terms that it is written as a sum of.\n",
    "\n",
    "To measure some observable matrix $M$ with respect to a state $\\vec{\\psi}$, we just compute $\\vec{\\psi}^{\\dagger} M \\vec{\\psi}$. The $\\dagger$ means conjugate transpose = transpose the matrix and then take complex conjugates. In this specific example, all the numbers are real, so it happens to be the same as an ordinary matrix transpose.\n",
    "\n",
    "Here is a helper method that does everything for us:"
   ]
  },
  {
   "cell_type": "code",
   "execution_count": 2,
   "metadata": {},
   "outputs": [],
   "source": [
    "def expected_value(M, state):\n",
    "    return np.asmatrix(state).getH() @ M @ state  # .getH() does conjugate tranpose"
   ]
  },
  {
   "cell_type": "markdown",
   "metadata": {},
   "source": [
    "---\n",
    "### Let's try for $\\vec{\\psi} = [0, 1, 0, 0]^T$"
   ]
  },
  {
   "cell_type": "code",
   "execution_count": 10,
   "metadata": {},
   "outputs": [],
   "source": [
    "state = np.array([[0.], [1.], [0.], [0.]])"
   ]
  },
  {
   "cell_type": "markdown",
   "metadata": {},
   "source": [
    "#### Method 1: measure $H$ directly\n",
    "A quantum computer can't actually measure $H$ directly, but let's just check what the answer should be."
   ]
  },
  {
   "cell_type": "code",
   "execution_count": 11,
   "metadata": {},
   "outputs": [
    {
     "name": "stdout",
     "output_type": "stream",
     "text": [
      "[[-1.+0.j]]\n"
     ]
    }
   ],
   "source": [
    "print(expected_value(H, state))"
   ]
  },
  {
   "cell_type": "markdown",
   "metadata": {},
   "source": [
    "#### Method 2: linearity of expectation\n",
    "A quantum computer can compute the Pauli observables though. So let's use linearity of expectation instead:"
   ]
  },
  {
   "cell_type": "code",
   "execution_count": 12,
   "metadata": {},
   "outputs": [
    {
     "name": "stdout",
     "output_type": "stream",
     "text": [
      "[[-1.]] [[1.]] [[0.]] [[0.+0.j]] [[-1.]]\n",
      "[[-1.+0.j]]\n"
     ]
    }
   ],
   "source": [
    "IZ_expectation = expected_value(IZ, state)\n",
    "ZI_expectation = expected_value(ZI, state)\n",
    "XX_expectation = expected_value(XX, state)\n",
    "YY_expectation = expected_value(YY, state)\n",
    "ZZ_expectation = expected_value(ZZ, state)\n",
    "print(IZ_expectation, ZI_expectation, XX_expectation, YY_expectation, ZZ_expectation)\n",
    "print(IZ_expectation + ZI_expectation - XX_expectation - YY_expectation + ZZ_expectation)"
   ]
  },
  {
   "cell_type": "markdown",
   "metadata": {},
   "source": [
    "Yup, we got -1 both ways!"
   ]
  },
  {
   "cell_type": "markdown",
   "metadata": {},
   "source": [
    "---\n",
    "### Variances / Covariances"
   ]
  },
  {
   "cell_type": "code",
   "execution_count": 3,
   "metadata": {},
   "outputs": [],
   "source": [
    "def variance(M, state):\n",
    "    # variances is <M^2> - <M>^2\n",
    "    return expected_value(M @ M, state) - expected_value(M, state) ** 2\n",
    "\n",
    "def covariance(M_1, M_2, state):\n",
    "    return expected_value(M_1 @ M_2, state) - expected_value(M_1, state) * expected_value(M_2, state)"
   ]
  },
  {
   "cell_type": "markdown",
   "metadata": {},
   "source": [
    "The cells below show that:\n",
    "- Var(H) = 4\n",
    "- Var(IZ) + Var(ZI) + Var(XX) + Var(YY) + Var(ZZ) = 2 -- not equal because we need to account for covariances\n",
    "- the summed covariances do indeed equal 4. Note that the XX and ZZ"
   ]
  },
  {
   "cell_type": "code",
   "execution_count": 14,
   "metadata": {},
   "outputs": [
    {
     "data": {
      "text/plain": [
       "matrix([[4.+0.j]])"
      ]
     },
     "execution_count": 14,
     "metadata": {},
     "output_type": "execute_result"
    }
   ],
   "source": [
    "variance(H, state)"
   ]
  },
  {
   "cell_type": "code",
   "execution_count": 15,
   "metadata": {},
   "outputs": [
    {
     "data": {
      "text/plain": [
       "matrix([[0.]])"
      ]
     },
     "execution_count": 15,
     "metadata": {},
     "output_type": "execute_result"
    }
   ],
   "source": [
    "variance(IZ, state)"
   ]
  },
  {
   "cell_type": "code",
   "execution_count": 16,
   "metadata": {},
   "outputs": [
    {
     "data": {
      "text/plain": [
       "matrix([[0.]])"
      ]
     },
     "execution_count": 16,
     "metadata": {},
     "output_type": "execute_result"
    }
   ],
   "source": [
    "variance(ZI, state)"
   ]
  },
  {
   "cell_type": "code",
   "execution_count": 17,
   "metadata": {},
   "outputs": [
    {
     "data": {
      "text/plain": [
       "matrix([[1.]])"
      ]
     },
     "execution_count": 17,
     "metadata": {},
     "output_type": "execute_result"
    }
   ],
   "source": [
    "variance(XX, state)"
   ]
  },
  {
   "cell_type": "code",
   "execution_count": 18,
   "metadata": {},
   "outputs": [
    {
     "data": {
      "text/plain": [
       "matrix([[1.+0.j]])"
      ]
     },
     "execution_count": 18,
     "metadata": {},
     "output_type": "execute_result"
    }
   ],
   "source": [
    "variance(YY, state)"
   ]
  },
  {
   "cell_type": "code",
   "execution_count": 19,
   "metadata": {},
   "outputs": [
    {
     "data": {
      "text/plain": [
       "matrix([[0.]])"
      ]
     },
     "execution_count": 19,
     "metadata": {},
     "output_type": "execute_result"
    }
   ],
   "source": [
    "variance(ZZ, state)"
   ]
  },
  {
   "cell_type": "code",
   "execution_count": 20,
   "metadata": {},
   "outputs": [
    {
     "name": "stdout",
     "output_type": "stream",
     "text": [
      "[[1.]] 2 2\n",
      "[[1.+0.j]] 2 3\n",
      "[[1.+0.j]] 3 2\n",
      "[[1.+0.j]] 3 3\n",
      "Variance from summed covariances is [[4.+0.j]]\n"
     ]
    }
   ],
   "source": [
    "terms, coefficients = [IZ, ZI, XX, YY, ZZ], [1., 1., -1., -1., 1.]\n",
    "total = np.array([[0.+0.j]])\n",
    "for i in range(5):\n",
    "    for j in range(5):\n",
    "        cov = covariance(terms[i], terms[j], state)\n",
    "        if cov != 0:\n",
    "            print(cov, i, j)\n",
    "            total += (coefficients[i] * coefficients[j] * covariance(terms[i], terms[j], state))\n",
    "print('Variance from summed covariances is %s' % total)"
   ]
  },
  {
   "cell_type": "markdown",
   "metadata": {},
   "source": [
    "----\n",
    "### Different State, $\\vec{\\psi} = [0.43 - 0.16i, -0.49, 0.44i, -0.39 + 0.46i]$"
   ]
  },
  {
   "cell_type": "code",
   "execution_count": 21,
   "metadata": {},
   "outputs": [],
   "source": [
    "state = np.array([[0.43 - 0.16j], [-0.49], [0.43j], [-0.39 + 0.46j]])"
   ]
  },
  {
   "cell_type": "code",
   "execution_count": 22,
   "metadata": {},
   "outputs": [
    {
     "data": {
      "text/plain": [
       "matrix([[4.35848816-2.22044605e-16j]])"
      ]
     },
     "execution_count": 22,
     "metadata": {},
     "output_type": "execute_result"
    }
   ],
   "source": [
    "variance(H, state)"
   ]
  },
  {
   "cell_type": "code",
   "execution_count": 23,
   "metadata": {},
   "outputs": [
    {
     "data": {
      "text/plain": [
       "(matrix([[0.95576944+0.j]]),\n",
       " matrix([[0.989596+0.j]]),\n",
       " matrix([[0.76629724+6.6974204e-18j]]),\n",
       " matrix([[0.76629724+0.j]]),\n",
       " matrix([[0.97693936+0.j]]))"
      ]
     },
     "execution_count": 23,
     "metadata": {},
     "output_type": "execute_result"
    }
   ],
   "source": [
    "variance(IZ, state), variance(ZI, state), variance(-XX, state), variance(-YY, state), variance(ZZ, state)"
   ]
  },
  {
   "cell_type": "code",
   "execution_count": 24,
   "metadata": {},
   "outputs": [
    {
     "name": "stdout",
     "output_type": "stream",
     "text": [
      "[[0.1287768+0.j]]\n",
      "[[-0.06690672+0.j]]\n",
      "[[-0.1937784+0.j]]\n",
      "[[0.08370276-3.3487102e-18j]]\n",
      "[[0.41059608+1.03528297e-18j]]\n",
      "[[-0.41059608+6.9388939e-18j]]\n"
     ]
    }
   ],
   "source": [
    "print(covariance(IZ, ZI, state))\n",
    "print(covariance(IZ, ZZ, state))\n",
    "print(covariance(ZI, ZZ, state))\n",
    "print(covariance(-XX, -YY, state))\n",
    "print(covariance(-XX, ZZ, state))\n",
    "print(covariance(-YY, ZZ, state))"
   ]
  },
  {
   "cell_type": "code",
   "execution_count": 25,
   "metadata": {},
   "outputs": [
    {
     "data": {
      "text/plain": [
       "22.2744964"
      ]
     },
     "execution_count": 25,
     "metadata": {},
     "output_type": "execute_result"
    }
   ],
   "source": [
    "# Setting 1 (measure all terms separately) would require a number of state preparations equal to:\n",
    "5 * (0.95576944 + 0.989596 + 0.76629724 + 0.76629724 + 0.97693936)"
   ]
  },
  {
   "cell_type": "code",
   "execution_count": 26,
   "metadata": {},
   "outputs": [
    {
     "data": {
      "text/plain": [
       "14.6395752"
      ]
     },
     "execution_count": 26,
     "metadata": {},
     "output_type": "execute_result"
    }
   ],
   "source": [
    "# Setting 2 (measure {XX}, {YY, ZZ}, {IZ, ZI}) would require a number of state preparations equal to:\n",
    "3 * (0.95576944 + 0.989596 + 0.76629724 + 0.76629724 + 0.97693936 + 2*0.08370276 + 2*0.1287768)"
   ]
  },
  {
   "cell_type": "code",
   "execution_count": 27,
   "metadata": {},
   "outputs": [
    {
     "data": {
      "text/plain": [
       "9.7597168"
      ]
     },
     "execution_count": 27,
     "metadata": {},
     "output_type": "execute_result"
    }
   ],
   "source": [
    "# Setting 3 (measure {XX, YY, ZZ}, {IZ, ZI}) would require a number of state preparations equal to:\n",
    "2 * (0.95576944 + 0.989596 + 0.76629724 + 0.76629724 + 0.97693936 + 2*0.08370276 + 2*0.41059608 + 2*-0.41059608 + 2*0.1287768)"
   ]
  },
  {
   "cell_type": "markdown",
   "metadata": {},
   "source": [
    "### Programatically finding optimal groupings"
   ]
  },
  {
   "cell_type": "code",
   "execution_count": 4,
   "metadata": {},
   "outputs": [
    {
     "data": {
      "text/latex": [
       "Quantum object: dims = [[2, 2], [2, 2]], shape = (4, 4), type = oper, isherm = True\\begin{equation*}\\left(\\begin{array}{*{11}c}0.0 & 0.0 & 0.0 & -1.0\\\\0.0 & 0.0 & -1.0 & 0.0\\\\0.0 & -1.0 & 0.0 & 0.0\\\\-1.0 & 0.0 & 0.0 & 0.0\\\\\\end{array}\\right)\\end{equation*}"
      ],
      "text/plain": [
       "Quantum object: dims = [[2, 2], [2, 2]], shape = (4, 4), type = oper, isherm = True\n",
       "Qobj data =\n",
       "[[ 0.  0.  0. -1.]\n",
       " [ 0.  0. -1.  0.]\n",
       " [ 0. -1.  0.  0.]\n",
       " [-1.  0.  0.  0.]]"
      ]
     },
     "execution_count": 4,
     "metadata": {},
     "output_type": "execute_result"
    }
   ],
   "source": [
    "# Functions for parsing from strings to matrices\n",
    "import qutip\n",
    "\n",
    "def _to_matrix(pauli_char):\n",
    "    if pauli_char == 'X':\n",
    "        return qutip.sigmax()\n",
    "    elif pauli_char == 'Y':\n",
    "        return qutip.sigmay()\n",
    "    elif pauli_char == 'Z':\n",
    "        return qutip.sigmaz()\n",
    "    return qutip.identity(2)\n",
    "    \n",
    "def pauli_string_to_matrix(pauli_string, sign=1):\n",
    "    if pauli_string[0] == '-':\n",
    "        sign = -1\n",
    "        pauli_string = pauli_string[1:]\n",
    "    matrices = []\n",
    "    for char in pauli_string:\n",
    "        matrices.append(_to_matrix(char))\n",
    "    return sign*qutip.tensor(matrices)\n",
    "\n",
    "pauli_string_to_matrix('-XX')"
   ]
  },
  {
   "cell_type": "code",
   "execution_count": 5,
   "metadata": {},
   "outputs": [],
   "source": [
    "def variance_grouping(grouping, state):\n",
    "    \"\"\"\n",
    "    Computes the variance of a grouping, via the formula\n",
    "             Var(A+B) = Var(A) + Var(B) + 2*Cov(A,B)\n",
    "    Inputs:\n",
    "       Grouping (as a list, e.g. [-XX, -YY, ZZ])\n",
    "       State (as a np.array, e.g. np.array([[0.], [1.], [0.], [0.]]))\n",
    "    \"\"\"\n",
    "    running_variance = sum([variance(term, state) for term in grouping])\n",
    "    grouping_size = len(grouping)\n",
    "    for i in range(grouping_size):\n",
    "        for j in range(i):\n",
    "            running_variance += 2*covariance(grouping[i], grouping[j], state)\n",
    "    return(np.asscalar(running_variance))"
   ]
  },
  {
   "cell_type": "code",
   "execution_count": 6,
   "metadata": {},
   "outputs": [],
   "source": [
    "# Credit to: https://stackoverflow.com/questions/19368375/set-partitions-in-python\n",
    "def partition(collection):\n",
    "    if len(collection) == 1:\n",
    "        yield [ collection ]\n",
    "        return\n",
    "\n",
    "    first = collection[0]\n",
    "    for smaller in partition(collection[1:]):\n",
    "        # insert `first` in each of the subpartition's subsets\n",
    "        for n, subset in enumerate(smaller):\n",
    "            yield smaller[:n] + [[ first ] + subset]  + smaller[n+1:]\n",
    "        # put `first` in its own subset \n",
    "        yield [ [ first ] ] + smaller\n"
   ]
  },
  {
   "cell_type": "code",
   "execution_count": 7,
   "metadata": {},
   "outputs": [],
   "source": [
    "def grouping_is_pairwise_commuting(grouping_to_test):\n",
    "    \"\"\"\n",
    "    Computes whether all pairs within a grouping commute (in a general sense).\n",
    "    Inputs:\n",
    "        grouping_to_test: a single list of *strings*, e.g. [\"-XX\", \"-YY\", \"ZZ\", \"IZ\", \"ZI\"]\n",
    "    Returns:\n",
    "        True if all pairs commute; False if not all pairs commute\n",
    "    \"\"\"\n",
    "    evaled_grouping_to_test = [pauli_string_to_matrix(term).full() for term in grouping_to_test]\n",
    "    running_sum = 0\n",
    "    for i in range(len(evaled_grouping_to_test)):\n",
    "        for j in range(i+1, len(evaled_grouping_to_test)):\n",
    "            # RHS evaluates to 1 if non-commuting, 0 if commuting\n",
    "            running_sum += not np.array_equal(evaled_grouping_to_test[i] @ evaled_grouping_to_test[j],\n",
    "                               evaled_grouping_to_test[j] @ evaled_grouping_to_test[i])\n",
    "    # sum will be 0 iff all pairs commute\n",
    "    return(running_sum == 0)\n",
    "\n",
    "def is_valid_partition(partition):\n",
    "    \"\"\"\n",
    "    Computes whether all groupings within a partition are pairwise commuting.\n",
    "    Inputs:\n",
    "        partition: a list of lists of strings, e.g. [['-XX', '-YY'], ['ZZ', 'IZ', 'ZI']]\n",
    "    Outputs:\n",
    "        1 if all groupings within the partition are pairwise commuting. Else 0.\n",
    "    \"\"\"\n",
    "    return(sum([grouping_is_pairwise_commuting(grouping) for grouping in partition]) == len(partition))"
   ]
  },
  {
   "cell_type": "code",
   "execution_count": 8,
   "metadata": {},
   "outputs": [
    {
     "data": {
      "text/html": [
       "<div>\n",
       "<style scoped>\n",
       "    .dataframe tbody tr th:only-of-type {\n",
       "        vertical-align: middle;\n",
       "    }\n",
       "\n",
       "    .dataframe tbody tr th {\n",
       "        vertical-align: top;\n",
       "    }\n",
       "\n",
       "    .dataframe thead th {\n",
       "        text-align: right;\n",
       "    }\n",
       "</style>\n",
       "<table border=\"1\" class=\"dataframe\">\n",
       "  <thead>\n",
       "    <tr style=\"text-align: right;\">\n",
       "      <th></th>\n",
       "      <th>partition</th>\n",
       "      <th>expected_state_preps</th>\n",
       "    </tr>\n",
       "  </thead>\n",
       "  <tbody>\n",
       "    <tr>\n",
       "      <th>7</th>\n",
       "      <td>[[-XX], [-YY, ZZ], [IZ, ZI]]</td>\n",
       "      <td>(6+0j)</td>\n",
       "    </tr>\n",
       "    <tr>\n",
       "      <th>12</th>\n",
       "      <td>[[-YY], [-XX, ZZ], [IZ, ZI]]</td>\n",
       "      <td>(6+0j)</td>\n",
       "    </tr>\n",
       "    <tr>\n",
       "      <th>4</th>\n",
       "      <td>[[-XX], [-YY], [ZZ, IZ, ZI]]</td>\n",
       "      <td>(6+0j)</td>\n",
       "    </tr>\n",
       "    <tr>\n",
       "      <th>48</th>\n",
       "      <td>[[-YY], [-XX, ZZ], [IZ], [ZI]]</td>\n",
       "      <td>(8+0j)</td>\n",
       "    </tr>\n",
       "    <tr>\n",
       "      <th>38</th>\n",
       "      <td>[[-XX], [-YY, ZZ], [IZ], [ZI]]</td>\n",
       "      <td>(8+0j)</td>\n",
       "    </tr>\n",
       "    <tr>\n",
       "      <th>34</th>\n",
       "      <td>[[-XX], [-YY], [IZ], [ZZ, ZI]]</td>\n",
       "      <td>(8+0j)</td>\n",
       "    </tr>\n",
       "    <tr>\n",
       "      <th>14</th>\n",
       "      <td>[[-XX], [-YY], [ZZ], [IZ, ZI]]</td>\n",
       "      <td>(8+0j)</td>\n",
       "    </tr>\n",
       "    <tr>\n",
       "      <th>24</th>\n",
       "      <td>[[-XX], [-YY], [ZZ, IZ], [ZI]]</td>\n",
       "      <td>(8+0j)</td>\n",
       "    </tr>\n",
       "    <tr>\n",
       "      <th>2</th>\n",
       "      <td>[[-XX, -YY], [ZZ, IZ, ZI]]</td>\n",
       "      <td>(8+0j)</td>\n",
       "    </tr>\n",
       "    <tr>\n",
       "      <th>5</th>\n",
       "      <td>[[-XX, -YY, ZZ], [IZ, ZI]]</td>\n",
       "      <td>(8+0j)</td>\n",
       "    </tr>\n",
       "    <tr>\n",
       "      <th>51</th>\n",
       "      <td>[[-XX], [-YY], [ZZ], [IZ], [ZI]]</td>\n",
       "      <td>(10+0j)</td>\n",
       "    </tr>\n",
       "    <tr>\n",
       "      <th>31</th>\n",
       "      <td>[[-XX, -YY], [IZ], [ZZ, ZI]]</td>\n",
       "      <td>(12+0j)</td>\n",
       "    </tr>\n",
       "    <tr>\n",
       "      <th>21</th>\n",
       "      <td>[[-XX, -YY], [ZZ, IZ], [ZI]]</td>\n",
       "      <td>(12+0j)</td>\n",
       "    </tr>\n",
       "    <tr>\n",
       "      <th>11</th>\n",
       "      <td>[[-XX, -YY], [ZZ], [IZ, ZI]]</td>\n",
       "      <td>(12+0j)</td>\n",
       "    </tr>\n",
       "    <tr>\n",
       "      <th>35</th>\n",
       "      <td>[[-XX, -YY, ZZ], [IZ], [ZI]]</td>\n",
       "      <td>(12+0j)</td>\n",
       "    </tr>\n",
       "    <tr>\n",
       "      <th>47</th>\n",
       "      <td>[[-XX, -YY], [ZZ], [IZ], [ZI]]</td>\n",
       "      <td>(16+0j)</td>\n",
       "    </tr>\n",
       "  </tbody>\n",
       "</table>\n",
       "</div>"
      ],
      "text/plain": [
       "                           partition  expected_state_preps\n",
       "7       [[-XX], [-YY, ZZ], [IZ, ZI]]                (6+0j)\n",
       "12      [[-YY], [-XX, ZZ], [IZ, ZI]]                (6+0j)\n",
       "4       [[-XX], [-YY], [ZZ, IZ, ZI]]                (6+0j)\n",
       "48    [[-YY], [-XX, ZZ], [IZ], [ZI]]                (8+0j)\n",
       "38    [[-XX], [-YY, ZZ], [IZ], [ZI]]                (8+0j)\n",
       "34    [[-XX], [-YY], [IZ], [ZZ, ZI]]                (8+0j)\n",
       "14    [[-XX], [-YY], [ZZ], [IZ, ZI]]                (8+0j)\n",
       "24    [[-XX], [-YY], [ZZ, IZ], [ZI]]                (8+0j)\n",
       "2         [[-XX, -YY], [ZZ, IZ, ZI]]                (8+0j)\n",
       "5         [[-XX, -YY, ZZ], [IZ, ZI]]                (8+0j)\n",
       "51  [[-XX], [-YY], [ZZ], [IZ], [ZI]]               (10+0j)\n",
       "31      [[-XX, -YY], [IZ], [ZZ, ZI]]               (12+0j)\n",
       "21      [[-XX, -YY], [ZZ, IZ], [ZI]]               (12+0j)\n",
       "11      [[-XX, -YY], [ZZ], [IZ, ZI]]               (12+0j)\n",
       "35      [[-XX, -YY, ZZ], [IZ], [ZI]]               (12+0j)\n",
       "47    [[-XX, -YY], [ZZ], [IZ], [ZI]]               (16+0j)"
      ]
     },
     "execution_count": 8,
     "metadata": {},
     "output_type": "execute_result"
    }
   ],
   "source": [
    "def calculate_expected_state_preps_valid_partitions(term_set, state):\n",
    "    \"\"\"\n",
    "    Computes the expected number of state preparations given every valid partition of a set of terms.\n",
    "    A valid partition is one in which all groupings are pairwise commuting.\n",
    "    Inputs:\n",
    "        term_set: list of *strings*, e.g. [\"-XX\", \"-YY\", \"ZZ\", \"IZ\", \"ZI\"]\n",
    "        state: as a np.array, e.g. np.array([[0.], [1.], [0.], [0.]]))\n",
    "    \"\"\"\n",
    "    evaled_term_set = [pauli_string_to_matrix(term).full() for term in term_set]\n",
    "    partition_list = []\n",
    "    expected_state_prep_list = []\n",
    "    for pp in partition(list(range(len(term_set)))):\n",
    "        partition_list.append([list(np.array(term_set)[grouping]) for grouping in pp])\n",
    "        expected_state_prep_list.append(sum([variance_grouping(np.array(evaled_term_set)[indices], state)*len(pp) for indices in pp]))\n",
    "    partition_df = pd.DataFrame({'partition': partition_list, 'expected_state_preps': expected_state_prep_list}).sort_values(by=[\"expected_state_preps\"])\n",
    "    # Eliminate invalid partitions that contain groupings that are non-pairwise-computing.\n",
    "    return(partition_df[partition_df['partition'].apply(lambda partition: is_valid_partition(partition))])\n",
    "\n",
    "# Aspuru-Guzik example\n",
    "test_term_set = [\"-XX\", \"-YY\", \"ZZ\", \"IZ\", \"ZI\"]\n",
    "state = np.array([[0], [1], [0], [0]])\n",
    "\n",
    "partition_list = calculate_expected_state_preps_valid_partitions(test_term_set, state)\n",
    "partition_list\n"
   ]
  },
  {
   "cell_type": "code",
   "execution_count": 9,
   "metadata": {},
   "outputs": [],
   "source": [
    "# Helper function: print all pairwise covariances across commuting terms\n",
    "def pairwise_covariances_commuting_terms(term_set, state):\n",
    "    covariance_list = []\n",
    "    evaled_term_set = [pauli_string_to_matrix(term).full() for term in term_set]\n",
    "    for i in range(len(evaled_term_set)):\n",
    "        for j in range(i+1, len(evaled_term_set)):\n",
    "            # evaluates to 1 if commuting, 0 if non-commuting\n",
    "            if np.array_equal(evaled_term_set[i] @ evaled_term_set[j],\n",
    "                               evaled_term_set[j] @ evaled_term_set[i]):\n",
    "                covariance_list.append([term_set[i], term_set[j], covariance(evaled_term_set[i], evaled_term_set[j], state).item()])\n",
    "    return(pd.DataFrame(covariance_list, columns=[\"term 1\", \"term 2\", \"covariance\"]))"
   ]
  },
  {
   "cell_type": "code",
   "execution_count": 16,
   "metadata": {},
   "outputs": [
    {
     "data": {
      "text/html": [
       "<div>\n",
       "<style scoped>\n",
       "    .dataframe tbody tr th:only-of-type {\n",
       "        vertical-align: middle;\n",
       "    }\n",
       "\n",
       "    .dataframe tbody tr th {\n",
       "        vertical-align: top;\n",
       "    }\n",
       "\n",
       "    .dataframe thead th {\n",
       "        text-align: right;\n",
       "    }\n",
       "</style>\n",
       "<table border=\"1\" class=\"dataframe\">\n",
       "  <thead>\n",
       "    <tr style=\"text-align: right;\">\n",
       "      <th></th>\n",
       "      <th>term 1</th>\n",
       "      <th>term 2</th>\n",
       "      <th>covariance</th>\n",
       "    </tr>\n",
       "  </thead>\n",
       "  <tbody>\n",
       "    <tr>\n",
       "      <th>0</th>\n",
       "      <td>-XX</td>\n",
       "      <td>-YY</td>\n",
       "      <td>(1+0j)</td>\n",
       "    </tr>\n",
       "    <tr>\n",
       "      <th>1</th>\n",
       "      <td>-XX</td>\n",
       "      <td>ZZ</td>\n",
       "      <td>0j</td>\n",
       "    </tr>\n",
       "    <tr>\n",
       "      <th>2</th>\n",
       "      <td>-YY</td>\n",
       "      <td>ZZ</td>\n",
       "      <td>0j</td>\n",
       "    </tr>\n",
       "    <tr>\n",
       "      <th>3</th>\n",
       "      <td>ZZ</td>\n",
       "      <td>IZ</td>\n",
       "      <td>0j</td>\n",
       "    </tr>\n",
       "    <tr>\n",
       "      <th>4</th>\n",
       "      <td>ZZ</td>\n",
       "      <td>ZI</td>\n",
       "      <td>0j</td>\n",
       "    </tr>\n",
       "    <tr>\n",
       "      <th>5</th>\n",
       "      <td>IZ</td>\n",
       "      <td>ZI</td>\n",
       "      <td>0j</td>\n",
       "    </tr>\n",
       "  </tbody>\n",
       "</table>\n",
       "</div>"
      ],
      "text/plain": [
       "  term 1 term 2  covariance\n",
       "0    -XX    -YY      (1+0j)\n",
       "1    -XX     ZZ          0j\n",
       "2    -YY     ZZ          0j\n",
       "3     ZZ     IZ          0j\n",
       "4     ZZ     ZI          0j\n",
       "5     IZ     ZI          0j"
      ]
     },
     "execution_count": 16,
     "metadata": {},
     "output_type": "execute_result"
    }
   ],
   "source": [
    "pairwise_covariances_commuting_terms(test_term_set, state)"
   ]
  },
  {
   "cell_type": "code",
   "execution_count": 10,
   "metadata": {},
   "outputs": [],
   "source": [
    "def expected_state_preps_for_list_of_states(test_term_set, state_list):\n",
    "    \"\"\"\n",
    "    Given a *list* of possible states, calculates the number of\n",
    "    expected state preparations for every state in that list,\n",
    "    for every valid partition.\n",
    "    Input:\n",
    "        test_term_set, as a list of strings: e.g. ['-XX', '-YY', 'ZZ', 'IZ', 'ZI']\n",
    "        state_list, as a list of np arrays, e.g. [qutip.basis(4,i).full() for i in range(4)]\n",
    "    Output:\n",
    "        Pandas dataframe with:\n",
    "            - partition\n",
    "            - expected state preps over every state\n",
    "            - mean number of state preps, given a uniform probability of any of the states\n",
    "            - variance of state preps, given a uniform probability of any of the states\n",
    "    \"\"\"\n",
    "    n_states = len(state_list)\n",
    "    base_df = calculate_expected_state_preps_valid_partitions(test_term_set, state_list[0])\n",
    "    for state in state_list[1:]:\n",
    "        # Merge the next calculation in the list, based on index\n",
    "        base_df = pd.merge(base_df,\n",
    "                 calculate_expected_state_preps_valid_partitions(test_term_set, state).iloc[:,1],\n",
    "                 left_index = True, right_index = True)\n",
    "    # rename columns to state0, state1, etc.\n",
    "    base_df.columns.values[1:] = [\"{}{}\".format(a_,b_) for a_, b_ in zip(['state']*n_states, [str(i) for i in range(n_states)])]\n",
    "    base_df['row_mean'] = base_df.iloc[:,1:].mean(axis=1)\n",
    "    base_df['row_var'] = base_df.iloc[:,1:].var(axis=1)\n",
    "    base_df = base_df.sort_values(by=[\"row_mean\"])\n",
    "    # round the real and imaginary parts to two decimal places\n",
    "    base_df.iloc[:,1:] = base_df.iloc[:,1:].apply(lambda x: np.around(x, decimals=2), axis=0)\n",
    "    return(base_df)"
   ]
  },
  {
   "cell_type": "code",
   "execution_count": 17,
   "metadata": {},
   "outputs": [
    {
     "name": "stderr",
     "output_type": "stream",
     "text": [
      "/usr/local/lib/python3.7/site-packages/numpy/core/_methods.py:36: ComplexWarning: Casting complex values to real discards the imaginary part\n",
      "  return umr_sum(a, axis, dtype, out, keepdims, initial)\n"
     ]
    },
    {
     "data": {
      "text/html": [
       "<div>\n",
       "<style scoped>\n",
       "    .dataframe tbody tr th:only-of-type {\n",
       "        vertical-align: middle;\n",
       "    }\n",
       "\n",
       "    .dataframe tbody tr th {\n",
       "        vertical-align: top;\n",
       "    }\n",
       "\n",
       "    .dataframe thead th {\n",
       "        text-align: right;\n",
       "    }\n",
       "</style>\n",
       "<table border=\"1\" class=\"dataframe\">\n",
       "  <thead>\n",
       "    <tr style=\"text-align: right;\">\n",
       "      <th></th>\n",
       "      <th>partition</th>\n",
       "      <th>state0</th>\n",
       "      <th>state1</th>\n",
       "      <th>state2</th>\n",
       "      <th>state3</th>\n",
       "      <th>row_mean</th>\n",
       "      <th>row_var</th>\n",
       "    </tr>\n",
       "  </thead>\n",
       "  <tbody>\n",
       "    <tr>\n",
       "      <th>5</th>\n",
       "      <td>[[-XX, -YY, ZZ], [IZ, ZI]]</td>\n",
       "      <td>0j</td>\n",
       "      <td>(8+0j)</td>\n",
       "      <td>(8+0j)</td>\n",
       "      <td>0j</td>\n",
       "      <td>(4+0j)</td>\n",
       "      <td>16.0</td>\n",
       "    </tr>\n",
       "    <tr>\n",
       "      <th>2</th>\n",
       "      <td>[[-XX, -YY], [ZZ, IZ, ZI]]</td>\n",
       "      <td>0j</td>\n",
       "      <td>(8+0j)</td>\n",
       "      <td>(8+0j)</td>\n",
       "      <td>0j</td>\n",
       "      <td>(4+0j)</td>\n",
       "      <td>16.0</td>\n",
       "    </tr>\n",
       "    <tr>\n",
       "      <th>35</th>\n",
       "      <td>[[-XX, -YY, ZZ], [IZ], [ZI]]</td>\n",
       "      <td>0j</td>\n",
       "      <td>(12+0j)</td>\n",
       "      <td>(12+0j)</td>\n",
       "      <td>0j</td>\n",
       "      <td>(6+0j)</td>\n",
       "      <td>36.0</td>\n",
       "    </tr>\n",
       "    <tr>\n",
       "      <th>31</th>\n",
       "      <td>[[-XX, -YY], [IZ], [ZZ, ZI]]</td>\n",
       "      <td>0j</td>\n",
       "      <td>(12+0j)</td>\n",
       "      <td>(12+0j)</td>\n",
       "      <td>0j</td>\n",
       "      <td>(6+0j)</td>\n",
       "      <td>36.0</td>\n",
       "    </tr>\n",
       "    <tr>\n",
       "      <th>21</th>\n",
       "      <td>[[-XX, -YY], [ZZ, IZ], [ZI]]</td>\n",
       "      <td>0j</td>\n",
       "      <td>(12+0j)</td>\n",
       "      <td>(12+0j)</td>\n",
       "      <td>0j</td>\n",
       "      <td>(6+0j)</td>\n",
       "      <td>36.0</td>\n",
       "    </tr>\n",
       "    <tr>\n",
       "      <th>11</th>\n",
       "      <td>[[-XX, -YY], [ZZ], [IZ, ZI]]</td>\n",
       "      <td>0j</td>\n",
       "      <td>(12+0j)</td>\n",
       "      <td>(12+0j)</td>\n",
       "      <td>0j</td>\n",
       "      <td>(6+0j)</td>\n",
       "      <td>36.0</td>\n",
       "    </tr>\n",
       "    <tr>\n",
       "      <th>4</th>\n",
       "      <td>[[-XX], [-YY], [ZZ, IZ, ZI]]</td>\n",
       "      <td>(6+0j)</td>\n",
       "      <td>(6+0j)</td>\n",
       "      <td>(6+0j)</td>\n",
       "      <td>(6+0j)</td>\n",
       "      <td>(6+0j)</td>\n",
       "      <td>0.0</td>\n",
       "    </tr>\n",
       "    <tr>\n",
       "      <th>12</th>\n",
       "      <td>[[-YY], [-XX, ZZ], [IZ, ZI]]</td>\n",
       "      <td>(6+0j)</td>\n",
       "      <td>(6+0j)</td>\n",
       "      <td>(6+0j)</td>\n",
       "      <td>(6+0j)</td>\n",
       "      <td>(6+0j)</td>\n",
       "      <td>0.0</td>\n",
       "    </tr>\n",
       "    <tr>\n",
       "      <th>7</th>\n",
       "      <td>[[-XX], [-YY, ZZ], [IZ, ZI]]</td>\n",
       "      <td>(6+0j)</td>\n",
       "      <td>(6+0j)</td>\n",
       "      <td>(6+0j)</td>\n",
       "      <td>(6+0j)</td>\n",
       "      <td>(6+0j)</td>\n",
       "      <td>0.0</td>\n",
       "    </tr>\n",
       "    <tr>\n",
       "      <th>47</th>\n",
       "      <td>[[-XX, -YY], [ZZ], [IZ], [ZI]]</td>\n",
       "      <td>0j</td>\n",
       "      <td>(16+0j)</td>\n",
       "      <td>(16+0j)</td>\n",
       "      <td>0j</td>\n",
       "      <td>(8+0j)</td>\n",
       "      <td>64.0</td>\n",
       "    </tr>\n",
       "    <tr>\n",
       "      <th>48</th>\n",
       "      <td>[[-YY], [-XX, ZZ], [IZ], [ZI]]</td>\n",
       "      <td>(8+0j)</td>\n",
       "      <td>(8+0j)</td>\n",
       "      <td>(8+0j)</td>\n",
       "      <td>(8+0j)</td>\n",
       "      <td>(8+0j)</td>\n",
       "      <td>0.0</td>\n",
       "    </tr>\n",
       "    <tr>\n",
       "      <th>38</th>\n",
       "      <td>[[-XX], [-YY, ZZ], [IZ], [ZI]]</td>\n",
       "      <td>(8+0j)</td>\n",
       "      <td>(8+0j)</td>\n",
       "      <td>(8+0j)</td>\n",
       "      <td>(8+0j)</td>\n",
       "      <td>(8+0j)</td>\n",
       "      <td>0.0</td>\n",
       "    </tr>\n",
       "    <tr>\n",
       "      <th>24</th>\n",
       "      <td>[[-XX], [-YY], [ZZ, IZ], [ZI]]</td>\n",
       "      <td>(8+0j)</td>\n",
       "      <td>(8+0j)</td>\n",
       "      <td>(8+0j)</td>\n",
       "      <td>(8+0j)</td>\n",
       "      <td>(8+0j)</td>\n",
       "      <td>0.0</td>\n",
       "    </tr>\n",
       "    <tr>\n",
       "      <th>34</th>\n",
       "      <td>[[-XX], [-YY], [IZ], [ZZ, ZI]]</td>\n",
       "      <td>(8+0j)</td>\n",
       "      <td>(8+0j)</td>\n",
       "      <td>(8+0j)</td>\n",
       "      <td>(8+0j)</td>\n",
       "      <td>(8+0j)</td>\n",
       "      <td>0.0</td>\n",
       "    </tr>\n",
       "    <tr>\n",
       "      <th>14</th>\n",
       "      <td>[[-XX], [-YY], [ZZ], [IZ, ZI]]</td>\n",
       "      <td>(8+0j)</td>\n",
       "      <td>(8+0j)</td>\n",
       "      <td>(8+0j)</td>\n",
       "      <td>(8+0j)</td>\n",
       "      <td>(8+0j)</td>\n",
       "      <td>0.0</td>\n",
       "    </tr>\n",
       "    <tr>\n",
       "      <th>51</th>\n",
       "      <td>[[-XX], [-YY], [ZZ], [IZ], [ZI]]</td>\n",
       "      <td>(10+0j)</td>\n",
       "      <td>(10+0j)</td>\n",
       "      <td>(10+0j)</td>\n",
       "      <td>(10+0j)</td>\n",
       "      <td>(10+0j)</td>\n",
       "      <td>0.0</td>\n",
       "    </tr>\n",
       "  </tbody>\n",
       "</table>\n",
       "</div>"
      ],
      "text/plain": [
       "                           partition   state0   state1   state2   state3  \\\n",
       "5         [[-XX, -YY, ZZ], [IZ, ZI]]       0j   (8+0j)   (8+0j)       0j   \n",
       "2         [[-XX, -YY], [ZZ, IZ, ZI]]       0j   (8+0j)   (8+0j)       0j   \n",
       "35      [[-XX, -YY, ZZ], [IZ], [ZI]]       0j  (12+0j)  (12+0j)       0j   \n",
       "31      [[-XX, -YY], [IZ], [ZZ, ZI]]       0j  (12+0j)  (12+0j)       0j   \n",
       "21      [[-XX, -YY], [ZZ, IZ], [ZI]]       0j  (12+0j)  (12+0j)       0j   \n",
       "11      [[-XX, -YY], [ZZ], [IZ, ZI]]       0j  (12+0j)  (12+0j)       0j   \n",
       "4       [[-XX], [-YY], [ZZ, IZ, ZI]]   (6+0j)   (6+0j)   (6+0j)   (6+0j)   \n",
       "12      [[-YY], [-XX, ZZ], [IZ, ZI]]   (6+0j)   (6+0j)   (6+0j)   (6+0j)   \n",
       "7       [[-XX], [-YY, ZZ], [IZ, ZI]]   (6+0j)   (6+0j)   (6+0j)   (6+0j)   \n",
       "47    [[-XX, -YY], [ZZ], [IZ], [ZI]]       0j  (16+0j)  (16+0j)       0j   \n",
       "48    [[-YY], [-XX, ZZ], [IZ], [ZI]]   (8+0j)   (8+0j)   (8+0j)   (8+0j)   \n",
       "38    [[-XX], [-YY, ZZ], [IZ], [ZI]]   (8+0j)   (8+0j)   (8+0j)   (8+0j)   \n",
       "24    [[-XX], [-YY], [ZZ, IZ], [ZI]]   (8+0j)   (8+0j)   (8+0j)   (8+0j)   \n",
       "34    [[-XX], [-YY], [IZ], [ZZ, ZI]]   (8+0j)   (8+0j)   (8+0j)   (8+0j)   \n",
       "14    [[-XX], [-YY], [ZZ], [IZ, ZI]]   (8+0j)   (8+0j)   (8+0j)   (8+0j)   \n",
       "51  [[-XX], [-YY], [ZZ], [IZ], [ZI]]  (10+0j)  (10+0j)  (10+0j)  (10+0j)   \n",
       "\n",
       "    row_mean  row_var  \n",
       "5     (4+0j)     16.0  \n",
       "2     (4+0j)     16.0  \n",
       "35    (6+0j)     36.0  \n",
       "31    (6+0j)     36.0  \n",
       "21    (6+0j)     36.0  \n",
       "11    (6+0j)     36.0  \n",
       "4     (6+0j)      0.0  \n",
       "12    (6+0j)      0.0  \n",
       "7     (6+0j)      0.0  \n",
       "47    (8+0j)     64.0  \n",
       "48    (8+0j)      0.0  \n",
       "38    (8+0j)      0.0  \n",
       "24    (8+0j)      0.0  \n",
       "34    (8+0j)      0.0  \n",
       "14    (8+0j)      0.0  \n",
       "51   (10+0j)      0.0  "
      ]
     },
     "execution_count": 17,
     "metadata": {},
     "output_type": "execute_result"
    }
   ],
   "source": [
    "# basis states\n",
    "basis_states_4 = [qutip.basis(4,i).full() for i in range(4)]\n",
    "basis_states_mean_state_preps = expected_state_preps_for_list_of_states(test_term_set, basis_states_4)\n",
    "basis_states_mean_state_preps"
   ]
  },
  {
   "cell_type": "code",
   "execution_count": 20,
   "metadata": {},
   "outputs": [
    {
     "name": "stderr",
     "output_type": "stream",
     "text": [
      "/usr/local/lib/python3.7/site-packages/numpy/core/_methods.py:36: ComplexWarning: Casting complex values to real discards the imaginary part\n",
      "  return umr_sum(a, axis, dtype, out, keepdims, initial)\n"
     ]
    },
    {
     "data": {
      "text/html": [
       "<div>\n",
       "<style scoped>\n",
       "    .dataframe tbody tr th:only-of-type {\n",
       "        vertical-align: middle;\n",
       "    }\n",
       "\n",
       "    .dataframe tbody tr th {\n",
       "        vertical-align: top;\n",
       "    }\n",
       "\n",
       "    .dataframe thead th {\n",
       "        text-align: right;\n",
       "    }\n",
       "</style>\n",
       "<table border=\"1\" class=\"dataframe\">\n",
       "  <thead>\n",
       "    <tr style=\"text-align: right;\">\n",
       "      <th></th>\n",
       "      <th>partition</th>\n",
       "      <th>state0</th>\n",
       "      <th>state1</th>\n",
       "      <th>state2</th>\n",
       "      <th>state3</th>\n",
       "      <th>row_mean</th>\n",
       "      <th>row_var</th>\n",
       "    </tr>\n",
       "  </thead>\n",
       "  <tbody>\n",
       "    <tr>\n",
       "      <th>2</th>\n",
       "      <td>[[-XX, -YY], [ZZ, IZ, ZI]]</td>\n",
       "      <td>(9.28+0j)</td>\n",
       "      <td>(10.04+0j)</td>\n",
       "      <td>(11.68+0j)</td>\n",
       "      <td>(7.36-0j)</td>\n",
       "      <td>(9.59+0j)</td>\n",
       "      <td>2.41</td>\n",
       "    </tr>\n",
       "    <tr>\n",
       "      <th>5</th>\n",
       "      <td>[[-XX, -YY, ZZ], [IZ, ZI]]</td>\n",
       "      <td>(12.31-0j)</td>\n",
       "      <td>(7.66+0j)</td>\n",
       "      <td>(10.17+0j)</td>\n",
       "      <td>(9.22-0j)</td>\n",
       "      <td>(9.84-0j)</td>\n",
       "      <td>2.83</td>\n",
       "    </tr>\n",
       "    <tr>\n",
       "      <th>7</th>\n",
       "      <td>[[-XX], [-YY, ZZ], [IZ, ZI]]</td>\n",
       "      <td>(16.65+0j)</td>\n",
       "      <td>(9.99+0j)</td>\n",
       "      <td>(12.51+0j)</td>\n",
       "      <td>(9.77-0j)</td>\n",
       "      <td>(12.23-0j)</td>\n",
       "      <td>7.67</td>\n",
       "    </tr>\n",
       "    <tr>\n",
       "      <th>11</th>\n",
       "      <td>[[-XX, -YY], [ZZ], [IZ, ZI]]</td>\n",
       "      <td>(12.66+0j)</td>\n",
       "      <td>(14.28+0j)</td>\n",
       "      <td>(13.87+0j)</td>\n",
       "      <td>(14.12-0j)</td>\n",
       "      <td>(13.73+0j)</td>\n",
       "      <td>0.40</td>\n",
       "    </tr>\n",
       "    <tr>\n",
       "      <th>4</th>\n",
       "      <td>[[-XX], [-YY], [ZZ, IZ, ZI]]</td>\n",
       "      <td>(15.79+0j)</td>\n",
       "      <td>(14.46+0j)</td>\n",
       "      <td>(16.69+0j)</td>\n",
       "      <td>(8.49-0j)</td>\n",
       "      <td>(13.86-0j)</td>\n",
       "      <td>10.24</td>\n",
       "    </tr>\n",
       "    <tr>\n",
       "      <th>31</th>\n",
       "      <td>[[-XX, -YY], [IZ], [ZZ, ZI]]</td>\n",
       "      <td>(12.7+0j)</td>\n",
       "      <td>(13.36+0j)</td>\n",
       "      <td>(14.15+0j)</td>\n",
       "      <td>(15.6-0j)</td>\n",
       "      <td>(13.95+0j)</td>\n",
       "      <td>1.17</td>\n",
       "    </tr>\n",
       "    <tr>\n",
       "      <th>21</th>\n",
       "      <td>[[-XX, -YY], [ZZ, IZ], [ZI]]</td>\n",
       "      <td>(12.07+0j)</td>\n",
       "      <td>(15.73+0j)</td>\n",
       "      <td>(17.98+0j)</td>\n",
       "      <td>(14.08-0j)</td>\n",
       "      <td>(14.97+0j)</td>\n",
       "      <td>4.72</td>\n",
       "    </tr>\n",
       "    <tr>\n",
       "      <th>35</th>\n",
       "      <td>[[-XX, -YY, ZZ], [IZ], [ZI]]</td>\n",
       "      <td>(17.56-0j)</td>\n",
       "      <td>(11.37+0j)</td>\n",
       "      <td>(15.62+0j)</td>\n",
       "      <td>(16.09-0j)</td>\n",
       "      <td>(15.16-0j)</td>\n",
       "      <td>5.30</td>\n",
       "    </tr>\n",
       "    <tr>\n",
       "      <th>12</th>\n",
       "      <td>[[-YY], [-XX, ZZ], [IZ, ZI]]</td>\n",
       "      <td>(18.22-0j)</td>\n",
       "      <td>(14.58+0j)</td>\n",
       "      <td>(14.96+0j)</td>\n",
       "      <td>(13.09+0j)</td>\n",
       "      <td>(15.21+0j)</td>\n",
       "      <td>3.51</td>\n",
       "    </tr>\n",
       "    <tr>\n",
       "      <th>38</th>\n",
       "      <td>[[-XX], [-YY, ZZ], [IZ], [ZI]]</td>\n",
       "      <td>(21+0j)</td>\n",
       "      <td>(13.15+0j)</td>\n",
       "      <td>(17.17+0j)</td>\n",
       "      <td>(16.05-0j)</td>\n",
       "      <td>(16.84-0j)</td>\n",
       "      <td>7.91</td>\n",
       "    </tr>\n",
       "    <tr>\n",
       "      <th>14</th>\n",
       "      <td>[[-XX], [-YY], [ZZ], [IZ, ZI]]</td>\n",
       "      <td>(19.38+0j)</td>\n",
       "      <td>(18.24+0j)</td>\n",
       "      <td>(17.4+0j)</td>\n",
       "      <td>(15.43-0j)</td>\n",
       "      <td>(17.61-0j)</td>\n",
       "      <td>2.08</td>\n",
       "    </tr>\n",
       "    <tr>\n",
       "      <th>34</th>\n",
       "      <td>[[-XX], [-YY], [IZ], [ZZ, ZI]]</td>\n",
       "      <td>(19.44+0j)</td>\n",
       "      <td>(17.01+0j)</td>\n",
       "      <td>(17.76+0j)</td>\n",
       "      <td>(17.41-0j)</td>\n",
       "      <td>(17.9-0j)</td>\n",
       "      <td>0.85</td>\n",
       "    </tr>\n",
       "    <tr>\n",
       "      <th>47</th>\n",
       "      <td>[[-XX, -YY], [ZZ], [IZ], [ZI]]</td>\n",
       "      <td>(15.68+0j)</td>\n",
       "      <td>(18.87+0j)</td>\n",
       "      <td>(18.99+0j)</td>\n",
       "      <td>(21.85-0j)</td>\n",
       "      <td>(18.85+0j)</td>\n",
       "      <td>4.77</td>\n",
       "    </tr>\n",
       "    <tr>\n",
       "      <th>24</th>\n",
       "      <td>[[-XX], [-YY], [ZZ, IZ], [ZI]]</td>\n",
       "      <td>(18.59+0j)</td>\n",
       "      <td>(20.17+0j)</td>\n",
       "      <td>(22.88+0j)</td>\n",
       "      <td>(15.38-0j)</td>\n",
       "      <td>(19.25-0j)</td>\n",
       "      <td>7.36</td>\n",
       "    </tr>\n",
       "    <tr>\n",
       "      <th>48</th>\n",
       "      <td>[[-YY], [-XX, ZZ], [IZ], [ZI]]</td>\n",
       "      <td>(23.09-0j)</td>\n",
       "      <td>(19.26+0j)</td>\n",
       "      <td>(20.45+0j)</td>\n",
       "      <td>(20.47+0j)</td>\n",
       "      <td>(20.82+0j)</td>\n",
       "      <td>1.96</td>\n",
       "    </tr>\n",
       "    <tr>\n",
       "      <th>51</th>\n",
       "      <td>[[-XX], [-YY], [ZZ], [IZ], [ZI]]</td>\n",
       "      <td>(22.72+0j)</td>\n",
       "      <td>(22.58+0j)</td>\n",
       "      <td>(22.37+0j)</td>\n",
       "      <td>(23.07-0j)</td>\n",
       "      <td>(22.68-0j)</td>\n",
       "      <td>0.07</td>\n",
       "    </tr>\n",
       "  </tbody>\n",
       "</table>\n",
       "</div>"
      ],
      "text/plain": [
       "                           partition      state0      state1      state2  \\\n",
       "2         [[-XX, -YY], [ZZ, IZ, ZI]]   (9.28+0j)  (10.04+0j)  (11.68+0j)   \n",
       "5         [[-XX, -YY, ZZ], [IZ, ZI]]  (12.31-0j)   (7.66+0j)  (10.17+0j)   \n",
       "7       [[-XX], [-YY, ZZ], [IZ, ZI]]  (16.65+0j)   (9.99+0j)  (12.51+0j)   \n",
       "11      [[-XX, -YY], [ZZ], [IZ, ZI]]  (12.66+0j)  (14.28+0j)  (13.87+0j)   \n",
       "4       [[-XX], [-YY], [ZZ, IZ, ZI]]  (15.79+0j)  (14.46+0j)  (16.69+0j)   \n",
       "31      [[-XX, -YY], [IZ], [ZZ, ZI]]   (12.7+0j)  (13.36+0j)  (14.15+0j)   \n",
       "21      [[-XX, -YY], [ZZ, IZ], [ZI]]  (12.07+0j)  (15.73+0j)  (17.98+0j)   \n",
       "35      [[-XX, -YY, ZZ], [IZ], [ZI]]  (17.56-0j)  (11.37+0j)  (15.62+0j)   \n",
       "12      [[-YY], [-XX, ZZ], [IZ, ZI]]  (18.22-0j)  (14.58+0j)  (14.96+0j)   \n",
       "38    [[-XX], [-YY, ZZ], [IZ], [ZI]]     (21+0j)  (13.15+0j)  (17.17+0j)   \n",
       "14    [[-XX], [-YY], [ZZ], [IZ, ZI]]  (19.38+0j)  (18.24+0j)   (17.4+0j)   \n",
       "34    [[-XX], [-YY], [IZ], [ZZ, ZI]]  (19.44+0j)  (17.01+0j)  (17.76+0j)   \n",
       "47    [[-XX, -YY], [ZZ], [IZ], [ZI]]  (15.68+0j)  (18.87+0j)  (18.99+0j)   \n",
       "24    [[-XX], [-YY], [ZZ, IZ], [ZI]]  (18.59+0j)  (20.17+0j)  (22.88+0j)   \n",
       "48    [[-YY], [-XX, ZZ], [IZ], [ZI]]  (23.09-0j)  (19.26+0j)  (20.45+0j)   \n",
       "51  [[-XX], [-YY], [ZZ], [IZ], [ZI]]  (22.72+0j)  (22.58+0j)  (22.37+0j)   \n",
       "\n",
       "        state3    row_mean  row_var  \n",
       "2    (7.36-0j)   (9.59+0j)     2.41  \n",
       "5    (9.22-0j)   (9.84-0j)     2.83  \n",
       "7    (9.77-0j)  (12.23-0j)     7.67  \n",
       "11  (14.12-0j)  (13.73+0j)     0.40  \n",
       "4    (8.49-0j)  (13.86-0j)    10.24  \n",
       "31   (15.6-0j)  (13.95+0j)     1.17  \n",
       "21  (14.08-0j)  (14.97+0j)     4.72  \n",
       "35  (16.09-0j)  (15.16-0j)     5.30  \n",
       "12  (13.09+0j)  (15.21+0j)     3.51  \n",
       "38  (16.05-0j)  (16.84-0j)     7.91  \n",
       "14  (15.43-0j)  (17.61-0j)     2.08  \n",
       "34  (17.41-0j)   (17.9-0j)     0.85  \n",
       "47  (21.85-0j)  (18.85+0j)     4.77  \n",
       "24  (15.38-0j)  (19.25-0j)     7.36  \n",
       "48  (20.47+0j)  (20.82+0j)     1.96  \n",
       "51  (23.07-0j)  (22.68-0j)     0.07  "
      ]
     },
     "execution_count": 20,
     "metadata": {},
     "output_type": "execute_result"
    }
   ],
   "source": [
    "# Are the ideal partitions the same with random kets?\n",
    "random_state_list = [qutip.rand_ket(4).full() for i in range(4)]\n",
    "random_states_mean_state_preps = expected_state_preps_for_list_of_states(test_term_set, random_state_list)\n",
    "# round the real and imaginary parts to two decimal places\n",
    "random_states_mean_state_preps.iloc[:,1:] = random_states_mean_state_preps.iloc[:,1:].apply(lambda x: np.around(x, decimals=2), axis=0)\n",
    "random_states_mean_state_preps"
   ]
  },
  {
   "cell_type": "code",
   "execution_count": 20,
   "metadata": {},
   "outputs": [
    {
     "name": "stderr",
     "output_type": "stream",
     "text": [
      "/usr/local/lib/python3.7/site-packages/numpy/core/numeric.py:591: ComplexWarning: Casting complex values to real discards the imaginary part\n",
      "  return array(a, dtype, copy=False, order=order, subok=True)\n",
      "/usr/local/lib/python3.7/site-packages/pandas/core/frame.py:7005: ComplexWarning: Casting complex values to real discards the imaginary part\n",
      "  correl = libalgos.nancorr(ensure_float64(mat), minp=min_periods)\n"
     ]
    },
    {
     "name": "stdout",
     "output_type": "stream",
     "text": [
      "            row_mean_x  row_mean_y\n",
      "row_mean_x    1.000000    0.977048\n",
      "row_mean_y    0.977048    1.000000\n"
     ]
    },
    {
     "data": {
      "image/png": "[encoded data removed]",
      "text/plain": [
       "<Figure size 432x288 with 1 Axes>"
      ]
     },
     "metadata": {
      "needs_background": "light"
     },
     "output_type": "display_data"
    }
   ],
   "source": [
    "# Plot the number of state preps needed under the \n",
    "ax = pd.merge(basis_states_mean_state_preps,\n",
    "         random_states_mean_state_preps,\n",
    "         left_index=True,\n",
    "         right_index=True)[['row_mean_x', 'row_mean_y']].plot.scatter(x=\"row_mean_x\", y=\"row_mean_y\")\n",
    "ax.set_xlabel(\"basis_mean_state_preps\")\n",
    "ax.set_ylabel(\"radom_mean_state_preps\")\n",
    "\n",
    "# correlation between number of state preparations needed under basis states versus random states\n",
    "print(pd.merge(basis_states_mean_state_preps,\n",
    "         random_states_mean_state_preps,\n",
    "         left_index=True,\n",
    "         right_index=True)[['row_mean_x', 'row_mean_y']].corr())\n",
    "\n",
    "# There is very high correlation between the number of state preparations needed between\n",
    "# basis states and random states, for term set ['-XX', '-YY', 'ZZ', 'IZ', 'ZI'], at least.\n",
    "# Could this be because only -XX and -YY ever have a positive correlation?"
   ]
  },
  {
   "cell_type": "code",
   "execution_count": 21,
   "metadata": {},
   "outputs": [
    {
     "name": "stdout",
     "output_type": "stream",
     "text": [
      "0.977047916070328\n"
     ]
    }
   ],
   "source": [
    "print(pd.merge(basis_states_mean_state_preps,\n",
    "         random_states_mean_state_preps,\n",
    "         left_index=True,\n",
    "         right_index=True)[['row_mean_x', 'row_mean_y']].corr().iloc[0,1])"
   ]
  },
  {
   "cell_type": "markdown",
   "metadata": {},
   "source": [
    "### Hypothesis: There is a high correlation between the # of state preps needed in basis states versus random states when the number of terms that correlate is low. Low correlation when the number of terms that correlate is high.\n",
    "### Result: Not conclusive that this is true!  Between different runs, the relative agreement between mean # of state preparations in basis states versus random states varies pretty widely."
   ]
  },
  {
   "cell_type": "code",
   "execution_count": 22,
   "metadata": {
    "scrolled": true
   },
   "outputs": [
    {
     "name": "stdout",
     "output_type": "stream",
     "text": [
      "   term 1 term 2  covariance\n",
      "0      XX     YY     (-1+0j)\n",
      "1      XX     ZZ          0j\n",
      "2      XX     II          0j\n",
      "3      XX     XI          0j\n",
      "4      XX     YZ          0j\n",
      "5      XX     ZY          0j\n",
      "6      XX     IX          0j\n",
      "7      YY     ZZ          0j\n",
      "8      YY     II          0j\n",
      "9      YY     XZ          0j\n",
      "10     YY     YI          0j\n",
      "11     YY     ZX          0j\n",
      "12     YY     IY          0j\n",
      "13     ZZ     II          0j\n",
      "14     ZZ     XY          0j\n",
      "15     ZZ     YX          0j\n",
      "16     ZZ     ZI          0j\n",
      "17     ZZ     IZ          0j\n",
      "18     II     XY          0j\n",
      "19     II     XZ          0j\n",
      "20     II     XI          0j\n",
      "21     II     YX          0j\n",
      "22     II     YZ          0j\n",
      "23     II     YI          0j\n",
      "24     II     ZX          0j\n",
      "25     II     ZY          0j\n",
      "26     II     ZI          0j\n",
      "27     II     IX          0j\n",
      "28     II     IY          0j\n",
      "29     II     IZ          0j\n",
      "30     XY     XI          0j\n",
      "31     XY     YX      (1+0j)\n",
      "32     XY     YZ          0j\n",
      "33     XY     ZX          0j\n",
      "34     XY     IY          0j\n",
      "35     XZ     XI      (1+0j)\n",
      "36     XZ     YX          0j\n",
      "37     XZ     ZX          0j\n",
      "38     XZ     ZY          0j\n",
      "39     XZ     IZ          0j\n",
      "40     XI     IX          0j\n",
      "41     XI     IY          0j\n",
      "42     XI     IZ          0j\n",
      "43     YX     YI          0j\n",
      "44     YX     ZY          0j\n",
      "45     YX     IX          0j\n",
      "46     YZ     YI      (1+0j)\n",
      "47     YZ     ZX          0j\n",
      "48     YZ     ZY          0j\n",
      "49     YZ     IZ          0j\n",
      "50     YI     IX          0j\n",
      "51     YI     IY          0j\n",
      "52     YI     IZ          0j\n",
      "53     ZX     ZI          0j\n",
      "54     ZX     IX      (1+0j)\n",
      "55     ZY     ZI          0j\n",
      "56     ZY     IY      (1+0j)\n",
      "57     ZI     IX          0j\n",
      "58     ZI     IY          0j\n",
      "59     ZI     IZ          0j\n",
      "   term 1 term 2  covariance\n",
      "0      XX     YY      (1+0j)\n",
      "1      XX     ZZ          0j\n",
      "2      XX     II          0j\n",
      "3      XX     XI          0j\n",
      "4      XX     YZ          0j\n",
      "5      XX     ZY          0j\n",
      "6      XX     IX          0j\n",
      "7      YY     ZZ          0j\n",
      "8      YY     II          0j\n",
      "9      YY     XZ          0j\n",
      "10     YY     YI          0j\n",
      "11     YY     ZX          0j\n",
      "12     YY     IY          0j\n",
      "13     ZZ     II          0j\n",
      "14     ZZ     XY          0j\n",
      "15     ZZ     YX          0j\n",
      "16     ZZ     ZI          0j\n",
      "17     ZZ     IZ          0j\n",
      "18     II     XY          0j\n",
      "19     II     XZ          0j\n",
      "20     II     XI          0j\n",
      "21     II     YX          0j\n",
      "22     II     YZ          0j\n",
      "23     II     YI          0j\n",
      "24     II     ZX          0j\n",
      "25     II     ZY          0j\n",
      "26     II     ZI          0j\n",
      "27     II     IX          0j\n",
      "28     II     IY          0j\n",
      "29     II     IZ          0j\n",
      "30     XY     XI          0j\n",
      "31     XY     YX     (-1+0j)\n",
      "32     XY     YZ          0j\n",
      "33     XY     ZX          0j\n",
      "34     XY     IY          0j\n",
      "35     XZ     XI     (-1+0j)\n",
      "36     XZ     YX          0j\n",
      "37     XZ     ZX          0j\n",
      "38     XZ     ZY          0j\n",
      "39     XZ     IZ          0j\n",
      "40     XI     IX          0j\n",
      "41     XI     IY          0j\n",
      "42     XI     IZ          0j\n",
      "43     YX     YI          0j\n",
      "44     YX     ZY          0j\n",
      "45     YX     IX          0j\n",
      "46     YZ     YI     (-1+0j)\n",
      "47     YZ     ZX          0j\n",
      "48     YZ     ZY          0j\n",
      "49     YZ     IZ          0j\n",
      "50     YI     IX          0j\n",
      "51     YI     IY          0j\n",
      "52     YI     IZ          0j\n",
      "53     ZX     ZI          0j\n",
      "54     ZX     IX      (1+0j)\n",
      "55     ZY     ZI          0j\n",
      "56     ZY     IY      (1+0j)\n",
      "57     ZI     IX          0j\n",
      "58     ZI     IY          0j\n",
      "59     ZI     IZ          0j\n",
      "   term 1 term 2  covariance\n",
      "0      XX     YY      (1+0j)\n",
      "1      XX     ZZ          0j\n",
      "2      XX     II          0j\n",
      "3      XX     XI          0j\n",
      "4      XX     YZ          0j\n",
      "5      XX     ZY          0j\n",
      "6      XX     IX          0j\n",
      "7      YY     ZZ          0j\n",
      "8      YY     II          0j\n",
      "9      YY     XZ          0j\n",
      "10     YY     YI          0j\n",
      "11     YY     ZX          0j\n",
      "12     YY     IY          0j\n",
      "13     ZZ     II          0j\n",
      "14     ZZ     XY          0j\n",
      "15     ZZ     YX          0j\n",
      "16     ZZ     ZI          0j\n",
      "17     ZZ     IZ          0j\n",
      "18     II     XY          0j\n",
      "19     II     XZ          0j\n",
      "20     II     XI          0j\n",
      "21     II     YX          0j\n",
      "22     II     YZ          0j\n",
      "23     II     YI          0j\n",
      "24     II     ZX          0j\n",
      "25     II     ZY          0j\n",
      "26     II     ZI          0j\n",
      "27     II     IX          0j\n",
      "28     II     IY          0j\n",
      "29     II     IZ          0j\n",
      "30     XY     XI          0j\n",
      "31     XY     YX     (-1+0j)\n",
      "32     XY     YZ          0j\n",
      "33     XY     ZX          0j\n",
      "34     XY     IY          0j\n",
      "35     XZ     XI      (1+0j)\n",
      "36     XZ     YX          0j\n",
      "37     XZ     ZX          0j\n",
      "38     XZ     ZY          0j\n",
      "39     XZ     IZ          0j\n",
      "40     XI     IX          0j\n",
      "41     XI     IY          0j\n",
      "42     XI     IZ          0j\n",
      "43     YX     YI          0j\n",
      "44     YX     ZY          0j\n",
      "45     YX     IX          0j\n",
      "46     YZ     YI      (1+0j)\n",
      "47     YZ     ZX          0j\n",
      "48     YZ     ZY          0j\n",
      "49     YZ     IZ          0j\n",
      "50     YI     IX          0j\n",
      "51     YI     IY          0j\n",
      "52     YI     IZ          0j\n",
      "53     ZX     ZI          0j\n",
      "54     ZX     IX     (-1+0j)\n",
      "55     ZY     ZI          0j\n",
      "56     ZY     IY     (-1+0j)\n",
      "57     ZI     IX          0j\n",
      "58     ZI     IY          0j\n",
      "59     ZI     IZ          0j\n",
      "   term 1 term 2  covariance\n",
      "0      XX     YY     (-1+0j)\n",
      "1      XX     ZZ          0j\n",
      "2      XX     II          0j\n",
      "3      XX     XI          0j\n",
      "4      XX     YZ          0j\n",
      "5      XX     ZY          0j\n",
      "6      XX     IX          0j\n",
      "7      YY     ZZ          0j\n",
      "8      YY     II          0j\n",
      "9      YY     XZ          0j\n",
      "10     YY     YI          0j\n",
      "11     YY     ZX          0j\n",
      "12     YY     IY          0j\n",
      "13     ZZ     II          0j\n",
      "14     ZZ     XY          0j\n",
      "15     ZZ     YX          0j\n",
      "16     ZZ     ZI          0j\n",
      "17     ZZ     IZ          0j\n",
      "18     II     XY          0j\n",
      "19     II     XZ          0j\n",
      "20     II     XI          0j\n",
      "21     II     YX          0j\n",
      "22     II     YZ          0j\n",
      "23     II     YI          0j\n",
      "24     II     ZX          0j\n",
      "25     II     ZY          0j\n",
      "26     II     ZI          0j\n",
      "27     II     IX          0j\n",
      "28     II     IY          0j\n",
      "29     II     IZ          0j\n",
      "30     XY     XI          0j\n",
      "31     XY     YX      (1+0j)\n",
      "32     XY     YZ          0j\n",
      "33     XY     ZX          0j\n",
      "34     XY     IY          0j\n",
      "35     XZ     XI     (-1+0j)\n",
      "36     XZ     YX          0j\n",
      "37     XZ     ZX          0j\n",
      "38     XZ     ZY          0j\n",
      "39     XZ     IZ          0j\n",
      "40     XI     IX          0j\n",
      "41     XI     IY          0j\n",
      "42     XI     IZ          0j\n",
      "43     YX     YI          0j\n",
      "44     YX     ZY          0j\n",
      "45     YX     IX          0j\n",
      "46     YZ     YI     (-1+0j)\n",
      "47     YZ     ZX          0j\n",
      "48     YZ     ZY          0j\n",
      "49     YZ     IZ          0j\n",
      "50     YI     IX          0j\n",
      "51     YI     IY          0j\n",
      "52     YI     IZ          0j\n",
      "53     ZX     ZI          0j\n",
      "54     ZX     IX     (-1+0j)\n",
      "55     ZY     ZI          0j\n",
      "56     ZY     IY     (-1+0j)\n",
      "57     ZI     IX          0j\n",
      "58     ZI     IY          0j\n",
      "59     ZI     IZ          0j\n"
     ]
    }
   ],
   "source": [
    "for state in basis_states_4:\n",
    "    print(pairwise_covariances_commuting_terms(['XX', 'YY', 'ZZ', 'II',\n",
    "                                                'XY', 'XZ', 'XI',\n",
    "                                                'YX', 'YZ', 'YI',\n",
    "                                                'ZX', 'ZY', 'ZI',\n",
    "                                                'IX', 'IY', 'IZ'], state))\n",
    "    \n",
    "# Interestingly, across all 60 pairs of terms that commute, only 6 pairs ever correlate under a basis state:\n",
    "# XX YY\n",
    "# XY YX\n",
    "# XZ XI\n",
    "# YZ YI\n",
    "# ZX IX\n",
    "# ZY IY"
   ]
  },
  {
   "cell_type": "code",
   "execution_count": 14,
   "metadata": {},
   "outputs": [],
   "source": [
    "term_set_0_correlate = ['XX','YZ','ZZ','ZI']    # all pairwise correlations are 0\n",
    "term_set_1_correlate = ['XX','YY','ZZ','ZI']    # Cov(XX,YY) = +1 under 01,10; -1 under 00,11\n",
    "term_set_2_correlate = ['XY', 'YX', 'YZ', 'YI'] # Cov(XY,YX) = +1 under 00,11; -1 under 01,10\n",
    "                                                # Cov(YZ,YI) = +1 under 00,01; -1 under 10,11"
   ]
  },
  {
   "cell_type": "code",
   "execution_count": 24,
   "metadata": {},
   "outputs": [
    {
     "name": "stdout",
     "output_type": "stream",
     "text": [
      "  term 1 term 2  covariance\n",
      "0     XY     YX      (1+0j)\n",
      "1     XY     YZ          0j\n",
      "2     YX     YI          0j\n",
      "3     YZ     YI      (1+0j)\n",
      "  term 1 term 2  covariance\n",
      "0     XY     YX     (-1+0j)\n",
      "1     XY     YZ          0j\n",
      "2     YX     YI          0j\n",
      "3     YZ     YI     (-1+0j)\n",
      "  term 1 term 2  covariance\n",
      "0     XY     YX     (-1+0j)\n",
      "1     XY     YZ          0j\n",
      "2     YX     YI          0j\n",
      "3     YZ     YI      (1+0j)\n",
      "  term 1 term 2  covariance\n",
      "0     XY     YX      (1+0j)\n",
      "1     XY     YZ          0j\n",
      "2     YX     YI          0j\n",
      "3     YZ     YI     (-1+0j)\n"
     ]
    }
   ],
   "source": [
    "for state in basis_states_4:\n",
    "    print(pairwise_covariances_commuting_terms(term_set_2_correlate, state))"
   ]
  },
  {
   "cell_type": "markdown",
   "metadata": {},
   "source": [
    "#### When 0 terms correlate, all partitions have identical number of state preps under all basis states"
   ]
  },
  {
   "cell_type": "code",
   "execution_count": 25,
   "metadata": {},
   "outputs": [
    {
     "name": "stderr",
     "output_type": "stream",
     "text": [
      "/usr/local/lib/python3.7/site-packages/numpy/core/_methods.py:36: ComplexWarning: Casting complex values to real discards the imaginary part\n",
      "  return umr_sum(a, axis, dtype, out, keepdims, initial)\n",
      "/usr/local/lib/python3.7/site-packages/numpy/core/_methods.py:36: ComplexWarning: Casting complex values to real discards the imaginary part\n",
      "  return umr_sum(a, axis, dtype, out, keepdims, initial)\n"
     ]
    }
   ],
   "source": [
    "random_state_list = [qutip.rand_ket(4).full() for i in range(4)]\n",
    "basis_states_mean_state_preps_0 = expected_state_preps_for_list_of_states(term_set_0_correlate, basis_states_4)\n",
    "random_states_mean_state_preps_0 = expected_state_preps_for_list_of_states(term_set_0_correlate, random_state_list)"
   ]
  },
  {
   "cell_type": "code",
   "execution_count": 26,
   "metadata": {},
   "outputs": [
    {
     "data": {
      "text/html": [
       "<div>\n",
       "<style scoped>\n",
       "    .dataframe tbody tr th:only-of-type {\n",
       "        vertical-align: middle;\n",
       "    }\n",
       "\n",
       "    .dataframe tbody tr th {\n",
       "        vertical-align: top;\n",
       "    }\n",
       "\n",
       "    .dataframe thead th {\n",
       "        text-align: right;\n",
       "    }\n",
       "</style>\n",
       "<table border=\"1\" class=\"dataframe\">\n",
       "  <thead>\n",
       "    <tr style=\"text-align: right;\">\n",
       "      <th></th>\n",
       "      <th>partition</th>\n",
       "      <th>00</th>\n",
       "      <th>01</th>\n",
       "      <th>10</th>\n",
       "      <th>11</th>\n",
       "      <th>row_mean</th>\n",
       "      <th>row_var</th>\n",
       "    </tr>\n",
       "  </thead>\n",
       "  <tbody>\n",
       "    <tr>\n",
       "      <th>2</th>\n",
       "      <td>[[XX, YZ], [ZZ, ZI]]</td>\n",
       "      <td>(4+0j)</td>\n",
       "      <td>(4+0j)</td>\n",
       "      <td>(4+0j)</td>\n",
       "      <td>(4+0j)</td>\n",
       "      <td>(4+0j)</td>\n",
       "      <td>0.0</td>\n",
       "    </tr>\n",
       "    <tr>\n",
       "      <th>4</th>\n",
       "      <td>[[XX], [YZ], [ZZ, ZI]]</td>\n",
       "      <td>(6+0j)</td>\n",
       "      <td>(6+0j)</td>\n",
       "      <td>(6+0j)</td>\n",
       "      <td>(6+0j)</td>\n",
       "      <td>(6+0j)</td>\n",
       "      <td>0.0</td>\n",
       "    </tr>\n",
       "    <tr>\n",
       "      <th>11</th>\n",
       "      <td>[[XX, YZ], [ZZ], [ZI]]</td>\n",
       "      <td>(6+0j)</td>\n",
       "      <td>(6+0j)</td>\n",
       "      <td>(6+0j)</td>\n",
       "      <td>(6+0j)</td>\n",
       "      <td>(6+0j)</td>\n",
       "      <td>0.0</td>\n",
       "    </tr>\n",
       "    <tr>\n",
       "      <th>12</th>\n",
       "      <td>[[YZ], [XX, ZZ], [ZI]]</td>\n",
       "      <td>(6+0j)</td>\n",
       "      <td>(6+0j)</td>\n",
       "      <td>(6+0j)</td>\n",
       "      <td>(6+0j)</td>\n",
       "      <td>(6+0j)</td>\n",
       "      <td>0.0</td>\n",
       "    </tr>\n",
       "    <tr>\n",
       "      <th>14</th>\n",
       "      <td>[[XX], [YZ], [ZZ], [ZI]]</td>\n",
       "      <td>(8+0j)</td>\n",
       "      <td>(8+0j)</td>\n",
       "      <td>(8+0j)</td>\n",
       "      <td>(8+0j)</td>\n",
       "      <td>(8+0j)</td>\n",
       "      <td>0.0</td>\n",
       "    </tr>\n",
       "  </tbody>\n",
       "</table>\n",
       "</div>"
      ],
      "text/plain": [
       "                   partition      00      01      10      11  row_mean  \\\n",
       "2       [[XX, YZ], [ZZ, ZI]]  (4+0j)  (4+0j)  (4+0j)  (4+0j)    (4+0j)   \n",
       "4     [[XX], [YZ], [ZZ, ZI]]  (6+0j)  (6+0j)  (6+0j)  (6+0j)    (6+0j)   \n",
       "11    [[XX, YZ], [ZZ], [ZI]]  (6+0j)  (6+0j)  (6+0j)  (6+0j)    (6+0j)   \n",
       "12    [[YZ], [XX, ZZ], [ZI]]  (6+0j)  (6+0j)  (6+0j)  (6+0j)    (6+0j)   \n",
       "14  [[XX], [YZ], [ZZ], [ZI]]  (8+0j)  (8+0j)  (8+0j)  (8+0j)    (8+0j)   \n",
       "\n",
       "    row_var  \n",
       "2       0.0  \n",
       "4       0.0  \n",
       "11      0.0  \n",
       "12      0.0  \n",
       "14      0.0  "
      ]
     },
     "execution_count": 26,
     "metadata": {},
     "output_type": "execute_result"
    }
   ],
   "source": [
    "basis_states_mean_state_preps_0.columns.values[1:5] = ['00', '01', '10', '11']\n",
    "basis_states_mean_state_preps_0"
   ]
  },
  {
   "cell_type": "code",
   "execution_count": 27,
   "metadata": {},
   "outputs": [
    {
     "data": {
      "text/html": [
       "<div>\n",
       "<style scoped>\n",
       "    .dataframe tbody tr th:only-of-type {\n",
       "        vertical-align: middle;\n",
       "    }\n",
       "\n",
       "    .dataframe tbody tr th {\n",
       "        vertical-align: top;\n",
       "    }\n",
       "\n",
       "    .dataframe thead th {\n",
       "        text-align: right;\n",
       "    }\n",
       "</style>\n",
       "<table border=\"1\" class=\"dataframe\">\n",
       "  <thead>\n",
       "    <tr style=\"text-align: right;\">\n",
       "      <th></th>\n",
       "      <th>partition</th>\n",
       "      <th>state0</th>\n",
       "      <th>state1</th>\n",
       "      <th>state2</th>\n",
       "      <th>state3</th>\n",
       "      <th>row_mean</th>\n",
       "      <th>row_var</th>\n",
       "    </tr>\n",
       "  </thead>\n",
       "  <tbody>\n",
       "    <tr>\n",
       "      <th>2</th>\n",
       "      <td>[[XX, YZ], [ZZ, ZI]]</td>\n",
       "      <td>(6.34+0j)</td>\n",
       "      <td>(7.66+0j)</td>\n",
       "      <td>(4.13+0j)</td>\n",
       "      <td>(7.68+0j)</td>\n",
       "      <td>(6.45+0j)</td>\n",
       "      <td>2.10</td>\n",
       "    </tr>\n",
       "    <tr>\n",
       "      <th>11</th>\n",
       "      <td>[[XX, YZ], [ZZ], [ZI]]</td>\n",
       "      <td>(9.23+0j)</td>\n",
       "      <td>(8.96+0j)</td>\n",
       "      <td>(6.98+0j)</td>\n",
       "      <td>(9.53+0j)</td>\n",
       "      <td>(8.67+0j)</td>\n",
       "      <td>1.00</td>\n",
       "    </tr>\n",
       "    <tr>\n",
       "      <th>12</th>\n",
       "      <td>[[YZ], [XX, ZZ], [ZI]]</td>\n",
       "      <td>(10.46+0j)</td>\n",
       "      <td>(7.23+0j)</td>\n",
       "      <td>(8.71+0j)</td>\n",
       "      <td>(8.59-0j)</td>\n",
       "      <td>(8.75-0j)</td>\n",
       "      <td>1.32</td>\n",
       "    </tr>\n",
       "    <tr>\n",
       "      <th>4</th>\n",
       "      <td>[[XX], [YZ], [ZZ, ZI]]</td>\n",
       "      <td>(10.27+0j)</td>\n",
       "      <td>(13.26+0j)</td>\n",
       "      <td>(8.31+0j)</td>\n",
       "      <td>(12.02+0j)</td>\n",
       "      <td>(10.96+0j)</td>\n",
       "      <td>3.47</td>\n",
       "    </tr>\n",
       "    <tr>\n",
       "      <th>14</th>\n",
       "      <td>[[XX], [YZ], [ZZ], [ZI]]</td>\n",
       "      <td>(13.31+0j)</td>\n",
       "      <td>(14.3+0j)</td>\n",
       "      <td>(12.14+0j)</td>\n",
       "      <td>(13.37+0j)</td>\n",
       "      <td>(13.28+0j)</td>\n",
       "      <td>0.59</td>\n",
       "    </tr>\n",
       "  </tbody>\n",
       "</table>\n",
       "</div>"
      ],
      "text/plain": [
       "                   partition      state0      state1      state2      state3  \\\n",
       "2       [[XX, YZ], [ZZ, ZI]]   (6.34+0j)   (7.66+0j)   (4.13+0j)   (7.68+0j)   \n",
       "11    [[XX, YZ], [ZZ], [ZI]]   (9.23+0j)   (8.96+0j)   (6.98+0j)   (9.53+0j)   \n",
       "12    [[YZ], [XX, ZZ], [ZI]]  (10.46+0j)   (7.23+0j)   (8.71+0j)   (8.59-0j)   \n",
       "4     [[XX], [YZ], [ZZ, ZI]]  (10.27+0j)  (13.26+0j)   (8.31+0j)  (12.02+0j)   \n",
       "14  [[XX], [YZ], [ZZ], [ZI]]  (13.31+0j)   (14.3+0j)  (12.14+0j)  (13.37+0j)   \n",
       "\n",
       "      row_mean  row_var  \n",
       "2    (6.45+0j)     2.10  \n",
       "11   (8.67+0j)     1.00  \n",
       "12   (8.75-0j)     1.32  \n",
       "4   (10.96+0j)     3.47  \n",
       "14  (13.28+0j)     0.59  "
      ]
     },
     "execution_count": 27,
     "metadata": {},
     "output_type": "execute_result"
    }
   ],
   "source": [
    "random_states_mean_state_preps_0"
   ]
  },
  {
   "cell_type": "code",
   "execution_count": 28,
   "metadata": {},
   "outputs": [
    {
     "data": {
      "text/plain": [
       "(0.9311802657761321+0j)"
      ]
     },
     "execution_count": 28,
     "metadata": {},
     "output_type": "execute_result"
    }
   ],
   "source": [
    "# High correlation between the number of state preps under random states and basis states\n",
    "np.corrcoef(basis_states_mean_state_preps_0['row_mean'],\n",
    "           random_states_mean_state_preps_0['row_mean'])[0,1]"
   ]
  },
  {
   "cell_type": "markdown",
   "metadata": {},
   "source": [
    "#### When 1 pair correlates AND those correlating terms are in the same grouping, then the states where they negatively correlate have low # of state preps, and the states where they positively correlate have high # of state preps."
   ]
  },
  {
   "cell_type": "code",
   "execution_count": 25,
   "metadata": {},
   "outputs": [
    {
     "name": "stderr",
     "output_type": "stream",
     "text": [
      "/usr/local/lib/python3.7/site-packages/numpy/core/_methods.py:36: ComplexWarning: Casting complex values to real discards the imaginary part\n",
      "  return umr_sum(a, axis, dtype, out, keepdims, initial)\n",
      "/usr/local/lib/python3.7/site-packages/numpy/core/_methods.py:36: ComplexWarning: Casting complex values to real discards the imaginary part\n",
      "  return umr_sum(a, axis, dtype, out, keepdims, initial)\n"
     ]
    }
   ],
   "source": [
    "basis_states_mean_state_preps_1 = expected_state_preps_for_list_of_states(term_set_1_correlate, basis_states_4)\n",
    "random_states_mean_state_preps_1 = expected_state_preps_for_list_of_states(term_set_1_correlate, random_state_list)"
   ]
  },
  {
   "cell_type": "code",
   "execution_count": 26,
   "metadata": {},
   "outputs": [
    {
     "data": {
      "text/html": [
       "<div>\n",
       "<style scoped>\n",
       "    .dataframe tbody tr th:only-of-type {\n",
       "        vertical-align: middle;\n",
       "    }\n",
       "\n",
       "    .dataframe tbody tr th {\n",
       "        vertical-align: top;\n",
       "    }\n",
       "\n",
       "    .dataframe thead th {\n",
       "        text-align: right;\n",
       "    }\n",
       "</style>\n",
       "<table border=\"1\" class=\"dataframe\">\n",
       "  <thead>\n",
       "    <tr style=\"text-align: right;\">\n",
       "      <th></th>\n",
       "      <th>partition</th>\n",
       "      <th>00</th>\n",
       "      <th>01</th>\n",
       "      <th>10</th>\n",
       "      <th>11</th>\n",
       "      <th>row_mean</th>\n",
       "      <th>row_var</th>\n",
       "    </tr>\n",
       "  </thead>\n",
       "  <tbody>\n",
       "    <tr>\n",
       "      <th>2</th>\n",
       "      <td>[[XX, YY], [ZZ, ZI]]</td>\n",
       "      <td>0j</td>\n",
       "      <td>(8+0j)</td>\n",
       "      <td>(8+0j)</td>\n",
       "      <td>0j</td>\n",
       "      <td>(4+0j)</td>\n",
       "      <td>16.0</td>\n",
       "    </tr>\n",
       "    <tr>\n",
       "      <th>5</th>\n",
       "      <td>[[XX, YY, ZZ], [ZI]]</td>\n",
       "      <td>0j</td>\n",
       "      <td>(8+0j)</td>\n",
       "      <td>(8+0j)</td>\n",
       "      <td>0j</td>\n",
       "      <td>(4+0j)</td>\n",
       "      <td>16.0</td>\n",
       "    </tr>\n",
       "    <tr>\n",
       "      <th>11</th>\n",
       "      <td>[[XX, YY], [ZZ], [ZI]]</td>\n",
       "      <td>0j</td>\n",
       "      <td>(12+0j)</td>\n",
       "      <td>(12+0j)</td>\n",
       "      <td>0j</td>\n",
       "      <td>(6+0j)</td>\n",
       "      <td>36.0</td>\n",
       "    </tr>\n",
       "    <tr>\n",
       "      <th>4</th>\n",
       "      <td>[[XX], [YY], [ZZ, ZI]]</td>\n",
       "      <td>(6+0j)</td>\n",
       "      <td>(6+0j)</td>\n",
       "      <td>(6+0j)</td>\n",
       "      <td>(6+0j)</td>\n",
       "      <td>(6+0j)</td>\n",
       "      <td>0.0</td>\n",
       "    </tr>\n",
       "    <tr>\n",
       "      <th>7</th>\n",
       "      <td>[[XX], [YY, ZZ], [ZI]]</td>\n",
       "      <td>(6+0j)</td>\n",
       "      <td>(6+0j)</td>\n",
       "      <td>(6+0j)</td>\n",
       "      <td>(6+0j)</td>\n",
       "      <td>(6+0j)</td>\n",
       "      <td>0.0</td>\n",
       "    </tr>\n",
       "    <tr>\n",
       "      <th>12</th>\n",
       "      <td>[[YY], [XX, ZZ], [ZI]]</td>\n",
       "      <td>(6+0j)</td>\n",
       "      <td>(6+0j)</td>\n",
       "      <td>(6+0j)</td>\n",
       "      <td>(6+0j)</td>\n",
       "      <td>(6+0j)</td>\n",
       "      <td>0.0</td>\n",
       "    </tr>\n",
       "    <tr>\n",
       "      <th>14</th>\n",
       "      <td>[[XX], [YY], [ZZ], [ZI]]</td>\n",
       "      <td>(8+0j)</td>\n",
       "      <td>(8+0j)</td>\n",
       "      <td>(8+0j)</td>\n",
       "      <td>(8+0j)</td>\n",
       "      <td>(8+0j)</td>\n",
       "      <td>0.0</td>\n",
       "    </tr>\n",
       "  </tbody>\n",
       "</table>\n",
       "</div>"
      ],
      "text/plain": [
       "                   partition      00       01       10      11  row_mean  \\\n",
       "2       [[XX, YY], [ZZ, ZI]]      0j   (8+0j)   (8+0j)      0j    (4+0j)   \n",
       "5       [[XX, YY, ZZ], [ZI]]      0j   (8+0j)   (8+0j)      0j    (4+0j)   \n",
       "11    [[XX, YY], [ZZ], [ZI]]      0j  (12+0j)  (12+0j)      0j    (6+0j)   \n",
       "4     [[XX], [YY], [ZZ, ZI]]  (6+0j)   (6+0j)   (6+0j)  (6+0j)    (6+0j)   \n",
       "7     [[XX], [YY, ZZ], [ZI]]  (6+0j)   (6+0j)   (6+0j)  (6+0j)    (6+0j)   \n",
       "12    [[YY], [XX, ZZ], [ZI]]  (6+0j)   (6+0j)   (6+0j)  (6+0j)    (6+0j)   \n",
       "14  [[XX], [YY], [ZZ], [ZI]]  (8+0j)   (8+0j)   (8+0j)  (8+0j)    (8+0j)   \n",
       "\n",
       "    row_var  \n",
       "2      16.0  \n",
       "5      16.0  \n",
       "11     36.0  \n",
       "4       0.0  \n",
       "7       0.0  \n",
       "12      0.0  \n",
       "14      0.0  "
      ]
     },
     "execution_count": 26,
     "metadata": {},
     "output_type": "execute_result"
    }
   ],
   "source": [
    "basis_states_mean_state_preps_1.columns.values[1:5] = ['00', '01', '10', '11']\n",
    "basis_states_mean_state_preps_1"
   ]
  },
  {
   "cell_type": "code",
   "execution_count": 27,
   "metadata": {},
   "outputs": [
    {
     "data": {
      "text/html": [
       "<div>\n",
       "<style scoped>\n",
       "    .dataframe tbody tr th:only-of-type {\n",
       "        vertical-align: middle;\n",
       "    }\n",
       "\n",
       "    .dataframe tbody tr th {\n",
       "        vertical-align: top;\n",
       "    }\n",
       "\n",
       "    .dataframe thead th {\n",
       "        text-align: right;\n",
       "    }\n",
       "</style>\n",
       "<table border=\"1\" class=\"dataframe\">\n",
       "  <thead>\n",
       "    <tr style=\"text-align: right;\">\n",
       "      <th></th>\n",
       "      <th>partition</th>\n",
       "      <th>state0</th>\n",
       "      <th>state1</th>\n",
       "      <th>state2</th>\n",
       "      <th>state3</th>\n",
       "      <th>row_mean</th>\n",
       "      <th>row_var</th>\n",
       "    </tr>\n",
       "  </thead>\n",
       "  <tbody>\n",
       "    <tr>\n",
       "      <th>5</th>\n",
       "      <td>[[XX, YY, ZZ], [ZI]]</td>\n",
       "      <td>(2.03+0j)</td>\n",
       "      <td>(9.33+0j)</td>\n",
       "      <td>(6.6+0j)</td>\n",
       "      <td>(9.12+0j)</td>\n",
       "      <td>(6.77+0j)</td>\n",
       "      <td>8.65</td>\n",
       "    </tr>\n",
       "    <tr>\n",
       "      <th>2</th>\n",
       "      <td>[[XX, YY], [ZZ, ZI]]</td>\n",
       "      <td>(6.53+0j)</td>\n",
       "      <td>(6.94+0j)</td>\n",
       "      <td>(7.45+0j)</td>\n",
       "      <td>(8.4-0j)</td>\n",
       "      <td>(7.33+0j)</td>\n",
       "      <td>0.49</td>\n",
       "    </tr>\n",
       "    <tr>\n",
       "      <th>12</th>\n",
       "      <td>[[YY], [XX, ZZ], [ZI]]</td>\n",
       "      <td>(7.03+0j)</td>\n",
       "      <td>(9.71+0j)</td>\n",
       "      <td>(8.53+0j)</td>\n",
       "      <td>(9.33-0j)</td>\n",
       "      <td>(8.65-0j)</td>\n",
       "      <td>1.05</td>\n",
       "    </tr>\n",
       "    <tr>\n",
       "      <th>4</th>\n",
       "      <td>[[XX], [YY], [ZZ, ZI]]</td>\n",
       "      <td>(11.66+0j)</td>\n",
       "      <td>(9.81+0j)</td>\n",
       "      <td>(10.35+0j)</td>\n",
       "      <td>(10.06-0j)</td>\n",
       "      <td>(10.47-0j)</td>\n",
       "      <td>0.51</td>\n",
       "    </tr>\n",
       "    <tr>\n",
       "      <th>11</th>\n",
       "      <td>[[XX, YY], [ZZ], [ZI]]</td>\n",
       "      <td>(8.85+0j)</td>\n",
       "      <td>(11.21+0j)</td>\n",
       "      <td>(11.27+0j)</td>\n",
       "      <td>(13.39-0j)</td>\n",
       "      <td>(11.18+0j)</td>\n",
       "      <td>2.58</td>\n",
       "    </tr>\n",
       "    <tr>\n",
       "      <th>7</th>\n",
       "      <td>[[XX], [YY, ZZ], [ZI]]</td>\n",
       "      <td>(8.6+0j)</td>\n",
       "      <td>(14.29+0j)</td>\n",
       "      <td>(10.99+0j)</td>\n",
       "      <td>(12.65+0j)</td>\n",
       "      <td>(11.63+0j)</td>\n",
       "      <td>4.42</td>\n",
       "    </tr>\n",
       "    <tr>\n",
       "      <th>14</th>\n",
       "      <td>[[XX], [YY], [ZZ], [ZI]]</td>\n",
       "      <td>(14.29+0j)</td>\n",
       "      <td>(14.14+0j)</td>\n",
       "      <td>(13.93+0j)</td>\n",
       "      <td>(14.46-0j)</td>\n",
       "      <td>(14.2-0j)</td>\n",
       "      <td>0.04</td>\n",
       "    </tr>\n",
       "  </tbody>\n",
       "</table>\n",
       "</div>"
      ],
      "text/plain": [
       "                   partition      state0      state1      state2      state3  \\\n",
       "5       [[XX, YY, ZZ], [ZI]]   (2.03+0j)   (9.33+0j)    (6.6+0j)   (9.12+0j)   \n",
       "2       [[XX, YY], [ZZ, ZI]]   (6.53+0j)   (6.94+0j)   (7.45+0j)    (8.4-0j)   \n",
       "12    [[YY], [XX, ZZ], [ZI]]   (7.03+0j)   (9.71+0j)   (8.53+0j)   (9.33-0j)   \n",
       "4     [[XX], [YY], [ZZ, ZI]]  (11.66+0j)   (9.81+0j)  (10.35+0j)  (10.06-0j)   \n",
       "11    [[XX, YY], [ZZ], [ZI]]   (8.85+0j)  (11.21+0j)  (11.27+0j)  (13.39-0j)   \n",
       "7     [[XX], [YY, ZZ], [ZI]]    (8.6+0j)  (14.29+0j)  (10.99+0j)  (12.65+0j)   \n",
       "14  [[XX], [YY], [ZZ], [ZI]]  (14.29+0j)  (14.14+0j)  (13.93+0j)  (14.46-0j)   \n",
       "\n",
       "      row_mean  row_var  \n",
       "5    (6.77+0j)     8.65  \n",
       "2    (7.33+0j)     0.49  \n",
       "12   (8.65-0j)     1.05  \n",
       "4   (10.47-0j)     0.51  \n",
       "11  (11.18+0j)     2.58  \n",
       "7   (11.63+0j)     4.42  \n",
       "14   (14.2-0j)     0.04  "
      ]
     },
     "execution_count": 27,
     "metadata": {},
     "output_type": "execute_result"
    }
   ],
   "source": [
    "random_states_mean_state_preps_1"
   ]
  },
  {
   "cell_type": "code",
   "execution_count": 28,
   "metadata": {},
   "outputs": [
    {
     "data": {
      "text/plain": [
       "(0.9329525990607977+0j)"
      ]
     },
     "execution_count": 28,
     "metadata": {},
     "output_type": "execute_result"
    }
   ],
   "source": [
    "np.corrcoef(basis_states_mean_state_preps_1['row_mean'],\n",
    "           random_states_mean_state_preps_1['row_mean'])[0,1]"
   ]
  },
  {
   "cell_type": "markdown",
   "metadata": {},
   "source": [
    "#### When 2 pairs correlate, then in the state where both pairs negatively correlate, there is a low # of state preps needed.\n",
    "#### In the state where both pairs positively correlate, there is a high # of state preps needed.\n",
    "#### In the state where one pair is positive and one pair is negative, there is an intermediate # of state preps needed."
   ]
  },
  {
   "cell_type": "code",
   "execution_count": 21,
   "metadata": {},
   "outputs": [
    {
     "name": "stderr",
     "output_type": "stream",
     "text": [
      "/usr/local/lib/python3.7/site-packages/numpy/core/_methods.py:36: ComplexWarning: Casting complex values to real discards the imaginary part\n",
      "  return umr_sum(a, axis, dtype, out, keepdims, initial)\n",
      "/usr/local/lib/python3.7/site-packages/numpy/core/_methods.py:36: ComplexWarning: Casting complex values to real discards the imaginary part\n",
      "  return umr_sum(a, axis, dtype, out, keepdims, initial)\n"
     ]
    }
   ],
   "source": [
    "basis_states_mean_state_preps_2 = expected_state_preps_for_list_of_states(term_set_2_correlate, basis_states_4)\n",
    "random_states_mean_state_preps_2 = expected_state_preps_for_list_of_states(term_set_2_correlate, random_state_list)"
   ]
  },
  {
   "cell_type": "code",
   "execution_count": 22,
   "metadata": {},
   "outputs": [
    {
     "data": {
      "text/html": [
       "<div>\n",
       "<style scoped>\n",
       "    .dataframe tbody tr th:only-of-type {\n",
       "        vertical-align: middle;\n",
       "    }\n",
       "\n",
       "    .dataframe tbody tr th {\n",
       "        vertical-align: top;\n",
       "    }\n",
       "\n",
       "    .dataframe thead th {\n",
       "        text-align: right;\n",
       "    }\n",
       "</style>\n",
       "<table border=\"1\" class=\"dataframe\">\n",
       "  <thead>\n",
       "    <tr style=\"text-align: right;\">\n",
       "      <th></th>\n",
       "      <th>partition</th>\n",
       "      <th>00</th>\n",
       "      <th>01</th>\n",
       "      <th>10</th>\n",
       "      <th>11</th>\n",
       "      <th>row_mean</th>\n",
       "      <th>row_var</th>\n",
       "    </tr>\n",
       "  </thead>\n",
       "  <tbody>\n",
       "    <tr>\n",
       "      <th>8</th>\n",
       "      <td>[[XY, YZ], [YX, YI]]</td>\n",
       "      <td>(8+0j)</td>\n",
       "      <td>(8+0j)</td>\n",
       "      <td>(8+0j)</td>\n",
       "      <td>(8+0j)</td>\n",
       "      <td>(8+0j)</td>\n",
       "      <td>0.0</td>\n",
       "    </tr>\n",
       "    <tr>\n",
       "      <th>2</th>\n",
       "      <td>[[XY, YX], [YZ, YI]]</td>\n",
       "      <td>(16+0j)</td>\n",
       "      <td>0j</td>\n",
       "      <td>(8+0j)</td>\n",
       "      <td>(8+0j)</td>\n",
       "      <td>(8+0j)</td>\n",
       "      <td>32.0</td>\n",
       "    </tr>\n",
       "    <tr>\n",
       "      <th>10</th>\n",
       "      <td>[[XY], [YZ], [YX, YI]]</td>\n",
       "      <td>(12+0j)</td>\n",
       "      <td>(12+0j)</td>\n",
       "      <td>(12+0j)</td>\n",
       "      <td>(12+0j)</td>\n",
       "      <td>(12+0j)</td>\n",
       "      <td>0.0</td>\n",
       "    </tr>\n",
       "    <tr>\n",
       "      <th>12</th>\n",
       "      <td>[[YX], [XY, YZ], [YI]]</td>\n",
       "      <td>(12+0j)</td>\n",
       "      <td>(12+0j)</td>\n",
       "      <td>(12+0j)</td>\n",
       "      <td>(12+0j)</td>\n",
       "      <td>(12+0j)</td>\n",
       "      <td>0.0</td>\n",
       "    </tr>\n",
       "    <tr>\n",
       "      <th>4</th>\n",
       "      <td>[[XY], [YX], [YZ, YI]]</td>\n",
       "      <td>(18+0j)</td>\n",
       "      <td>(6+0j)</td>\n",
       "      <td>(18+0j)</td>\n",
       "      <td>(6+0j)</td>\n",
       "      <td>(12+0j)</td>\n",
       "      <td>36.0</td>\n",
       "    </tr>\n",
       "    <tr>\n",
       "      <th>11</th>\n",
       "      <td>[[XY, YX], [YZ], [YI]]</td>\n",
       "      <td>(18+0j)</td>\n",
       "      <td>(6+0j)</td>\n",
       "      <td>(6+0j)</td>\n",
       "      <td>(18+0j)</td>\n",
       "      <td>(12+0j)</td>\n",
       "      <td>36.0</td>\n",
       "    </tr>\n",
       "    <tr>\n",
       "      <th>14</th>\n",
       "      <td>[[XY], [YX], [YZ], [YI]]</td>\n",
       "      <td>(16+0j)</td>\n",
       "      <td>(16+0j)</td>\n",
       "      <td>(16+0j)</td>\n",
       "      <td>(16+0j)</td>\n",
       "      <td>(16+0j)</td>\n",
       "      <td>0.0</td>\n",
       "    </tr>\n",
       "  </tbody>\n",
       "</table>\n",
       "</div>"
      ],
      "text/plain": [
       "                   partition       00       01       10       11  row_mean  \\\n",
       "8       [[XY, YZ], [YX, YI]]   (8+0j)   (8+0j)   (8+0j)   (8+0j)    (8+0j)   \n",
       "2       [[XY, YX], [YZ, YI]]  (16+0j)       0j   (8+0j)   (8+0j)    (8+0j)   \n",
       "10    [[XY], [YZ], [YX, YI]]  (12+0j)  (12+0j)  (12+0j)  (12+0j)   (12+0j)   \n",
       "12    [[YX], [XY, YZ], [YI]]  (12+0j)  (12+0j)  (12+0j)  (12+0j)   (12+0j)   \n",
       "4     [[XY], [YX], [YZ, YI]]  (18+0j)   (6+0j)  (18+0j)   (6+0j)   (12+0j)   \n",
       "11    [[XY, YX], [YZ], [YI]]  (18+0j)   (6+0j)   (6+0j)  (18+0j)   (12+0j)   \n",
       "14  [[XY], [YX], [YZ], [YI]]  (16+0j)  (16+0j)  (16+0j)  (16+0j)   (16+0j)   \n",
       "\n",
       "    row_var  \n",
       "8       0.0  \n",
       "2      32.0  \n",
       "10      0.0  \n",
       "12      0.0  \n",
       "4      36.0  \n",
       "11     36.0  \n",
       "14      0.0  "
      ]
     },
     "execution_count": 22,
     "metadata": {},
     "output_type": "execute_result"
    }
   ],
   "source": [
    "basis_states_mean_state_preps_2.columns.values[1:5] = ['00', '01', '10', '11']\n",
    "basis_states_mean_state_preps_2"
   ]
  },
  {
   "cell_type": "code",
   "execution_count": 23,
   "metadata": {},
   "outputs": [
    {
     "data": {
      "text/html": [
       "<div>\n",
       "<style scoped>\n",
       "    .dataframe tbody tr th:only-of-type {\n",
       "        vertical-align: middle;\n",
       "    }\n",
       "\n",
       "    .dataframe tbody tr th {\n",
       "        vertical-align: top;\n",
       "    }\n",
       "\n",
       "    .dataframe thead th {\n",
       "        text-align: right;\n",
       "    }\n",
       "</style>\n",
       "<table border=\"1\" class=\"dataframe\">\n",
       "  <thead>\n",
       "    <tr style=\"text-align: right;\">\n",
       "      <th></th>\n",
       "      <th>partition</th>\n",
       "      <th>state0</th>\n",
       "      <th>state1</th>\n",
       "      <th>state2</th>\n",
       "      <th>state3</th>\n",
       "      <th>row_mean</th>\n",
       "      <th>row_var</th>\n",
       "    </tr>\n",
       "  </thead>\n",
       "  <tbody>\n",
       "    <tr>\n",
       "      <th>2</th>\n",
       "      <td>[[XY, YX], [YZ, YI]]</td>\n",
       "      <td>(4.87+0j)</td>\n",
       "      <td>(5.53+0j)</td>\n",
       "      <td>(6.33+0j)</td>\n",
       "      <td>(5.89-0j)</td>\n",
       "      <td>(5.65+0j)</td>\n",
       "      <td>0.28</td>\n",
       "    </tr>\n",
       "    <tr>\n",
       "      <th>8</th>\n",
       "      <td>[[XY, YZ], [YX, YI]]</td>\n",
       "      <td>(5.86+0j)</td>\n",
       "      <td>(6.7-0j)</td>\n",
       "      <td>(6.2-0j)</td>\n",
       "      <td>(5.5-0j)</td>\n",
       "      <td>(6.07-0j)</td>\n",
       "      <td>0.20</td>\n",
       "    </tr>\n",
       "    <tr>\n",
       "      <th>12</th>\n",
       "      <td>[[YX], [XY, YZ], [YI]]</td>\n",
       "      <td>(7.98+0j)</td>\n",
       "      <td>(7.26-0j)</td>\n",
       "      <td>(7.27-0j)</td>\n",
       "      <td>(8.44+0j)</td>\n",
       "      <td>(7.74-0j)</td>\n",
       "      <td>0.25</td>\n",
       "    </tr>\n",
       "    <tr>\n",
       "      <th>4</th>\n",
       "      <td>[[XY], [YX], [YZ, YI]]</td>\n",
       "      <td>(8.11+0j)</td>\n",
       "      <td>(8+0j)</td>\n",
       "      <td>(9.75+0j)</td>\n",
       "      <td>(8.65+0j)</td>\n",
       "      <td>(8.63+0j)</td>\n",
       "      <td>0.48</td>\n",
       "    </tr>\n",
       "    <tr>\n",
       "      <th>11</th>\n",
       "      <td>[[XY, YX], [YZ], [YI]]</td>\n",
       "      <td>(7.34+0j)</td>\n",
       "      <td>(9.31+0j)</td>\n",
       "      <td>(10.13+0j)</td>\n",
       "      <td>(9.04-0j)</td>\n",
       "      <td>(8.95+0j)</td>\n",
       "      <td>1.03</td>\n",
       "    </tr>\n",
       "    <tr>\n",
       "      <th>10</th>\n",
       "      <td>[[XY], [YZ], [YX, YI]]</td>\n",
       "      <td>(8.96+0j)</td>\n",
       "      <td>(11.79-0j)</td>\n",
       "      <td>(12.42-0j)</td>\n",
       "      <td>(8.67-0j)</td>\n",
       "      <td>(10.46-0j)</td>\n",
       "      <td>2.77</td>\n",
       "    </tr>\n",
       "    <tr>\n",
       "      <th>14</th>\n",
       "      <td>[[XY], [YX], [YZ], [YI]]</td>\n",
       "      <td>(10.86+0j)</td>\n",
       "      <td>(12.01+0j)</td>\n",
       "      <td>(13.86-0j)</td>\n",
       "      <td>(11.81+0j)</td>\n",
       "      <td>(12.13+0j)</td>\n",
       "      <td>1.18</td>\n",
       "    </tr>\n",
       "  </tbody>\n",
       "</table>\n",
       "</div>"
      ],
      "text/plain": [
       "                   partition      state0      state1      state2      state3  \\\n",
       "2       [[XY, YX], [YZ, YI]]   (4.87+0j)   (5.53+0j)   (6.33+0j)   (5.89-0j)   \n",
       "8       [[XY, YZ], [YX, YI]]   (5.86+0j)    (6.7-0j)    (6.2-0j)    (5.5-0j)   \n",
       "12    [[YX], [XY, YZ], [YI]]   (7.98+0j)   (7.26-0j)   (7.27-0j)   (8.44+0j)   \n",
       "4     [[XY], [YX], [YZ, YI]]   (8.11+0j)      (8+0j)   (9.75+0j)   (8.65+0j)   \n",
       "11    [[XY, YX], [YZ], [YI]]   (7.34+0j)   (9.31+0j)  (10.13+0j)   (9.04-0j)   \n",
       "10    [[XY], [YZ], [YX, YI]]   (8.96+0j)  (11.79-0j)  (12.42-0j)   (8.67-0j)   \n",
       "14  [[XY], [YX], [YZ], [YI]]  (10.86+0j)  (12.01+0j)  (13.86-0j)  (11.81+0j)   \n",
       "\n",
       "      row_mean  row_var  \n",
       "2    (5.65+0j)     0.28  \n",
       "8    (6.07-0j)     0.20  \n",
       "12   (7.74-0j)     0.25  \n",
       "4    (8.63+0j)     0.48  \n",
       "11   (8.95+0j)     1.03  \n",
       "10  (10.46-0j)     2.77  \n",
       "14  (12.13+0j)     1.18  "
      ]
     },
     "execution_count": 23,
     "metadata": {},
     "output_type": "execute_result"
    }
   ],
   "source": [
    "random_states_mean_state_preps_2"
   ]
  },
  {
   "cell_type": "code",
   "execution_count": 24,
   "metadata": {},
   "outputs": [
    {
     "data": {
      "text/plain": [
       "(0.9361084326040777+0j)"
      ]
     },
     "execution_count": 24,
     "metadata": {},
     "output_type": "execute_result"
    }
   ],
   "source": [
    "np.corrcoef(basis_states_mean_state_preps_2['row_mean'],\n",
    "           random_states_mean_state_preps_2['row_mean'])[0,1]"
   ]
  },
  {
   "cell_type": "code",
   "execution_count": null,
   "metadata": {},
   "outputs": [],
   "source": []
  },
  {
   "cell_type": "code",
   "execution_count": null,
   "metadata": {},
   "outputs": [],
   "source": []
  },
  {
   "cell_type": "markdown",
   "metadata": {},
   "source": [
    "## Lithium Hydride"
   ]
  },
  {
   "cell_type": "markdown",
   "metadata": {},
   "source": [
    "### Read in Hamiltonians"
   ]
  },
  {
   "cell_type": "code",
   "execution_count": null,
   "metadata": {},
   "outputs": [],
   "source": [
    "def construct_full_term_string(specified_term_list, n):\n",
    "    \"\"\"\n",
    "    Given a list of terms, e.g. ['X1', 'Z3'] \n",
    "    Input:\n",
    "      List of specified terms: e.g. ['X1', 'Z3']\n",
    "      Number of total terms: e.g. 4\n",
    "    Outputs:\n",
    "      String of the full term, e.g. IXIZ\n",
    "    \"\"\"\n",
    "    building_string = ['I']*n # default is that the position should be an I\n",
    "    for term in specified_term_list:\n",
    "        split_string = list(term) # e.g. list('X1') becomes ['X', '1']\n",
    "        building_string[int(split_string[1])] = split_string[0]\n",
    "    return(''.join(building_string))"
   ]
  },
  {
   "cell_type": "code",
   "execution_count": null,
   "metadata": {},
   "outputs": [],
   "source": [
    "from term_grouping import parseHamiltonian\n",
    "sample_h1 = parseHamiltonian('hamiltonians/sampleH1.txt')\n",
    "sample_h1_terms = [construct_full_term_string(x[1], 4) for x in sample_h1]\n",
    "sample_h1_coefs = [x[0] for x in sample_h1]\n",
    "print(sample_h1_terms)\n",
    "print(sample_h1_coefs)\n",
    "\n",
    "lih_jw = parseHamiltonian('hamiltonians/LiH_JW.txt')\n",
    "lih_jw_terms = [construct_full_term_string(x[1], 4) for x in lih_jw]\n",
    "lih_jw_coefs = [x[0] for x in lih_jw]\n",
    "print(lih_jw_terms)\n",
    "print(lih_jw_coefs)\n",
    "\n",
    "lih_bk = parseHamiltonian('hamiltonians/LiH_BK.txt')\n",
    "lih_bk_terms = [construct_full_term_string(x[1], 4) for x in lih_bk]\n",
    "lih_bk_coefs = [x[0] for x in lih_bk]\n",
    "print(lih_bk_terms)\n",
    "print(lih_bk_coefs)"
   ]
  },
  {
   "cell_type": "code",
   "execution_count": null,
   "metadata": {},
   "outputs": [],
   "source": [
    "basis_states_16 = [qutip.basis(16,i).full() for i in range(16)]"
   ]
  },
  {
   "cell_type": "code",
   "execution_count": null,
   "metadata": {},
   "outputs": [],
   "source": [
    "# TIMES OUT\n",
    "# calculate_expected_state_preps_valid_partitions(lih_jw_terms, basis_states_16[0])"
   ]
  },
  {
   "cell_type": "markdown",
   "metadata": {},
   "source": [
    "### Optimal groupings for LiH_BK"
   ]
  },
  {
   "cell_type": "code",
   "execution_count": null,
   "metadata": {},
   "outputs": [],
   "source": []
  },
  {
   "cell_type": "markdown",
   "metadata": {},
   "source": [
    "### Optimal groupings for LiH_JW"
   ]
  },
  {
   "cell_type": "code",
   "execution_count": null,
   "metadata": {},
   "outputs": [],
   "source": []
  }
 ],
 "metadata": {
  "kernelspec": {
   "display_name": "Python 3",
   "language": "python",
   "name": "python3"
  },
  "language_info": {
   "codemirror_mode": {
    "name": "ipython",
    "version": 3
   },
   "file_extension": ".py",
   "mimetype": "text/x-python",
   "name": "python",
   "nbconvert_exporter": "python",
   "pygments_lexer": "ipython3",
   "version": "3.7.3"
  }
 },
 "nbformat": 4,
 "nbformat_minor": 2
}
