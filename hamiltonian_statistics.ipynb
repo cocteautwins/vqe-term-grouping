{
 "cells": [
  {
   "cell_type": "code",
   "execution_count": 1,
   "metadata": {},
   "outputs": [],
   "source": [
    "import numpy as np\n",
    "import pandas as pd"
   ]
  },
  {
   "cell_type": "markdown",
   "metadata": {},
   "source": [
    "---\n",
    "### Setting up basic matrices:\n",
    "The Pauli matrices are the four 2x2 matrices, I, X, Y, Z.\n",
    "For this example, we have a 4x4 Hamiltonian that is decomposed into IZ, ZI, XX, YY, and ZZ terms (this notation is not matrix multiplication--it is a Kronecker product, which takes two 2x2 matrices and gives a 4x4 matrix)."
   ]
  },
  {
   "cell_type": "code",
   "execution_count": 2,
   "metadata": {},
   "outputs": [],
   "source": [
    "I = np.eye(2)\n",
    "X = np.array([[0., 1.],\n",
    "              [1., 0.]])\n",
    "Y = np.array([[0., -1j],\n",
    "              [1j, 0.]])\n",
    "Z = np.array([[1., 0.],\n",
    "              [0., -1.]])"
   ]
  },
  {
   "cell_type": "code",
   "execution_count": 3,
   "metadata": {},
   "outputs": [
    {
     "name": "stdout",
     "output_type": "stream",
     "text": [
      "[[ 1.  0.  0.  0.]\n",
      " [ 0. -1.  0. -0.]\n",
      " [ 0.  0.  1.  0.]\n",
      " [ 0. -0.  0. -1.]]\n"
     ]
    }
   ],
   "source": [
    "IZ = np.kron(I, Z)\n",
    "print(IZ)"
   ]
  },
  {
   "cell_type": "code",
   "execution_count": 4,
   "metadata": {},
   "outputs": [
    {
     "name": "stdout",
     "output_type": "stream",
     "text": [
      "[[ 1.  0.  0.  0.]\n",
      " [ 0.  1.  0.  0.]\n",
      " [ 0.  0. -1. -0.]\n",
      " [ 0.  0. -0. -1.]]\n"
     ]
    }
   ],
   "source": [
    "ZI = np.kron(Z, I)\n",
    "print(ZI)"
   ]
  },
  {
   "cell_type": "code",
   "execution_count": 5,
   "metadata": {},
   "outputs": [
    {
     "name": "stdout",
     "output_type": "stream",
     "text": [
      "[[0. 0. 0. 1.]\n",
      " [0. 0. 1. 0.]\n",
      " [0. 1. 0. 0.]\n",
      " [1. 0. 0. 0.]]\n"
     ]
    }
   ],
   "source": [
    "XX = np.kron(X, X)\n",
    "print(XX)"
   ]
  },
  {
   "cell_type": "code",
   "execution_count": 6,
   "metadata": {},
   "outputs": [
    {
     "name": "stdout",
     "output_type": "stream",
     "text": [
      "[[ 0.+0.j  0.-0.j  0.-0.j -1.+0.j]\n",
      " [ 0.+0.j  0.+0.j  1.-0.j  0.-0.j]\n",
      " [ 0.+0.j  1.-0.j  0.+0.j  0.-0.j]\n",
      " [-1.+0.j  0.+0.j  0.+0.j  0.+0.j]]\n"
     ]
    }
   ],
   "source": [
    "YY = np.kron(Y, Y)\n",
    "print(YY)"
   ]
  },
  {
   "cell_type": "code",
   "execution_count": 7,
   "metadata": {},
   "outputs": [
    {
     "name": "stdout",
     "output_type": "stream",
     "text": [
      "[[ 1.  0.  0.  0.]\n",
      " [ 0. -1.  0. -0.]\n",
      " [ 0.  0. -1. -0.]\n",
      " [ 0. -0. -0.  1.]]\n"
     ]
    }
   ],
   "source": [
    "ZZ = np.kron(Z, Z)\n",
    "print(ZZ)"
   ]
  },
  {
   "cell_type": "markdown",
   "metadata": {},
   "source": [
    "----\n",
    "### Hamiltonian\n",
    "We consider the Hamiltonian:\n",
    "$H = IZ + ZI - XX - YY + ZZ$"
   ]
  },
  {
   "cell_type": "code",
   "execution_count": 8,
   "metadata": {},
   "outputs": [
    {
     "name": "stdout",
     "output_type": "stream",
     "text": [
      "[[ 3.+0.j  0.+0.j  0.+0.j  0.+0.j]\n",
      " [ 0.+0.j -1.+0.j -2.+0.j  0.+0.j]\n",
      " [ 0.+0.j -2.+0.j -1.+0.j  0.+0.j]\n",
      " [ 0.+0.j  0.+0.j  0.+0.j -1.+0.j]]\n"
     ]
    }
   ],
   "source": [
    "H = IZ + ZI - XX - YY + ZZ\n",
    "print(H)"
   ]
  },
  {
   "cell_type": "markdown",
   "metadata": {},
   "source": [
    "---\n",
    "### Measuring an observable\n",
    "An observable is a matrix that we can measure against a state $\\vec{\\psi}$. The Hamiltonian is an observable. So are the Pauli terms that it is written as a sum of.\n",
    "\n",
    "To measure some observable matrix $M$ with respect to a state $\\vec{\\psi}$, we just compute $\\vec{\\psi}^{\\dagger} M \\vec{\\psi}$. The $\\dagger$ means conjugate transpose = transpose the matrix and then take complex conjugates. In this specific example, all the numbers are real, so it happens to be the same as an ordinary matrix transpose.\n",
    "\n",
    "Here is a helper method that does everything for us:"
   ]
  },
  {
   "cell_type": "code",
   "execution_count": 9,
   "metadata": {},
   "outputs": [],
   "source": [
    "def expected_value(M, state):\n",
    "    return np.asmatrix(state).getH() @ M @ state  # .getH() does conjugate tranpose"
   ]
  },
  {
   "cell_type": "markdown",
   "metadata": {},
   "source": [
    "---\n",
    "### Let's try for $\\vec{\\psi} = [0, 1, 0, 0]^T$"
   ]
  },
  {
   "cell_type": "code",
   "execution_count": 10,
   "metadata": {},
   "outputs": [],
   "source": [
    "state = np.array([[0.], [1.], [0.], [0.]])"
   ]
  },
  {
   "cell_type": "markdown",
   "metadata": {},
   "source": [
    "#### Method 1: measure $H$ directly\n",
    "A quantum computer can't actually measure $H$ directly, but let's just check what the answer should be."
   ]
  },
  {
   "cell_type": "code",
   "execution_count": 11,
   "metadata": {},
   "outputs": [
    {
     "name": "stdout",
     "output_type": "stream",
     "text": [
      "[[-1.+0.j]]\n"
     ]
    }
   ],
   "source": [
    "print(expected_value(H, state))"
   ]
  },
  {
   "cell_type": "markdown",
   "metadata": {},
   "source": [
    "#### Method 2: linearity of expectation\n",
    "A quantum computer can compute the Pauli observables though. So let's use linearity of expectation instead:"
   ]
  },
  {
   "cell_type": "code",
   "execution_count": 12,
   "metadata": {},
   "outputs": [
    {
     "name": "stdout",
     "output_type": "stream",
     "text": [
      "[[-1.]] [[1.]] [[0.]] [[0.+0.j]] [[-1.]]\n",
      "[[-1.+0.j]]\n"
     ]
    }
   ],
   "source": [
    "IZ_expectation = expected_value(IZ, state)\n",
    "ZI_expectation = expected_value(ZI, state)\n",
    "XX_expectation = expected_value(XX, state)\n",
    "YY_expectation = expected_value(YY, state)\n",
    "ZZ_expectation = expected_value(ZZ, state)\n",
    "print(IZ_expectation, ZI_expectation, XX_expectation, YY_expectation, ZZ_expectation)\n",
    "print(IZ_expectation + ZI_expectation - XX_expectation - YY_expectation + ZZ_expectation)"
   ]
  },
  {
   "cell_type": "markdown",
   "metadata": {},
   "source": [
    "Yup, we got -1 both ways!"
   ]
  },
  {
   "cell_type": "markdown",
   "metadata": {},
   "source": [
    "---\n",
    "### Variances / Covariances"
   ]
  },
  {
   "cell_type": "code",
   "execution_count": 13,
   "metadata": {},
   "outputs": [],
   "source": [
    "def variance(M, state):\n",
    "    # variances is <M^2> - <M>^2\n",
    "    return expected_value(M @ M, state) - expected_value(M, state) ** 2\n",
    "\n",
    "def covariance(M_1, M_2, state):\n",
    "    return expected_value(M_1 @ M_2, state) - expected_value(M_1, state) * expected_value(M_2, state)"
   ]
  },
  {
   "cell_type": "markdown",
   "metadata": {},
   "source": [
    "The cells below show that:\n",
    "- Var(H) = 4\n",
    "- Var(IZ) + Var(ZI) + Var(XX) + Var(YY) + Var(ZZ) = 2 -- not equal because we need to account for covariances\n",
    "- the summed covariances do indeed equal 4. Note that the XX and ZZ"
   ]
  },
  {
   "cell_type": "code",
   "execution_count": 14,
   "metadata": {},
   "outputs": [
    {
     "data": {
      "text/plain": [
       "matrix([[4.+0.j]])"
      ]
     },
     "execution_count": 14,
     "metadata": {},
     "output_type": "execute_result"
    }
   ],
   "source": [
    "variance(H, state)"
   ]
  },
  {
   "cell_type": "code",
   "execution_count": 15,
   "metadata": {},
   "outputs": [
    {
     "data": {
      "text/plain": [
       "matrix([[0.]])"
      ]
     },
     "execution_count": 15,
     "metadata": {},
     "output_type": "execute_result"
    }
   ],
   "source": [
    "variance(IZ, state)"
   ]
  },
  {
   "cell_type": "code",
   "execution_count": 16,
   "metadata": {},
   "outputs": [
    {
     "data": {
      "text/plain": [
       "matrix([[0.]])"
      ]
     },
     "execution_count": 16,
     "metadata": {},
     "output_type": "execute_result"
    }
   ],
   "source": [
    "variance(ZI, state)"
   ]
  },
  {
   "cell_type": "code",
   "execution_count": 17,
   "metadata": {},
   "outputs": [
    {
     "data": {
      "text/plain": [
       "matrix([[1.]])"
      ]
     },
     "execution_count": 17,
     "metadata": {},
     "output_type": "execute_result"
    }
   ],
   "source": [
    "variance(XX, state)"
   ]
  },
  {
   "cell_type": "code",
   "execution_count": 18,
   "metadata": {},
   "outputs": [
    {
     "data": {
      "text/plain": [
       "matrix([[1.+0.j]])"
      ]
     },
     "execution_count": 18,
     "metadata": {},
     "output_type": "execute_result"
    }
   ],
   "source": [
    "variance(YY, state)"
   ]
  },
  {
   "cell_type": "code",
   "execution_count": 19,
   "metadata": {},
   "outputs": [
    {
     "data": {
      "text/plain": [
       "matrix([[0.]])"
      ]
     },
     "execution_count": 19,
     "metadata": {},
     "output_type": "execute_result"
    }
   ],
   "source": [
    "variance(ZZ, state)"
   ]
  },
  {
   "cell_type": "code",
   "execution_count": 20,
   "metadata": {},
   "outputs": [
    {
     "name": "stdout",
     "output_type": "stream",
     "text": [
      "[[1.]] 2 2\n",
      "[[1.+0.j]] 2 3\n",
      "[[1.+0.j]] 3 2\n",
      "[[1.+0.j]] 3 3\n",
      "Variance from summed covariances is [[4.+0.j]]\n"
     ]
    }
   ],
   "source": [
    "terms, coefficients = [IZ, ZI, XX, YY, ZZ], [1., 1., -1., -1., 1.]\n",
    "total = np.array([[0.+0.j]])\n",
    "for i in range(5):\n",
    "    for j in range(5):\n",
    "        cov = covariance(terms[i], terms[j], state)\n",
    "        if cov != 0:\n",
    "            print(cov, i, j)\n",
    "            total += (coefficients[i] * coefficients[j] * covariance(terms[i], terms[j], state))\n",
    "print('Variance from summed covariances is %s' % total)"
   ]
  },
  {
   "cell_type": "markdown",
   "metadata": {},
   "source": [
    "----\n",
    "### Different State, $\\vec{\\psi} = [0.43 - 0.16i, -0.49, 0.44i, -0.39 + 0.46i]$"
   ]
  },
  {
   "cell_type": "code",
   "execution_count": 164,
   "metadata": {},
   "outputs": [],
   "source": [
    "state = np.array([[0.43 - 0.16j], [-0.49], [0.43j], [-0.39 + 0.46j]])"
   ]
  },
  {
   "cell_type": "code",
   "execution_count": 22,
   "metadata": {},
   "outputs": [
    {
     "data": {
      "text/plain": [
       "matrix([[4.35848816-2.22044605e-16j]])"
      ]
     },
     "execution_count": 22,
     "metadata": {},
     "output_type": "execute_result"
    }
   ],
   "source": [
    "variance(H, state)"
   ]
  },
  {
   "cell_type": "code",
   "execution_count": 23,
   "metadata": {},
   "outputs": [
    {
     "data": {
      "text/plain": [
       "(matrix([[0.95576944+0.j]]),\n",
       " matrix([[0.989596+0.j]]),\n",
       " matrix([[0.76629724+6.6974204e-18j]]),\n",
       " matrix([[0.76629724+0.j]]),\n",
       " matrix([[0.97693936+0.j]]))"
      ]
     },
     "execution_count": 23,
     "metadata": {},
     "output_type": "execute_result"
    }
   ],
   "source": [
    "variance(IZ, state), variance(ZI, state), variance(-XX, state), variance(-YY, state), variance(ZZ, state)"
   ]
  },
  {
   "cell_type": "code",
   "execution_count": 24,
   "metadata": {},
   "outputs": [
    {
     "name": "stdout",
     "output_type": "stream",
     "text": [
      "[[0.1287768+0.j]]\n",
      "[[-0.06690672+0.j]]\n",
      "[[-0.1937784+0.j]]\n",
      "[[0.08370276-3.3487102e-18j]]\n",
      "[[0.41059608+1.03528297e-18j]]\n",
      "[[-0.41059608+6.9388939e-18j]]\n"
     ]
    }
   ],
   "source": [
    "print(covariance(IZ, ZI, state))\n",
    "print(covariance(IZ, ZZ, state))\n",
    "print(covariance(ZI, ZZ, state))\n",
    "print(covariance(-XX, -YY, state))\n",
    "print(covariance(-XX, ZZ, state))\n",
    "print(covariance(-YY, ZZ, state))"
   ]
  },
  {
   "cell_type": "code",
   "execution_count": 25,
   "metadata": {},
   "outputs": [
    {
     "data": {
      "text/plain": [
       "22.2744964"
      ]
     },
     "execution_count": 25,
     "metadata": {},
     "output_type": "execute_result"
    }
   ],
   "source": [
    "# Setting 1 (measure all terms separately) would require a number of state preparations equal to:\n",
    "5 * (0.95576944 + 0.989596 + 0.76629724 + 0.76629724 + 0.97693936)"
   ]
  },
  {
   "cell_type": "code",
   "execution_count": 26,
   "metadata": {},
   "outputs": [
    {
     "data": {
      "text/plain": [
       "14.6395752"
      ]
     },
     "execution_count": 26,
     "metadata": {},
     "output_type": "execute_result"
    }
   ],
   "source": [
    "# Setting 2 (measure {XX}, {YY, ZZ}, {IZ, ZI}) would require a number of state preparations equal to:\n",
    "3 * (0.95576944 + 0.989596 + 0.76629724 + 0.76629724 + 0.97693936 + 2*0.08370276 + 2*0.1287768)"
   ]
  },
  {
   "cell_type": "code",
   "execution_count": 27,
   "metadata": {},
   "outputs": [
    {
     "data": {
      "text/plain": [
       "9.7597168"
      ]
     },
     "execution_count": 27,
     "metadata": {},
     "output_type": "execute_result"
    }
   ],
   "source": [
    "# Setting 3 (measure {XX, YY, ZZ}, {IZ, ZI}) would require a number of state preparations equal to:\n",
    "2 * (0.95576944 + 0.989596 + 0.76629724 + 0.76629724 + 0.97693936 + 2*0.08370276 + 2*0.41059608 + 2*-0.41059608 + 2*0.1287768)"
   ]
  },
  {
   "cell_type": "markdown",
   "metadata": {},
   "source": [
    "### Programatically finding optimal groupings"
   ]
  },
  {
   "cell_type": "code",
   "execution_count": 28,
   "metadata": {},
   "outputs": [],
   "source": [
    "def variance_grouping(grouping, state):\n",
    "    \"\"\"\n",
    "    Computes the variance of a grouping, via the formula\n",
    "             Var(A+B) = Var(A) + Var(B) + 2*Cov(A,B)\n",
    "    Inputs:\n",
    "       Grouping (as a list, e.g. [-XX, -YY, ZZ])\n",
    "       State (as a np.array, e.g. np.array([[0.], [1.], [0.], [0.]]))\n",
    "    \"\"\"\n",
    "    running_variance = sum([variance(term, state) for term in grouping])\n",
    "    grouping_size = len(grouping)\n",
    "    for i in range(grouping_size):\n",
    "        for j in range(i):\n",
    "            running_variance += 2*covariance(grouping[i], grouping[j], state)\n",
    "    return(np.asscalar(running_variance))"
   ]
  },
  {
   "cell_type": "code",
   "execution_count": 29,
   "metadata": {},
   "outputs": [],
   "source": [
    "# # Credit to: https://stackoverflow.com/questions/19368375/set-partitions-in-python\n",
    "def partition(collection):\n",
    "    if len(collection) == 1:\n",
    "        yield [ collection ]\n",
    "        return\n",
    "\n",
    "    first = collection[0]\n",
    "    for smaller in partition(collection[1:]):\n",
    "        # insert `first` in each of the subpartition's subsets\n",
    "        for n, subset in enumerate(smaller):\n",
    "            yield smaller[:n] + [[ first ] + subset]  + smaller[n+1:]\n",
    "        # put `first` in its own subset \n",
    "        yield [ [ first ] ] + smaller\n"
   ]
  },
  {
   "cell_type": "code",
   "execution_count": 30,
   "metadata": {},
   "outputs": [],
   "source": [
    "def grouping_is_pairwise_commuting(grouping_to_test):\n",
    "    \"\"\"\n",
    "    Computes whether all pairs within a grouping commute (in a general sense).\n",
    "    Inputs:\n",
    "        grouping_to_test: a single list of *strings*, e.g. [\"-XX\", \"-YY\", \"ZZ\", \"IZ\", \"ZI\"]\n",
    "    Returns:\n",
    "        True if all pairs commute; False if not all pairs commute\n",
    "    \"\"\"\n",
    "    evaled_grouping_to_test = [eval(term) for term in grouping_to_test]\n",
    "    running_sum = 0\n",
    "    for i in range(len(evaled_grouping_to_test)):\n",
    "        for j in range(i+1, len(evaled_grouping_to_test)):\n",
    "            # RHS evaluates to 1 if non-commuting, 0 if commuting\n",
    "            running_sum += not np.array_equal(evaled_grouping_to_test[i] @ evaled_grouping_to_test[j],\n",
    "                               evaled_grouping_to_test[j] @ evaled_grouping_to_test[i])\n",
    "    # sum will be 0 iff all pairs commute\n",
    "    return(running_sum == 0)\n",
    "\n",
    "def is_valid_partition(partition):\n",
    "    \"\"\"\n",
    "    Computes whether all groupings within a partition are pairwise commuting.\n",
    "    Inputs:\n",
    "        partition: a list of lists of strings, e.g. [['-XX', '-YY'], ['ZZ', 'IZ', 'ZI']]\n",
    "    Outputs:\n",
    "        1 if all groupings within the partition are pairwise commuting. Else 0.\n",
    "    \"\"\"\n",
    "    return(sum([grouping_is_pairwise_commuting(grouping) for grouping in partition]) == len(partition))"
   ]
  },
  {
   "cell_type": "code",
   "execution_count": 66,
   "metadata": {},
   "outputs": [
    {
     "data": {
      "text/html": [
       "<div>\n",
       "<style scoped>\n",
       "    .dataframe tbody tr th:only-of-type {\n",
       "        vertical-align: middle;\n",
       "    }\n",
       "\n",
       "    .dataframe tbody tr th {\n",
       "        vertical-align: top;\n",
       "    }\n",
       "\n",
       "    .dataframe thead th {\n",
       "        text-align: right;\n",
       "    }\n",
       "</style>\n",
       "<table border=\"1\" class=\"dataframe\">\n",
       "  <thead>\n",
       "    <tr style=\"text-align: right;\">\n",
       "      <th></th>\n",
       "      <th>partition</th>\n",
       "      <th>expected_state_preps</th>\n",
       "    </tr>\n",
       "  </thead>\n",
       "  <tbody>\n",
       "    <tr>\n",
       "      <th>7</th>\n",
       "      <td>[[-XX], [-YY, ZZ], [IZ, ZI]]</td>\n",
       "      <td>(6+0j)</td>\n",
       "    </tr>\n",
       "    <tr>\n",
       "      <th>12</th>\n",
       "      <td>[[-YY], [-XX, ZZ], [IZ, ZI]]</td>\n",
       "      <td>(6+0j)</td>\n",
       "    </tr>\n",
       "    <tr>\n",
       "      <th>4</th>\n",
       "      <td>[[-XX], [-YY], [ZZ, IZ, ZI]]</td>\n",
       "      <td>(6+0j)</td>\n",
       "    </tr>\n",
       "    <tr>\n",
       "      <th>48</th>\n",
       "      <td>[[-YY], [-XX, ZZ], [IZ], [ZI]]</td>\n",
       "      <td>(8+0j)</td>\n",
       "    </tr>\n",
       "    <tr>\n",
       "      <th>38</th>\n",
       "      <td>[[-XX], [-YY, ZZ], [IZ], [ZI]]</td>\n",
       "      <td>(8+0j)</td>\n",
       "    </tr>\n",
       "    <tr>\n",
       "      <th>34</th>\n",
       "      <td>[[-XX], [-YY], [IZ], [ZZ, ZI]]</td>\n",
       "      <td>(8+0j)</td>\n",
       "    </tr>\n",
       "    <tr>\n",
       "      <th>14</th>\n",
       "      <td>[[-XX], [-YY], [ZZ], [IZ, ZI]]</td>\n",
       "      <td>(8+0j)</td>\n",
       "    </tr>\n",
       "    <tr>\n",
       "      <th>24</th>\n",
       "      <td>[[-XX], [-YY], [ZZ, IZ], [ZI]]</td>\n",
       "      <td>(8+0j)</td>\n",
       "    </tr>\n",
       "    <tr>\n",
       "      <th>2</th>\n",
       "      <td>[[-XX, -YY], [ZZ, IZ, ZI]]</td>\n",
       "      <td>(8+0j)</td>\n",
       "    </tr>\n",
       "    <tr>\n",
       "      <th>5</th>\n",
       "      <td>[[-XX, -YY, ZZ], [IZ, ZI]]</td>\n",
       "      <td>(8+0j)</td>\n",
       "    </tr>\n",
       "    <tr>\n",
       "      <th>51</th>\n",
       "      <td>[[-XX], [-YY], [ZZ], [IZ], [ZI]]</td>\n",
       "      <td>(10+0j)</td>\n",
       "    </tr>\n",
       "    <tr>\n",
       "      <th>31</th>\n",
       "      <td>[[-XX, -YY], [IZ], [ZZ, ZI]]</td>\n",
       "      <td>(12+0j)</td>\n",
       "    </tr>\n",
       "    <tr>\n",
       "      <th>21</th>\n",
       "      <td>[[-XX, -YY], [ZZ, IZ], [ZI]]</td>\n",
       "      <td>(12+0j)</td>\n",
       "    </tr>\n",
       "    <tr>\n",
       "      <th>11</th>\n",
       "      <td>[[-XX, -YY], [ZZ], [IZ, ZI]]</td>\n",
       "      <td>(12+0j)</td>\n",
       "    </tr>\n",
       "    <tr>\n",
       "      <th>35</th>\n",
       "      <td>[[-XX, -YY, ZZ], [IZ], [ZI]]</td>\n",
       "      <td>(12+0j)</td>\n",
       "    </tr>\n",
       "    <tr>\n",
       "      <th>47</th>\n",
       "      <td>[[-XX, -YY], [ZZ], [IZ], [ZI]]</td>\n",
       "      <td>(16+0j)</td>\n",
       "    </tr>\n",
       "  </tbody>\n",
       "</table>\n",
       "</div>"
      ],
      "text/plain": [
       "                           partition  expected_state_preps\n",
       "7       [[-XX], [-YY, ZZ], [IZ, ZI]]                (6+0j)\n",
       "12      [[-YY], [-XX, ZZ], [IZ, ZI]]                (6+0j)\n",
       "4       [[-XX], [-YY], [ZZ, IZ, ZI]]                (6+0j)\n",
       "48    [[-YY], [-XX, ZZ], [IZ], [ZI]]                (8+0j)\n",
       "38    [[-XX], [-YY, ZZ], [IZ], [ZI]]                (8+0j)\n",
       "34    [[-XX], [-YY], [IZ], [ZZ, ZI]]                (8+0j)\n",
       "14    [[-XX], [-YY], [ZZ], [IZ, ZI]]                (8+0j)\n",
       "24    [[-XX], [-YY], [ZZ, IZ], [ZI]]                (8+0j)\n",
       "2         [[-XX, -YY], [ZZ, IZ, ZI]]                (8+0j)\n",
       "5         [[-XX, -YY, ZZ], [IZ, ZI]]                (8+0j)\n",
       "51  [[-XX], [-YY], [ZZ], [IZ], [ZI]]               (10+0j)\n",
       "31      [[-XX, -YY], [IZ], [ZZ, ZI]]               (12+0j)\n",
       "21      [[-XX, -YY], [ZZ, IZ], [ZI]]               (12+0j)\n",
       "11      [[-XX, -YY], [ZZ], [IZ, ZI]]               (12+0j)\n",
       "35      [[-XX, -YY, ZZ], [IZ], [ZI]]               (12+0j)\n",
       "47    [[-XX, -YY], [ZZ], [IZ], [ZI]]               (16+0j)"
      ]
     },
     "execution_count": 66,
     "metadata": {},
     "output_type": "execute_result"
    }
   ],
   "source": [
    "def calculate_expected_state_preps_valid_partitions(term_set, state):\n",
    "    \"\"\"\n",
    "    Computes the expected number of state preparations given every valid partition of a set of terms.\n",
    "    A valid partition is one in which all groupings are pairwise commuting.\n",
    "    Inputs:\n",
    "        term_set: list of *strings*, e.g. [\"-XX\", \"-YY\", \"ZZ\", \"IZ\", \"ZI\"]\n",
    "        state: as a np.array, e.g. np.array([[0.], [1.], [0.], [0.]]))\n",
    "    \"\"\"\n",
    "    evaled_term_set = [eval(term) for term in term_set]\n",
    "    term_list = []\n",
    "    expected_state_prep_list = []\n",
    "    for pp in partition(list(range(len(term_set)))):\n",
    "         term_list.append([list(np.array(term_set)[grouping]) for grouping in pp])\n",
    "         expected_state_prep_list.append(sum([variance_grouping(np.array(evaled_term_set)[indices], state)*len(pp) for indices in pp]))\n",
    "    partition_list = pd.DataFrame({'partition': term_list, 'expected_state_preps': expected_state_prep_list}).sort_values(by=[\"expected_state_preps\"])\n",
    "    # Eliminate invalid partitions that contain groupings that are non-pairwise-computing.\n",
    "    return(partition_list[partition_list['partition'].apply(lambda partition: is_valid_partition(partition))])\n",
    "\n",
    "# Aspuru-Guzik example\n",
    "test_term_set = [\"-XX\", \"-YY\", \"ZZ\", \"IZ\", \"ZI\"]\n",
    "state = np.array([[0], [1], [0], [0]])\n",
    "\n",
    "partition_list = calculate_expected_state_preps_valid_partitions(test_term_set, state)\n",
    "partition_list\n"
   ]
  },
  {
   "cell_type": "code",
   "execution_count": 46,
   "metadata": {},
   "outputs": [],
   "source": [
    "# Helper function: print all pairwise covariances across commuting terms\n",
    "def pairwise_covariances_commuting_terms(term_set, state):\n",
    "    covariance_list = []\n",
    "    evaled_term_set = [eval(term) for term in term_set]\n",
    "    for i in range(len(evaled_term_set)):\n",
    "        for j in range(i+1, len(evaled_term_set)):\n",
    "            # evaluates to 1 if commuting, 0 if non-commuting\n",
    "            if np.array_equal(evaled_term_set[i] @ evaled_term_set[j],\n",
    "                               evaled_term_set[j] @ evaled_term_set[i]):\n",
    "                covariance_list.append([term_set[i], term_set[j], covariance(evaled_term_set[i], evaled_term_set[j], state).item()])\n",
    "    return(pd.DataFrame(covariance_list, columns=[\"term 1\", \"term 2\", \"covariance\"]))"
   ]
  },
  {
   "cell_type": "code",
   "execution_count": 47,
   "metadata": {},
   "outputs": [
    {
     "data": {
      "text/html": [
       "<div>\n",
       "<style scoped>\n",
       "    .dataframe tbody tr th:only-of-type {\n",
       "        vertical-align: middle;\n",
       "    }\n",
       "\n",
       "    .dataframe tbody tr th {\n",
       "        vertical-align: top;\n",
       "    }\n",
       "\n",
       "    .dataframe thead th {\n",
       "        text-align: right;\n",
       "    }\n",
       "</style>\n",
       "<table border=\"1\" class=\"dataframe\">\n",
       "  <thead>\n",
       "    <tr style=\"text-align: right;\">\n",
       "      <th></th>\n",
       "      <th>term 1</th>\n",
       "      <th>term 2</th>\n",
       "      <th>covariance</th>\n",
       "    </tr>\n",
       "  </thead>\n",
       "  <tbody>\n",
       "    <tr>\n",
       "      <th>0</th>\n",
       "      <td>-XX</td>\n",
       "      <td>-YY</td>\n",
       "      <td>(1+0j)</td>\n",
       "    </tr>\n",
       "    <tr>\n",
       "      <th>1</th>\n",
       "      <td>-XX</td>\n",
       "      <td>ZZ</td>\n",
       "      <td>0j</td>\n",
       "    </tr>\n",
       "    <tr>\n",
       "      <th>2</th>\n",
       "      <td>-YY</td>\n",
       "      <td>ZZ</td>\n",
       "      <td>0j</td>\n",
       "    </tr>\n",
       "    <tr>\n",
       "      <th>3</th>\n",
       "      <td>ZZ</td>\n",
       "      <td>IZ</td>\n",
       "      <td>0j</td>\n",
       "    </tr>\n",
       "    <tr>\n",
       "      <th>4</th>\n",
       "      <td>ZZ</td>\n",
       "      <td>ZI</td>\n",
       "      <td>0j</td>\n",
       "    </tr>\n",
       "    <tr>\n",
       "      <th>5</th>\n",
       "      <td>IZ</td>\n",
       "      <td>ZI</td>\n",
       "      <td>0j</td>\n",
       "    </tr>\n",
       "  </tbody>\n",
       "</table>\n",
       "</div>"
      ],
      "text/plain": [
       "  term 1 term 2  covariance\n",
       "0    -XX    -YY      (1+0j)\n",
       "1    -XX     ZZ          0j\n",
       "2    -YY     ZZ          0j\n",
       "3     ZZ     IZ          0j\n",
       "4     ZZ     ZI          0j\n",
       "5     IZ     ZI          0j"
      ]
     },
     "execution_count": 47,
     "metadata": {},
     "output_type": "execute_result"
    }
   ],
   "source": [
    "pairwise_covariances_commuting_terms(test_term_set, state)"
   ]
  },
  {
   "cell_type": "code",
   "execution_count": 50,
   "metadata": {},
   "outputs": [],
   "source": [
    "state_list = [np.array([[1], [0], [0], [0]]),\n",
    "              np.array([[0], [1], [0], [0]]),\n",
    "              np.array([[0], [0], [1], [0]]),\n",
    "              np.array([[0], [0], [0], [1]])]"
   ]
  },
  {
   "cell_type": "code",
   "execution_count": 67,
   "metadata": {
    "scrolled": false
   },
   "outputs": [
    {
     "name": "stdout",
     "output_type": "stream",
     "text": [
      "[[1]\n",
      " [0]\n",
      " [0]\n",
      " [0]]\n",
      "  term 1 term 2  covariance\n",
      "0    -XX    -YY     (-1+0j)\n",
      "1    -XX     ZZ          0j\n",
      "2    -YY     ZZ          0j\n",
      "3     ZZ     IZ          0j\n",
      "4     ZZ     ZI          0j\n",
      "5     IZ     ZI          0j\n",
      "                           partition  expected_state_preps\n",
      "47    [[-XX, -YY], [ZZ], [IZ], [ZI]]                    0j\n",
      "35      [[-XX, -YY, ZZ], [IZ], [ZI]]                    0j\n",
      "31      [[-XX, -YY], [IZ], [ZZ, ZI]]                    0j\n",
      "21      [[-XX, -YY], [ZZ, IZ], [ZI]]                    0j\n",
      "11      [[-XX, -YY], [ZZ], [IZ, ZI]]                    0j\n",
      "5         [[-XX, -YY, ZZ], [IZ, ZI]]                    0j\n",
      "2         [[-XX, -YY], [ZZ, IZ, ZI]]                    0j\n",
      "4       [[-XX], [-YY], [ZZ, IZ, ZI]]                (6+0j)\n",
      "12      [[-YY], [-XX, ZZ], [IZ, ZI]]                (6+0j)\n",
      "7       [[-XX], [-YY, ZZ], [IZ, ZI]]                (6+0j)\n",
      "48    [[-YY], [-XX, ZZ], [IZ], [ZI]]                (8+0j)\n",
      "38    [[-XX], [-YY, ZZ], [IZ], [ZI]]                (8+0j)\n",
      "24    [[-XX], [-YY], [ZZ, IZ], [ZI]]                (8+0j)\n",
      "34    [[-XX], [-YY], [IZ], [ZZ, ZI]]                (8+0j)\n",
      "14    [[-XX], [-YY], [ZZ], [IZ, ZI]]                (8+0j)\n",
      "51  [[-XX], [-YY], [ZZ], [IZ], [ZI]]               (10+0j)\n",
      "[[0]\n",
      " [1]\n",
      " [0]\n",
      " [0]]\n",
      "  term 1 term 2  covariance\n",
      "0    -XX    -YY      (1+0j)\n",
      "1    -XX     ZZ          0j\n",
      "2    -YY     ZZ          0j\n",
      "3     ZZ     IZ          0j\n",
      "4     ZZ     ZI          0j\n",
      "5     IZ     ZI          0j\n",
      "                           partition  expected_state_preps\n",
      "7       [[-XX], [-YY, ZZ], [IZ, ZI]]                (6+0j)\n",
      "12      [[-YY], [-XX, ZZ], [IZ, ZI]]                (6+0j)\n",
      "4       [[-XX], [-YY], [ZZ, IZ, ZI]]                (6+0j)\n",
      "48    [[-YY], [-XX, ZZ], [IZ], [ZI]]                (8+0j)\n",
      "38    [[-XX], [-YY, ZZ], [IZ], [ZI]]                (8+0j)\n",
      "34    [[-XX], [-YY], [IZ], [ZZ, ZI]]                (8+0j)\n",
      "14    [[-XX], [-YY], [ZZ], [IZ, ZI]]                (8+0j)\n",
      "24    [[-XX], [-YY], [ZZ, IZ], [ZI]]                (8+0j)\n",
      "2         [[-XX, -YY], [ZZ, IZ, ZI]]                (8+0j)\n",
      "5         [[-XX, -YY, ZZ], [IZ, ZI]]                (8+0j)\n",
      "51  [[-XX], [-YY], [ZZ], [IZ], [ZI]]               (10+0j)\n",
      "31      [[-XX, -YY], [IZ], [ZZ, ZI]]               (12+0j)\n",
      "21      [[-XX, -YY], [ZZ, IZ], [ZI]]               (12+0j)\n",
      "11      [[-XX, -YY], [ZZ], [IZ, ZI]]               (12+0j)\n",
      "35      [[-XX, -YY, ZZ], [IZ], [ZI]]               (12+0j)\n",
      "47    [[-XX, -YY], [ZZ], [IZ], [ZI]]               (16+0j)\n",
      "[[0]\n",
      " [0]\n",
      " [1]\n",
      " [0]]\n",
      "  term 1 term 2  covariance\n",
      "0    -XX    -YY      (1+0j)\n",
      "1    -XX     ZZ          0j\n",
      "2    -YY     ZZ          0j\n",
      "3     ZZ     IZ          0j\n",
      "4     ZZ     ZI          0j\n",
      "5     IZ     ZI          0j\n",
      "                           partition  expected_state_preps\n",
      "7       [[-XX], [-YY, ZZ], [IZ, ZI]]                (6+0j)\n",
      "12      [[-YY], [-XX, ZZ], [IZ, ZI]]                (6+0j)\n",
      "4       [[-XX], [-YY], [ZZ, IZ, ZI]]                (6+0j)\n",
      "48    [[-YY], [-XX, ZZ], [IZ], [ZI]]                (8+0j)\n",
      "38    [[-XX], [-YY, ZZ], [IZ], [ZI]]                (8+0j)\n",
      "34    [[-XX], [-YY], [IZ], [ZZ, ZI]]                (8+0j)\n",
      "14    [[-XX], [-YY], [ZZ], [IZ, ZI]]                (8+0j)\n",
      "24    [[-XX], [-YY], [ZZ, IZ], [ZI]]                (8+0j)\n",
      "2         [[-XX, -YY], [ZZ, IZ, ZI]]                (8+0j)\n",
      "5         [[-XX, -YY, ZZ], [IZ, ZI]]                (8+0j)\n",
      "51  [[-XX], [-YY], [ZZ], [IZ], [ZI]]               (10+0j)\n",
      "31      [[-XX, -YY], [IZ], [ZZ, ZI]]               (12+0j)\n",
      "21      [[-XX, -YY], [ZZ, IZ], [ZI]]               (12+0j)\n",
      "11      [[-XX, -YY], [ZZ], [IZ, ZI]]               (12+0j)\n",
      "35      [[-XX, -YY, ZZ], [IZ], [ZI]]               (12+0j)\n",
      "47    [[-XX, -YY], [ZZ], [IZ], [ZI]]               (16+0j)\n",
      "[[0]\n",
      " [0]\n",
      " [0]\n",
      " [1]]\n",
      "  term 1 term 2  covariance\n",
      "0    -XX    -YY     (-1+0j)\n",
      "1    -XX     ZZ          0j\n",
      "2    -YY     ZZ          0j\n",
      "3     ZZ     IZ          0j\n",
      "4     ZZ     ZI          0j\n",
      "5     IZ     ZI          0j\n",
      "                           partition  expected_state_preps\n",
      "47    [[-XX, -YY], [ZZ], [IZ], [ZI]]                    0j\n",
      "35      [[-XX, -YY, ZZ], [IZ], [ZI]]                    0j\n",
      "31      [[-XX, -YY], [IZ], [ZZ, ZI]]                    0j\n",
      "21      [[-XX, -YY], [ZZ, IZ], [ZI]]                    0j\n",
      "11      [[-XX, -YY], [ZZ], [IZ, ZI]]                    0j\n",
      "5         [[-XX, -YY, ZZ], [IZ, ZI]]                    0j\n",
      "2         [[-XX, -YY], [ZZ, IZ, ZI]]                    0j\n",
      "4       [[-XX], [-YY], [ZZ, IZ, ZI]]                (6+0j)\n",
      "12      [[-YY], [-XX, ZZ], [IZ, ZI]]                (6+0j)\n",
      "7       [[-XX], [-YY, ZZ], [IZ, ZI]]                (6+0j)\n",
      "48    [[-YY], [-XX, ZZ], [IZ], [ZI]]                (8+0j)\n",
      "38    [[-XX], [-YY, ZZ], [IZ], [ZI]]                (8+0j)\n",
      "24    [[-XX], [-YY], [ZZ, IZ], [ZI]]                (8+0j)\n",
      "34    [[-XX], [-YY], [IZ], [ZZ, ZI]]                (8+0j)\n",
      "14    [[-XX], [-YY], [ZZ], [IZ, ZI]]                (8+0j)\n",
      "51  [[-XX], [-YY], [ZZ], [IZ], [ZI]]               (10+0j)\n"
     ]
    }
   ],
   "source": [
    "for state in state_list:\n",
    "    print(state)\n",
    "    print(pairwise_covariances_commuting_terms(test_term_set, state))\n",
    "    print(calculate_expected_state_preps_valid_partitions(test_term_set, state))"
   ]
  },
  {
   "cell_type": "code",
   "execution_count": 102,
   "metadata": {},
   "outputs": [
    {
     "name": "stderr",
     "output_type": "stream",
     "text": [
      "/usr/local/lib/python3.7/site-packages/numpy/core/_methods.py:36: ComplexWarning: Casting complex values to real discards the imaginary part\n",
      "  return umr_sum(a, axis, dtype, out, keepdims, initial)\n"
     ]
    },
    {
     "data": {
      "text/html": [
       "<div>\n",
       "<style scoped>\n",
       "    .dataframe tbody tr th:only-of-type {\n",
       "        vertical-align: middle;\n",
       "    }\n",
       "\n",
       "    .dataframe tbody tr th {\n",
       "        vertical-align: top;\n",
       "    }\n",
       "\n",
       "    .dataframe thead th {\n",
       "        text-align: right;\n",
       "    }\n",
       "</style>\n",
       "<table border=\"1\" class=\"dataframe\">\n",
       "  <thead>\n",
       "    <tr style=\"text-align: right;\">\n",
       "      <th></th>\n",
       "      <th>partition</th>\n",
       "      <th>00</th>\n",
       "      <th>01</th>\n",
       "      <th>10</th>\n",
       "      <th>11</th>\n",
       "      <th>row_mean</th>\n",
       "      <th>row_var</th>\n",
       "    </tr>\n",
       "  </thead>\n",
       "  <tbody>\n",
       "    <tr>\n",
       "      <th>5</th>\n",
       "      <td>[[-XX, -YY, ZZ], [IZ, ZI]]</td>\n",
       "      <td>0j</td>\n",
       "      <td>(8+0j)</td>\n",
       "      <td>(8+0j)</td>\n",
       "      <td>0j</td>\n",
       "      <td>(4+0j)</td>\n",
       "      <td>16.0</td>\n",
       "    </tr>\n",
       "    <tr>\n",
       "      <th>2</th>\n",
       "      <td>[[-XX, -YY], [ZZ, IZ, ZI]]</td>\n",
       "      <td>0j</td>\n",
       "      <td>(8+0j)</td>\n",
       "      <td>(8+0j)</td>\n",
       "      <td>0j</td>\n",
       "      <td>(4+0j)</td>\n",
       "      <td>16.0</td>\n",
       "    </tr>\n",
       "    <tr>\n",
       "      <th>35</th>\n",
       "      <td>[[-XX, -YY, ZZ], [IZ], [ZI]]</td>\n",
       "      <td>0j</td>\n",
       "      <td>(12+0j)</td>\n",
       "      <td>(12+0j)</td>\n",
       "      <td>0j</td>\n",
       "      <td>(6+0j)</td>\n",
       "      <td>36.0</td>\n",
       "    </tr>\n",
       "    <tr>\n",
       "      <th>31</th>\n",
       "      <td>[[-XX, -YY], [IZ], [ZZ, ZI]]</td>\n",
       "      <td>0j</td>\n",
       "      <td>(12+0j)</td>\n",
       "      <td>(12+0j)</td>\n",
       "      <td>0j</td>\n",
       "      <td>(6+0j)</td>\n",
       "      <td>36.0</td>\n",
       "    </tr>\n",
       "    <tr>\n",
       "      <th>21</th>\n",
       "      <td>[[-XX, -YY], [ZZ, IZ], [ZI]]</td>\n",
       "      <td>0j</td>\n",
       "      <td>(12+0j)</td>\n",
       "      <td>(12+0j)</td>\n",
       "      <td>0j</td>\n",
       "      <td>(6+0j)</td>\n",
       "      <td>36.0</td>\n",
       "    </tr>\n",
       "    <tr>\n",
       "      <th>11</th>\n",
       "      <td>[[-XX, -YY], [ZZ], [IZ, ZI]]</td>\n",
       "      <td>0j</td>\n",
       "      <td>(12+0j)</td>\n",
       "      <td>(12+0j)</td>\n",
       "      <td>0j</td>\n",
       "      <td>(6+0j)</td>\n",
       "      <td>36.0</td>\n",
       "    </tr>\n",
       "    <tr>\n",
       "      <th>4</th>\n",
       "      <td>[[-XX], [-YY], [ZZ, IZ, ZI]]</td>\n",
       "      <td>(6+0j)</td>\n",
       "      <td>(6+0j)</td>\n",
       "      <td>(6+0j)</td>\n",
       "      <td>(6+0j)</td>\n",
       "      <td>(6+0j)</td>\n",
       "      <td>0.0</td>\n",
       "    </tr>\n",
       "    <tr>\n",
       "      <th>12</th>\n",
       "      <td>[[-YY], [-XX, ZZ], [IZ, ZI]]</td>\n",
       "      <td>(6+0j)</td>\n",
       "      <td>(6+0j)</td>\n",
       "      <td>(6+0j)</td>\n",
       "      <td>(6+0j)</td>\n",
       "      <td>(6+0j)</td>\n",
       "      <td>0.0</td>\n",
       "    </tr>\n",
       "    <tr>\n",
       "      <th>7</th>\n",
       "      <td>[[-XX], [-YY, ZZ], [IZ, ZI]]</td>\n",
       "      <td>(6+0j)</td>\n",
       "      <td>(6+0j)</td>\n",
       "      <td>(6+0j)</td>\n",
       "      <td>(6+0j)</td>\n",
       "      <td>(6+0j)</td>\n",
       "      <td>0.0</td>\n",
       "    </tr>\n",
       "    <tr>\n",
       "      <th>47</th>\n",
       "      <td>[[-XX, -YY], [ZZ], [IZ], [ZI]]</td>\n",
       "      <td>0j</td>\n",
       "      <td>(16+0j)</td>\n",
       "      <td>(16+0j)</td>\n",
       "      <td>0j</td>\n",
       "      <td>(8+0j)</td>\n",
       "      <td>64.0</td>\n",
       "    </tr>\n",
       "    <tr>\n",
       "      <th>48</th>\n",
       "      <td>[[-YY], [-XX, ZZ], [IZ], [ZI]]</td>\n",
       "      <td>(8+0j)</td>\n",
       "      <td>(8+0j)</td>\n",
       "      <td>(8+0j)</td>\n",
       "      <td>(8+0j)</td>\n",
       "      <td>(8+0j)</td>\n",
       "      <td>0.0</td>\n",
       "    </tr>\n",
       "    <tr>\n",
       "      <th>38</th>\n",
       "      <td>[[-XX], [-YY, ZZ], [IZ], [ZI]]</td>\n",
       "      <td>(8+0j)</td>\n",
       "      <td>(8+0j)</td>\n",
       "      <td>(8+0j)</td>\n",
       "      <td>(8+0j)</td>\n",
       "      <td>(8+0j)</td>\n",
       "      <td>0.0</td>\n",
       "    </tr>\n",
       "    <tr>\n",
       "      <th>24</th>\n",
       "      <td>[[-XX], [-YY], [ZZ, IZ], [ZI]]</td>\n",
       "      <td>(8+0j)</td>\n",
       "      <td>(8+0j)</td>\n",
       "      <td>(8+0j)</td>\n",
       "      <td>(8+0j)</td>\n",
       "      <td>(8+0j)</td>\n",
       "      <td>0.0</td>\n",
       "    </tr>\n",
       "    <tr>\n",
       "      <th>34</th>\n",
       "      <td>[[-XX], [-YY], [IZ], [ZZ, ZI]]</td>\n",
       "      <td>(8+0j)</td>\n",
       "      <td>(8+0j)</td>\n",
       "      <td>(8+0j)</td>\n",
       "      <td>(8+0j)</td>\n",
       "      <td>(8+0j)</td>\n",
       "      <td>0.0</td>\n",
       "    </tr>\n",
       "    <tr>\n",
       "      <th>14</th>\n",
       "      <td>[[-XX], [-YY], [ZZ], [IZ, ZI]]</td>\n",
       "      <td>(8+0j)</td>\n",
       "      <td>(8+0j)</td>\n",
       "      <td>(8+0j)</td>\n",
       "      <td>(8+0j)</td>\n",
       "      <td>(8+0j)</td>\n",
       "      <td>0.0</td>\n",
       "    </tr>\n",
       "    <tr>\n",
       "      <th>51</th>\n",
       "      <td>[[-XX], [-YY], [ZZ], [IZ], [ZI]]</td>\n",
       "      <td>(10+0j)</td>\n",
       "      <td>(10+0j)</td>\n",
       "      <td>(10+0j)</td>\n",
       "      <td>(10+0j)</td>\n",
       "      <td>(10+0j)</td>\n",
       "      <td>0.0</td>\n",
       "    </tr>\n",
       "  </tbody>\n",
       "</table>\n",
       "</div>"
      ],
      "text/plain": [
       "                           partition       00       01       10       11  \\\n",
       "5         [[-XX, -YY, ZZ], [IZ, ZI]]       0j   (8+0j)   (8+0j)       0j   \n",
       "2         [[-XX, -YY], [ZZ, IZ, ZI]]       0j   (8+0j)   (8+0j)       0j   \n",
       "35      [[-XX, -YY, ZZ], [IZ], [ZI]]       0j  (12+0j)  (12+0j)       0j   \n",
       "31      [[-XX, -YY], [IZ], [ZZ, ZI]]       0j  (12+0j)  (12+0j)       0j   \n",
       "21      [[-XX, -YY], [ZZ, IZ], [ZI]]       0j  (12+0j)  (12+0j)       0j   \n",
       "11      [[-XX, -YY], [ZZ], [IZ, ZI]]       0j  (12+0j)  (12+0j)       0j   \n",
       "4       [[-XX], [-YY], [ZZ, IZ, ZI]]   (6+0j)   (6+0j)   (6+0j)   (6+0j)   \n",
       "12      [[-YY], [-XX, ZZ], [IZ, ZI]]   (6+0j)   (6+0j)   (6+0j)   (6+0j)   \n",
       "7       [[-XX], [-YY, ZZ], [IZ, ZI]]   (6+0j)   (6+0j)   (6+0j)   (6+0j)   \n",
       "47    [[-XX, -YY], [ZZ], [IZ], [ZI]]       0j  (16+0j)  (16+0j)       0j   \n",
       "48    [[-YY], [-XX, ZZ], [IZ], [ZI]]   (8+0j)   (8+0j)   (8+0j)   (8+0j)   \n",
       "38    [[-XX], [-YY, ZZ], [IZ], [ZI]]   (8+0j)   (8+0j)   (8+0j)   (8+0j)   \n",
       "24    [[-XX], [-YY], [ZZ, IZ], [ZI]]   (8+0j)   (8+0j)   (8+0j)   (8+0j)   \n",
       "34    [[-XX], [-YY], [IZ], [ZZ, ZI]]   (8+0j)   (8+0j)   (8+0j)   (8+0j)   \n",
       "14    [[-XX], [-YY], [ZZ], [IZ, ZI]]   (8+0j)   (8+0j)   (8+0j)   (8+0j)   \n",
       "51  [[-XX], [-YY], [ZZ], [IZ], [ZI]]  (10+0j)  (10+0j)  (10+0j)  (10+0j)   \n",
       "\n",
       "    row_mean  row_var  \n",
       "5     (4+0j)     16.0  \n",
       "2     (4+0j)     16.0  \n",
       "35    (6+0j)     36.0  \n",
       "31    (6+0j)     36.0  \n",
       "21    (6+0j)     36.0  \n",
       "11    (6+0j)     36.0  \n",
       "4     (6+0j)      0.0  \n",
       "12    (6+0j)      0.0  \n",
       "7     (6+0j)      0.0  \n",
       "47    (8+0j)     64.0  \n",
       "48    (8+0j)      0.0  \n",
       "38    (8+0j)      0.0  \n",
       "24    (8+0j)      0.0  \n",
       "34    (8+0j)      0.0  \n",
       "14    (8+0j)      0.0  \n",
       "51   (10+0j)      0.0  "
      ]
     },
     "execution_count": 102,
     "metadata": {},
     "output_type": "execute_result"
    }
   ],
   "source": [
    "# ugly code to calculate the expected state preps per each of the basis states\n",
    "df0 = calculate_expected_state_preps_valid_partitions(test_term_set, state_list[0])\n",
    "df1 = calculate_expected_state_preps_valid_partitions(test_term_set, state_list[1])\n",
    "df2 = calculate_expected_state_preps_valid_partitions(test_term_set, state_list[2])\n",
    "df3 = calculate_expected_state_preps_valid_partitions(test_term_set, state_list[3])\n",
    "\n",
    "temp = pd.merge(df0, df1, left_index=True, right_index=True)\n",
    "temp = pd.merge(temp, df2, left_index=True, right_index=True)\n",
    "temp = pd.merge(temp, df3, left_index=True, right_index=True)\n",
    "temp = temp.iloc[:,[0,1,3,5,7]]\n",
    "temp.columns=[\"partition\", \"00\", \"01\", \"10\", \"11\"]\n",
    "temp['row_mean'] = temp.iloc[:,1:].mean(axis=1)\n",
    "temp['row_var'] = temp.iloc[:,1:].var(axis=1)\n",
    "temp.sort_values(by=[\"row_mean\"])"
   ]
  },
  {
   "cell_type": "code",
   "execution_count": 173,
   "metadata": {},
   "outputs": [
    {
     "name": "stdout",
     "output_type": "stream",
     "text": [
      "[array([[-0.22060689+0.44369044j],\n",
      "       [-0.46772424+0.27787374j],\n",
      "       [-0.48293003-0.23691779j],\n",
      "       [ 0.41099588-0.01491813j]]), array([[ 0.38597788-0.25081545j],\n",
      "       [-0.3510545 +0.33862552j],\n",
      "       [-0.21746451-0.46174122j],\n",
      "       [-0.4671147 -0.26742152j]]), array([[ 0.1556111 -0.45422369j],\n",
      "       [-0.63517603-0.05386305j],\n",
      "       [ 0.40715401+0.2961001j ],\n",
      "       [-0.02571258-0.33015969j]]), array([[-0.36164412+0.34990612j],\n",
      "       [-0.48578244+0.02159393j],\n",
      "       [ 0.47961319-0.17129841j],\n",
      "       [-0.10627849+0.48955213j]])]\n"
     ]
    },
    {
     "name": "stderr",
     "output_type": "stream",
     "text": [
      "/usr/local/lib/python3.7/site-packages/numpy/core/_methods.py:36: ComplexWarning: Casting complex values to real discards the imaginary part\n",
      "  return umr_sum(a, axis, dtype, out, keepdims, initial)\n"
     ]
    },
    {
     "data": {
      "text/html": [
       "<div>\n",
       "<style scoped>\n",
       "    .dataframe tbody tr th:only-of-type {\n",
       "        vertical-align: middle;\n",
       "    }\n",
       "\n",
       "    .dataframe tbody tr th {\n",
       "        vertical-align: top;\n",
       "    }\n",
       "\n",
       "    .dataframe thead th {\n",
       "        text-align: right;\n",
       "    }\n",
       "</style>\n",
       "<table border=\"1\" class=\"dataframe\">\n",
       "  <thead>\n",
       "    <tr style=\"text-align: right;\">\n",
       "      <th></th>\n",
       "      <th>partition</th>\n",
       "      <th>00</th>\n",
       "      <th>01</th>\n",
       "      <th>10</th>\n",
       "      <th>11</th>\n",
       "      <th>row_mean</th>\n",
       "      <th>row_var</th>\n",
       "    </tr>\n",
       "  </thead>\n",
       "  <tbody>\n",
       "    <tr>\n",
       "      <th>5</th>\n",
       "      <td>[[-XX, -YY, ZZ], [IZ, ZI]]</td>\n",
       "      <td>(11.199106980178723+0j)</td>\n",
       "      <td>(8.46231054092952+1.46911073547181e-16j)</td>\n",
       "      <td>(4.27751023313661+0j)</td>\n",
       "      <td>(4.388536355720634+0j)</td>\n",
       "      <td>(7.081866027491371+3.672776838679525e-17j)</td>\n",
       "      <td>8.493934</td>\n",
       "    </tr>\n",
       "    <tr>\n",
       "      <th>2</th>\n",
       "      <td>[[-XX, -YY], [ZZ, IZ, ZI]]</td>\n",
       "      <td>(9.790808426941744+0j)</td>\n",
       "      <td>(9.126053580738798+3.5534003568146615e-17j)</td>\n",
       "      <td>(8.542493219415292+0j)</td>\n",
       "      <td>(8.225124433008723+0j)</td>\n",
       "      <td>(8.92111991502614+8.883500892036654e-18j)</td>\n",
       "      <td>0.356531</td>\n",
       "    </tr>\n",
       "    <tr>\n",
       "      <th>12</th>\n",
       "      <td>[[-YY], [-XX, ZZ], [IZ, ZI]]</td>\n",
       "      <td>(15.936189575083109+0j)</td>\n",
       "      <td>(14.876216107725803+1.1018330516038578e-16j)</td>\n",
       "      <td>(5.726944093490629+0j)</td>\n",
       "      <td>(7.2899285264700895+0j)</td>\n",
       "      <td>(10.957319575692408+2.7545826290096446e-17j)</td>\n",
       "      <td>20.238370</td>\n",
       "    </tr>\n",
       "    <tr>\n",
       "      <th>35</th>\n",
       "      <td>[[-XX, -YY, ZZ], [IZ], [ZI]]</td>\n",
       "      <td>(17.857382833941983+0j)</td>\n",
       "      <td>(12.707570001817524+2.2036661032077152e-16j)</td>\n",
       "      <td>(8.281241795022925+0j)</td>\n",
       "      <td>(6.529557022736739+0j)</td>\n",
       "      <td>(11.343937913379794+5.509165258019288e-17j)</td>\n",
       "      <td>19.210707</td>\n",
       "    </tr>\n",
       "    <tr>\n",
       "      <th>7</th>\n",
       "      <td>[[-XX], [-YY, ZZ], [IZ, ZI]]</td>\n",
       "      <td>(13.202808239211333+0j)</td>\n",
       "      <td>(12.167559401211848+1.1018330516038576e-16j)</td>\n",
       "      <td>(10.349716272912481+0j)</td>\n",
       "      <td>(12.281450992468429+0j)</td>\n",
       "      <td>(12.000383726451023+2.754582629009644e-17j)</td>\n",
       "      <td>1.069369</td>\n",
       "    </tr>\n",
       "    <tr>\n",
       "      <th>11</th>\n",
       "      <td>[[-XX, -YY], [ZZ], [IZ, ZI]]</td>\n",
       "      <td>(13.613111620866412+0j)</td>\n",
       "      <td>(14.619973386464682+5.3301005352219925e-17j)</td>\n",
       "      <td>(10.899781565571512+0j)</td>\n",
       "      <td>(12.31074125735526+0j)</td>\n",
       "      <td>(12.860901957564467+1.3325251338054981e-17j)</td>\n",
       "      <td>1.952205</td>\n",
       "    </tr>\n",
       "    <tr>\n",
       "      <th>4</th>\n",
       "      <td>[[-XX], [-YY], [ZZ, IZ, ZI]]</td>\n",
       "      <td>(14.049825501992592+0j)</td>\n",
       "      <td>(13.554248526647541+2.665050267610996e-17j)</td>\n",
       "      <td>(12.194046554686278+0j)</td>\n",
       "      <td>(12.676603513514237+0j)</td>\n",
       "      <td>(13.118681024210161+6.66262566902749e-18j)</td>\n",
       "      <td>0.526783</td>\n",
       "    </tr>\n",
       "    <tr>\n",
       "      <th>31</th>\n",
       "      <td>[[-XX, -YY], [IZ], [ZZ, ZI]]</td>\n",
       "      <td>(15.175401804105434+0j)</td>\n",
       "      <td>(14.304599715416998+5.3301005352219925e-17j)</td>\n",
       "      <td>(13.097536543735764+0j)</td>\n",
       "      <td>(12.409641868824487+0j)</td>\n",
       "      <td>(13.74679498302067+1.3325251338054981e-17j)</td>\n",
       "      <td>1.140395</td>\n",
       "    </tr>\n",
       "    <tr>\n",
       "      <th>21</th>\n",
       "      <td>[[-XX, -YY], [ZZ, IZ], [ZI]]</td>\n",
       "      <td>(15.241367184521401+0j)</td>\n",
       "      <td>(14.032662423002373+5.3301005352219925e-17j)</td>\n",
       "      <td>(14.345937741594703+0j)</td>\n",
       "      <td>(12.132291016355431+0j)</td>\n",
       "      <td>(13.938064591368477+1.3325251338054981e-17j)</td>\n",
       "      <td>1.283681</td>\n",
       "    </tr>\n",
       "    <tr>\n",
       "      <th>48</th>\n",
       "      <td>[[-YY], [-XX, ZZ], [IZ], [ZI]]</td>\n",
       "      <td>(22.65988258500935+0j)</td>\n",
       "      <td>(19.853760397532064+1.46911073547181e-16j)</td>\n",
       "      <td>(10.12256071841152+0j)</td>\n",
       "      <td>(9.648908020834504+0j)</td>\n",
       "      <td>(15.57127793044686+3.672776838679525e-17j)</td>\n",
       "      <td>33.337739</td>\n",
       "    </tr>\n",
       "    <tr>\n",
       "      <th>14</th>\n",
       "      <td>[[-XX], [-YY], [ZZ], [IZ, ZI]]</td>\n",
       "      <td>(17.302299309928515+0j)</td>\n",
       "      <td>(19.313522056005368+3.5534003568146615e-17j)</td>\n",
       "      <td>(13.706784388179805+0j)</td>\n",
       "      <td>(16.866210828475218+0j)</td>\n",
       "      <td>(16.79720414564723+8.883500892036654e-18j)</td>\n",
       "      <td>4.035608</td>\n",
       "    </tr>\n",
       "    <tr>\n",
       "      <th>38</th>\n",
       "      <td>[[-XX], [-YY, ZZ], [IZ], [ZI]]</td>\n",
       "      <td>(19.015374137180316+0j)</td>\n",
       "      <td>(16.242218122180127+1.46911073547181e-16j)</td>\n",
       "      <td>(16.286256957640656+0j)</td>\n",
       "      <td>(16.30427130883229+0j)</td>\n",
       "      <td>(16.96203013145835+3.672776838679525e-17j)</td>\n",
       "      <td>1.405917</td>\n",
       "    </tr>\n",
       "    <tr>\n",
       "      <th>34</th>\n",
       "      <td>[[-XX], [-YY], [IZ], [ZZ, ZI]]</td>\n",
       "      <td>(19.385352887580545+0j)</td>\n",
       "      <td>(18.89302382794179+3.5534003568146615e-17j)</td>\n",
       "      <td>(16.637124359065474+0j)</td>\n",
       "      <td>(16.998078310434188+0j)</td>\n",
       "      <td>(17.978394846255497+8.883500892036654e-18j)</td>\n",
       "      <td>1.394026</td>\n",
       "    </tr>\n",
       "    <tr>\n",
       "      <th>47</th>\n",
       "      <td>[[-XX, -YY], [ZZ], [IZ], [ZI]]</td>\n",
       "      <td>(19.56244531272042+0j)</td>\n",
       "      <td>(19.51210343585057+7.106800713629323e-17j)</td>\n",
       "      <td>(17.019677347852696+0j)</td>\n",
       "      <td>(16.343324995348063+0j)</td>\n",
       "      <td>(18.109387772942938+1.7767001784073307e-17j)</td>\n",
       "      <td>2.096358</td>\n",
       "    </tr>\n",
       "    <tr>\n",
       "      <th>24</th>\n",
       "      <td>[[-XX], [-YY], [ZZ, IZ], [ZI]]</td>\n",
       "      <td>(19.473306728135164+0j)</td>\n",
       "      <td>(18.530440771388957+3.5534003568146615e-17j)</td>\n",
       "      <td>(18.301659289544062+0j)</td>\n",
       "      <td>(16.628277173808783+0j)</td>\n",
       "      <td>(18.233420990719242+8.883500892036654e-18j)</td>\n",
       "      <td>1.051670</td>\n",
       "    </tr>\n",
       "    <tr>\n",
       "      <th>51</th>\n",
       "      <td>[[-XX], [-YY], [ZZ], [IZ], [ZI]]</td>\n",
       "      <td>(23.39241141020048+0j)</td>\n",
       "      <td>(24.165409554045453+4.441750446018327e-17j)</td>\n",
       "      <td>(20.241774560754774+0j)</td>\n",
       "      <td>(20.994017684187+0j)</td>\n",
       "      <td>(22.198403302296928+1.1104376115045817e-17j)</td>\n",
       "      <td>2.643427</td>\n",
       "    </tr>\n",
       "  </tbody>\n",
       "</table>\n",
       "</div>"
      ],
      "text/plain": [
       "                           partition                       00  \\\n",
       "5         [[-XX, -YY, ZZ], [IZ, ZI]]  (11.199106980178723+0j)   \n",
       "2         [[-XX, -YY], [ZZ, IZ, ZI]]   (9.790808426941744+0j)   \n",
       "12      [[-YY], [-XX, ZZ], [IZ, ZI]]  (15.936189575083109+0j)   \n",
       "35      [[-XX, -YY, ZZ], [IZ], [ZI]]  (17.857382833941983+0j)   \n",
       "7       [[-XX], [-YY, ZZ], [IZ, ZI]]  (13.202808239211333+0j)   \n",
       "11      [[-XX, -YY], [ZZ], [IZ, ZI]]  (13.613111620866412+0j)   \n",
       "4       [[-XX], [-YY], [ZZ, IZ, ZI]]  (14.049825501992592+0j)   \n",
       "31      [[-XX, -YY], [IZ], [ZZ, ZI]]  (15.175401804105434+0j)   \n",
       "21      [[-XX, -YY], [ZZ, IZ], [ZI]]  (15.241367184521401+0j)   \n",
       "48    [[-YY], [-XX, ZZ], [IZ], [ZI]]   (22.65988258500935+0j)   \n",
       "14    [[-XX], [-YY], [ZZ], [IZ, ZI]]  (17.302299309928515+0j)   \n",
       "38    [[-XX], [-YY, ZZ], [IZ], [ZI]]  (19.015374137180316+0j)   \n",
       "34    [[-XX], [-YY], [IZ], [ZZ, ZI]]  (19.385352887580545+0j)   \n",
       "47    [[-XX, -YY], [ZZ], [IZ], [ZI]]   (19.56244531272042+0j)   \n",
       "24    [[-XX], [-YY], [ZZ, IZ], [ZI]]  (19.473306728135164+0j)   \n",
       "51  [[-XX], [-YY], [ZZ], [IZ], [ZI]]   (23.39241141020048+0j)   \n",
       "\n",
       "                                              01                       10  \\\n",
       "5       (8.46231054092952+1.46911073547181e-16j)    (4.27751023313661+0j)   \n",
       "2    (9.126053580738798+3.5534003568146615e-17j)   (8.542493219415292+0j)   \n",
       "12  (14.876216107725803+1.1018330516038578e-16j)   (5.726944093490629+0j)   \n",
       "35  (12.707570001817524+2.2036661032077152e-16j)   (8.281241795022925+0j)   \n",
       "7   (12.167559401211848+1.1018330516038576e-16j)  (10.349716272912481+0j)   \n",
       "11  (14.619973386464682+5.3301005352219925e-17j)  (10.899781565571512+0j)   \n",
       "4    (13.554248526647541+2.665050267610996e-17j)  (12.194046554686278+0j)   \n",
       "31  (14.304599715416998+5.3301005352219925e-17j)  (13.097536543735764+0j)   \n",
       "21  (14.032662423002373+5.3301005352219925e-17j)  (14.345937741594703+0j)   \n",
       "48    (19.853760397532064+1.46911073547181e-16j)   (10.12256071841152+0j)   \n",
       "14  (19.313522056005368+3.5534003568146615e-17j)  (13.706784388179805+0j)   \n",
       "38    (16.242218122180127+1.46911073547181e-16j)  (16.286256957640656+0j)   \n",
       "34   (18.89302382794179+3.5534003568146615e-17j)  (16.637124359065474+0j)   \n",
       "47    (19.51210343585057+7.106800713629323e-17j)  (17.019677347852696+0j)   \n",
       "24  (18.530440771388957+3.5534003568146615e-17j)  (18.301659289544062+0j)   \n",
       "51   (24.165409554045453+4.441750446018327e-17j)  (20.241774560754774+0j)   \n",
       "\n",
       "                         11                                      row_mean  \\\n",
       "5    (4.388536355720634+0j)    (7.081866027491371+3.672776838679525e-17j)   \n",
       "2    (8.225124433008723+0j)     (8.92111991502614+8.883500892036654e-18j)   \n",
       "12  (7.2899285264700895+0j)  (10.957319575692408+2.7545826290096446e-17j)   \n",
       "35   (6.529557022736739+0j)   (11.343937913379794+5.509165258019288e-17j)   \n",
       "7   (12.281450992468429+0j)   (12.000383726451023+2.754582629009644e-17j)   \n",
       "11   (12.31074125735526+0j)  (12.860901957564467+1.3325251338054981e-17j)   \n",
       "4   (12.676603513514237+0j)    (13.118681024210161+6.66262566902749e-18j)   \n",
       "31  (12.409641868824487+0j)   (13.74679498302067+1.3325251338054981e-17j)   \n",
       "21  (12.132291016355431+0j)  (13.938064591368477+1.3325251338054981e-17j)   \n",
       "48   (9.648908020834504+0j)    (15.57127793044686+3.672776838679525e-17j)   \n",
       "14  (16.866210828475218+0j)    (16.79720414564723+8.883500892036654e-18j)   \n",
       "38   (16.30427130883229+0j)    (16.96203013145835+3.672776838679525e-17j)   \n",
       "34  (16.998078310434188+0j)   (17.978394846255497+8.883500892036654e-18j)   \n",
       "47  (16.343324995348063+0j)  (18.109387772942938+1.7767001784073307e-17j)   \n",
       "24  (16.628277173808783+0j)   (18.233420990719242+8.883500892036654e-18j)   \n",
       "51     (20.994017684187+0j)  (22.198403302296928+1.1104376115045817e-17j)   \n",
       "\n",
       "      row_var  \n",
       "5    8.493934  \n",
       "2    0.356531  \n",
       "12  20.238370  \n",
       "35  19.210707  \n",
       "7    1.069369  \n",
       "11   1.952205  \n",
       "4    0.526783  \n",
       "31   1.140395  \n",
       "21   1.283681  \n",
       "48  33.337739  \n",
       "14   4.035608  \n",
       "38   1.405917  \n",
       "34   1.394026  \n",
       "47   2.096358  \n",
       "24   1.051670  \n",
       "51   2.643427  "
      ]
     },
     "execution_count": 173,
     "metadata": {},
     "output_type": "execute_result"
    }
   ],
   "source": [
    "# Are the ideal partitions the same with random kets?\n",
    "import qutip\n",
    "random_state_list = [qutip.rand_ket(4).full() for i in range(4)]\n",
    "print(random_state_list)\n",
    "\n",
    "# ugly code to calculate the expected state preps per each of the basis states\n",
    "df0 = calculate_expected_state_preps_valid_partitions(test_term_set, random_state_list[0])\n",
    "df1 = calculate_expected_state_preps_valid_partitions(test_term_set, random_state_list[1])\n",
    "df2 = calculate_expected_state_preps_valid_partitions(test_term_set, random_state_list[2])\n",
    "df3 = calculate_expected_state_preps_valid_partitions(test_term_set, random_state_list[3])\n",
    "\n",
    "temp = pd.merge(df0, df1, left_index=True, right_index=True)\n",
    "temp = pd.merge(temp, df2, left_index=True, right_index=True)\n",
    "temp = pd.merge(temp, df3, left_index=True, right_index=True)\n",
    "temp = temp.iloc[:,[0,1,3,5,7]]\n",
    "temp.columns=[\"partition\", \"00\", \"01\", \"10\", \"11\"]\n",
    "temp['row_mean'] = temp.iloc[:,1:].mean(axis=1)\n",
    "temp['row_var'] = temp.iloc[:,1:].var(axis=1)\n",
    "temp.sort_values(by=[\"row_mean\"])"
   ]
  },
  {
   "cell_type": "code",
   "execution_count": null,
   "metadata": {},
   "outputs": [],
   "source": []
  }
 ],
 "metadata": {
  "kernelspec": {
   "display_name": "Python 3",
   "language": "python",
   "name": "python3"
  },
  "language_info": {
   "codemirror_mode": {
    "name": "ipython",
    "version": 3
   },
   "file_extension": ".py",
   "mimetype": "text/x-python",
   "name": "python",
   "nbconvert_exporter": "python",
   "pygments_lexer": "ipython3",
   "version": "3.7.3"
  }
 },
 "nbformat": 4,
 "nbformat_minor": 2
}
