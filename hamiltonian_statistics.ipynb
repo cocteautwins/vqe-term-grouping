{
 "cells": [
  {
   "cell_type": "code",
   "execution_count": 1,
   "metadata": {},
   "outputs": [],
   "source": [
    "import numpy as np\n",
    "import pandas as pd"
   ]
  },
  {
   "cell_type": "markdown",
   "metadata": {},
   "source": [
    "---\n",
    "### Setting up basic matrices:\n",
    "The Pauli matrices are the four 2x2 matrices, I, X, Y, Z.\n",
    "For this example, we have a 4x4 Hamiltonian that is decomposed into IZ, ZI, XX, YY, and ZZ terms (this notation is not matrix multiplication--it is a Kronecker product, which takes two 2x2 matrices and gives a 4x4 matrix)."
   ]
  },
  {
   "cell_type": "code",
   "execution_count": 2,
   "metadata": {},
   "outputs": [],
   "source": [
    "I = np.eye(2)\n",
    "X = np.array([[0., 1.],\n",
    "              [1., 0.]])\n",
    "Y = np.array([[0., -1j],\n",
    "              [1j, 0.]])\n",
    "Z = np.array([[1., 0.],\n",
    "              [0., -1.]])"
   ]
  },
  {
   "cell_type": "code",
   "execution_count": 3,
   "metadata": {},
   "outputs": [
    {
     "name": "stdout",
     "output_type": "stream",
     "text": [
      "[[ 1.  0.  0.  0.]\n",
      " [ 0. -1.  0. -0.]\n",
      " [ 0.  0.  1.  0.]\n",
      " [ 0. -0.  0. -1.]]\n"
     ]
    }
   ],
   "source": [
    "IZ = np.kron(I, Z)\n",
    "print(IZ)"
   ]
  },
  {
   "cell_type": "code",
   "execution_count": 4,
   "metadata": {},
   "outputs": [
    {
     "name": "stdout",
     "output_type": "stream",
     "text": [
      "[[ 1.  0.  0.  0.]\n",
      " [ 0.  1.  0.  0.]\n",
      " [ 0.  0. -1. -0.]\n",
      " [ 0.  0. -0. -1.]]\n"
     ]
    }
   ],
   "source": [
    "ZI = np.kron(Z, I)\n",
    "print(ZI)"
   ]
  },
  {
   "cell_type": "code",
   "execution_count": 5,
   "metadata": {},
   "outputs": [
    {
     "name": "stdout",
     "output_type": "stream",
     "text": [
      "[[0. 0. 0. 1.]\n",
      " [0. 0. 1. 0.]\n",
      " [0. 1. 0. 0.]\n",
      " [1. 0. 0. 0.]]\n"
     ]
    }
   ],
   "source": [
    "XX = np.kron(X, X)\n",
    "print(XX)"
   ]
  },
  {
   "cell_type": "code",
   "execution_count": 6,
   "metadata": {},
   "outputs": [
    {
     "name": "stdout",
     "output_type": "stream",
     "text": [
      "[[ 0.+0.j  0.-0.j  0.-0.j -1.+0.j]\n",
      " [ 0.+0.j  0.+0.j  1.-0.j  0.-0.j]\n",
      " [ 0.+0.j  1.-0.j  0.+0.j  0.-0.j]\n",
      " [-1.+0.j  0.+0.j  0.+0.j  0.+0.j]]\n"
     ]
    }
   ],
   "source": [
    "YY = np.kron(Y, Y)\n",
    "print(YY)"
   ]
  },
  {
   "cell_type": "code",
   "execution_count": 7,
   "metadata": {},
   "outputs": [
    {
     "name": "stdout",
     "output_type": "stream",
     "text": [
      "[[ 1.  0.  0.  0.]\n",
      " [ 0. -1.  0. -0.]\n",
      " [ 0.  0. -1. -0.]\n",
      " [ 0. -0. -0.  1.]]\n"
     ]
    }
   ],
   "source": [
    "ZZ = np.kron(Z, Z)\n",
    "print(ZZ)"
   ]
  },
  {
   "cell_type": "markdown",
   "metadata": {},
   "source": [
    "----\n",
    "### Hamiltonian\n",
    "We consider the Hamiltonian:\n",
    "$H = IZ + ZI - XX - YY + ZZ$"
   ]
  },
  {
   "cell_type": "code",
   "execution_count": 8,
   "metadata": {},
   "outputs": [
    {
     "name": "stdout",
     "output_type": "stream",
     "text": [
      "[[ 3.+0.j  0.+0.j  0.+0.j  0.+0.j]\n",
      " [ 0.+0.j -1.+0.j -2.+0.j  0.+0.j]\n",
      " [ 0.+0.j -2.+0.j -1.+0.j  0.+0.j]\n",
      " [ 0.+0.j  0.+0.j  0.+0.j -1.+0.j]]\n"
     ]
    }
   ],
   "source": [
    "H = IZ + ZI - XX - YY + ZZ\n",
    "print(H)"
   ]
  },
  {
   "cell_type": "markdown",
   "metadata": {},
   "source": [
    "---\n",
    "### Measuring an observable\n",
    "An observable is a matrix that we can measure against a state $\\vec{\\psi}$. The Hamiltonian is an observable. So are the Pauli terms that it is written as a sum of.\n",
    "\n",
    "To measure some observable matrix $M$ with respect to a state $\\vec{\\psi}$, we just compute $\\vec{\\psi}^{\\dagger} M \\vec{\\psi}$. The $\\dagger$ means conjugate transpose = transpose the matrix and then take complex conjugates. In this specific example, all the numbers are real, so it happens to be the same as an ordinary matrix transpose.\n",
    "\n",
    "Here is a helper method that does everything for us:"
   ]
  },
  {
   "cell_type": "code",
   "execution_count": 9,
   "metadata": {},
   "outputs": [],
   "source": [
    "def expected_value(M, state):\n",
    "    return np.asmatrix(state).getH() @ M @ state  # .getH() does conjugate tranpose"
   ]
  },
  {
   "cell_type": "markdown",
   "metadata": {},
   "source": [
    "---\n",
    "### Let's try for $\\vec{\\psi} = [0, 1, 0, 0]^T$"
   ]
  },
  {
   "cell_type": "code",
   "execution_count": 10,
   "metadata": {},
   "outputs": [],
   "source": [
    "state = np.array([[0.], [1.], [0.], [0.]])"
   ]
  },
  {
   "cell_type": "markdown",
   "metadata": {},
   "source": [
    "#### Method 1: measure $H$ directly\n",
    "A quantum computer can't actually measure $H$ directly, but let's just check what the answer should be."
   ]
  },
  {
   "cell_type": "code",
   "execution_count": 11,
   "metadata": {},
   "outputs": [
    {
     "name": "stdout",
     "output_type": "stream",
     "text": [
      "[[-1.+0.j]]\n"
     ]
    }
   ],
   "source": [
    "print(expected_value(H, state))"
   ]
  },
  {
   "cell_type": "markdown",
   "metadata": {},
   "source": [
    "#### Method 2: linearity of expectation\n",
    "A quantum computer can compute the Pauli observables though. So let's use linearity of expectation instead:"
   ]
  },
  {
   "cell_type": "code",
   "execution_count": 12,
   "metadata": {},
   "outputs": [
    {
     "name": "stdout",
     "output_type": "stream",
     "text": [
      "[[-1.]] [[1.]] [[0.]] [[0.+0.j]] [[-1.]]\n",
      "[[-1.+0.j]]\n"
     ]
    }
   ],
   "source": [
    "IZ_expectation = expected_value(IZ, state)\n",
    "ZI_expectation = expected_value(ZI, state)\n",
    "XX_expectation = expected_value(XX, state)\n",
    "YY_expectation = expected_value(YY, state)\n",
    "ZZ_expectation = expected_value(ZZ, state)\n",
    "print(IZ_expectation, ZI_expectation, XX_expectation, YY_expectation, ZZ_expectation)\n",
    "print(IZ_expectation + ZI_expectation - XX_expectation - YY_expectation + ZZ_expectation)"
   ]
  },
  {
   "cell_type": "markdown",
   "metadata": {},
   "source": [
    "Yup, we got -1 both ways!"
   ]
  },
  {
   "cell_type": "markdown",
   "metadata": {},
   "source": [
    "---\n",
    "### Variances / Covariances"
   ]
  },
  {
   "cell_type": "code",
   "execution_count": 13,
   "metadata": {},
   "outputs": [],
   "source": [
    "def variance(M, state):\n",
    "    # variances is <M^2> - <M>^2\n",
    "    return expected_value(M @ M, state) - expected_value(M, state) ** 2\n",
    "\n",
    "def covariance(M_1, M_2, state):\n",
    "    return expected_value(M_1 @ M_2, state) - expected_value(M_1, state) * expected_value(M_2, state)"
   ]
  },
  {
   "cell_type": "markdown",
   "metadata": {},
   "source": [
    "The cells below show that:\n",
    "- Var(H) = 4\n",
    "- Var(IZ) + Var(ZI) + Var(XX) + Var(YY) + Var(ZZ) = 2 -- not equal because we need to account for covariances\n",
    "- the summed covariances do indeed equal 4. Note that the XX and ZZ"
   ]
  },
  {
   "cell_type": "code",
   "execution_count": 14,
   "metadata": {},
   "outputs": [
    {
     "data": {
      "text/plain": [
       "matrix([[4.+0.j]])"
      ]
     },
     "execution_count": 14,
     "metadata": {},
     "output_type": "execute_result"
    }
   ],
   "source": [
    "variance(H, state)"
   ]
  },
  {
   "cell_type": "code",
   "execution_count": 15,
   "metadata": {},
   "outputs": [
    {
     "data": {
      "text/plain": [
       "matrix([[0.]])"
      ]
     },
     "execution_count": 15,
     "metadata": {},
     "output_type": "execute_result"
    }
   ],
   "source": [
    "variance(IZ, state)"
   ]
  },
  {
   "cell_type": "code",
   "execution_count": 16,
   "metadata": {},
   "outputs": [
    {
     "data": {
      "text/plain": [
       "matrix([[0.]])"
      ]
     },
     "execution_count": 16,
     "metadata": {},
     "output_type": "execute_result"
    }
   ],
   "source": [
    "variance(ZI, state)"
   ]
  },
  {
   "cell_type": "code",
   "execution_count": 17,
   "metadata": {},
   "outputs": [
    {
     "data": {
      "text/plain": [
       "matrix([[1.]])"
      ]
     },
     "execution_count": 17,
     "metadata": {},
     "output_type": "execute_result"
    }
   ],
   "source": [
    "variance(XX, state)"
   ]
  },
  {
   "cell_type": "code",
   "execution_count": 18,
   "metadata": {},
   "outputs": [
    {
     "data": {
      "text/plain": [
       "matrix([[1.+0.j]])"
      ]
     },
     "execution_count": 18,
     "metadata": {},
     "output_type": "execute_result"
    }
   ],
   "source": [
    "variance(YY, state)"
   ]
  },
  {
   "cell_type": "code",
   "execution_count": 19,
   "metadata": {},
   "outputs": [
    {
     "data": {
      "text/plain": [
       "matrix([[0.]])"
      ]
     },
     "execution_count": 19,
     "metadata": {},
     "output_type": "execute_result"
    }
   ],
   "source": [
    "variance(ZZ, state)"
   ]
  },
  {
   "cell_type": "code",
   "execution_count": 20,
   "metadata": {},
   "outputs": [
    {
     "name": "stdout",
     "output_type": "stream",
     "text": [
      "[[1.]] 2 2\n",
      "[[1.+0.j]] 2 3\n",
      "[[1.+0.j]] 3 2\n",
      "[[1.+0.j]] 3 3\n",
      "Variance from summed covariances is [[4.+0.j]]\n"
     ]
    }
   ],
   "source": [
    "terms, coefficients = [IZ, ZI, XX, YY, ZZ], [1., 1., -1., -1., 1.]\n",
    "total = np.array([[0.+0.j]])\n",
    "for i in range(5):\n",
    "    for j in range(5):\n",
    "        cov = covariance(terms[i], terms[j], state)\n",
    "        if cov != 0:\n",
    "            print(cov, i, j)\n",
    "            total += (coefficients[i] * coefficients[j] * covariance(terms[i], terms[j], state))\n",
    "print('Variance from summed covariances is %s' % total)"
   ]
  },
  {
   "cell_type": "markdown",
   "metadata": {},
   "source": [
    "----\n",
    "### Different State, $\\vec{\\psi} = [0.43 - 0.16i, -0.49, 0.44i, -0.39 + 0.46i]$"
   ]
  },
  {
   "cell_type": "code",
   "execution_count": 21,
   "metadata": {},
   "outputs": [],
   "source": [
    "state = np.array([[0.43 - 0.16j], [-0.49], [0.43j], [-0.39 + 0.46j]])"
   ]
  },
  {
   "cell_type": "code",
   "execution_count": 22,
   "metadata": {},
   "outputs": [
    {
     "data": {
      "text/plain": [
       "matrix([[4.35848816-2.22044605e-16j]])"
      ]
     },
     "execution_count": 22,
     "metadata": {},
     "output_type": "execute_result"
    }
   ],
   "source": [
    "variance(H, state)"
   ]
  },
  {
   "cell_type": "code",
   "execution_count": 23,
   "metadata": {},
   "outputs": [
    {
     "data": {
      "text/plain": [
       "(matrix([[0.95576944+0.j]]),\n",
       " matrix([[0.989596+0.j]]),\n",
       " matrix([[0.76629724+6.6974204e-18j]]),\n",
       " matrix([[0.76629724+0.j]]),\n",
       " matrix([[0.97693936+0.j]]))"
      ]
     },
     "execution_count": 23,
     "metadata": {},
     "output_type": "execute_result"
    }
   ],
   "source": [
    "variance(IZ, state), variance(ZI, state), variance(-XX, state), variance(-YY, state), variance(ZZ, state)"
   ]
  },
  {
   "cell_type": "code",
   "execution_count": 24,
   "metadata": {},
   "outputs": [
    {
     "name": "stdout",
     "output_type": "stream",
     "text": [
      "[[0.1287768+0.j]]\n",
      "[[-0.06690672+0.j]]\n",
      "[[-0.1937784+0.j]]\n",
      "[[0.08370276-3.3487102e-18j]]\n",
      "[[0.41059608+1.03528297e-18j]]\n",
      "[[-0.41059608+6.9388939e-18j]]\n"
     ]
    }
   ],
   "source": [
    "print(covariance(IZ, ZI, state))\n",
    "print(covariance(IZ, ZZ, state))\n",
    "print(covariance(ZI, ZZ, state))\n",
    "print(covariance(-XX, -YY, state))\n",
    "print(covariance(-XX, ZZ, state))\n",
    "print(covariance(-YY, ZZ, state))"
   ]
  },
  {
   "cell_type": "code",
   "execution_count": 25,
   "metadata": {},
   "outputs": [
    {
     "data": {
      "text/plain": [
       "22.2744964"
      ]
     },
     "execution_count": 25,
     "metadata": {},
     "output_type": "execute_result"
    }
   ],
   "source": [
    "# Setting 1 (measure all terms separately) would require a number of state preparations equal to:\n",
    "5 * (0.95576944 + 0.989596 + 0.76629724 + 0.76629724 + 0.97693936)"
   ]
  },
  {
   "cell_type": "code",
   "execution_count": 26,
   "metadata": {},
   "outputs": [
    {
     "data": {
      "text/plain": [
       "14.6395752"
      ]
     },
     "execution_count": 26,
     "metadata": {},
     "output_type": "execute_result"
    }
   ],
   "source": [
    "# Setting 2 (measure {XX}, {YY, ZZ}, {IZ, ZI}) would require a number of state preparations equal to:\n",
    "3 * (0.95576944 + 0.989596 + 0.76629724 + 0.76629724 + 0.97693936 + 2*0.08370276 + 2*0.1287768)"
   ]
  },
  {
   "cell_type": "code",
   "execution_count": 27,
   "metadata": {},
   "outputs": [
    {
     "data": {
      "text/plain": [
       "9.7597168"
      ]
     },
     "execution_count": 27,
     "metadata": {},
     "output_type": "execute_result"
    }
   ],
   "source": [
    "# Setting 3 (measure {XX, YY, ZZ}, {IZ, ZI}) would require a number of state preparations equal to:\n",
    "2 * (0.95576944 + 0.989596 + 0.76629724 + 0.76629724 + 0.97693936 + 2*0.08370276 + 2*0.41059608 + 2*-0.41059608 + 2*0.1287768)"
   ]
  },
  {
   "cell_type": "markdown",
   "metadata": {},
   "source": [
    "### Programatically finding optimal groupings"
   ]
  },
  {
   "cell_type": "code",
   "execution_count": 28,
   "metadata": {},
   "outputs": [
    {
     "data": {
      "text/latex": [
       "Quantum object: dims = [[2, 2], [2, 2]], shape = (4, 4), type = oper, isherm = True\\begin{equation*}\\left(\\begin{array}{*{11}c}0.0 & 0.0 & 0.0 & -1.0\\\\0.0 & 0.0 & -1.0 & 0.0\\\\0.0 & -1.0 & 0.0 & 0.0\\\\-1.0 & 0.0 & 0.0 & 0.0\\\\\\end{array}\\right)\\end{equation*}"
      ],
      "text/plain": [
       "Quantum object: dims = [[2, 2], [2, 2]], shape = (4, 4), type = oper, isherm = True\n",
       "Qobj data =\n",
       "[[ 0.  0.  0. -1.]\n",
       " [ 0.  0. -1.  0.]\n",
       " [ 0. -1.  0.  0.]\n",
       " [-1.  0.  0.  0.]]"
      ]
     },
     "execution_count": 28,
     "metadata": {},
     "output_type": "execute_result"
    }
   ],
   "source": [
    "# Functions for parsing from strings to matrices\n",
    "import qutip\n",
    "\n",
    "def _to_matrix(pauli_char):\n",
    "    if pauli_char == 'X':\n",
    "        return qutip.sigmax()\n",
    "    elif pauli_char == 'Y':\n",
    "        return qutip.sigmay()\n",
    "    elif pauli_char == 'Z':\n",
    "        return qutip.sigmaz()\n",
    "    return qutip.identity(2)\n",
    "    \n",
    "def pauli_string_to_matrix(pauli_string, sign=1):\n",
    "    if pauli_string[0] == '-':\n",
    "        sign = -1\n",
    "        pauli_string = pauli_string[1:]\n",
    "    matrices = []\n",
    "    for char in pauli_string:\n",
    "        matrices.append(_to_matrix(char))\n",
    "    return sign*qutip.tensor(matrices)\n",
    "\n",
    "pauli_string_to_matrix('-XX')"
   ]
  },
  {
   "cell_type": "code",
   "execution_count": 29,
   "metadata": {},
   "outputs": [],
   "source": [
    "def variance_grouping(grouping, state):\n",
    "    \"\"\"\n",
    "    Computes the variance of a grouping, via the formula\n",
    "             Var(A+B) = Var(A) + Var(B) + 2*Cov(A,B)\n",
    "    Inputs:\n",
    "       Grouping (as a list, e.g. [-XX, -YY, ZZ])\n",
    "       State (as a np.array, e.g. np.array([[0.], [1.], [0.], [0.]]))\n",
    "    \"\"\"\n",
    "    running_variance = sum([variance(term, state) for term in grouping])\n",
    "    grouping_size = len(grouping)\n",
    "    for i in range(grouping_size):\n",
    "        for j in range(i):\n",
    "            running_variance += 2*covariance(grouping[i], grouping[j], state)\n",
    "    return(np.asscalar(running_variance))"
   ]
  },
  {
   "cell_type": "code",
   "execution_count": 30,
   "metadata": {},
   "outputs": [],
   "source": [
    "# Credit to: https://stackoverflow.com/questions/19368375/set-partitions-in-python\n",
    "def partition(collection):\n",
    "    if len(collection) == 1:\n",
    "        yield [ collection ]\n",
    "        return\n",
    "\n",
    "    first = collection[0]\n",
    "    for smaller in partition(collection[1:]):\n",
    "        # insert `first` in each of the subpartition's subsets\n",
    "        for n, subset in enumerate(smaller):\n",
    "            yield smaller[:n] + [[ first ] + subset]  + smaller[n+1:]\n",
    "        # put `first` in its own subset \n",
    "        yield [ [ first ] ] + smaller\n"
   ]
  },
  {
   "cell_type": "code",
   "execution_count": 31,
   "metadata": {},
   "outputs": [],
   "source": [
    "def grouping_is_pairwise_commuting(grouping_to_test):\n",
    "    \"\"\"\n",
    "    Computes whether all pairs within a grouping commute (in a general sense).\n",
    "    Inputs:\n",
    "        grouping_to_test: a single list of *strings*, e.g. [\"-XX\", \"-YY\", \"ZZ\", \"IZ\", \"ZI\"]\n",
    "    Returns:\n",
    "        True if all pairs commute; False if not all pairs commute\n",
    "    \"\"\"\n",
    "    evaled_grouping_to_test = [pauli_string_to_matrix(term).full() for term in grouping_to_test]\n",
    "    running_sum = 0\n",
    "    for i in range(len(evaled_grouping_to_test)):\n",
    "        for j in range(i+1, len(evaled_grouping_to_test)):\n",
    "            # RHS evaluates to 1 if non-commuting, 0 if commuting\n",
    "            running_sum += not np.array_equal(evaled_grouping_to_test[i] @ evaled_grouping_to_test[j],\n",
    "                               evaled_grouping_to_test[j] @ evaled_grouping_to_test[i])\n",
    "    # sum will be 0 iff all pairs commute\n",
    "    return(running_sum == 0)\n",
    "\n",
    "def is_valid_partition(partition):\n",
    "    \"\"\"\n",
    "    Computes whether all groupings within a partition are pairwise commuting.\n",
    "    Inputs:\n",
    "        partition: a list of lists of strings, e.g. [['-XX', '-YY'], ['ZZ', 'IZ', 'ZI']]\n",
    "    Outputs:\n",
    "        1 if all groupings within the partition are pairwise commuting. Else 0.\n",
    "    \"\"\"\n",
    "    return(sum([grouping_is_pairwise_commuting(grouping) for grouping in partition]) == len(partition))"
   ]
  },
  {
   "cell_type": "code",
   "execution_count": 32,
   "metadata": {},
   "outputs": [
    {
     "data": {
      "text/html": [
       "<div>\n",
       "<style scoped>\n",
       "    .dataframe tbody tr th:only-of-type {\n",
       "        vertical-align: middle;\n",
       "    }\n",
       "\n",
       "    .dataframe tbody tr th {\n",
       "        vertical-align: top;\n",
       "    }\n",
       "\n",
       "    .dataframe thead th {\n",
       "        text-align: right;\n",
       "    }\n",
       "</style>\n",
       "<table border=\"1\" class=\"dataframe\">\n",
       "  <thead>\n",
       "    <tr style=\"text-align: right;\">\n",
       "      <th></th>\n",
       "      <th>partition</th>\n",
       "      <th>expected_state_preps</th>\n",
       "    </tr>\n",
       "  </thead>\n",
       "  <tbody>\n",
       "    <tr>\n",
       "      <th>7</th>\n",
       "      <td>[[-XX], [-YY, ZZ], [IZ, ZI]]</td>\n",
       "      <td>(6+0j)</td>\n",
       "    </tr>\n",
       "    <tr>\n",
       "      <th>12</th>\n",
       "      <td>[[-YY], [-XX, ZZ], [IZ, ZI]]</td>\n",
       "      <td>(6+0j)</td>\n",
       "    </tr>\n",
       "    <tr>\n",
       "      <th>4</th>\n",
       "      <td>[[-XX], [-YY], [ZZ, IZ, ZI]]</td>\n",
       "      <td>(6+0j)</td>\n",
       "    </tr>\n",
       "    <tr>\n",
       "      <th>48</th>\n",
       "      <td>[[-YY], [-XX, ZZ], [IZ], [ZI]]</td>\n",
       "      <td>(8+0j)</td>\n",
       "    </tr>\n",
       "    <tr>\n",
       "      <th>38</th>\n",
       "      <td>[[-XX], [-YY, ZZ], [IZ], [ZI]]</td>\n",
       "      <td>(8+0j)</td>\n",
       "    </tr>\n",
       "    <tr>\n",
       "      <th>34</th>\n",
       "      <td>[[-XX], [-YY], [IZ], [ZZ, ZI]]</td>\n",
       "      <td>(8+0j)</td>\n",
       "    </tr>\n",
       "    <tr>\n",
       "      <th>14</th>\n",
       "      <td>[[-XX], [-YY], [ZZ], [IZ, ZI]]</td>\n",
       "      <td>(8+0j)</td>\n",
       "    </tr>\n",
       "    <tr>\n",
       "      <th>24</th>\n",
       "      <td>[[-XX], [-YY], [ZZ, IZ], [ZI]]</td>\n",
       "      <td>(8+0j)</td>\n",
       "    </tr>\n",
       "    <tr>\n",
       "      <th>2</th>\n",
       "      <td>[[-XX, -YY], [ZZ, IZ, ZI]]</td>\n",
       "      <td>(8+0j)</td>\n",
       "    </tr>\n",
       "    <tr>\n",
       "      <th>5</th>\n",
       "      <td>[[-XX, -YY, ZZ], [IZ, ZI]]</td>\n",
       "      <td>(8+0j)</td>\n",
       "    </tr>\n",
       "    <tr>\n",
       "      <th>51</th>\n",
       "      <td>[[-XX], [-YY], [ZZ], [IZ], [ZI]]</td>\n",
       "      <td>(10+0j)</td>\n",
       "    </tr>\n",
       "    <tr>\n",
       "      <th>31</th>\n",
       "      <td>[[-XX, -YY], [IZ], [ZZ, ZI]]</td>\n",
       "      <td>(12+0j)</td>\n",
       "    </tr>\n",
       "    <tr>\n",
       "      <th>21</th>\n",
       "      <td>[[-XX, -YY], [ZZ, IZ], [ZI]]</td>\n",
       "      <td>(12+0j)</td>\n",
       "    </tr>\n",
       "    <tr>\n",
       "      <th>11</th>\n",
       "      <td>[[-XX, -YY], [ZZ], [IZ, ZI]]</td>\n",
       "      <td>(12+0j)</td>\n",
       "    </tr>\n",
       "    <tr>\n",
       "      <th>35</th>\n",
       "      <td>[[-XX, -YY, ZZ], [IZ], [ZI]]</td>\n",
       "      <td>(12+0j)</td>\n",
       "    </tr>\n",
       "    <tr>\n",
       "      <th>47</th>\n",
       "      <td>[[-XX, -YY], [ZZ], [IZ], [ZI]]</td>\n",
       "      <td>(16+0j)</td>\n",
       "    </tr>\n",
       "  </tbody>\n",
       "</table>\n",
       "</div>"
      ],
      "text/plain": [
       "                           partition  expected_state_preps\n",
       "7       [[-XX], [-YY, ZZ], [IZ, ZI]]                (6+0j)\n",
       "12      [[-YY], [-XX, ZZ], [IZ, ZI]]                (6+0j)\n",
       "4       [[-XX], [-YY], [ZZ, IZ, ZI]]                (6+0j)\n",
       "48    [[-YY], [-XX, ZZ], [IZ], [ZI]]                (8+0j)\n",
       "38    [[-XX], [-YY, ZZ], [IZ], [ZI]]                (8+0j)\n",
       "34    [[-XX], [-YY], [IZ], [ZZ, ZI]]                (8+0j)\n",
       "14    [[-XX], [-YY], [ZZ], [IZ, ZI]]                (8+0j)\n",
       "24    [[-XX], [-YY], [ZZ, IZ], [ZI]]                (8+0j)\n",
       "2         [[-XX, -YY], [ZZ, IZ, ZI]]                (8+0j)\n",
       "5         [[-XX, -YY, ZZ], [IZ, ZI]]                (8+0j)\n",
       "51  [[-XX], [-YY], [ZZ], [IZ], [ZI]]               (10+0j)\n",
       "31      [[-XX, -YY], [IZ], [ZZ, ZI]]               (12+0j)\n",
       "21      [[-XX, -YY], [ZZ, IZ], [ZI]]               (12+0j)\n",
       "11      [[-XX, -YY], [ZZ], [IZ, ZI]]               (12+0j)\n",
       "35      [[-XX, -YY, ZZ], [IZ], [ZI]]               (12+0j)\n",
       "47    [[-XX, -YY], [ZZ], [IZ], [ZI]]               (16+0j)"
      ]
     },
     "execution_count": 32,
     "metadata": {},
     "output_type": "execute_result"
    }
   ],
   "source": [
    "def calculate_expected_state_preps_valid_partitions(term_set, state):\n",
    "    \"\"\"\n",
    "    Computes the expected number of state preparations given every valid partition of a set of terms.\n",
    "    A valid partition is one in which all groupings are pairwise commuting.\n",
    "    Inputs:\n",
    "        term_set: list of *strings*, e.g. [\"-XX\", \"-YY\", \"ZZ\", \"IZ\", \"ZI\"]\n",
    "        state: as a np.array, e.g. np.array([[0.], [1.], [0.], [0.]]))\n",
    "    \"\"\"\n",
    "    evaled_term_set = [pauli_string_to_matrix(term).full() for term in term_set]\n",
    "    partition_list = []\n",
    "    expected_state_prep_list = []\n",
    "    for pp in partition(list(range(len(term_set)))):\n",
    "        partition_list.append([list(np.array(term_set)[grouping]) for grouping in pp])\n",
    "        expected_state_prep_list.append(sum([variance_grouping(np.array(evaled_term_set)[indices], state)*len(pp) for indices in pp]))\n",
    "    partition_df = pd.DataFrame({'partition': partition_list, 'expected_state_preps': expected_state_prep_list}).sort_values(by=[\"expected_state_preps\"])\n",
    "    # Eliminate invalid partitions that contain groupings that are non-pairwise-computing.\n",
    "    return(partition_df[partition_df['partition'].apply(lambda partition: is_valid_partition(partition))])\n",
    "\n",
    "# Aspuru-Guzik example\n",
    "test_term_set = [\"-XX\", \"-YY\", \"ZZ\", \"IZ\", \"ZI\"]\n",
    "state = np.array([[0], [1], [0], [0]])\n",
    "\n",
    "partition_list = calculate_expected_state_preps_valid_partitions(test_term_set, state)\n",
    "partition_list\n"
   ]
  },
  {
   "cell_type": "code",
   "execution_count": 33,
   "metadata": {},
   "outputs": [],
   "source": [
    "# Helper function: print all pairwise covariances across commuting terms\n",
    "def pairwise_covariances_commuting_terms(term_set, state):\n",
    "    covariance_list = []\n",
    "    evaled_term_set = [pauli_string_to_matrix(term).full() for term in term_set]\n",
    "    for i in range(len(evaled_term_set)):\n",
    "        for j in range(i+1, len(evaled_term_set)):\n",
    "            # evaluates to 1 if commuting, 0 if non-commuting\n",
    "            if np.array_equal(evaled_term_set[i] @ evaled_term_set[j],\n",
    "                               evaled_term_set[j] @ evaled_term_set[i]):\n",
    "                covariance_list.append([term_set[i], term_set[j], covariance(evaled_term_set[i], evaled_term_set[j], state).item()])\n",
    "    return(pd.DataFrame(covariance_list, columns=[\"term 1\", \"term 2\", \"covariance\"]))"
   ]
  },
  {
   "cell_type": "code",
   "execution_count": 34,
   "metadata": {},
   "outputs": [
    {
     "data": {
      "text/html": [
       "<div>\n",
       "<style scoped>\n",
       "    .dataframe tbody tr th:only-of-type {\n",
       "        vertical-align: middle;\n",
       "    }\n",
       "\n",
       "    .dataframe tbody tr th {\n",
       "        vertical-align: top;\n",
       "    }\n",
       "\n",
       "    .dataframe thead th {\n",
       "        text-align: right;\n",
       "    }\n",
       "</style>\n",
       "<table border=\"1\" class=\"dataframe\">\n",
       "  <thead>\n",
       "    <tr style=\"text-align: right;\">\n",
       "      <th></th>\n",
       "      <th>term 1</th>\n",
       "      <th>term 2</th>\n",
       "      <th>covariance</th>\n",
       "    </tr>\n",
       "  </thead>\n",
       "  <tbody>\n",
       "    <tr>\n",
       "      <th>0</th>\n",
       "      <td>-XX</td>\n",
       "      <td>-YY</td>\n",
       "      <td>(1+0j)</td>\n",
       "    </tr>\n",
       "    <tr>\n",
       "      <th>1</th>\n",
       "      <td>-XX</td>\n",
       "      <td>ZZ</td>\n",
       "      <td>0j</td>\n",
       "    </tr>\n",
       "    <tr>\n",
       "      <th>2</th>\n",
       "      <td>-YY</td>\n",
       "      <td>ZZ</td>\n",
       "      <td>0j</td>\n",
       "    </tr>\n",
       "    <tr>\n",
       "      <th>3</th>\n",
       "      <td>ZZ</td>\n",
       "      <td>IZ</td>\n",
       "      <td>0j</td>\n",
       "    </tr>\n",
       "    <tr>\n",
       "      <th>4</th>\n",
       "      <td>ZZ</td>\n",
       "      <td>ZI</td>\n",
       "      <td>0j</td>\n",
       "    </tr>\n",
       "    <tr>\n",
       "      <th>5</th>\n",
       "      <td>IZ</td>\n",
       "      <td>ZI</td>\n",
       "      <td>0j</td>\n",
       "    </tr>\n",
       "  </tbody>\n",
       "</table>\n",
       "</div>"
      ],
      "text/plain": [
       "  term 1 term 2  covariance\n",
       "0    -XX    -YY      (1+0j)\n",
       "1    -XX     ZZ          0j\n",
       "2    -YY     ZZ          0j\n",
       "3     ZZ     IZ          0j\n",
       "4     ZZ     ZI          0j\n",
       "5     IZ     ZI          0j"
      ]
     },
     "execution_count": 34,
     "metadata": {},
     "output_type": "execute_result"
    }
   ],
   "source": [
    "pairwise_covariances_commuting_terms(test_term_set, state)"
   ]
  },
  {
   "cell_type": "code",
   "execution_count": 35,
   "metadata": {},
   "outputs": [],
   "source": [
    "state_list = [np.array([[1], [0], [0], [0]]),\n",
    "              np.array([[0], [1], [0], [0]]),\n",
    "              np.array([[0], [0], [1], [0]]),\n",
    "              np.array([[0], [0], [0], [1]])]"
   ]
  },
  {
   "cell_type": "code",
   "execution_count": 36,
   "metadata": {
    "scrolled": false
   },
   "outputs": [
    {
     "name": "stdout",
     "output_type": "stream",
     "text": [
      "[[1]\n",
      " [0]\n",
      " [0]\n",
      " [0]]\n",
      "  term 1 term 2  covariance\n",
      "0    -XX    -YY     (-1+0j)\n",
      "1    -XX     ZZ          0j\n",
      "2    -YY     ZZ          0j\n",
      "3     ZZ     IZ          0j\n",
      "4     ZZ     ZI          0j\n",
      "5     IZ     ZI          0j\n",
      "                           partition  expected_state_preps\n",
      "47    [[-XX, -YY], [ZZ], [IZ], [ZI]]                    0j\n",
      "35      [[-XX, -YY, ZZ], [IZ], [ZI]]                    0j\n",
      "31      [[-XX, -YY], [IZ], [ZZ, ZI]]                    0j\n",
      "21      [[-XX, -YY], [ZZ, IZ], [ZI]]                    0j\n",
      "11      [[-XX, -YY], [ZZ], [IZ, ZI]]                    0j\n",
      "5         [[-XX, -YY, ZZ], [IZ, ZI]]                    0j\n",
      "2         [[-XX, -YY], [ZZ, IZ, ZI]]                    0j\n",
      "4       [[-XX], [-YY], [ZZ, IZ, ZI]]                (6+0j)\n",
      "12      [[-YY], [-XX, ZZ], [IZ, ZI]]                (6+0j)\n",
      "7       [[-XX], [-YY, ZZ], [IZ, ZI]]                (6+0j)\n",
      "48    [[-YY], [-XX, ZZ], [IZ], [ZI]]                (8+0j)\n",
      "38    [[-XX], [-YY, ZZ], [IZ], [ZI]]                (8+0j)\n",
      "24    [[-XX], [-YY], [ZZ, IZ], [ZI]]                (8+0j)\n",
      "34    [[-XX], [-YY], [IZ], [ZZ, ZI]]                (8+0j)\n",
      "14    [[-XX], [-YY], [ZZ], [IZ, ZI]]                (8+0j)\n",
      "51  [[-XX], [-YY], [ZZ], [IZ], [ZI]]               (10+0j)\n",
      "[[0]\n",
      " [1]\n",
      " [0]\n",
      " [0]]\n",
      "  term 1 term 2  covariance\n",
      "0    -XX    -YY      (1+0j)\n",
      "1    -XX     ZZ          0j\n",
      "2    -YY     ZZ          0j\n",
      "3     ZZ     IZ          0j\n",
      "4     ZZ     ZI          0j\n",
      "5     IZ     ZI          0j\n",
      "                           partition  expected_state_preps\n",
      "7       [[-XX], [-YY, ZZ], [IZ, ZI]]                (6+0j)\n",
      "12      [[-YY], [-XX, ZZ], [IZ, ZI]]                (6+0j)\n",
      "4       [[-XX], [-YY], [ZZ, IZ, ZI]]                (6+0j)\n",
      "48    [[-YY], [-XX, ZZ], [IZ], [ZI]]                (8+0j)\n",
      "38    [[-XX], [-YY, ZZ], [IZ], [ZI]]                (8+0j)\n",
      "34    [[-XX], [-YY], [IZ], [ZZ, ZI]]                (8+0j)\n",
      "14    [[-XX], [-YY], [ZZ], [IZ, ZI]]                (8+0j)\n",
      "24    [[-XX], [-YY], [ZZ, IZ], [ZI]]                (8+0j)\n",
      "2         [[-XX, -YY], [ZZ, IZ, ZI]]                (8+0j)\n",
      "5         [[-XX, -YY, ZZ], [IZ, ZI]]                (8+0j)\n",
      "51  [[-XX], [-YY], [ZZ], [IZ], [ZI]]               (10+0j)\n",
      "31      [[-XX, -YY], [IZ], [ZZ, ZI]]               (12+0j)\n",
      "21      [[-XX, -YY], [ZZ, IZ], [ZI]]               (12+0j)\n",
      "11      [[-XX, -YY], [ZZ], [IZ, ZI]]               (12+0j)\n",
      "35      [[-XX, -YY, ZZ], [IZ], [ZI]]               (12+0j)\n",
      "47    [[-XX, -YY], [ZZ], [IZ], [ZI]]               (16+0j)\n",
      "[[0]\n",
      " [0]\n",
      " [1]\n",
      " [0]]\n",
      "  term 1 term 2  covariance\n",
      "0    -XX    -YY      (1+0j)\n",
      "1    -XX     ZZ          0j\n",
      "2    -YY     ZZ          0j\n",
      "3     ZZ     IZ          0j\n",
      "4     ZZ     ZI          0j\n",
      "5     IZ     ZI          0j\n",
      "                           partition  expected_state_preps\n",
      "7       [[-XX], [-YY, ZZ], [IZ, ZI]]                (6+0j)\n",
      "12      [[-YY], [-XX, ZZ], [IZ, ZI]]                (6+0j)\n",
      "4       [[-XX], [-YY], [ZZ, IZ, ZI]]                (6+0j)\n",
      "48    [[-YY], [-XX, ZZ], [IZ], [ZI]]                (8+0j)\n",
      "38    [[-XX], [-YY, ZZ], [IZ], [ZI]]                (8+0j)\n",
      "34    [[-XX], [-YY], [IZ], [ZZ, ZI]]                (8+0j)\n",
      "14    [[-XX], [-YY], [ZZ], [IZ, ZI]]                (8+0j)\n",
      "24    [[-XX], [-YY], [ZZ, IZ], [ZI]]                (8+0j)\n",
      "2         [[-XX, -YY], [ZZ, IZ, ZI]]                (8+0j)\n",
      "5         [[-XX, -YY, ZZ], [IZ, ZI]]                (8+0j)\n",
      "51  [[-XX], [-YY], [ZZ], [IZ], [ZI]]               (10+0j)\n",
      "31      [[-XX, -YY], [IZ], [ZZ, ZI]]               (12+0j)\n",
      "21      [[-XX, -YY], [ZZ, IZ], [ZI]]               (12+0j)\n",
      "11      [[-XX, -YY], [ZZ], [IZ, ZI]]               (12+0j)\n",
      "35      [[-XX, -YY, ZZ], [IZ], [ZI]]               (12+0j)\n",
      "47    [[-XX, -YY], [ZZ], [IZ], [ZI]]               (16+0j)\n",
      "[[0]\n",
      " [0]\n",
      " [0]\n",
      " [1]]\n",
      "  term 1 term 2  covariance\n",
      "0    -XX    -YY     (-1+0j)\n",
      "1    -XX     ZZ          0j\n",
      "2    -YY     ZZ          0j\n",
      "3     ZZ     IZ          0j\n",
      "4     ZZ     ZI          0j\n",
      "5     IZ     ZI          0j\n",
      "                           partition  expected_state_preps\n",
      "47    [[-XX, -YY], [ZZ], [IZ], [ZI]]                    0j\n",
      "35      [[-XX, -YY, ZZ], [IZ], [ZI]]                    0j\n",
      "31      [[-XX, -YY], [IZ], [ZZ, ZI]]                    0j\n",
      "21      [[-XX, -YY], [ZZ, IZ], [ZI]]                    0j\n",
      "11      [[-XX, -YY], [ZZ], [IZ, ZI]]                    0j\n",
      "5         [[-XX, -YY, ZZ], [IZ, ZI]]                    0j\n",
      "2         [[-XX, -YY], [ZZ, IZ, ZI]]                    0j\n",
      "4       [[-XX], [-YY], [ZZ, IZ, ZI]]                (6+0j)\n",
      "12      [[-YY], [-XX, ZZ], [IZ, ZI]]                (6+0j)\n",
      "7       [[-XX], [-YY, ZZ], [IZ, ZI]]                (6+0j)\n",
      "48    [[-YY], [-XX, ZZ], [IZ], [ZI]]                (8+0j)\n",
      "38    [[-XX], [-YY, ZZ], [IZ], [ZI]]                (8+0j)\n",
      "24    [[-XX], [-YY], [ZZ, IZ], [ZI]]                (8+0j)\n",
      "34    [[-XX], [-YY], [IZ], [ZZ, ZI]]                (8+0j)\n",
      "14    [[-XX], [-YY], [ZZ], [IZ, ZI]]                (8+0j)\n",
      "51  [[-XX], [-YY], [ZZ], [IZ], [ZI]]               (10+0j)\n"
     ]
    }
   ],
   "source": [
    "for state in state_list:\n",
    "    print(state)\n",
    "    print(pairwise_covariances_commuting_terms(test_term_set, state))\n",
    "    print(calculate_expected_state_preps_valid_partitions(test_term_set, state))"
   ]
  },
  {
   "cell_type": "code",
   "execution_count": 37,
   "metadata": {},
   "outputs": [
    {
     "name": "stderr",
     "output_type": "stream",
     "text": [
      "/usr/local/lib/python3.7/site-packages/numpy/core/_methods.py:36: ComplexWarning: Casting complex values to real discards the imaginary part\n",
      "  return umr_sum(a, axis, dtype, out, keepdims, initial)\n"
     ]
    },
    {
     "data": {
      "text/html": [
       "<div>\n",
       "<style scoped>\n",
       "    .dataframe tbody tr th:only-of-type {\n",
       "        vertical-align: middle;\n",
       "    }\n",
       "\n",
       "    .dataframe tbody tr th {\n",
       "        vertical-align: top;\n",
       "    }\n",
       "\n",
       "    .dataframe thead th {\n",
       "        text-align: right;\n",
       "    }\n",
       "</style>\n",
       "<table border=\"1\" class=\"dataframe\">\n",
       "  <thead>\n",
       "    <tr style=\"text-align: right;\">\n",
       "      <th></th>\n",
       "      <th>partition</th>\n",
       "      <th>00</th>\n",
       "      <th>01</th>\n",
       "      <th>10</th>\n",
       "      <th>11</th>\n",
       "      <th>row_mean</th>\n",
       "      <th>row_var</th>\n",
       "    </tr>\n",
       "  </thead>\n",
       "  <tbody>\n",
       "    <tr>\n",
       "      <th>5</th>\n",
       "      <td>[[-XX, -YY, ZZ], [IZ, ZI]]</td>\n",
       "      <td>0j</td>\n",
       "      <td>(8+0j)</td>\n",
       "      <td>(8+0j)</td>\n",
       "      <td>0j</td>\n",
       "      <td>(4+0j)</td>\n",
       "      <td>16.0</td>\n",
       "    </tr>\n",
       "    <tr>\n",
       "      <th>2</th>\n",
       "      <td>[[-XX, -YY], [ZZ, IZ, ZI]]</td>\n",
       "      <td>0j</td>\n",
       "      <td>(8+0j)</td>\n",
       "      <td>(8+0j)</td>\n",
       "      <td>0j</td>\n",
       "      <td>(4+0j)</td>\n",
       "      <td>16.0</td>\n",
       "    </tr>\n",
       "    <tr>\n",
       "      <th>35</th>\n",
       "      <td>[[-XX, -YY, ZZ], [IZ], [ZI]]</td>\n",
       "      <td>0j</td>\n",
       "      <td>(12+0j)</td>\n",
       "      <td>(12+0j)</td>\n",
       "      <td>0j</td>\n",
       "      <td>(6+0j)</td>\n",
       "      <td>36.0</td>\n",
       "    </tr>\n",
       "    <tr>\n",
       "      <th>31</th>\n",
       "      <td>[[-XX, -YY], [IZ], [ZZ, ZI]]</td>\n",
       "      <td>0j</td>\n",
       "      <td>(12+0j)</td>\n",
       "      <td>(12+0j)</td>\n",
       "      <td>0j</td>\n",
       "      <td>(6+0j)</td>\n",
       "      <td>36.0</td>\n",
       "    </tr>\n",
       "    <tr>\n",
       "      <th>21</th>\n",
       "      <td>[[-XX, -YY], [ZZ, IZ], [ZI]]</td>\n",
       "      <td>0j</td>\n",
       "      <td>(12+0j)</td>\n",
       "      <td>(12+0j)</td>\n",
       "      <td>0j</td>\n",
       "      <td>(6+0j)</td>\n",
       "      <td>36.0</td>\n",
       "    </tr>\n",
       "    <tr>\n",
       "      <th>11</th>\n",
       "      <td>[[-XX, -YY], [ZZ], [IZ, ZI]]</td>\n",
       "      <td>0j</td>\n",
       "      <td>(12+0j)</td>\n",
       "      <td>(12+0j)</td>\n",
       "      <td>0j</td>\n",
       "      <td>(6+0j)</td>\n",
       "      <td>36.0</td>\n",
       "    </tr>\n",
       "    <tr>\n",
       "      <th>4</th>\n",
       "      <td>[[-XX], [-YY], [ZZ, IZ, ZI]]</td>\n",
       "      <td>(6+0j)</td>\n",
       "      <td>(6+0j)</td>\n",
       "      <td>(6+0j)</td>\n",
       "      <td>(6+0j)</td>\n",
       "      <td>(6+0j)</td>\n",
       "      <td>0.0</td>\n",
       "    </tr>\n",
       "    <tr>\n",
       "      <th>12</th>\n",
       "      <td>[[-YY], [-XX, ZZ], [IZ, ZI]]</td>\n",
       "      <td>(6+0j)</td>\n",
       "      <td>(6+0j)</td>\n",
       "      <td>(6+0j)</td>\n",
       "      <td>(6+0j)</td>\n",
       "      <td>(6+0j)</td>\n",
       "      <td>0.0</td>\n",
       "    </tr>\n",
       "    <tr>\n",
       "      <th>7</th>\n",
       "      <td>[[-XX], [-YY, ZZ], [IZ, ZI]]</td>\n",
       "      <td>(6+0j)</td>\n",
       "      <td>(6+0j)</td>\n",
       "      <td>(6+0j)</td>\n",
       "      <td>(6+0j)</td>\n",
       "      <td>(6+0j)</td>\n",
       "      <td>0.0</td>\n",
       "    </tr>\n",
       "    <tr>\n",
       "      <th>47</th>\n",
       "      <td>[[-XX, -YY], [ZZ], [IZ], [ZI]]</td>\n",
       "      <td>0j</td>\n",
       "      <td>(16+0j)</td>\n",
       "      <td>(16+0j)</td>\n",
       "      <td>0j</td>\n",
       "      <td>(8+0j)</td>\n",
       "      <td>64.0</td>\n",
       "    </tr>\n",
       "    <tr>\n",
       "      <th>48</th>\n",
       "      <td>[[-YY], [-XX, ZZ], [IZ], [ZI]]</td>\n",
       "      <td>(8+0j)</td>\n",
       "      <td>(8+0j)</td>\n",
       "      <td>(8+0j)</td>\n",
       "      <td>(8+0j)</td>\n",
       "      <td>(8+0j)</td>\n",
       "      <td>0.0</td>\n",
       "    </tr>\n",
       "    <tr>\n",
       "      <th>38</th>\n",
       "      <td>[[-XX], [-YY, ZZ], [IZ], [ZI]]</td>\n",
       "      <td>(8+0j)</td>\n",
       "      <td>(8+0j)</td>\n",
       "      <td>(8+0j)</td>\n",
       "      <td>(8+0j)</td>\n",
       "      <td>(8+0j)</td>\n",
       "      <td>0.0</td>\n",
       "    </tr>\n",
       "    <tr>\n",
       "      <th>24</th>\n",
       "      <td>[[-XX], [-YY], [ZZ, IZ], [ZI]]</td>\n",
       "      <td>(8+0j)</td>\n",
       "      <td>(8+0j)</td>\n",
       "      <td>(8+0j)</td>\n",
       "      <td>(8+0j)</td>\n",
       "      <td>(8+0j)</td>\n",
       "      <td>0.0</td>\n",
       "    </tr>\n",
       "    <tr>\n",
       "      <th>34</th>\n",
       "      <td>[[-XX], [-YY], [IZ], [ZZ, ZI]]</td>\n",
       "      <td>(8+0j)</td>\n",
       "      <td>(8+0j)</td>\n",
       "      <td>(8+0j)</td>\n",
       "      <td>(8+0j)</td>\n",
       "      <td>(8+0j)</td>\n",
       "      <td>0.0</td>\n",
       "    </tr>\n",
       "    <tr>\n",
       "      <th>14</th>\n",
       "      <td>[[-XX], [-YY], [ZZ], [IZ, ZI]]</td>\n",
       "      <td>(8+0j)</td>\n",
       "      <td>(8+0j)</td>\n",
       "      <td>(8+0j)</td>\n",
       "      <td>(8+0j)</td>\n",
       "      <td>(8+0j)</td>\n",
       "      <td>0.0</td>\n",
       "    </tr>\n",
       "    <tr>\n",
       "      <th>51</th>\n",
       "      <td>[[-XX], [-YY], [ZZ], [IZ], [ZI]]</td>\n",
       "      <td>(10+0j)</td>\n",
       "      <td>(10+0j)</td>\n",
       "      <td>(10+0j)</td>\n",
       "      <td>(10+0j)</td>\n",
       "      <td>(10+0j)</td>\n",
       "      <td>0.0</td>\n",
       "    </tr>\n",
       "  </tbody>\n",
       "</table>\n",
       "</div>"
      ],
      "text/plain": [
       "                           partition       00       01       10       11  \\\n",
       "5         [[-XX, -YY, ZZ], [IZ, ZI]]       0j   (8+0j)   (8+0j)       0j   \n",
       "2         [[-XX, -YY], [ZZ, IZ, ZI]]       0j   (8+0j)   (8+0j)       0j   \n",
       "35      [[-XX, -YY, ZZ], [IZ], [ZI]]       0j  (12+0j)  (12+0j)       0j   \n",
       "31      [[-XX, -YY], [IZ], [ZZ, ZI]]       0j  (12+0j)  (12+0j)       0j   \n",
       "21      [[-XX, -YY], [ZZ, IZ], [ZI]]       0j  (12+0j)  (12+0j)       0j   \n",
       "11      [[-XX, -YY], [ZZ], [IZ, ZI]]       0j  (12+0j)  (12+0j)       0j   \n",
       "4       [[-XX], [-YY], [ZZ, IZ, ZI]]   (6+0j)   (6+0j)   (6+0j)   (6+0j)   \n",
       "12      [[-YY], [-XX, ZZ], [IZ, ZI]]   (6+0j)   (6+0j)   (6+0j)   (6+0j)   \n",
       "7       [[-XX], [-YY, ZZ], [IZ, ZI]]   (6+0j)   (6+0j)   (6+0j)   (6+0j)   \n",
       "47    [[-XX, -YY], [ZZ], [IZ], [ZI]]       0j  (16+0j)  (16+0j)       0j   \n",
       "48    [[-YY], [-XX, ZZ], [IZ], [ZI]]   (8+0j)   (8+0j)   (8+0j)   (8+0j)   \n",
       "38    [[-XX], [-YY, ZZ], [IZ], [ZI]]   (8+0j)   (8+0j)   (8+0j)   (8+0j)   \n",
       "24    [[-XX], [-YY], [ZZ, IZ], [ZI]]   (8+0j)   (8+0j)   (8+0j)   (8+0j)   \n",
       "34    [[-XX], [-YY], [IZ], [ZZ, ZI]]   (8+0j)   (8+0j)   (8+0j)   (8+0j)   \n",
       "14    [[-XX], [-YY], [ZZ], [IZ, ZI]]   (8+0j)   (8+0j)   (8+0j)   (8+0j)   \n",
       "51  [[-XX], [-YY], [ZZ], [IZ], [ZI]]  (10+0j)  (10+0j)  (10+0j)  (10+0j)   \n",
       "\n",
       "    row_mean  row_var  \n",
       "5     (4+0j)     16.0  \n",
       "2     (4+0j)     16.0  \n",
       "35    (6+0j)     36.0  \n",
       "31    (6+0j)     36.0  \n",
       "21    (6+0j)     36.0  \n",
       "11    (6+0j)     36.0  \n",
       "4     (6+0j)      0.0  \n",
       "12    (6+0j)      0.0  \n",
       "7     (6+0j)      0.0  \n",
       "47    (8+0j)     64.0  \n",
       "48    (8+0j)      0.0  \n",
       "38    (8+0j)      0.0  \n",
       "24    (8+0j)      0.0  \n",
       "34    (8+0j)      0.0  \n",
       "14    (8+0j)      0.0  \n",
       "51   (10+0j)      0.0  "
      ]
     },
     "execution_count": 37,
     "metadata": {},
     "output_type": "execute_result"
    }
   ],
   "source": [
    "# ugly code to calculate the expected state preps per each of the basis states\n",
    "df0 = calculate_expected_state_preps_valid_partitions(test_term_set, state_list[0])\n",
    "df1 = calculate_expected_state_preps_valid_partitions(test_term_set, state_list[1])\n",
    "df2 = calculate_expected_state_preps_valid_partitions(test_term_set, state_list[2])\n",
    "df3 = calculate_expected_state_preps_valid_partitions(test_term_set, state_list[3])\n",
    "\n",
    "temp = pd.merge(df0, df1, left_index=True, right_index=True)\n",
    "temp = pd.merge(temp, df2, left_index=True, right_index=True)\n",
    "temp = pd.merge(temp, df3, left_index=True, right_index=True)\n",
    "temp = temp.iloc[:,[0,1,3,5,7]]\n",
    "temp.columns=[\"partition\", \"00\", \"01\", \"10\", \"11\"]\n",
    "temp['row_mean'] = temp.iloc[:,1:].mean(axis=1)\n",
    "temp['row_var'] = temp.iloc[:,1:].var(axis=1)\n",
    "temp.sort_values(by=[\"row_mean\"])"
   ]
  },
  {
   "cell_type": "code",
   "execution_count": 38,
   "metadata": {},
   "outputs": [
    {
     "name": "stdout",
     "output_type": "stream",
     "text": [
      "[array([[ 0.51414978-0.09424261j],\n",
      "       [-0.02287104-0.05587584j],\n",
      "       [ 0.302804  -0.5959059j ],\n",
      "       [ 0.51916538-0.08243996j]]), array([[-0.58208974+0.40000496j],\n",
      "       [ 0.29272803-0.60477282j],\n",
      "       [ 0.09988454+0.16019287j],\n",
      "       [-0.08931179-0.07818202j]]), array([[ 0.49764924-0.30396103j],\n",
      "       [-0.26873659-0.56848373j],\n",
      "       [ 0.12769463-0.42569028j],\n",
      "       [ 0.22999317+0.11893201j]]), array([[0.0305841 -0.51777889j],\n",
      "       [0.3677753 +0.5048436j ],\n",
      "       [0.26456331-0.22602001j],\n",
      "       [0.17026159+0.43677923j]])]\n"
     ]
    },
    {
     "name": "stderr",
     "output_type": "stream",
     "text": [
      "/usr/local/lib/python3.7/site-packages/numpy/core/_methods.py:36: ComplexWarning: Casting complex values to real discards the imaginary part\n",
      "  return umr_sum(a, axis, dtype, out, keepdims, initial)\n"
     ]
    },
    {
     "data": {
      "text/html": [
       "<div>\n",
       "<style scoped>\n",
       "    .dataframe tbody tr th:only-of-type {\n",
       "        vertical-align: middle;\n",
       "    }\n",
       "\n",
       "    .dataframe tbody tr th {\n",
       "        vertical-align: top;\n",
       "    }\n",
       "\n",
       "    .dataframe thead th {\n",
       "        text-align: right;\n",
       "    }\n",
       "</style>\n",
       "<table border=\"1\" class=\"dataframe\">\n",
       "  <thead>\n",
       "    <tr style=\"text-align: right;\">\n",
       "      <th></th>\n",
       "      <th>partition</th>\n",
       "      <th>00</th>\n",
       "      <th>01</th>\n",
       "      <th>10</th>\n",
       "      <th>11</th>\n",
       "      <th>row_mean</th>\n",
       "      <th>row_var</th>\n",
       "    </tr>\n",
       "  </thead>\n",
       "  <tbody>\n",
       "    <tr>\n",
       "      <th>5</th>\n",
       "      <td>[[-XX, -YY, ZZ], [IZ, ZI]]</td>\n",
       "      <td>(10.42-0j)</td>\n",
       "      <td>(6.86+0j)</td>\n",
       "      <td>(10.66-0j)</td>\n",
       "      <td>(9.71+0j)</td>\n",
       "      <td>(9.41-0j)</td>\n",
       "      <td>2.29</td>\n",
       "    </tr>\n",
       "    <tr>\n",
       "      <th>2</th>\n",
       "      <td>[[-XX, -YY], [ZZ, IZ, ZI]]</td>\n",
       "      <td>(9.94+0j)</td>\n",
       "      <td>(11.75+0j)</td>\n",
       "      <td>(10.54-0j)</td>\n",
       "      <td>(10.37+0j)</td>\n",
       "      <td>(10.65-0j)</td>\n",
       "      <td>0.45</td>\n",
       "    </tr>\n",
       "    <tr>\n",
       "      <th>12</th>\n",
       "      <td>[[-YY], [-XX, ZZ], [IZ, ZI]]</td>\n",
       "      <td>(11.12-0j)</td>\n",
       "      <td>(11.14+0j)</td>\n",
       "      <td>(12.62-0j)</td>\n",
       "      <td>(16.17+0j)</td>\n",
       "      <td>(12.76-0j)</td>\n",
       "      <td>4.25</td>\n",
       "    </tr>\n",
       "    <tr>\n",
       "      <th>11</th>\n",
       "      <td>[[-XX, -YY], [ZZ], [IZ, ZI]]</td>\n",
       "      <td>(14.94+0j)</td>\n",
       "      <td>(11.96+0j)</td>\n",
       "      <td>(11.93-0j)</td>\n",
       "      <td>(14.96+0j)</td>\n",
       "      <td>(13.45-0j)</td>\n",
       "      <td>2.25</td>\n",
       "    </tr>\n",
       "    <tr>\n",
       "      <th>7</th>\n",
       "      <td>[[-XX], [-YY, ZZ], [IZ, ZI]]</td>\n",
       "      <td>(17.05-0j)</td>\n",
       "      <td>(11.62+0j)</td>\n",
       "      <td>(14.85+0j)</td>\n",
       "      <td>(10.75+0j)</td>\n",
       "      <td>(13.57-0j)</td>\n",
       "      <td>6.38</td>\n",
       "    </tr>\n",
       "    <tr>\n",
       "      <th>35</th>\n",
       "      <td>[[-XX, -YY, ZZ], [IZ], [ZI]]</td>\n",
       "      <td>(13.86-0j)</td>\n",
       "      <td>(10.51+0j)</td>\n",
       "      <td>(17.32-0j)</td>\n",
       "      <td>(14.28+0j)</td>\n",
       "      <td>(13.99-0j)</td>\n",
       "      <td>5.82</td>\n",
       "    </tr>\n",
       "    <tr>\n",
       "      <th>31</th>\n",
       "      <td>[[-XX, -YY], [IZ], [ZZ, ZI]]</td>\n",
       "      <td>(16.07+0j)</td>\n",
       "      <td>(12.45+0j)</td>\n",
       "      <td>(14.23-0j)</td>\n",
       "      <td>(13.39+0j)</td>\n",
       "      <td>(14.04-0j)</td>\n",
       "      <td>1.78</td>\n",
       "    </tr>\n",
       "    <tr>\n",
       "      <th>21</th>\n",
       "      <td>[[-XX, -YY], [ZZ, IZ], [ZI]]</td>\n",
       "      <td>(10.22+0j)</td>\n",
       "      <td>(17.57+0j)</td>\n",
       "      <td>(16.17-0j)</td>\n",
       "      <td>(16.55+0j)</td>\n",
       "      <td>(15.13-0j)</td>\n",
       "      <td>8.28</td>\n",
       "    </tr>\n",
       "    <tr>\n",
       "      <th>4</th>\n",
       "      <td>[[-XX], [-YY], [ZZ, IZ, ZI]]</td>\n",
       "      <td>(13.7-0j)</td>\n",
       "      <td>(17.88+0j)</td>\n",
       "      <td>(15.59-0j)</td>\n",
       "      <td>(14.26+0j)</td>\n",
       "      <td>(15.36-0j)</td>\n",
       "      <td>2.59</td>\n",
       "    </tr>\n",
       "    <tr>\n",
       "      <th>48</th>\n",
       "      <td>[[-YY], [-XX, ZZ], [IZ], [ZI]]</td>\n",
       "      <td>(12.46-0j)</td>\n",
       "      <td>(15.14+0j)</td>\n",
       "      <td>(18.6-0j)</td>\n",
       "      <td>(21.18+0j)</td>\n",
       "      <td>(16.84-0j)</td>\n",
       "      <td>11.00</td>\n",
       "    </tr>\n",
       "    <tr>\n",
       "      <th>14</th>\n",
       "      <td>[[-XX], [-YY], [ZZ], [IZ, ZI]]</td>\n",
       "      <td>(18.32-0j)</td>\n",
       "      <td>(16.28+0j)</td>\n",
       "      <td>(15.61-0j)</td>\n",
       "      <td>(18.21+0j)</td>\n",
       "      <td>(17.1-0j)</td>\n",
       "      <td>1.40</td>\n",
       "    </tr>\n",
       "    <tr>\n",
       "      <th>47</th>\n",
       "      <td>[[-XX, -YY], [ZZ], [IZ], [ZI]]</td>\n",
       "      <td>(17.55+0j)</td>\n",
       "      <td>(16.23+0j)</td>\n",
       "      <td>(17.68-0j)</td>\n",
       "      <td>(19.56+0j)</td>\n",
       "      <td>(17.76-0j)</td>\n",
       "      <td>1.40</td>\n",
       "    </tr>\n",
       "    <tr>\n",
       "      <th>34</th>\n",
       "      <td>[[-XX], [-YY], [IZ], [ZZ, ZI]]</td>\n",
       "      <td>(19.83-0j)</td>\n",
       "      <td>(16.94+0j)</td>\n",
       "      <td>(18.68-0j)</td>\n",
       "      <td>(16.13+0j)</td>\n",
       "      <td>(17.89-0j)</td>\n",
       "      <td>2.10</td>\n",
       "    </tr>\n",
       "    <tr>\n",
       "      <th>38</th>\n",
       "      <td>[[-XX], [-YY, ZZ], [IZ], [ZI]]</td>\n",
       "      <td>(20.38-0j)</td>\n",
       "      <td>(15.79+0j)</td>\n",
       "      <td>(21.57+0j)</td>\n",
       "      <td>(13.95+0j)</td>\n",
       "      <td>(17.92-0j)</td>\n",
       "      <td>9.91</td>\n",
       "    </tr>\n",
       "    <tr>\n",
       "      <th>24</th>\n",
       "      <td>[[-XX], [-YY], [ZZ, IZ], [ZI]]</td>\n",
       "      <td>(12.03-0j)</td>\n",
       "      <td>(23.76+0j)</td>\n",
       "      <td>(21.25-0j)</td>\n",
       "      <td>(20.34+0j)</td>\n",
       "      <td>(19.35-0j)</td>\n",
       "      <td>19.40</td>\n",
       "    </tr>\n",
       "    <tr>\n",
       "      <th>51</th>\n",
       "      <td>[[-XX], [-YY], [ZZ], [IZ], [ZI]]</td>\n",
       "      <td>(19.94-0j)</td>\n",
       "      <td>(20.72+0j)</td>\n",
       "      <td>(21.72-0j)</td>\n",
       "      <td>(22.29+0j)</td>\n",
       "      <td>(21.17-0j)</td>\n",
       "      <td>0.82</td>\n",
       "    </tr>\n",
       "  </tbody>\n",
       "</table>\n",
       "</div>"
      ],
      "text/plain": [
       "                           partition          00          01          10  \\\n",
       "5         [[-XX, -YY, ZZ], [IZ, ZI]]  (10.42-0j)   (6.86+0j)  (10.66-0j)   \n",
       "2         [[-XX, -YY], [ZZ, IZ, ZI]]   (9.94+0j)  (11.75+0j)  (10.54-0j)   \n",
       "12      [[-YY], [-XX, ZZ], [IZ, ZI]]  (11.12-0j)  (11.14+0j)  (12.62-0j)   \n",
       "11      [[-XX, -YY], [ZZ], [IZ, ZI]]  (14.94+0j)  (11.96+0j)  (11.93-0j)   \n",
       "7       [[-XX], [-YY, ZZ], [IZ, ZI]]  (17.05-0j)  (11.62+0j)  (14.85+0j)   \n",
       "35      [[-XX, -YY, ZZ], [IZ], [ZI]]  (13.86-0j)  (10.51+0j)  (17.32-0j)   \n",
       "31      [[-XX, -YY], [IZ], [ZZ, ZI]]  (16.07+0j)  (12.45+0j)  (14.23-0j)   \n",
       "21      [[-XX, -YY], [ZZ, IZ], [ZI]]  (10.22+0j)  (17.57+0j)  (16.17-0j)   \n",
       "4       [[-XX], [-YY], [ZZ, IZ, ZI]]   (13.7-0j)  (17.88+0j)  (15.59-0j)   \n",
       "48    [[-YY], [-XX, ZZ], [IZ], [ZI]]  (12.46-0j)  (15.14+0j)   (18.6-0j)   \n",
       "14    [[-XX], [-YY], [ZZ], [IZ, ZI]]  (18.32-0j)  (16.28+0j)  (15.61-0j)   \n",
       "47    [[-XX, -YY], [ZZ], [IZ], [ZI]]  (17.55+0j)  (16.23+0j)  (17.68-0j)   \n",
       "34    [[-XX], [-YY], [IZ], [ZZ, ZI]]  (19.83-0j)  (16.94+0j)  (18.68-0j)   \n",
       "38    [[-XX], [-YY, ZZ], [IZ], [ZI]]  (20.38-0j)  (15.79+0j)  (21.57+0j)   \n",
       "24    [[-XX], [-YY], [ZZ, IZ], [ZI]]  (12.03-0j)  (23.76+0j)  (21.25-0j)   \n",
       "51  [[-XX], [-YY], [ZZ], [IZ], [ZI]]  (19.94-0j)  (20.72+0j)  (21.72-0j)   \n",
       "\n",
       "            11    row_mean  row_var  \n",
       "5    (9.71+0j)   (9.41-0j)     2.29  \n",
       "2   (10.37+0j)  (10.65-0j)     0.45  \n",
       "12  (16.17+0j)  (12.76-0j)     4.25  \n",
       "11  (14.96+0j)  (13.45-0j)     2.25  \n",
       "7   (10.75+0j)  (13.57-0j)     6.38  \n",
       "35  (14.28+0j)  (13.99-0j)     5.82  \n",
       "31  (13.39+0j)  (14.04-0j)     1.78  \n",
       "21  (16.55+0j)  (15.13-0j)     8.28  \n",
       "4   (14.26+0j)  (15.36-0j)     2.59  \n",
       "48  (21.18+0j)  (16.84-0j)    11.00  \n",
       "14  (18.21+0j)   (17.1-0j)     1.40  \n",
       "47  (19.56+0j)  (17.76-0j)     1.40  \n",
       "34  (16.13+0j)  (17.89-0j)     2.10  \n",
       "38  (13.95+0j)  (17.92-0j)     9.91  \n",
       "24  (20.34+0j)  (19.35-0j)    19.40  \n",
       "51  (22.29+0j)  (21.17-0j)     0.82  "
      ]
     },
     "execution_count": 38,
     "metadata": {},
     "output_type": "execute_result"
    }
   ],
   "source": [
    "# Are the ideal partitions the same with random kets?\n",
    "random_state_list = [qutip.rand_ket(4).full() for i in range(4)]\n",
    "print(random_state_list)\n",
    "\n",
    "# ugly code to calculate the expected state preps per each of the basis states\n",
    "df0 = calculate_expected_state_preps_valid_partitions(test_term_set, random_state_list[0])\n",
    "df1 = calculate_expected_state_preps_valid_partitions(test_term_set, random_state_list[1])\n",
    "df2 = calculate_expected_state_preps_valid_partitions(test_term_set, random_state_list[2])\n",
    "df3 = calculate_expected_state_preps_valid_partitions(test_term_set, random_state_list[3])\n",
    "\n",
    "temp = pd.merge(df0, df1, left_index=True, right_index=True)\n",
    "temp = pd.merge(temp, df2, left_index=True, right_index=True)\n",
    "temp = pd.merge(temp, df3, left_index=True, right_index=True)\n",
    "temp = temp.iloc[:,[0,1,3,5,7]]\n",
    "temp.columns=[\"partition\", \"00\", \"01\", \"10\", \"11\"]\n",
    "temp['row_mean'] = temp.iloc[:,1:].mean(axis=1)\n",
    "temp['row_var'] = temp.iloc[:,1:].var(axis=1)\n",
    "temp = temp.sort_values(by=[\"row_mean\"]).round(decimals=2)\n",
    "rounded_temp = temp\n",
    "rounded_temp.iloc[:,1:] = temp.iloc[:,1:].apply(lambda x: np.around(x, decimals=2), axis=0)\n",
    "rounded_temp"
   ]
  },
  {
   "cell_type": "markdown",
   "metadata": {},
   "source": [
    "## Lithium Hydride"
   ]
  },
  {
   "cell_type": "markdown",
   "metadata": {},
   "source": [
    "### Read in Hamiltonians"
   ]
  },
  {
   "cell_type": "code",
   "execution_count": 39,
   "metadata": {},
   "outputs": [],
   "source": [
    "def construct_full_term_string(specified_term_list, n):\n",
    "    \"\"\"\n",
    "    Given a list of terms, e.g. ['X1', 'Z3'] \n",
    "    Input:\n",
    "      List of specified terms: e.g. ['X1', 'Z3']\n",
    "      Number of total terms: e.g. 4\n",
    "    Outputs:\n",
    "      String of the full term, e.g. IXIZ\n",
    "    \"\"\"\n",
    "    building_string = ['I']*n # default is that the position should be an I\n",
    "    for term in specified_term_list:\n",
    "        split_string = list(term) # e.g. list('X1') becomes ['X', '1']\n",
    "        building_string[int(split_string[1])] = split_string[0]\n",
    "    return(''.join(building_string))"
   ]
  },
  {
   "cell_type": "code",
   "execution_count": 40,
   "metadata": {},
   "outputs": [
    {
     "name": "stdout",
     "output_type": "stream",
     "text": [
      "['IIII', 'XXYY', 'XYYX', 'YXXY', 'YYXX', 'ZIII', 'ZZII', 'ZIZI', 'ZIIZ', 'IZII', 'IZZI', 'IZIZ', 'IIZI', 'IIZZ', 'IIIZ']\n",
      "[2.806800745053043, -0.006811585442824442, 0.006811585442824442, 0.006811585442824442, -0.006811585442824442, -0.007220443762164415, 0.24086324970819822, 0.09808757340260295, 0.10489915884542617, -0.007220443762164414, 0.10489915884542617, 0.09808757340260295, -0.47497738101613074, 0.09255914539024543, -0.47497738101613074]\n",
      "['IIII', 'XXYY', 'XYYX', 'XZXI', 'XZXZ', 'XIXI', 'YXXY', 'YYXX', 'YZYI', 'YZYZ', 'YIYI', 'ZIII', 'ZXZX', 'ZYZY', 'ZZII', 'ZIZI', 'ZIIZ', 'IXZX', 'IXIX', 'IYZY', 'IYIY', 'IZII', 'IZZI', 'IZIZ', 'IIZI', 'IIZZ', 'IIIZ']\n",
      "[-7.49894690201071, -0.0029329964409502266, 0.0029329964409502266, 0.01291078027311749, -0.0013743761078958677, 0.011536413200774975, 0.0029329964409502266, -0.0029329964409502266, 0.01291078027311749, -0.0013743761078958677, 0.011536413200774975, 0.16199475388004184, 0.011536413200774975, 0.011536413200774975, 0.12444770133137588, 0.054130445793298836, 0.05706344223424907, 0.012910780273117487, -0.0013743761078958677, 0.012910780273117487, -0.0013743761078958677, 0.16199475388004186, 0.05706344223424907, 0.054130445793298836, -0.013243698330265966, 0.08479609543670981, -0.013243698330265952]\n",
      "['IIII', 'XXXI', 'XXXZ', 'XYYI', 'XZXI', 'XZXZ', 'YXYI', 'YXYZ', 'YYXI', 'YZYI', 'YZYZ', 'ZIII', 'ZXZI', 'ZXZZ', 'ZXIZ', 'ZZII', 'ZZZI', 'ZZZZ', 'ZIZI', 'ZIZZ', 'IXII', 'IXZI', 'IXIZ', 'IZII', 'IZZZ', 'IZIZ', 'IIZI']\n",
      "[-7.49894690201071, 0.011536413200774975, 0.0013743761078958677, 0.01291078027311749, 0.0029329964409502266, 0.0029329964409502266, 0.011536413200774975, 0.0013743761078958677, -0.01291078027311749, 0.0029329964409502266, 0.0029329964409502266, 0.16199475388004184, 0.011536413200774975, 0.0013743761078958677, -0.012910780273117487, 0.16199475388004186, 0.05706344223424907, 0.05706344223424907, 0.054130445793298836, 0.054130445793298836, -0.0013743761078958677, 0.012910780273117487, -0.011536413200774975, 0.12444770133137588, -0.013243698330265952, 0.08479609543670981, -0.013243698330265966]\n"
     ]
    }
   ],
   "source": [
    "from term_grouping import parseHamiltonian\n",
    "sample_h1 = parseHamiltonian('hamiltonians/sampleH1.txt')\n",
    "sample_h1_terms = [construct_full_term_string(x[1], 4) for x in sample_h1]\n",
    "sample_h1_coefs = [x[0] for x in sample_h1]\n",
    "print(sample_h1_terms)\n",
    "print(sample_h1_coefs)\n",
    "\n",
    "lih_jw = parseHamiltonian('hamiltonians/LiH_JW.txt')\n",
    "lih_jw_terms = [construct_full_term_string(x[1], 4) for x in lih_jw]\n",
    "lih_jw_coefs = [x[0] for x in lih_jw]\n",
    "print(lih_jw_terms)\n",
    "print(lih_jw_coefs)\n",
    "\n",
    "lih_bk = parseHamiltonian('hamiltonians/LiH_BK.txt')\n",
    "lih_bk_terms = [construct_full_term_string(x[1], 4) for x in lih_bk]\n",
    "lih_bk_coefs = [x[0] for x in lih_bk]\n",
    "print(lih_bk_terms)\n",
    "print(lih_bk_coefs)"
   ]
  },
  {
   "cell_type": "code",
   "execution_count": 41,
   "metadata": {},
   "outputs": [],
   "source": [
    "basis_states_16 = [qutip.basis(16,i).full() for i in range(16)]"
   ]
  },
  {
   "cell_type": "code",
   "execution_count": 42,
   "metadata": {},
   "outputs": [],
   "source": [
    "# TIMES OUT\n",
    "# calculate_expected_state_preps_valid_partitions(lih_jw_terms, basis_states_16[0])"
   ]
  },
  {
   "cell_type": "markdown",
   "metadata": {},
   "source": [
    "### Optimal groupings for LiH_BK"
   ]
  },
  {
   "cell_type": "code",
   "execution_count": null,
   "metadata": {},
   "outputs": [],
   "source": []
  },
  {
   "cell_type": "markdown",
   "metadata": {},
   "source": [
    "### Optimal groupings for LiH_JW"
   ]
  },
  {
   "cell_type": "code",
   "execution_count": null,
   "metadata": {},
   "outputs": [],
   "source": []
  }
 ],
 "metadata": {
  "kernelspec": {
   "display_name": "Python 3",
   "language": "python",
   "name": "python3"
  },
  "language_info": {
   "codemirror_mode": {
    "name": "ipython",
    "version": 3
   },
   "file_extension": ".py",
   "mimetype": "text/x-python",
   "name": "python",
   "nbconvert_exporter": "python",
   "pygments_lexer": "ipython3",
   "version": "3.7.3"
  }
 },
 "nbformat": 4,
 "nbformat_minor": 2
}
