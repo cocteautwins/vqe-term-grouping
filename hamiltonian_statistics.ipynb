{
 "cells": [
  {
   "cell_type": "code",
   "execution_count": 1,
   "metadata": {},
   "outputs": [],
   "source": [
    "import numpy as np\n",
    "import pandas as pd"
   ]
  },
  {
   "cell_type": "markdown",
   "metadata": {},
   "source": [
    "---\n",
    "### Setting up basic matrices:\n",
    "The Pauli matrices are the four 2x2 matrices, I, X, Y, Z.\n",
    "For this example, we have a 4x4 Hamiltonian that is decomposed into IZ, ZI, XX, YY, and ZZ terms (this notation is not matrix multiplication--it is a Kronecker product, which takes two 2x2 matrices and gives a 4x4 matrix)."
   ]
  },
  {
   "cell_type": "code",
   "execution_count": 2,
   "metadata": {},
   "outputs": [],
   "source": [
    "I = np.eye(2)\n",
    "X = np.array([[0., 1.],\n",
    "              [1., 0.]])\n",
    "Y = np.array([[0., -1j],\n",
    "              [1j, 0.]])\n",
    "Z = np.array([[1., 0.],\n",
    "              [0., -1.]])"
   ]
  },
  {
   "cell_type": "code",
   "execution_count": 3,
   "metadata": {},
   "outputs": [
    {
     "name": "stdout",
     "output_type": "stream",
     "text": [
      "[[ 1.  0.  0.  0.]\n",
      " [ 0. -1.  0. -0.]\n",
      " [ 0.  0.  1.  0.]\n",
      " [ 0. -0.  0. -1.]]\n"
     ]
    }
   ],
   "source": [
    "IZ = np.kron(I, Z)\n",
    "print(IZ)"
   ]
  },
  {
   "cell_type": "code",
   "execution_count": 4,
   "metadata": {},
   "outputs": [
    {
     "name": "stdout",
     "output_type": "stream",
     "text": [
      "[[ 1.  0.  0.  0.]\n",
      " [ 0.  1.  0.  0.]\n",
      " [ 0.  0. -1. -0.]\n",
      " [ 0.  0. -0. -1.]]\n"
     ]
    }
   ],
   "source": [
    "ZI = np.kron(Z, I)\n",
    "print(ZI)"
   ]
  },
  {
   "cell_type": "code",
   "execution_count": 5,
   "metadata": {},
   "outputs": [
    {
     "name": "stdout",
     "output_type": "stream",
     "text": [
      "[[0. 0. 0. 1.]\n",
      " [0. 0. 1. 0.]\n",
      " [0. 1. 0. 0.]\n",
      " [1. 0. 0. 0.]]\n"
     ]
    }
   ],
   "source": [
    "XX = np.kron(X, X)\n",
    "print(XX)"
   ]
  },
  {
   "cell_type": "code",
   "execution_count": 6,
   "metadata": {},
   "outputs": [
    {
     "name": "stdout",
     "output_type": "stream",
     "text": [
      "[[ 0.+0.j  0.-0.j  0.-0.j -1.+0.j]\n",
      " [ 0.+0.j  0.+0.j  1.-0.j  0.-0.j]\n",
      " [ 0.+0.j  1.-0.j  0.+0.j  0.-0.j]\n",
      " [-1.+0.j  0.+0.j  0.+0.j  0.+0.j]]\n"
     ]
    }
   ],
   "source": [
    "YY = np.kron(Y, Y)\n",
    "print(YY)"
   ]
  },
  {
   "cell_type": "code",
   "execution_count": 7,
   "metadata": {},
   "outputs": [
    {
     "name": "stdout",
     "output_type": "stream",
     "text": [
      "[[ 1.  0.  0.  0.]\n",
      " [ 0. -1.  0. -0.]\n",
      " [ 0.  0. -1. -0.]\n",
      " [ 0. -0. -0.  1.]]\n"
     ]
    }
   ],
   "source": [
    "ZZ = np.kron(Z, Z)\n",
    "print(ZZ)"
   ]
  },
  {
   "cell_type": "markdown",
   "metadata": {},
   "source": [
    "----\n",
    "### Hamiltonian\n",
    "We consider the Hamiltonian:\n",
    "$H = IZ + ZI - XX - YY + ZZ$"
   ]
  },
  {
   "cell_type": "code",
   "execution_count": 8,
   "metadata": {},
   "outputs": [
    {
     "name": "stdout",
     "output_type": "stream",
     "text": [
      "[[ 3.+0.j  0.+0.j  0.+0.j  0.+0.j]\n",
      " [ 0.+0.j -1.+0.j -2.+0.j  0.+0.j]\n",
      " [ 0.+0.j -2.+0.j -1.+0.j  0.+0.j]\n",
      " [ 0.+0.j  0.+0.j  0.+0.j -1.+0.j]]\n"
     ]
    }
   ],
   "source": [
    "H = IZ + ZI - XX - YY + ZZ\n",
    "print(H)"
   ]
  },
  {
   "cell_type": "markdown",
   "metadata": {},
   "source": [
    "---\n",
    "### Measuring an observable\n",
    "An observable is a matrix that we can measure against a state $\\vec{\\psi}$. The Hamiltonian is an observable. So are the Pauli terms that it is written as a sum of.\n",
    "\n",
    "To measure some observable matrix $M$ with respect to a state $\\vec{\\psi}$, we just compute $\\vec{\\psi}^{\\dagger} M \\vec{\\psi}$. The $\\dagger$ means conjugate transpose = transpose the matrix and then take complex conjugates. In this specific example, all the numbers are real, so it happens to be the same as an ordinary matrix transpose.\n",
    "\n",
    "Here is a helper method that does everything for us:"
   ]
  },
  {
   "cell_type": "code",
   "execution_count": 9,
   "metadata": {},
   "outputs": [],
   "source": [
    "def expected_value(M, state):\n",
    "    return np.asmatrix(state).getH() @ M @ state  # .getH() does conjugate tranpose"
   ]
  },
  {
   "cell_type": "markdown",
   "metadata": {},
   "source": [
    "---\n",
    "### Let's try for $\\vec{\\psi} = [0, 1, 0, 0]^T$"
   ]
  },
  {
   "cell_type": "code",
   "execution_count": 10,
   "metadata": {},
   "outputs": [],
   "source": [
    "state = np.array([[0.], [1.], [0.], [0.]])"
   ]
  },
  {
   "cell_type": "markdown",
   "metadata": {},
   "source": [
    "#### Method 1: measure $H$ directly\n",
    "A quantum computer can't actually measure $H$ directly, but let's just check what the answer should be."
   ]
  },
  {
   "cell_type": "code",
   "execution_count": 11,
   "metadata": {},
   "outputs": [
    {
     "name": "stdout",
     "output_type": "stream",
     "text": [
      "[[-1.+0.j]]\n"
     ]
    }
   ],
   "source": [
    "print(expected_value(H, state))"
   ]
  },
  {
   "cell_type": "markdown",
   "metadata": {},
   "source": [
    "#### Method 2: linearity of expectation\n",
    "A quantum computer can compute the Pauli observables though. So let's use linearity of expectation instead:"
   ]
  },
  {
   "cell_type": "code",
   "execution_count": 12,
   "metadata": {},
   "outputs": [
    {
     "name": "stdout",
     "output_type": "stream",
     "text": [
      "[[-1.]] [[1.]] [[0.]] [[0.+0.j]] [[-1.]]\n",
      "[[-1.+0.j]]\n"
     ]
    }
   ],
   "source": [
    "IZ_expectation = expected_value(IZ, state)\n",
    "ZI_expectation = expected_value(ZI, state)\n",
    "XX_expectation = expected_value(XX, state)\n",
    "YY_expectation = expected_value(YY, state)\n",
    "ZZ_expectation = expected_value(ZZ, state)\n",
    "print(IZ_expectation, ZI_expectation, XX_expectation, YY_expectation, ZZ_expectation)\n",
    "print(IZ_expectation + ZI_expectation - XX_expectation - YY_expectation + ZZ_expectation)"
   ]
  },
  {
   "cell_type": "markdown",
   "metadata": {},
   "source": [
    "Yup, we got -1 both ways!"
   ]
  },
  {
   "cell_type": "markdown",
   "metadata": {},
   "source": [
    "---\n",
    "### Variances / Covariances"
   ]
  },
  {
   "cell_type": "code",
   "execution_count": 13,
   "metadata": {},
   "outputs": [],
   "source": [
    "def variance(M, state):\n",
    "    # variances is <M^2> - <M>^2\n",
    "    return expected_value(M @ M, state) - expected_value(M, state) ** 2\n",
    "\n",
    "def covariance(M_1, M_2, state):\n",
    "    return expected_value(M_1 @ M_2, state) - expected_value(M_1, state) * expected_value(M_2, state)"
   ]
  },
  {
   "cell_type": "markdown",
   "metadata": {},
   "source": [
    "The cells below show that:\n",
    "- Var(H) = 4\n",
    "- Var(IZ) + Var(ZI) + Var(XX) + Var(YY) + Var(ZZ) = 2 -- not equal because we need to account for covariances\n",
    "- the summed covariances do indeed equal 4. Note that the XX and ZZ"
   ]
  },
  {
   "cell_type": "code",
   "execution_count": 14,
   "metadata": {},
   "outputs": [
    {
     "data": {
      "text/plain": [
       "matrix([[4.+0.j]])"
      ]
     },
     "execution_count": 14,
     "metadata": {},
     "output_type": "execute_result"
    }
   ],
   "source": [
    "variance(H, state)"
   ]
  },
  {
   "cell_type": "code",
   "execution_count": 15,
   "metadata": {},
   "outputs": [
    {
     "data": {
      "text/plain": [
       "matrix([[0.]])"
      ]
     },
     "execution_count": 15,
     "metadata": {},
     "output_type": "execute_result"
    }
   ],
   "source": [
    "variance(IZ, state)"
   ]
  },
  {
   "cell_type": "code",
   "execution_count": 16,
   "metadata": {},
   "outputs": [
    {
     "data": {
      "text/plain": [
       "matrix([[0.]])"
      ]
     },
     "execution_count": 16,
     "metadata": {},
     "output_type": "execute_result"
    }
   ],
   "source": [
    "variance(ZI, state)"
   ]
  },
  {
   "cell_type": "code",
   "execution_count": 17,
   "metadata": {},
   "outputs": [
    {
     "data": {
      "text/plain": [
       "matrix([[1.]])"
      ]
     },
     "execution_count": 17,
     "metadata": {},
     "output_type": "execute_result"
    }
   ],
   "source": [
    "variance(XX, state)"
   ]
  },
  {
   "cell_type": "code",
   "execution_count": 18,
   "metadata": {},
   "outputs": [
    {
     "data": {
      "text/plain": [
       "matrix([[1.+0.j]])"
      ]
     },
     "execution_count": 18,
     "metadata": {},
     "output_type": "execute_result"
    }
   ],
   "source": [
    "variance(YY, state)"
   ]
  },
  {
   "cell_type": "code",
   "execution_count": 19,
   "metadata": {},
   "outputs": [
    {
     "data": {
      "text/plain": [
       "matrix([[0.]])"
      ]
     },
     "execution_count": 19,
     "metadata": {},
     "output_type": "execute_result"
    }
   ],
   "source": [
    "variance(ZZ, state)"
   ]
  },
  {
   "cell_type": "code",
   "execution_count": 20,
   "metadata": {},
   "outputs": [
    {
     "name": "stdout",
     "output_type": "stream",
     "text": [
      "[[1.]] 2 2\n",
      "[[1.+0.j]] 2 3\n",
      "[[1.+0.j]] 3 2\n",
      "[[1.+0.j]] 3 3\n",
      "Variance from summed covariances is [[4.+0.j]]\n"
     ]
    }
   ],
   "source": [
    "terms, coefficients = [IZ, ZI, XX, YY, ZZ], [1., 1., -1., -1., 1.]\n",
    "total = np.array([[0.+0.j]])\n",
    "for i in range(5):\n",
    "    for j in range(5):\n",
    "        cov = covariance(terms[i], terms[j], state)\n",
    "        if cov != 0:\n",
    "            print(cov, i, j)\n",
    "            total += (coefficients[i] * coefficients[j] * covariance(terms[i], terms[j], state))\n",
    "print('Variance from summed covariances is %s' % total)"
   ]
  },
  {
   "cell_type": "markdown",
   "metadata": {},
   "source": [
    "----\n",
    "### Different State, $\\vec{\\psi} = [0.43 - 0.16i, -0.49, 0.44i, -0.39 + 0.46i]$"
   ]
  },
  {
   "cell_type": "code",
   "execution_count": 21,
   "metadata": {},
   "outputs": [],
   "source": [
    "state = np.array([[0.43 - 0.16j], [-0.49], [0.43j], [-0.39 + 0.46j]])"
   ]
  },
  {
   "cell_type": "code",
   "execution_count": 22,
   "metadata": {},
   "outputs": [
    {
     "data": {
      "text/plain": [
       "matrix([[4.35848816-2.22044605e-16j]])"
      ]
     },
     "execution_count": 22,
     "metadata": {},
     "output_type": "execute_result"
    }
   ],
   "source": [
    "variance(H, state)"
   ]
  },
  {
   "cell_type": "code",
   "execution_count": 23,
   "metadata": {},
   "outputs": [
    {
     "data": {
      "text/plain": [
       "(matrix([[0.95576944+0.j]]),\n",
       " matrix([[0.989596+0.j]]),\n",
       " matrix([[0.76629724+6.6974204e-18j]]),\n",
       " matrix([[0.76629724+0.j]]),\n",
       " matrix([[0.97693936+0.j]]))"
      ]
     },
     "execution_count": 23,
     "metadata": {},
     "output_type": "execute_result"
    }
   ],
   "source": [
    "variance(IZ, state), variance(ZI, state), variance(-XX, state), variance(-YY, state), variance(ZZ, state)"
   ]
  },
  {
   "cell_type": "code",
   "execution_count": 24,
   "metadata": {},
   "outputs": [
    {
     "name": "stdout",
     "output_type": "stream",
     "text": [
      "[[0.1287768+0.j]]\n",
      "[[-0.06690672+0.j]]\n",
      "[[-0.1937784+0.j]]\n",
      "[[0.08370276-3.3487102e-18j]]\n",
      "[[0.41059608+1.03528297e-18j]]\n",
      "[[-0.41059608+6.9388939e-18j]]\n"
     ]
    }
   ],
   "source": [
    "print(covariance(IZ, ZI, state))\n",
    "print(covariance(IZ, ZZ, state))\n",
    "print(covariance(ZI, ZZ, state))\n",
    "print(covariance(-XX, -YY, state))\n",
    "print(covariance(-XX, ZZ, state))\n",
    "print(covariance(-YY, ZZ, state))"
   ]
  },
  {
   "cell_type": "code",
   "execution_count": 25,
   "metadata": {},
   "outputs": [
    {
     "data": {
      "text/plain": [
       "22.2744964"
      ]
     },
     "execution_count": 25,
     "metadata": {},
     "output_type": "execute_result"
    }
   ],
   "source": [
    "# Setting 1 (measure all terms separately) would require a number of state preparations equal to:\n",
    "5 * (0.95576944 + 0.989596 + 0.76629724 + 0.76629724 + 0.97693936)"
   ]
  },
  {
   "cell_type": "code",
   "execution_count": 26,
   "metadata": {},
   "outputs": [
    {
     "data": {
      "text/plain": [
       "14.6395752"
      ]
     },
     "execution_count": 26,
     "metadata": {},
     "output_type": "execute_result"
    }
   ],
   "source": [
    "# Setting 2 (measure {XX}, {YY, ZZ}, {IZ, ZI}) would require a number of state preparations equal to:\n",
    "3 * (0.95576944 + 0.989596 + 0.76629724 + 0.76629724 + 0.97693936 + 2*0.08370276 + 2*0.1287768)"
   ]
  },
  {
   "cell_type": "code",
   "execution_count": 27,
   "metadata": {},
   "outputs": [
    {
     "data": {
      "text/plain": [
       "9.7597168"
      ]
     },
     "execution_count": 27,
     "metadata": {},
     "output_type": "execute_result"
    }
   ],
   "source": [
    "# Setting 3 (measure {XX, YY, ZZ}, {IZ, ZI}) would require a number of state preparations equal to:\n",
    "2 * (0.95576944 + 0.989596 + 0.76629724 + 0.76629724 + 0.97693936 + 2*0.08370276 + 2*0.41059608 + 2*-0.41059608 + 2*0.1287768)"
   ]
  },
  {
   "cell_type": "markdown",
   "metadata": {},
   "source": [
    "### Programatically finding optimal groupings"
   ]
  },
  {
   "cell_type": "code",
   "execution_count": 28,
   "metadata": {},
   "outputs": [
    {
     "data": {
      "text/latex": [
       "Quantum object: dims = [[2, 2], [2, 2]], shape = (4, 4), type = oper, isherm = True\\begin{equation*}\\left(\\begin{array}{*{11}c}0.0 & 0.0 & 0.0 & -1.0\\\\0.0 & 0.0 & -1.0 & 0.0\\\\0.0 & -1.0 & 0.0 & 0.0\\\\-1.0 & 0.0 & 0.0 & 0.0\\\\\\end{array}\\right)\\end{equation*}"
      ],
      "text/plain": [
       "Quantum object: dims = [[2, 2], [2, 2]], shape = (4, 4), type = oper, isherm = True\n",
       "Qobj data =\n",
       "[[ 0.  0.  0. -1.]\n",
       " [ 0.  0. -1.  0.]\n",
       " [ 0. -1.  0.  0.]\n",
       " [-1.  0.  0.  0.]]"
      ]
     },
     "execution_count": 28,
     "metadata": {},
     "output_type": "execute_result"
    }
   ],
   "source": [
    "# Functions for parsing from strings to matrices\n",
    "import qutip\n",
    "\n",
    "def _to_matrix(pauli_char):\n",
    "    if pauli_char == 'X':\n",
    "        return qutip.sigmax()\n",
    "    elif pauli_char == 'Y':\n",
    "        return qutip.sigmay()\n",
    "    elif pauli_char == 'Z':\n",
    "        return qutip.sigmaz()\n",
    "    return qutip.identity(2)\n",
    "    \n",
    "def pauli_string_to_matrix(pauli_string, sign=1):\n",
    "    if pauli_string[0] == '-':\n",
    "        sign = -1\n",
    "        pauli_string = pauli_string[1:]\n",
    "    matrices = []\n",
    "    for char in pauli_string:\n",
    "        matrices.append(_to_matrix(char))\n",
    "    return sign*qutip.tensor(matrices)\n",
    "\n",
    "pauli_string_to_matrix('-XX')"
   ]
  },
  {
   "cell_type": "code",
   "execution_count": 29,
   "metadata": {},
   "outputs": [],
   "source": [
    "def variance_grouping(grouping, state):\n",
    "    \"\"\"\n",
    "    Computes the variance of a grouping, via the formula\n",
    "             Var(A+B) = Var(A) + Var(B) + 2*Cov(A,B)\n",
    "    Inputs:\n",
    "       Grouping (as a list, e.g. [-XX, -YY, ZZ])\n",
    "       State (as a np.array, e.g. np.array([[0.], [1.], [0.], [0.]]))\n",
    "    \"\"\"\n",
    "    running_variance = sum([variance(term, state) for term in grouping])\n",
    "    grouping_size = len(grouping)\n",
    "    for i in range(grouping_size):\n",
    "        for j in range(i):\n",
    "            running_variance += 2*covariance(grouping[i], grouping[j], state)\n",
    "    return(np.asscalar(running_variance))"
   ]
  },
  {
   "cell_type": "code",
   "execution_count": 30,
   "metadata": {},
   "outputs": [],
   "source": [
    "# Credit to: https://stackoverflow.com/questions/19368375/set-partitions-in-python\n",
    "def partition(collection):\n",
    "    if len(collection) == 1:\n",
    "        yield [ collection ]\n",
    "        return\n",
    "\n",
    "    first = collection[0]\n",
    "    for smaller in partition(collection[1:]):\n",
    "        # insert `first` in each of the subpartition's subsets\n",
    "        for n, subset in enumerate(smaller):\n",
    "            yield smaller[:n] + [[ first ] + subset]  + smaller[n+1:]\n",
    "        # put `first` in its own subset \n",
    "        yield [ [ first ] ] + smaller\n"
   ]
  },
  {
   "cell_type": "code",
   "execution_count": 31,
   "metadata": {},
   "outputs": [],
   "source": [
    "def grouping_is_pairwise_commuting(grouping_to_test):\n",
    "    \"\"\"\n",
    "    Computes whether all pairs within a grouping commute (in a general sense).\n",
    "    Inputs:\n",
    "        grouping_to_test: a single list of *strings*, e.g. [\"-XX\", \"-YY\", \"ZZ\", \"IZ\", \"ZI\"]\n",
    "    Returns:\n",
    "        True if all pairs commute; False if not all pairs commute\n",
    "    \"\"\"\n",
    "    evaled_grouping_to_test = [pauli_string_to_matrix(term).full() for term in grouping_to_test]\n",
    "    running_sum = 0\n",
    "    for i in range(len(evaled_grouping_to_test)):\n",
    "        for j in range(i+1, len(evaled_grouping_to_test)):\n",
    "            # RHS evaluates to 1 if non-commuting, 0 if commuting\n",
    "            running_sum += not np.array_equal(evaled_grouping_to_test[i] @ evaled_grouping_to_test[j],\n",
    "                               evaled_grouping_to_test[j] @ evaled_grouping_to_test[i])\n",
    "    # sum will be 0 iff all pairs commute\n",
    "    return(running_sum == 0)\n",
    "\n",
    "def is_valid_partition(partition):\n",
    "    \"\"\"\n",
    "    Computes whether all groupings within a partition are pairwise commuting.\n",
    "    Inputs:\n",
    "        partition: a list of lists of strings, e.g. [['-XX', '-YY'], ['ZZ', 'IZ', 'ZI']]\n",
    "    Outputs:\n",
    "        1 if all groupings within the partition are pairwise commuting. Else 0.\n",
    "    \"\"\"\n",
    "    return(sum([grouping_is_pairwise_commuting(grouping) for grouping in partition]) == len(partition))"
   ]
  },
  {
   "cell_type": "code",
   "execution_count": 32,
   "metadata": {},
   "outputs": [
    {
     "data": {
      "text/html": [
       "<div>\n",
       "<style scoped>\n",
       "    .dataframe tbody tr th:only-of-type {\n",
       "        vertical-align: middle;\n",
       "    }\n",
       "\n",
       "    .dataframe tbody tr th {\n",
       "        vertical-align: top;\n",
       "    }\n",
       "\n",
       "    .dataframe thead th {\n",
       "        text-align: right;\n",
       "    }\n",
       "</style>\n",
       "<table border=\"1\" class=\"dataframe\">\n",
       "  <thead>\n",
       "    <tr style=\"text-align: right;\">\n",
       "      <th></th>\n",
       "      <th>partition</th>\n",
       "      <th>expected_state_preps</th>\n",
       "    </tr>\n",
       "  </thead>\n",
       "  <tbody>\n",
       "    <tr>\n",
       "      <th>7</th>\n",
       "      <td>[[-XX], [-YY, ZZ], [IZ, ZI]]</td>\n",
       "      <td>(6+0j)</td>\n",
       "    </tr>\n",
       "    <tr>\n",
       "      <th>12</th>\n",
       "      <td>[[-YY], [-XX, ZZ], [IZ, ZI]]</td>\n",
       "      <td>(6+0j)</td>\n",
       "    </tr>\n",
       "    <tr>\n",
       "      <th>4</th>\n",
       "      <td>[[-XX], [-YY], [ZZ, IZ, ZI]]</td>\n",
       "      <td>(6+0j)</td>\n",
       "    </tr>\n",
       "    <tr>\n",
       "      <th>48</th>\n",
       "      <td>[[-YY], [-XX, ZZ], [IZ], [ZI]]</td>\n",
       "      <td>(8+0j)</td>\n",
       "    </tr>\n",
       "    <tr>\n",
       "      <th>38</th>\n",
       "      <td>[[-XX], [-YY, ZZ], [IZ], [ZI]]</td>\n",
       "      <td>(8+0j)</td>\n",
       "    </tr>\n",
       "    <tr>\n",
       "      <th>34</th>\n",
       "      <td>[[-XX], [-YY], [IZ], [ZZ, ZI]]</td>\n",
       "      <td>(8+0j)</td>\n",
       "    </tr>\n",
       "    <tr>\n",
       "      <th>14</th>\n",
       "      <td>[[-XX], [-YY], [ZZ], [IZ, ZI]]</td>\n",
       "      <td>(8+0j)</td>\n",
       "    </tr>\n",
       "    <tr>\n",
       "      <th>24</th>\n",
       "      <td>[[-XX], [-YY], [ZZ, IZ], [ZI]]</td>\n",
       "      <td>(8+0j)</td>\n",
       "    </tr>\n",
       "    <tr>\n",
       "      <th>2</th>\n",
       "      <td>[[-XX, -YY], [ZZ, IZ, ZI]]</td>\n",
       "      <td>(8+0j)</td>\n",
       "    </tr>\n",
       "    <tr>\n",
       "      <th>5</th>\n",
       "      <td>[[-XX, -YY, ZZ], [IZ, ZI]]</td>\n",
       "      <td>(8+0j)</td>\n",
       "    </tr>\n",
       "    <tr>\n",
       "      <th>51</th>\n",
       "      <td>[[-XX], [-YY], [ZZ], [IZ], [ZI]]</td>\n",
       "      <td>(10+0j)</td>\n",
       "    </tr>\n",
       "    <tr>\n",
       "      <th>31</th>\n",
       "      <td>[[-XX, -YY], [IZ], [ZZ, ZI]]</td>\n",
       "      <td>(12+0j)</td>\n",
       "    </tr>\n",
       "    <tr>\n",
       "      <th>21</th>\n",
       "      <td>[[-XX, -YY], [ZZ, IZ], [ZI]]</td>\n",
       "      <td>(12+0j)</td>\n",
       "    </tr>\n",
       "    <tr>\n",
       "      <th>11</th>\n",
       "      <td>[[-XX, -YY], [ZZ], [IZ, ZI]]</td>\n",
       "      <td>(12+0j)</td>\n",
       "    </tr>\n",
       "    <tr>\n",
       "      <th>35</th>\n",
       "      <td>[[-XX, -YY, ZZ], [IZ], [ZI]]</td>\n",
       "      <td>(12+0j)</td>\n",
       "    </tr>\n",
       "    <tr>\n",
       "      <th>47</th>\n",
       "      <td>[[-XX, -YY], [ZZ], [IZ], [ZI]]</td>\n",
       "      <td>(16+0j)</td>\n",
       "    </tr>\n",
       "  </tbody>\n",
       "</table>\n",
       "</div>"
      ],
      "text/plain": [
       "                           partition  expected_state_preps\n",
       "7       [[-XX], [-YY, ZZ], [IZ, ZI]]                (6+0j)\n",
       "12      [[-YY], [-XX, ZZ], [IZ, ZI]]                (6+0j)\n",
       "4       [[-XX], [-YY], [ZZ, IZ, ZI]]                (6+0j)\n",
       "48    [[-YY], [-XX, ZZ], [IZ], [ZI]]                (8+0j)\n",
       "38    [[-XX], [-YY, ZZ], [IZ], [ZI]]                (8+0j)\n",
       "34    [[-XX], [-YY], [IZ], [ZZ, ZI]]                (8+0j)\n",
       "14    [[-XX], [-YY], [ZZ], [IZ, ZI]]                (8+0j)\n",
       "24    [[-XX], [-YY], [ZZ, IZ], [ZI]]                (8+0j)\n",
       "2         [[-XX, -YY], [ZZ, IZ, ZI]]                (8+0j)\n",
       "5         [[-XX, -YY, ZZ], [IZ, ZI]]                (8+0j)\n",
       "51  [[-XX], [-YY], [ZZ], [IZ], [ZI]]               (10+0j)\n",
       "31      [[-XX, -YY], [IZ], [ZZ, ZI]]               (12+0j)\n",
       "21      [[-XX, -YY], [ZZ, IZ], [ZI]]               (12+0j)\n",
       "11      [[-XX, -YY], [ZZ], [IZ, ZI]]               (12+0j)\n",
       "35      [[-XX, -YY, ZZ], [IZ], [ZI]]               (12+0j)\n",
       "47    [[-XX, -YY], [ZZ], [IZ], [ZI]]               (16+0j)"
      ]
     },
     "execution_count": 32,
     "metadata": {},
     "output_type": "execute_result"
    }
   ],
   "source": [
    "def calculate_expected_state_preps_valid_partitions(term_set, state):\n",
    "    \"\"\"\n",
    "    Computes the expected number of state preparations given every valid partition of a set of terms.\n",
    "    A valid partition is one in which all groupings are pairwise commuting.\n",
    "    Inputs:\n",
    "        term_set: list of *strings*, e.g. [\"-XX\", \"-YY\", \"ZZ\", \"IZ\", \"ZI\"]\n",
    "        state: as a np.array, e.g. np.array([[0.], [1.], [0.], [0.]]))\n",
    "    \"\"\"\n",
    "    evaled_term_set = [pauli_string_to_matrix(term).full() for term in term_set]\n",
    "    partition_list = []\n",
    "    expected_state_prep_list = []\n",
    "    for pp in partition(list(range(len(term_set)))):\n",
    "        partition_list.append([list(np.array(term_set)[grouping]) for grouping in pp])\n",
    "        expected_state_prep_list.append(sum([variance_grouping(np.array(evaled_term_set)[indices], state)*len(pp) for indices in pp]))\n",
    "    partition_df = pd.DataFrame({'partition': partition_list, 'expected_state_preps': expected_state_prep_list}).sort_values(by=[\"expected_state_preps\"])\n",
    "    # Eliminate invalid partitions that contain groupings that are non-pairwise-computing.\n",
    "    return(partition_df[partition_df['partition'].apply(lambda partition: is_valid_partition(partition))])\n",
    "\n",
    "# Aspuru-Guzik example\n",
    "test_term_set = [\"-XX\", \"-YY\", \"ZZ\", \"IZ\", \"ZI\"]\n",
    "state = np.array([[0], [1], [0], [0]])\n",
    "\n",
    "partition_list = calculate_expected_state_preps_valid_partitions(test_term_set, state)\n",
    "partition_list\n"
   ]
  },
  {
   "cell_type": "code",
   "execution_count": 33,
   "metadata": {},
   "outputs": [],
   "source": [
    "# Helper function: print all pairwise covariances across commuting terms\n",
    "def pairwise_covariances_commuting_terms(term_set, state):\n",
    "    covariance_list = []\n",
    "    evaled_term_set = [pauli_string_to_matrix(term).full() for term in term_set]\n",
    "    for i in range(len(evaled_term_set)):\n",
    "        for j in range(i+1, len(evaled_term_set)):\n",
    "            # evaluates to 1 if commuting, 0 if non-commuting\n",
    "            if np.array_equal(evaled_term_set[i] @ evaled_term_set[j],\n",
    "                               evaled_term_set[j] @ evaled_term_set[i]):\n",
    "                covariance_list.append([term_set[i], term_set[j], covariance(evaled_term_set[i], evaled_term_set[j], state).item()])\n",
    "    return(pd.DataFrame(covariance_list, columns=[\"term 1\", \"term 2\", \"covariance\"]))"
   ]
  },
  {
   "cell_type": "code",
   "execution_count": 34,
   "metadata": {},
   "outputs": [
    {
     "data": {
      "text/html": [
       "<div>\n",
       "<style scoped>\n",
       "    .dataframe tbody tr th:only-of-type {\n",
       "        vertical-align: middle;\n",
       "    }\n",
       "\n",
       "    .dataframe tbody tr th {\n",
       "        vertical-align: top;\n",
       "    }\n",
       "\n",
       "    .dataframe thead th {\n",
       "        text-align: right;\n",
       "    }\n",
       "</style>\n",
       "<table border=\"1\" class=\"dataframe\">\n",
       "  <thead>\n",
       "    <tr style=\"text-align: right;\">\n",
       "      <th></th>\n",
       "      <th>term 1</th>\n",
       "      <th>term 2</th>\n",
       "      <th>covariance</th>\n",
       "    </tr>\n",
       "  </thead>\n",
       "  <tbody>\n",
       "    <tr>\n",
       "      <th>0</th>\n",
       "      <td>-XX</td>\n",
       "      <td>-YY</td>\n",
       "      <td>(1+0j)</td>\n",
       "    </tr>\n",
       "    <tr>\n",
       "      <th>1</th>\n",
       "      <td>-XX</td>\n",
       "      <td>ZZ</td>\n",
       "      <td>0j</td>\n",
       "    </tr>\n",
       "    <tr>\n",
       "      <th>2</th>\n",
       "      <td>-YY</td>\n",
       "      <td>ZZ</td>\n",
       "      <td>0j</td>\n",
       "    </tr>\n",
       "    <tr>\n",
       "      <th>3</th>\n",
       "      <td>ZZ</td>\n",
       "      <td>IZ</td>\n",
       "      <td>0j</td>\n",
       "    </tr>\n",
       "    <tr>\n",
       "      <th>4</th>\n",
       "      <td>ZZ</td>\n",
       "      <td>ZI</td>\n",
       "      <td>0j</td>\n",
       "    </tr>\n",
       "    <tr>\n",
       "      <th>5</th>\n",
       "      <td>IZ</td>\n",
       "      <td>ZI</td>\n",
       "      <td>0j</td>\n",
       "    </tr>\n",
       "  </tbody>\n",
       "</table>\n",
       "</div>"
      ],
      "text/plain": [
       "  term 1 term 2  covariance\n",
       "0    -XX    -YY      (1+0j)\n",
       "1    -XX     ZZ          0j\n",
       "2    -YY     ZZ          0j\n",
       "3     ZZ     IZ          0j\n",
       "4     ZZ     ZI          0j\n",
       "5     IZ     ZI          0j"
      ]
     },
     "execution_count": 34,
     "metadata": {},
     "output_type": "execute_result"
    }
   ],
   "source": [
    "pairwise_covariances_commuting_terms(test_term_set, state)"
   ]
  },
  {
   "cell_type": "code",
   "execution_count": 35,
   "metadata": {},
   "outputs": [],
   "source": [
    "def expected_state_preps_for_list_of_states(test_term_set, state_list):\n",
    "    \"\"\"\n",
    "    Given a *list* of possible states, calculates the number of\n",
    "    expected state preparations for every state in that list,\n",
    "    for every valid partition.\n",
    "    Input:\n",
    "        test_term_set, as a list of strings: e.g. ['-XX', '-YY', 'ZZ', 'IZ', 'ZI']\n",
    "        state_list, as a list of np arrays, e.g. [qutip.basis(4,i).full() for i in range(4)]\n",
    "    Output:\n",
    "        Pandas dataframe with:\n",
    "            - partition\n",
    "            - expected state preps over every state\n",
    "            - mean number of state preps, given a uniform probability of any of the states\n",
    "            - variance of state preps, given a uniform probability of any of the states\n",
    "    \"\"\"\n",
    "    n_states = len(state_list)\n",
    "    base_df = calculate_expected_state_preps_valid_partitions(test_term_set, state_list[0])\n",
    "    for state in state_list[1:]:\n",
    "        # Merge the next calculation in the list, based on index\n",
    "        base_df = pd.merge(base_df,\n",
    "                 calculate_expected_state_preps_valid_partitions(test_term_set, state).iloc[:,1],\n",
    "                 left_index = True, right_index = True)\n",
    "    # rename columns to state0, state1, etc.\n",
    "    base_df.columns.values[1:] = [\"{}{}\".format(a_,b_) for a_, b_ in zip(['state']*n_states, [str(i) for i in range(n_states)])]\n",
    "    base_df['row_mean'] = base_df.iloc[:,1:].mean(axis=1)\n",
    "    base_df['row_var'] = base_df.iloc[:,1:].var(axis=1)\n",
    "    base_df = base_df.sort_values(by=[\"row_mean\"])\n",
    "    # round the real and imaginary parts to two decimal places\n",
    "    base_df.iloc[:,1:] = base_df.iloc[:,1:].apply(lambda x: np.around(x, decimals=2), axis=0)\n",
    "    return(base_df)"
   ]
  },
  {
   "cell_type": "code",
   "execution_count": 36,
   "metadata": {},
   "outputs": [
    {
     "name": "stderr",
     "output_type": "stream",
     "text": [
      "/usr/local/lib/python3.7/site-packages/numpy/core/_methods.py:36: ComplexWarning: Casting complex values to real discards the imaginary part\n",
      "  return umr_sum(a, axis, dtype, out, keepdims, initial)\n"
     ]
    },
    {
     "data": {
      "text/html": [
       "<div>\n",
       "<style scoped>\n",
       "    .dataframe tbody tr th:only-of-type {\n",
       "        vertical-align: middle;\n",
       "    }\n",
       "\n",
       "    .dataframe tbody tr th {\n",
       "        vertical-align: top;\n",
       "    }\n",
       "\n",
       "    .dataframe thead th {\n",
       "        text-align: right;\n",
       "    }\n",
       "</style>\n",
       "<table border=\"1\" class=\"dataframe\">\n",
       "  <thead>\n",
       "    <tr style=\"text-align: right;\">\n",
       "      <th></th>\n",
       "      <th>partition</th>\n",
       "      <th>state0</th>\n",
       "      <th>state1</th>\n",
       "      <th>state2</th>\n",
       "      <th>state3</th>\n",
       "      <th>row_mean</th>\n",
       "      <th>row_var</th>\n",
       "    </tr>\n",
       "  </thead>\n",
       "  <tbody>\n",
       "    <tr>\n",
       "      <th>5</th>\n",
       "      <td>[[-XX, -YY, ZZ], [IZ, ZI]]</td>\n",
       "      <td>0j</td>\n",
       "      <td>(8+0j)</td>\n",
       "      <td>(8+0j)</td>\n",
       "      <td>0j</td>\n",
       "      <td>(4+0j)</td>\n",
       "      <td>16.0</td>\n",
       "    </tr>\n",
       "    <tr>\n",
       "      <th>2</th>\n",
       "      <td>[[-XX, -YY], [ZZ, IZ, ZI]]</td>\n",
       "      <td>0j</td>\n",
       "      <td>(8+0j)</td>\n",
       "      <td>(8+0j)</td>\n",
       "      <td>0j</td>\n",
       "      <td>(4+0j)</td>\n",
       "      <td>16.0</td>\n",
       "    </tr>\n",
       "    <tr>\n",
       "      <th>35</th>\n",
       "      <td>[[-XX, -YY, ZZ], [IZ], [ZI]]</td>\n",
       "      <td>0j</td>\n",
       "      <td>(12+0j)</td>\n",
       "      <td>(12+0j)</td>\n",
       "      <td>0j</td>\n",
       "      <td>(6+0j)</td>\n",
       "      <td>36.0</td>\n",
       "    </tr>\n",
       "    <tr>\n",
       "      <th>31</th>\n",
       "      <td>[[-XX, -YY], [IZ], [ZZ, ZI]]</td>\n",
       "      <td>0j</td>\n",
       "      <td>(12+0j)</td>\n",
       "      <td>(12+0j)</td>\n",
       "      <td>0j</td>\n",
       "      <td>(6+0j)</td>\n",
       "      <td>36.0</td>\n",
       "    </tr>\n",
       "    <tr>\n",
       "      <th>21</th>\n",
       "      <td>[[-XX, -YY], [ZZ, IZ], [ZI]]</td>\n",
       "      <td>0j</td>\n",
       "      <td>(12+0j)</td>\n",
       "      <td>(12+0j)</td>\n",
       "      <td>0j</td>\n",
       "      <td>(6+0j)</td>\n",
       "      <td>36.0</td>\n",
       "    </tr>\n",
       "    <tr>\n",
       "      <th>11</th>\n",
       "      <td>[[-XX, -YY], [ZZ], [IZ, ZI]]</td>\n",
       "      <td>0j</td>\n",
       "      <td>(12+0j)</td>\n",
       "      <td>(12+0j)</td>\n",
       "      <td>0j</td>\n",
       "      <td>(6+0j)</td>\n",
       "      <td>36.0</td>\n",
       "    </tr>\n",
       "    <tr>\n",
       "      <th>4</th>\n",
       "      <td>[[-XX], [-YY], [ZZ, IZ, ZI]]</td>\n",
       "      <td>(6+0j)</td>\n",
       "      <td>(6+0j)</td>\n",
       "      <td>(6+0j)</td>\n",
       "      <td>(6+0j)</td>\n",
       "      <td>(6+0j)</td>\n",
       "      <td>0.0</td>\n",
       "    </tr>\n",
       "    <tr>\n",
       "      <th>12</th>\n",
       "      <td>[[-YY], [-XX, ZZ], [IZ, ZI]]</td>\n",
       "      <td>(6+0j)</td>\n",
       "      <td>(6+0j)</td>\n",
       "      <td>(6+0j)</td>\n",
       "      <td>(6+0j)</td>\n",
       "      <td>(6+0j)</td>\n",
       "      <td>0.0</td>\n",
       "    </tr>\n",
       "    <tr>\n",
       "      <th>7</th>\n",
       "      <td>[[-XX], [-YY, ZZ], [IZ, ZI]]</td>\n",
       "      <td>(6+0j)</td>\n",
       "      <td>(6+0j)</td>\n",
       "      <td>(6+0j)</td>\n",
       "      <td>(6+0j)</td>\n",
       "      <td>(6+0j)</td>\n",
       "      <td>0.0</td>\n",
       "    </tr>\n",
       "    <tr>\n",
       "      <th>47</th>\n",
       "      <td>[[-XX, -YY], [ZZ], [IZ], [ZI]]</td>\n",
       "      <td>0j</td>\n",
       "      <td>(16+0j)</td>\n",
       "      <td>(16+0j)</td>\n",
       "      <td>0j</td>\n",
       "      <td>(8+0j)</td>\n",
       "      <td>64.0</td>\n",
       "    </tr>\n",
       "    <tr>\n",
       "      <th>48</th>\n",
       "      <td>[[-YY], [-XX, ZZ], [IZ], [ZI]]</td>\n",
       "      <td>(8+0j)</td>\n",
       "      <td>(8+0j)</td>\n",
       "      <td>(8+0j)</td>\n",
       "      <td>(8+0j)</td>\n",
       "      <td>(8+0j)</td>\n",
       "      <td>0.0</td>\n",
       "    </tr>\n",
       "    <tr>\n",
       "      <th>38</th>\n",
       "      <td>[[-XX], [-YY, ZZ], [IZ], [ZI]]</td>\n",
       "      <td>(8+0j)</td>\n",
       "      <td>(8+0j)</td>\n",
       "      <td>(8+0j)</td>\n",
       "      <td>(8+0j)</td>\n",
       "      <td>(8+0j)</td>\n",
       "      <td>0.0</td>\n",
       "    </tr>\n",
       "    <tr>\n",
       "      <th>24</th>\n",
       "      <td>[[-XX], [-YY], [ZZ, IZ], [ZI]]</td>\n",
       "      <td>(8+0j)</td>\n",
       "      <td>(8+0j)</td>\n",
       "      <td>(8+0j)</td>\n",
       "      <td>(8+0j)</td>\n",
       "      <td>(8+0j)</td>\n",
       "      <td>0.0</td>\n",
       "    </tr>\n",
       "    <tr>\n",
       "      <th>34</th>\n",
       "      <td>[[-XX], [-YY], [IZ], [ZZ, ZI]]</td>\n",
       "      <td>(8+0j)</td>\n",
       "      <td>(8+0j)</td>\n",
       "      <td>(8+0j)</td>\n",
       "      <td>(8+0j)</td>\n",
       "      <td>(8+0j)</td>\n",
       "      <td>0.0</td>\n",
       "    </tr>\n",
       "    <tr>\n",
       "      <th>14</th>\n",
       "      <td>[[-XX], [-YY], [ZZ], [IZ, ZI]]</td>\n",
       "      <td>(8+0j)</td>\n",
       "      <td>(8+0j)</td>\n",
       "      <td>(8+0j)</td>\n",
       "      <td>(8+0j)</td>\n",
       "      <td>(8+0j)</td>\n",
       "      <td>0.0</td>\n",
       "    </tr>\n",
       "    <tr>\n",
       "      <th>51</th>\n",
       "      <td>[[-XX], [-YY], [ZZ], [IZ], [ZI]]</td>\n",
       "      <td>(10+0j)</td>\n",
       "      <td>(10+0j)</td>\n",
       "      <td>(10+0j)</td>\n",
       "      <td>(10+0j)</td>\n",
       "      <td>(10+0j)</td>\n",
       "      <td>0.0</td>\n",
       "    </tr>\n",
       "  </tbody>\n",
       "</table>\n",
       "</div>"
      ],
      "text/plain": [
       "                           partition   state0   state1   state2   state3  \\\n",
       "5         [[-XX, -YY, ZZ], [IZ, ZI]]       0j   (8+0j)   (8+0j)       0j   \n",
       "2         [[-XX, -YY], [ZZ, IZ, ZI]]       0j   (8+0j)   (8+0j)       0j   \n",
       "35      [[-XX, -YY, ZZ], [IZ], [ZI]]       0j  (12+0j)  (12+0j)       0j   \n",
       "31      [[-XX, -YY], [IZ], [ZZ, ZI]]       0j  (12+0j)  (12+0j)       0j   \n",
       "21      [[-XX, -YY], [ZZ, IZ], [ZI]]       0j  (12+0j)  (12+0j)       0j   \n",
       "11      [[-XX, -YY], [ZZ], [IZ, ZI]]       0j  (12+0j)  (12+0j)       0j   \n",
       "4       [[-XX], [-YY], [ZZ, IZ, ZI]]   (6+0j)   (6+0j)   (6+0j)   (6+0j)   \n",
       "12      [[-YY], [-XX, ZZ], [IZ, ZI]]   (6+0j)   (6+0j)   (6+0j)   (6+0j)   \n",
       "7       [[-XX], [-YY, ZZ], [IZ, ZI]]   (6+0j)   (6+0j)   (6+0j)   (6+0j)   \n",
       "47    [[-XX, -YY], [ZZ], [IZ], [ZI]]       0j  (16+0j)  (16+0j)       0j   \n",
       "48    [[-YY], [-XX, ZZ], [IZ], [ZI]]   (8+0j)   (8+0j)   (8+0j)   (8+0j)   \n",
       "38    [[-XX], [-YY, ZZ], [IZ], [ZI]]   (8+0j)   (8+0j)   (8+0j)   (8+0j)   \n",
       "24    [[-XX], [-YY], [ZZ, IZ], [ZI]]   (8+0j)   (8+0j)   (8+0j)   (8+0j)   \n",
       "34    [[-XX], [-YY], [IZ], [ZZ, ZI]]   (8+0j)   (8+0j)   (8+0j)   (8+0j)   \n",
       "14    [[-XX], [-YY], [ZZ], [IZ, ZI]]   (8+0j)   (8+0j)   (8+0j)   (8+0j)   \n",
       "51  [[-XX], [-YY], [ZZ], [IZ], [ZI]]  (10+0j)  (10+0j)  (10+0j)  (10+0j)   \n",
       "\n",
       "    row_mean  row_var  \n",
       "5     (4+0j)     16.0  \n",
       "2     (4+0j)     16.0  \n",
       "35    (6+0j)     36.0  \n",
       "31    (6+0j)     36.0  \n",
       "21    (6+0j)     36.0  \n",
       "11    (6+0j)     36.0  \n",
       "4     (6+0j)      0.0  \n",
       "12    (6+0j)      0.0  \n",
       "7     (6+0j)      0.0  \n",
       "47    (8+0j)     64.0  \n",
       "48    (8+0j)      0.0  \n",
       "38    (8+0j)      0.0  \n",
       "24    (8+0j)      0.0  \n",
       "34    (8+0j)      0.0  \n",
       "14    (8+0j)      0.0  \n",
       "51   (10+0j)      0.0  "
      ]
     },
     "execution_count": 36,
     "metadata": {},
     "output_type": "execute_result"
    }
   ],
   "source": [
    "# basis states\n",
    "basis_states_4 = [qutip.basis(4,i).full() for i in range(4)]\n",
    "basis_states_mean_state_preps = expected_state_preps_for_list_of_states(test_term_set, basis_states_4)\n",
    "basis_states_mean_state_preps"
   ]
  },
  {
   "cell_type": "code",
   "execution_count": 37,
   "metadata": {},
   "outputs": [
    {
     "name": "stderr",
     "output_type": "stream",
     "text": [
      "/usr/local/lib/python3.7/site-packages/numpy/core/_methods.py:36: ComplexWarning: Casting complex values to real discards the imaginary part\n",
      "  return umr_sum(a, axis, dtype, out, keepdims, initial)\n"
     ]
    },
    {
     "data": {
      "text/html": [
       "<div>\n",
       "<style scoped>\n",
       "    .dataframe tbody tr th:only-of-type {\n",
       "        vertical-align: middle;\n",
       "    }\n",
       "\n",
       "    .dataframe tbody tr th {\n",
       "        vertical-align: top;\n",
       "    }\n",
       "\n",
       "    .dataframe thead th {\n",
       "        text-align: right;\n",
       "    }\n",
       "</style>\n",
       "<table border=\"1\" class=\"dataframe\">\n",
       "  <thead>\n",
       "    <tr style=\"text-align: right;\">\n",
       "      <th></th>\n",
       "      <th>partition</th>\n",
       "      <th>state0</th>\n",
       "      <th>state1</th>\n",
       "      <th>state2</th>\n",
       "      <th>state3</th>\n",
       "      <th>row_mean</th>\n",
       "      <th>row_var</th>\n",
       "    </tr>\n",
       "  </thead>\n",
       "  <tbody>\n",
       "    <tr>\n",
       "      <th>5</th>\n",
       "      <td>[[-XX, -YY, ZZ], [IZ, ZI]]</td>\n",
       "      <td>(6.91+0j)</td>\n",
       "      <td>(9.68+0j)</td>\n",
       "      <td>(10.13+0j)</td>\n",
       "      <td>(7.95-0j)</td>\n",
       "      <td>(8.67-0j)</td>\n",
       "      <td>1.69</td>\n",
       "    </tr>\n",
       "    <tr>\n",
       "      <th>2</th>\n",
       "      <td>[[-XX, -YY], [ZZ, IZ, ZI]]</td>\n",
       "      <td>(10.87+0j)</td>\n",
       "      <td>(9.72-0j)</td>\n",
       "      <td>(9.69+0j)</td>\n",
       "      <td>(10.3-0j)</td>\n",
       "      <td>(10.15-0j)</td>\n",
       "      <td>0.23</td>\n",
       "    </tr>\n",
       "    <tr>\n",
       "      <th>35</th>\n",
       "      <td>[[-XX, -YY, ZZ], [IZ], [ZI]]</td>\n",
       "      <td>(11.03+0j)</td>\n",
       "      <td>(11.29+0j)</td>\n",
       "      <td>(14.18+0j)</td>\n",
       "      <td>(11.29-0j)</td>\n",
       "      <td>(11.95-0j)</td>\n",
       "      <td>1.68</td>\n",
       "    </tr>\n",
       "    <tr>\n",
       "      <th>12</th>\n",
       "      <td>[[-YY], [-XX, ZZ], [IZ, ZI]]</td>\n",
       "      <td>(8.49+0j)</td>\n",
       "      <td>(17.75+0j)</td>\n",
       "      <td>(15.09+0j)</td>\n",
       "      <td>(9.51+0j)</td>\n",
       "      <td>(12.71+0j)</td>\n",
       "      <td>14.78</td>\n",
       "    </tr>\n",
       "    <tr>\n",
       "      <th>21</th>\n",
       "      <td>[[-XX, -YY], [ZZ, IZ], [ZI]]</td>\n",
       "      <td>(16.02+0j)</td>\n",
       "      <td>(12.66-0j)</td>\n",
       "      <td>(10.96+0j)</td>\n",
       "      <td>(13.67-0j)</td>\n",
       "      <td>(13.33-0j)</td>\n",
       "      <td>3.35</td>\n",
       "    </tr>\n",
       "    <tr>\n",
       "      <th>31</th>\n",
       "      <td>[[-XX, -YY], [IZ], [ZZ, ZI]]</td>\n",
       "      <td>(15.09+0j)</td>\n",
       "      <td>(9.57-0j)</td>\n",
       "      <td>(16.51+0j)</td>\n",
       "      <td>(14.96-0j)</td>\n",
       "      <td>(14.03-0j)</td>\n",
       "      <td>7.00</td>\n",
       "    </tr>\n",
       "    <tr>\n",
       "      <th>11</th>\n",
       "      <td>[[-XX, -YY], [ZZ], [IZ, ZI]]</td>\n",
       "      <td>(13.47+0j)</td>\n",
       "      <td>(14.12-0j)</td>\n",
       "      <td>(14.96+0j)</td>\n",
       "      <td>(14.43-0j)</td>\n",
       "      <td>(14.24-0j)</td>\n",
       "      <td>0.29</td>\n",
       "    </tr>\n",
       "    <tr>\n",
       "      <th>7</th>\n",
       "      <td>[[-XX], [-YY, ZZ], [IZ, ZI]]</td>\n",
       "      <td>(13.57+0j)</td>\n",
       "      <td>(16.68+0j)</td>\n",
       "      <td>(13.91+0j)</td>\n",
       "      <td>(15.18-0j)</td>\n",
       "      <td>(14.83-0j)</td>\n",
       "      <td>1.50</td>\n",
       "    </tr>\n",
       "    <tr>\n",
       "      <th>4</th>\n",
       "      <td>[[-XX], [-YY], [ZZ, IZ, ZI]]</td>\n",
       "      <td>(15.41+0j)</td>\n",
       "      <td>(17.48-0j)</td>\n",
       "      <td>(13.95+0j)</td>\n",
       "      <td>(14.63+0j)</td>\n",
       "      <td>(15.37+0j)</td>\n",
       "      <td>1.75</td>\n",
       "    </tr>\n",
       "    <tr>\n",
       "      <th>48</th>\n",
       "      <td>[[-YY], [-XX, ZZ], [IZ], [ZI]]</td>\n",
       "      <td>(12.2+0j)</td>\n",
       "      <td>(19.36+0j)</td>\n",
       "      <td>(18.77+0j)</td>\n",
       "      <td>(11.85+0j)</td>\n",
       "      <td>(15.55+0j)</td>\n",
       "      <td>12.44</td>\n",
       "    </tr>\n",
       "    <tr>\n",
       "      <th>47</th>\n",
       "      <td>[[-XX, -YY], [ZZ], [IZ], [ZI]]</td>\n",
       "      <td>(18.85+0j)</td>\n",
       "      <td>(14.51-0j)</td>\n",
       "      <td>(18.6+0j)</td>\n",
       "      <td>(18.41-0j)</td>\n",
       "      <td>(17.59-0j)</td>\n",
       "      <td>3.19</td>\n",
       "    </tr>\n",
       "    <tr>\n",
       "      <th>24</th>\n",
       "      <td>[[-XX], [-YY], [ZZ, IZ], [ZI]]</td>\n",
       "      <td>(20.17+0j)</td>\n",
       "      <td>(20.75-0j)</td>\n",
       "      <td>(13.85+0j)</td>\n",
       "      <td>(17.13+0j)</td>\n",
       "      <td>(17.97+0j)</td>\n",
       "      <td>7.56</td>\n",
       "    </tr>\n",
       "    <tr>\n",
       "      <th>38</th>\n",
       "      <td>[[-XX], [-YY, ZZ], [IZ], [ZI]]</td>\n",
       "      <td>(18.98+0j)</td>\n",
       "      <td>(17.93+0j)</td>\n",
       "      <td>(17.2+0j)</td>\n",
       "      <td>(19.41-0j)</td>\n",
       "      <td>(18.38-0j)</td>\n",
       "      <td>0.75</td>\n",
       "    </tr>\n",
       "    <tr>\n",
       "      <th>34</th>\n",
       "      <td>[[-XX], [-YY], [IZ], [ZZ, ZI]]</td>\n",
       "      <td>(18.93+0j)</td>\n",
       "      <td>(16.63-0j)</td>\n",
       "      <td>(21.25+0j)</td>\n",
       "      <td>(18.85+0j)</td>\n",
       "      <td>(18.91+0j)</td>\n",
       "      <td>2.67</td>\n",
       "    </tr>\n",
       "    <tr>\n",
       "      <th>14</th>\n",
       "      <td>[[-XX], [-YY], [ZZ], [IZ, ZI]]</td>\n",
       "      <td>(16.77+0j)</td>\n",
       "      <td>(22.68-0j)</td>\n",
       "      <td>(19.18+0j)</td>\n",
       "      <td>(18.13+0j)</td>\n",
       "      <td>(19.19+0j)</td>\n",
       "      <td>4.79</td>\n",
       "    </tr>\n",
       "    <tr>\n",
       "      <th>51</th>\n",
       "      <td>[[-XX], [-YY], [ZZ], [IZ], [ZI]]</td>\n",
       "      <td>(22.08+0j)</td>\n",
       "      <td>(22.97-0j)</td>\n",
       "      <td>(22.29+0j)</td>\n",
       "      <td>(21.63+0j)</td>\n",
       "      <td>(22.24+0j)</td>\n",
       "      <td>0.23</td>\n",
       "    </tr>\n",
       "  </tbody>\n",
       "</table>\n",
       "</div>"
      ],
      "text/plain": [
       "                           partition      state0      state1      state2  \\\n",
       "5         [[-XX, -YY, ZZ], [IZ, ZI]]   (6.91+0j)   (9.68+0j)  (10.13+0j)   \n",
       "2         [[-XX, -YY], [ZZ, IZ, ZI]]  (10.87+0j)   (9.72-0j)   (9.69+0j)   \n",
       "35      [[-XX, -YY, ZZ], [IZ], [ZI]]  (11.03+0j)  (11.29+0j)  (14.18+0j)   \n",
       "12      [[-YY], [-XX, ZZ], [IZ, ZI]]   (8.49+0j)  (17.75+0j)  (15.09+0j)   \n",
       "21      [[-XX, -YY], [ZZ, IZ], [ZI]]  (16.02+0j)  (12.66-0j)  (10.96+0j)   \n",
       "31      [[-XX, -YY], [IZ], [ZZ, ZI]]  (15.09+0j)   (9.57-0j)  (16.51+0j)   \n",
       "11      [[-XX, -YY], [ZZ], [IZ, ZI]]  (13.47+0j)  (14.12-0j)  (14.96+0j)   \n",
       "7       [[-XX], [-YY, ZZ], [IZ, ZI]]  (13.57+0j)  (16.68+0j)  (13.91+0j)   \n",
       "4       [[-XX], [-YY], [ZZ, IZ, ZI]]  (15.41+0j)  (17.48-0j)  (13.95+0j)   \n",
       "48    [[-YY], [-XX, ZZ], [IZ], [ZI]]   (12.2+0j)  (19.36+0j)  (18.77+0j)   \n",
       "47    [[-XX, -YY], [ZZ], [IZ], [ZI]]  (18.85+0j)  (14.51-0j)   (18.6+0j)   \n",
       "24    [[-XX], [-YY], [ZZ, IZ], [ZI]]  (20.17+0j)  (20.75-0j)  (13.85+0j)   \n",
       "38    [[-XX], [-YY, ZZ], [IZ], [ZI]]  (18.98+0j)  (17.93+0j)   (17.2+0j)   \n",
       "34    [[-XX], [-YY], [IZ], [ZZ, ZI]]  (18.93+0j)  (16.63-0j)  (21.25+0j)   \n",
       "14    [[-XX], [-YY], [ZZ], [IZ, ZI]]  (16.77+0j)  (22.68-0j)  (19.18+0j)   \n",
       "51  [[-XX], [-YY], [ZZ], [IZ], [ZI]]  (22.08+0j)  (22.97-0j)  (22.29+0j)   \n",
       "\n",
       "        state3    row_mean  row_var  \n",
       "5    (7.95-0j)   (8.67-0j)     1.69  \n",
       "2    (10.3-0j)  (10.15-0j)     0.23  \n",
       "35  (11.29-0j)  (11.95-0j)     1.68  \n",
       "12   (9.51+0j)  (12.71+0j)    14.78  \n",
       "21  (13.67-0j)  (13.33-0j)     3.35  \n",
       "31  (14.96-0j)  (14.03-0j)     7.00  \n",
       "11  (14.43-0j)  (14.24-0j)     0.29  \n",
       "7   (15.18-0j)  (14.83-0j)     1.50  \n",
       "4   (14.63+0j)  (15.37+0j)     1.75  \n",
       "48  (11.85+0j)  (15.55+0j)    12.44  \n",
       "47  (18.41-0j)  (17.59-0j)     3.19  \n",
       "24  (17.13+0j)  (17.97+0j)     7.56  \n",
       "38  (19.41-0j)  (18.38-0j)     0.75  \n",
       "34  (18.85+0j)  (18.91+0j)     2.67  \n",
       "14  (18.13+0j)  (19.19+0j)     4.79  \n",
       "51  (21.63+0j)  (22.24+0j)     0.23  "
      ]
     },
     "execution_count": 37,
     "metadata": {},
     "output_type": "execute_result"
    }
   ],
   "source": [
    "# Are the ideal partitions the same with random kets?\n",
    "random_state_list = [qutip.rand_ket(4).full() for i in range(4)]\n",
    "random_states_mean_state_preps = expected_state_preps_for_list_of_states(test_term_set, random_state_list)\n",
    "# round the real and imaginary parts to two decimal places\n",
    "random_states_mean_state_preps.iloc[:,1:] = random_states_mean_state_preps.iloc[:,1:].apply(lambda x: np.around(x, decimals=2), axis=0)\n",
    "random_states_mean_state_preps"
   ]
  },
  {
   "cell_type": "code",
   "execution_count": 38,
   "metadata": {},
   "outputs": [
    {
     "name": "stderr",
     "output_type": "stream",
     "text": [
      "/usr/local/lib/python3.7/site-packages/numpy/core/numeric.py:591: ComplexWarning: Casting complex values to real discards the imaginary part\n",
      "  return array(a, dtype, copy=False, order=order, subok=True)\n",
      "/usr/local/lib/python3.7/site-packages/pandas/core/frame.py:7005: ComplexWarning: Casting complex values to real discards the imaginary part\n",
      "  correl = libalgos.nancorr(ensure_float64(mat), minp=min_periods)\n"
     ]
    },
    {
     "name": "stdout",
     "output_type": "stream",
     "text": [
      "            row_mean_x  row_mean_y\n",
      "row_mean_x    1.000000    0.951624\n",
      "row_mean_y    0.951624    1.000000\n"
     ]
    },
    {
     "data": {
      "image/png": "[encoded data removed]",
      "text/plain": [
       "<Figure size 432x288 with 1 Axes>"
      ]
     },
     "metadata": {
      "needs_background": "light"
     },
     "output_type": "display_data"
    }
   ],
   "source": [
    "# Plot the number of state preps needed under the \n",
    "ax = pd.merge(basis_states_mean_state_preps,\n",
    "         random_states_mean_state_preps,\n",
    "         left_index=True,\n",
    "         right_index=True)[['row_mean_x', 'row_mean_y']].plot.scatter(x=\"row_mean_x\", y=\"row_mean_y\")\n",
    "ax.set_xlabel(\"basis_mean_state_preps\")\n",
    "ax.set_ylabel(\"radom_mean_state_preps\")\n",
    "\n",
    "# correlation between number of state preparations needed under basis states versus random states\n",
    "print(pd.merge(basis_states_mean_state_preps,\n",
    "         random_states_mean_state_preps,\n",
    "         left_index=True,\n",
    "         right_index=True)[['row_mean_x', 'row_mean_y']].corr())\n",
    "\n",
    "# There is very high correlation between the number of state preparations needed between\n",
    "# basis states and random states, for term set ['-XX', '-YY', 'ZZ', 'IZ', 'ZI'], at least.\n",
    "# Could this be because only -XX and -YY ever have a positive correlation?"
   ]
  },
  {
   "cell_type": "code",
   "execution_count": 58,
   "metadata": {},
   "outputs": [
    {
     "name": "stdout",
     "output_type": "stream",
     "text": [
      "0.9516242526867605\n"
     ]
    },
    {
     "name": "stderr",
     "output_type": "stream",
     "text": [
      "/usr/local/lib/python3.7/site-packages/pandas/core/frame.py:7005: ComplexWarning: Casting complex values to real discards the imaginary part\n",
      "  correl = libalgos.nancorr(ensure_float64(mat), minp=min_periods)\n"
     ]
    }
   ],
   "source": [
    "print(pd.merge(basis_states_mean_state_preps,\n",
    "         random_states_mean_state_preps,\n",
    "         left_index=True,\n",
    "         right_index=True)[['row_mean_x', 'row_mean_y']].corr().iloc[0,1])"
   ]
  },
  {
   "cell_type": "markdown",
   "metadata": {},
   "source": [
    "### Hypothesis: There is a high correlation between the # of state preps needed in basis states versus random states when the number of terms that correlate is low. Low correlation when the number of terms that correlate is high.\n",
    "### Result: Not conclusive that this is true!  Between different runs, the relative agreement between mean # of state preparations in basis states versus random states varies pretty widely."
   ]
  },
  {
   "cell_type": "code",
   "execution_count": 40,
   "metadata": {},
   "outputs": [],
   "source": [
    "term_set_0_correlate = ['XX','YZ','ZZ','ZI'] # all pairwise correlations are 0\n",
    "term_set_1_correlate = ['XX','YY','ZZ','ZI'] # Cov(XX,YY) = +1 under 01,10; -1 under 00,11\n",
    "term_set_2_correlate = ['XY', 'YX', 'YZ', 'YI'] # Cov(XY,YX) = +1 under 00,11; -1 under 01,10\n",
    "                                                # Cov(YZ,YI) = +1 under 00,01; -1 under 10,11"
   ]
  },
  {
   "cell_type": "code",
   "execution_count": 41,
   "metadata": {},
   "outputs": [
    {
     "name": "stdout",
     "output_type": "stream",
     "text": [
      "  term 1 term 2  covariance\n",
      "0     XY     YX      (1+0j)\n",
      "1     XY     YZ          0j\n",
      "2     YX     YI          0j\n",
      "3     YZ     YI      (1+0j)\n",
      "  term 1 term 2  covariance\n",
      "0     XY     YX     (-1+0j)\n",
      "1     XY     YZ          0j\n",
      "2     YX     YI          0j\n",
      "3     YZ     YI     (-1+0j)\n",
      "  term 1 term 2  covariance\n",
      "0     XY     YX     (-1+0j)\n",
      "1     XY     YZ          0j\n",
      "2     YX     YI          0j\n",
      "3     YZ     YI      (1+0j)\n",
      "  term 1 term 2  covariance\n",
      "0     XY     YX      (1+0j)\n",
      "1     XY     YZ          0j\n",
      "2     YX     YI          0j\n",
      "3     YZ     YI     (-1+0j)\n"
     ]
    }
   ],
   "source": [
    "for state in basis_states_4:\n",
    "    print(pairwise_covariances_commuting_terms(term_set_2_correlate, state))"
   ]
  },
  {
   "cell_type": "markdown",
   "metadata": {},
   "source": [
    "#### When 0 terms correlate, all partitions have identical number of state preps under all basis states"
   ]
  },
  {
   "cell_type": "code",
   "execution_count": 107,
   "metadata": {},
   "outputs": [
    {
     "name": "stderr",
     "output_type": "stream",
     "text": [
      "/usr/local/lib/python3.7/site-packages/numpy/core/_methods.py:36: ComplexWarning: Casting complex values to real discards the imaginary part\n",
      "  return umr_sum(a, axis, dtype, out, keepdims, initial)\n",
      "/usr/local/lib/python3.7/site-packages/numpy/core/_methods.py:36: ComplexWarning: Casting complex values to real discards the imaginary part\n",
      "  return umr_sum(a, axis, dtype, out, keepdims, initial)\n"
     ]
    }
   ],
   "source": [
    "random_state_list = [qutip.rand_ket(4).full() for i in range(10)]\n",
    "basis_states_mean_state_preps_0 = expected_state_preps_for_list_of_states(term_set_0_correlate, basis_states_4)\n",
    "random_states_mean_state_preps_0 = expected_state_preps_for_list_of_states(term_set_0_correlate, random_state_list)"
   ]
  },
  {
   "cell_type": "code",
   "execution_count": 108,
   "metadata": {},
   "outputs": [
    {
     "data": {
      "text/html": [
       "<div>\n",
       "<style scoped>\n",
       "    .dataframe tbody tr th:only-of-type {\n",
       "        vertical-align: middle;\n",
       "    }\n",
       "\n",
       "    .dataframe tbody tr th {\n",
       "        vertical-align: top;\n",
       "    }\n",
       "\n",
       "    .dataframe thead th {\n",
       "        text-align: right;\n",
       "    }\n",
       "</style>\n",
       "<table border=\"1\" class=\"dataframe\">\n",
       "  <thead>\n",
       "    <tr style=\"text-align: right;\">\n",
       "      <th></th>\n",
       "      <th>partition</th>\n",
       "      <th>state0</th>\n",
       "      <th>state1</th>\n",
       "      <th>state2</th>\n",
       "      <th>state3</th>\n",
       "      <th>row_mean</th>\n",
       "      <th>row_var</th>\n",
       "    </tr>\n",
       "  </thead>\n",
       "  <tbody>\n",
       "    <tr>\n",
       "      <th>2</th>\n",
       "      <td>[[XX, YZ], [ZZ, ZI]]</td>\n",
       "      <td>(4+0j)</td>\n",
       "      <td>(4+0j)</td>\n",
       "      <td>(4+0j)</td>\n",
       "      <td>(4+0j)</td>\n",
       "      <td>(4+0j)</td>\n",
       "      <td>0.0</td>\n",
       "    </tr>\n",
       "    <tr>\n",
       "      <th>4</th>\n",
       "      <td>[[XX], [YZ], [ZZ, ZI]]</td>\n",
       "      <td>(6+0j)</td>\n",
       "      <td>(6+0j)</td>\n",
       "      <td>(6+0j)</td>\n",
       "      <td>(6+0j)</td>\n",
       "      <td>(6+0j)</td>\n",
       "      <td>0.0</td>\n",
       "    </tr>\n",
       "    <tr>\n",
       "      <th>11</th>\n",
       "      <td>[[XX, YZ], [ZZ], [ZI]]</td>\n",
       "      <td>(6+0j)</td>\n",
       "      <td>(6+0j)</td>\n",
       "      <td>(6+0j)</td>\n",
       "      <td>(6+0j)</td>\n",
       "      <td>(6+0j)</td>\n",
       "      <td>0.0</td>\n",
       "    </tr>\n",
       "    <tr>\n",
       "      <th>12</th>\n",
       "      <td>[[YZ], [XX, ZZ], [ZI]]</td>\n",
       "      <td>(6+0j)</td>\n",
       "      <td>(6+0j)</td>\n",
       "      <td>(6+0j)</td>\n",
       "      <td>(6+0j)</td>\n",
       "      <td>(6+0j)</td>\n",
       "      <td>0.0</td>\n",
       "    </tr>\n",
       "    <tr>\n",
       "      <th>14</th>\n",
       "      <td>[[XX], [YZ], [ZZ], [ZI]]</td>\n",
       "      <td>(8+0j)</td>\n",
       "      <td>(8+0j)</td>\n",
       "      <td>(8+0j)</td>\n",
       "      <td>(8+0j)</td>\n",
       "      <td>(8+0j)</td>\n",
       "      <td>0.0</td>\n",
       "    </tr>\n",
       "  </tbody>\n",
       "</table>\n",
       "</div>"
      ],
      "text/plain": [
       "                   partition  state0  state1  state2  state3  row_mean  \\\n",
       "2       [[XX, YZ], [ZZ, ZI]]  (4+0j)  (4+0j)  (4+0j)  (4+0j)    (4+0j)   \n",
       "4     [[XX], [YZ], [ZZ, ZI]]  (6+0j)  (6+0j)  (6+0j)  (6+0j)    (6+0j)   \n",
       "11    [[XX, YZ], [ZZ], [ZI]]  (6+0j)  (6+0j)  (6+0j)  (6+0j)    (6+0j)   \n",
       "12    [[YZ], [XX, ZZ], [ZI]]  (6+0j)  (6+0j)  (6+0j)  (6+0j)    (6+0j)   \n",
       "14  [[XX], [YZ], [ZZ], [ZI]]  (8+0j)  (8+0j)  (8+0j)  (8+0j)    (8+0j)   \n",
       "\n",
       "    row_var  \n",
       "2       0.0  \n",
       "4       0.0  \n",
       "11      0.0  \n",
       "12      0.0  \n",
       "14      0.0  "
      ]
     },
     "execution_count": 108,
     "metadata": {},
     "output_type": "execute_result"
    }
   ],
   "source": [
    "basis_states_mean_state_preps_0"
   ]
  },
  {
   "cell_type": "code",
   "execution_count": 109,
   "metadata": {},
   "outputs": [
    {
     "data": {
      "text/html": [
       "<div>\n",
       "<style scoped>\n",
       "    .dataframe tbody tr th:only-of-type {\n",
       "        vertical-align: middle;\n",
       "    }\n",
       "\n",
       "    .dataframe tbody tr th {\n",
       "        vertical-align: top;\n",
       "    }\n",
       "\n",
       "    .dataframe thead th {\n",
       "        text-align: right;\n",
       "    }\n",
       "</style>\n",
       "<table border=\"1\" class=\"dataframe\">\n",
       "  <thead>\n",
       "    <tr style=\"text-align: right;\">\n",
       "      <th></th>\n",
       "      <th>partition</th>\n",
       "      <th>state0</th>\n",
       "      <th>state1</th>\n",
       "      <th>state2</th>\n",
       "      <th>state3</th>\n",
       "      <th>state4</th>\n",
       "      <th>state5</th>\n",
       "      <th>state6</th>\n",
       "      <th>state7</th>\n",
       "      <th>state8</th>\n",
       "      <th>state9</th>\n",
       "      <th>row_mean</th>\n",
       "      <th>row_var</th>\n",
       "    </tr>\n",
       "  </thead>\n",
       "  <tbody>\n",
       "    <tr>\n",
       "      <th>2</th>\n",
       "      <td>[[XX, YZ], [ZZ, ZI]]</td>\n",
       "      <td>(6.01-0j)</td>\n",
       "      <td>(12.15-0j)</td>\n",
       "      <td>(7.77-0j)</td>\n",
       "      <td>(8.15+0j)</td>\n",
       "      <td>(5.29+0j)</td>\n",
       "      <td>(6.81-0j)</td>\n",
       "      <td>(7.64-0j)</td>\n",
       "      <td>(7.25-0j)</td>\n",
       "      <td>(3.7+0j)</td>\n",
       "      <td>(7.39+0j)</td>\n",
       "      <td>(7.22-0j)</td>\n",
       "      <td>4.34</td>\n",
       "    </tr>\n",
       "    <tr>\n",
       "      <th>4</th>\n",
       "      <td>[[XX], [YZ], [ZZ, ZI]]</td>\n",
       "      <td>(8.55+0j)</td>\n",
       "      <td>(13.8-0j)</td>\n",
       "      <td>(10.9-0j)</td>\n",
       "      <td>(9.47+0j)</td>\n",
       "      <td>(6.53+0j)</td>\n",
       "      <td>(9.05-0j)</td>\n",
       "      <td>(12.57-0j)</td>\n",
       "      <td>(11.81+0j)</td>\n",
       "      <td>(7.78-0j)</td>\n",
       "      <td>(8.94+0j)</td>\n",
       "      <td>(9.94-0j)</td>\n",
       "      <td>4.65</td>\n",
       "    </tr>\n",
       "    <tr>\n",
       "      <th>12</th>\n",
       "      <td>[[YZ], [XX, ZZ], [ZI]]</td>\n",
       "      <td>(7.63+0j)</td>\n",
       "      <td>(12.44+0j)</td>\n",
       "      <td>(9.57-0j)</td>\n",
       "      <td>(14.85+0j)</td>\n",
       "      <td>(7.58+0j)</td>\n",
       "      <td>(7.28-0j)</td>\n",
       "      <td>(9.98-0j)</td>\n",
       "      <td>(9.91+0j)</td>\n",
       "      <td>(10.74-0j)</td>\n",
       "      <td>(9.42+0j)</td>\n",
       "      <td>(9.94-0j)</td>\n",
       "      <td>4.95</td>\n",
       "    </tr>\n",
       "    <tr>\n",
       "      <th>11</th>\n",
       "      <td>[[XX, YZ], [ZZ], [ZI]]</td>\n",
       "      <td>(8.55-0j)</td>\n",
       "      <td>(15.65-0j)</td>\n",
       "      <td>(11.88-0j)</td>\n",
       "      <td>(13.89+0j)</td>\n",
       "      <td>(9.04+0j)</td>\n",
       "      <td>(9.56-0j)</td>\n",
       "      <td>(8.7-0j)</td>\n",
       "      <td>(7.9-0j)</td>\n",
       "      <td>(7.6+0j)</td>\n",
       "      <td>(11.64+0j)</td>\n",
       "      <td>(10.44-0j)</td>\n",
       "      <td>6.63</td>\n",
       "    </tr>\n",
       "    <tr>\n",
       "      <th>14</th>\n",
       "      <td>[[XX], [YZ], [ZZ], [ZI]]</td>\n",
       "      <td>(10.78+0j)</td>\n",
       "      <td>(14.97-0j)</td>\n",
       "      <td>(14.84-0j)</td>\n",
       "      <td>(14.85+0j)</td>\n",
       "      <td>(10.18+0j)</td>\n",
       "      <td>(11.19-0j)</td>\n",
       "      <td>(13.08-0j)</td>\n",
       "      <td>(11.79+0j)</td>\n",
       "      <td>(13.1-0j)</td>\n",
       "      <td>(12.65+0j)</td>\n",
       "      <td>(12.74-0j)</td>\n",
       "      <td>2.78</td>\n",
       "    </tr>\n",
       "  </tbody>\n",
       "</table>\n",
       "</div>"
      ],
      "text/plain": [
       "                   partition      state0      state1      state2      state3  \\\n",
       "2       [[XX, YZ], [ZZ, ZI]]   (6.01-0j)  (12.15-0j)   (7.77-0j)   (8.15+0j)   \n",
       "4     [[XX], [YZ], [ZZ, ZI]]   (8.55+0j)   (13.8-0j)   (10.9-0j)   (9.47+0j)   \n",
       "12    [[YZ], [XX, ZZ], [ZI]]   (7.63+0j)  (12.44+0j)   (9.57-0j)  (14.85+0j)   \n",
       "11    [[XX, YZ], [ZZ], [ZI]]   (8.55-0j)  (15.65-0j)  (11.88-0j)  (13.89+0j)   \n",
       "14  [[XX], [YZ], [ZZ], [ZI]]  (10.78+0j)  (14.97-0j)  (14.84-0j)  (14.85+0j)   \n",
       "\n",
       "        state4      state5      state6      state7      state8      state9  \\\n",
       "2    (5.29+0j)   (6.81-0j)   (7.64-0j)   (7.25-0j)    (3.7+0j)   (7.39+0j)   \n",
       "4    (6.53+0j)   (9.05-0j)  (12.57-0j)  (11.81+0j)   (7.78-0j)   (8.94+0j)   \n",
       "12   (7.58+0j)   (7.28-0j)   (9.98-0j)   (9.91+0j)  (10.74-0j)   (9.42+0j)   \n",
       "11   (9.04+0j)   (9.56-0j)    (8.7-0j)    (7.9-0j)    (7.6+0j)  (11.64+0j)   \n",
       "14  (10.18+0j)  (11.19-0j)  (13.08-0j)  (11.79+0j)   (13.1-0j)  (12.65+0j)   \n",
       "\n",
       "      row_mean  row_var  \n",
       "2    (7.22-0j)     4.34  \n",
       "4    (9.94-0j)     4.65  \n",
       "12   (9.94-0j)     4.95  \n",
       "11  (10.44-0j)     6.63  \n",
       "14  (12.74-0j)     2.78  "
      ]
     },
     "execution_count": 109,
     "metadata": {},
     "output_type": "execute_result"
    }
   ],
   "source": [
    "random_states_mean_state_preps_0"
   ]
  },
  {
   "cell_type": "code",
   "execution_count": 110,
   "metadata": {},
   "outputs": [
    {
     "data": {
      "text/plain": [
       "(0.9939536241369136+0j)"
      ]
     },
     "execution_count": 110,
     "metadata": {},
     "output_type": "execute_result"
    }
   ],
   "source": [
    "# High correlation between the number of state preps under random states and basis states\n",
    "np.corrcoef(basis_states_mean_state_preps_0['row_mean'],\n",
    "           random_states_mean_state_preps_0['row_mean'])[0,1]"
   ]
  },
  {
   "cell_type": "markdown",
   "metadata": {},
   "source": [
    "#### When 1 pair correlates AND those correlating terms are in the same grouping, then the states where they negatively correlate have low # of state preps, and the states where they positively correlate have high # of state preps."
   ]
  },
  {
   "cell_type": "code",
   "execution_count": 111,
   "metadata": {},
   "outputs": [
    {
     "name": "stderr",
     "output_type": "stream",
     "text": [
      "/usr/local/lib/python3.7/site-packages/numpy/core/_methods.py:36: ComplexWarning: Casting complex values to real discards the imaginary part\n",
      "  return umr_sum(a, axis, dtype, out, keepdims, initial)\n",
      "/usr/local/lib/python3.7/site-packages/numpy/core/_methods.py:36: ComplexWarning: Casting complex values to real discards the imaginary part\n",
      "  return umr_sum(a, axis, dtype, out, keepdims, initial)\n"
     ]
    }
   ],
   "source": [
    "basis_states_mean_state_preps_1 = expected_state_preps_for_list_of_states(term_set_1_correlate, basis_states_4)\n",
    "random_states_mean_state_preps_1 = expected_state_preps_for_list_of_states(term_set_1_correlate, random_state_list)"
   ]
  },
  {
   "cell_type": "code",
   "execution_count": 112,
   "metadata": {},
   "outputs": [
    {
     "data": {
      "text/html": [
       "<div>\n",
       "<style scoped>\n",
       "    .dataframe tbody tr th:only-of-type {\n",
       "        vertical-align: middle;\n",
       "    }\n",
       "\n",
       "    .dataframe tbody tr th {\n",
       "        vertical-align: top;\n",
       "    }\n",
       "\n",
       "    .dataframe thead th {\n",
       "        text-align: right;\n",
       "    }\n",
       "</style>\n",
       "<table border=\"1\" class=\"dataframe\">\n",
       "  <thead>\n",
       "    <tr style=\"text-align: right;\">\n",
       "      <th></th>\n",
       "      <th>partition</th>\n",
       "      <th>state0</th>\n",
       "      <th>state1</th>\n",
       "      <th>state2</th>\n",
       "      <th>state3</th>\n",
       "      <th>row_mean</th>\n",
       "      <th>row_var</th>\n",
       "    </tr>\n",
       "  </thead>\n",
       "  <tbody>\n",
       "    <tr>\n",
       "      <th>2</th>\n",
       "      <td>[[XX, YY], [ZZ, ZI]]</td>\n",
       "      <td>0j</td>\n",
       "      <td>(8+0j)</td>\n",
       "      <td>(8+0j)</td>\n",
       "      <td>0j</td>\n",
       "      <td>(4+0j)</td>\n",
       "      <td>16.0</td>\n",
       "    </tr>\n",
       "    <tr>\n",
       "      <th>5</th>\n",
       "      <td>[[XX, YY, ZZ], [ZI]]</td>\n",
       "      <td>0j</td>\n",
       "      <td>(8+0j)</td>\n",
       "      <td>(8+0j)</td>\n",
       "      <td>0j</td>\n",
       "      <td>(4+0j)</td>\n",
       "      <td>16.0</td>\n",
       "    </tr>\n",
       "    <tr>\n",
       "      <th>11</th>\n",
       "      <td>[[XX, YY], [ZZ], [ZI]]</td>\n",
       "      <td>0j</td>\n",
       "      <td>(12+0j)</td>\n",
       "      <td>(12+0j)</td>\n",
       "      <td>0j</td>\n",
       "      <td>(6+0j)</td>\n",
       "      <td>36.0</td>\n",
       "    </tr>\n",
       "    <tr>\n",
       "      <th>4</th>\n",
       "      <td>[[XX], [YY], [ZZ, ZI]]</td>\n",
       "      <td>(6+0j)</td>\n",
       "      <td>(6+0j)</td>\n",
       "      <td>(6+0j)</td>\n",
       "      <td>(6+0j)</td>\n",
       "      <td>(6+0j)</td>\n",
       "      <td>0.0</td>\n",
       "    </tr>\n",
       "    <tr>\n",
       "      <th>7</th>\n",
       "      <td>[[XX], [YY, ZZ], [ZI]]</td>\n",
       "      <td>(6+0j)</td>\n",
       "      <td>(6+0j)</td>\n",
       "      <td>(6+0j)</td>\n",
       "      <td>(6+0j)</td>\n",
       "      <td>(6+0j)</td>\n",
       "      <td>0.0</td>\n",
       "    </tr>\n",
       "    <tr>\n",
       "      <th>12</th>\n",
       "      <td>[[YY], [XX, ZZ], [ZI]]</td>\n",
       "      <td>(6+0j)</td>\n",
       "      <td>(6+0j)</td>\n",
       "      <td>(6+0j)</td>\n",
       "      <td>(6+0j)</td>\n",
       "      <td>(6+0j)</td>\n",
       "      <td>0.0</td>\n",
       "    </tr>\n",
       "    <tr>\n",
       "      <th>14</th>\n",
       "      <td>[[XX], [YY], [ZZ], [ZI]]</td>\n",
       "      <td>(8+0j)</td>\n",
       "      <td>(8+0j)</td>\n",
       "      <td>(8+0j)</td>\n",
       "      <td>(8+0j)</td>\n",
       "      <td>(8+0j)</td>\n",
       "      <td>0.0</td>\n",
       "    </tr>\n",
       "  </tbody>\n",
       "</table>\n",
       "</div>"
      ],
      "text/plain": [
       "                   partition  state0   state1   state2  state3  row_mean  \\\n",
       "2       [[XX, YY], [ZZ, ZI]]      0j   (8+0j)   (8+0j)      0j    (4+0j)   \n",
       "5       [[XX, YY, ZZ], [ZI]]      0j   (8+0j)   (8+0j)      0j    (4+0j)   \n",
       "11    [[XX, YY], [ZZ], [ZI]]      0j  (12+0j)  (12+0j)      0j    (6+0j)   \n",
       "4     [[XX], [YY], [ZZ, ZI]]  (6+0j)   (6+0j)   (6+0j)  (6+0j)    (6+0j)   \n",
       "7     [[XX], [YY, ZZ], [ZI]]  (6+0j)   (6+0j)   (6+0j)  (6+0j)    (6+0j)   \n",
       "12    [[YY], [XX, ZZ], [ZI]]  (6+0j)   (6+0j)   (6+0j)  (6+0j)    (6+0j)   \n",
       "14  [[XX], [YY], [ZZ], [ZI]]  (8+0j)   (8+0j)   (8+0j)  (8+0j)    (8+0j)   \n",
       "\n",
       "    row_var  \n",
       "2      16.0  \n",
       "5      16.0  \n",
       "11     36.0  \n",
       "4       0.0  \n",
       "7       0.0  \n",
       "12      0.0  \n",
       "14      0.0  "
      ]
     },
     "execution_count": 112,
     "metadata": {},
     "output_type": "execute_result"
    }
   ],
   "source": [
    "basis_states_mean_state_preps_1"
   ]
  },
  {
   "cell_type": "code",
   "execution_count": 113,
   "metadata": {},
   "outputs": [
    {
     "data": {
      "text/html": [
       "<div>\n",
       "<style scoped>\n",
       "    .dataframe tbody tr th:only-of-type {\n",
       "        vertical-align: middle;\n",
       "    }\n",
       "\n",
       "    .dataframe tbody tr th {\n",
       "        vertical-align: top;\n",
       "    }\n",
       "\n",
       "    .dataframe thead th {\n",
       "        text-align: right;\n",
       "    }\n",
       "</style>\n",
       "<table border=\"1\" class=\"dataframe\">\n",
       "  <thead>\n",
       "    <tr style=\"text-align: right;\">\n",
       "      <th></th>\n",
       "      <th>partition</th>\n",
       "      <th>state0</th>\n",
       "      <th>state1</th>\n",
       "      <th>state2</th>\n",
       "      <th>state3</th>\n",
       "      <th>state4</th>\n",
       "      <th>state5</th>\n",
       "      <th>state6</th>\n",
       "      <th>state7</th>\n",
       "      <th>state8</th>\n",
       "      <th>state9</th>\n",
       "      <th>row_mean</th>\n",
       "      <th>row_var</th>\n",
       "    </tr>\n",
       "  </thead>\n",
       "  <tbody>\n",
       "    <tr>\n",
       "      <th>2</th>\n",
       "      <td>[[XX, YY], [ZZ, ZI]]</td>\n",
       "      <td>(5.72+0j)</td>\n",
       "      <td>(8.92-0j)</td>\n",
       "      <td>(6.44-0j)</td>\n",
       "      <td>(5+0j)</td>\n",
       "      <td>(5.99+0j)</td>\n",
       "      <td>(7.4+0j)</td>\n",
       "      <td>(9.43-0j)</td>\n",
       "      <td>(9.5+0j)</td>\n",
       "      <td>(6.93-0j)</td>\n",
       "      <td>(3.52+0j)</td>\n",
       "      <td>(6.89-0j)</td>\n",
       "      <td>3.49</td>\n",
       "    </tr>\n",
       "    <tr>\n",
       "      <th>5</th>\n",
       "      <td>[[XX, YY, ZZ], [ZI]]</td>\n",
       "      <td>(7.36+0j)</td>\n",
       "      <td>(9.36+0j)</td>\n",
       "      <td>(6.79+0j)</td>\n",
       "      <td>(9.65-0j)</td>\n",
       "      <td>(9.77+0j)</td>\n",
       "      <td>(9.24+0j)</td>\n",
       "      <td>(5.44-0j)</td>\n",
       "      <td>(5.64+0j)</td>\n",
       "      <td>(6.88-0j)</td>\n",
       "      <td>(3.66+0j)</td>\n",
       "      <td>(7.38-0j)</td>\n",
       "      <td>3.95</td>\n",
       "    </tr>\n",
       "    <tr>\n",
       "      <th>11</th>\n",
       "      <td>[[XX, YY], [ZZ], [ZI]]</td>\n",
       "      <td>(8.12+0j)</td>\n",
       "      <td>(10.8-0j)</td>\n",
       "      <td>(9.89-0j)</td>\n",
       "      <td>(9.17+0j)</td>\n",
       "      <td>(10.08+0j)</td>\n",
       "      <td>(10.46+0j)</td>\n",
       "      <td>(11.38-0j)</td>\n",
       "      <td>(11.27+0j)</td>\n",
       "      <td>(12.45-0j)</td>\n",
       "      <td>(5.83+0j)</td>\n",
       "      <td>(9.95-0j)</td>\n",
       "      <td>3.20</td>\n",
       "    </tr>\n",
       "    <tr>\n",
       "      <th>4</th>\n",
       "      <td>[[XX], [YY], [ZZ, ZI]]</td>\n",
       "      <td>(9.44+0j)</td>\n",
       "      <td>(13.79-0j)</td>\n",
       "      <td>(10.47-0j)</td>\n",
       "      <td>(9.1+0j)</td>\n",
       "      <td>(8.42+0j)</td>\n",
       "      <td>(10.49+0j)</td>\n",
       "      <td>(12.66-0j)</td>\n",
       "      <td>(13.59+0j)</td>\n",
       "      <td>(8.88-0j)</td>\n",
       "      <td>(8.99+0j)</td>\n",
       "      <td>(10.58-0j)</td>\n",
       "      <td>3.73</td>\n",
       "    </tr>\n",
       "    <tr>\n",
       "      <th>12</th>\n",
       "      <td>[[YY], [XX, ZZ], [ZI]]</td>\n",
       "      <td>(8.52+0j)</td>\n",
       "      <td>(12.43+0j)</td>\n",
       "      <td>(9.14-0j)</td>\n",
       "      <td>(14.48-0j)</td>\n",
       "      <td>(9.47+0j)</td>\n",
       "      <td>(8.72+0j)</td>\n",
       "      <td>(10.07-0j)</td>\n",
       "      <td>(11.69+0j)</td>\n",
       "      <td>(11.85-0j)</td>\n",
       "      <td>(9.48+0j)</td>\n",
       "      <td>(10.58-0j)</td>\n",
       "      <td>3.39</td>\n",
       "    </tr>\n",
       "    <tr>\n",
       "      <th>7</th>\n",
       "      <td>[[XX], [YY, ZZ], [ZI]]</td>\n",
       "      <td>(12.36+0j)</td>\n",
       "      <td>(13.25+0j)</td>\n",
       "      <td>(12.54+0j)</td>\n",
       "      <td>(12.36-0j)</td>\n",
       "      <td>(14.14-0j)</td>\n",
       "      <td>(14.36+0j)</td>\n",
       "      <td>(6.5-0j)</td>\n",
       "      <td>(6.75+0j)</td>\n",
       "      <td>(7.89-0j)</td>\n",
       "      <td>(9.27+0j)</td>\n",
       "      <td>(10.94-0j)</td>\n",
       "      <td>8.33</td>\n",
       "    </tr>\n",
       "    <tr>\n",
       "      <th>14</th>\n",
       "      <td>[[XX], [YY], [ZZ], [ZI]]</td>\n",
       "      <td>(11.98+0j)</td>\n",
       "      <td>(14.96-0j)</td>\n",
       "      <td>(14.27-0j)</td>\n",
       "      <td>(14.35+0j)</td>\n",
       "      <td>(12.7+0j)</td>\n",
       "      <td>(13.12+0j)</td>\n",
       "      <td>(13.19-0j)</td>\n",
       "      <td>(14.16+0j)</td>\n",
       "      <td>(14.57-0j)</td>\n",
       "      <td>(12.73+0j)</td>\n",
       "      <td>(13.6-0j)</td>\n",
       "      <td>0.87</td>\n",
       "    </tr>\n",
       "  </tbody>\n",
       "</table>\n",
       "</div>"
      ],
      "text/plain": [
       "                   partition      state0      state1      state2      state3  \\\n",
       "2       [[XX, YY], [ZZ, ZI]]   (5.72+0j)   (8.92-0j)   (6.44-0j)      (5+0j)   \n",
       "5       [[XX, YY, ZZ], [ZI]]   (7.36+0j)   (9.36+0j)   (6.79+0j)   (9.65-0j)   \n",
       "11    [[XX, YY], [ZZ], [ZI]]   (8.12+0j)   (10.8-0j)   (9.89-0j)   (9.17+0j)   \n",
       "4     [[XX], [YY], [ZZ, ZI]]   (9.44+0j)  (13.79-0j)  (10.47-0j)    (9.1+0j)   \n",
       "12    [[YY], [XX, ZZ], [ZI]]   (8.52+0j)  (12.43+0j)   (9.14-0j)  (14.48-0j)   \n",
       "7     [[XX], [YY, ZZ], [ZI]]  (12.36+0j)  (13.25+0j)  (12.54+0j)  (12.36-0j)   \n",
       "14  [[XX], [YY], [ZZ], [ZI]]  (11.98+0j)  (14.96-0j)  (14.27-0j)  (14.35+0j)   \n",
       "\n",
       "        state4      state5      state6      state7      state8      state9  \\\n",
       "2    (5.99+0j)    (7.4+0j)   (9.43-0j)    (9.5+0j)   (6.93-0j)   (3.52+0j)   \n",
       "5    (9.77+0j)   (9.24+0j)   (5.44-0j)   (5.64+0j)   (6.88-0j)   (3.66+0j)   \n",
       "11  (10.08+0j)  (10.46+0j)  (11.38-0j)  (11.27+0j)  (12.45-0j)   (5.83+0j)   \n",
       "4    (8.42+0j)  (10.49+0j)  (12.66-0j)  (13.59+0j)   (8.88-0j)   (8.99+0j)   \n",
       "12   (9.47+0j)   (8.72+0j)  (10.07-0j)  (11.69+0j)  (11.85-0j)   (9.48+0j)   \n",
       "7   (14.14-0j)  (14.36+0j)    (6.5-0j)   (6.75+0j)   (7.89-0j)   (9.27+0j)   \n",
       "14   (12.7+0j)  (13.12+0j)  (13.19-0j)  (14.16+0j)  (14.57-0j)  (12.73+0j)   \n",
       "\n",
       "      row_mean  row_var  \n",
       "2    (6.89-0j)     3.49  \n",
       "5    (7.38-0j)     3.95  \n",
       "11   (9.95-0j)     3.20  \n",
       "4   (10.58-0j)     3.73  \n",
       "12  (10.58-0j)     3.39  \n",
       "7   (10.94-0j)     8.33  \n",
       "14   (13.6-0j)     0.87  "
      ]
     },
     "execution_count": 113,
     "metadata": {},
     "output_type": "execute_result"
    }
   ],
   "source": [
    "random_states_mean_state_preps_1"
   ]
  },
  {
   "cell_type": "code",
   "execution_count": 114,
   "metadata": {},
   "outputs": [
    {
     "data": {
      "text/plain": [
       "(0.9892844665878037+0j)"
      ]
     },
     "execution_count": 114,
     "metadata": {},
     "output_type": "execute_result"
    }
   ],
   "source": [
    "np.corrcoef(basis_states_mean_state_preps_1['row_mean'],\n",
    "           random_states_mean_state_preps_1['row_mean'])[0,1]"
   ]
  },
  {
   "cell_type": "markdown",
   "metadata": {},
   "source": [
    "#### When 2 pairs correlate, then in the state where both pairs negatively correlate, there is a low # of state preps needed.\n",
    "#### In the state where both pairs positively correlate, there is a high # of state preps needed.\n",
    "#### In the state where one pair is positive and one pair is negative, there is an intermediate # of state preps needed."
   ]
  },
  {
   "cell_type": "code",
   "execution_count": 115,
   "metadata": {},
   "outputs": [
    {
     "name": "stderr",
     "output_type": "stream",
     "text": [
      "/usr/local/lib/python3.7/site-packages/numpy/core/_methods.py:36: ComplexWarning: Casting complex values to real discards the imaginary part\n",
      "  return umr_sum(a, axis, dtype, out, keepdims, initial)\n",
      "/usr/local/lib/python3.7/site-packages/numpy/core/_methods.py:36: ComplexWarning: Casting complex values to real discards the imaginary part\n",
      "  return umr_sum(a, axis, dtype, out, keepdims, initial)\n"
     ]
    }
   ],
   "source": [
    "basis_states_mean_state_preps_2 = expected_state_preps_for_list_of_states(term_set_2_correlate, basis_states_4)\n",
    "random_states_mean_state_preps_2 = expected_state_preps_for_list_of_states(term_set_2_correlate, random_state_list)"
   ]
  },
  {
   "cell_type": "code",
   "execution_count": 116,
   "metadata": {},
   "outputs": [
    {
     "data": {
      "text/html": [
       "<div>\n",
       "<style scoped>\n",
       "    .dataframe tbody tr th:only-of-type {\n",
       "        vertical-align: middle;\n",
       "    }\n",
       "\n",
       "    .dataframe tbody tr th {\n",
       "        vertical-align: top;\n",
       "    }\n",
       "\n",
       "    .dataframe thead th {\n",
       "        text-align: right;\n",
       "    }\n",
       "</style>\n",
       "<table border=\"1\" class=\"dataframe\">\n",
       "  <thead>\n",
       "    <tr style=\"text-align: right;\">\n",
       "      <th></th>\n",
       "      <th>partition</th>\n",
       "      <th>state0</th>\n",
       "      <th>state1</th>\n",
       "      <th>state2</th>\n",
       "      <th>state3</th>\n",
       "      <th>row_mean</th>\n",
       "      <th>row_var</th>\n",
       "    </tr>\n",
       "  </thead>\n",
       "  <tbody>\n",
       "    <tr>\n",
       "      <th>8</th>\n",
       "      <td>[[XY, YZ], [YX, YI]]</td>\n",
       "      <td>(8+0j)</td>\n",
       "      <td>(8+0j)</td>\n",
       "      <td>(8+0j)</td>\n",
       "      <td>(8+0j)</td>\n",
       "      <td>(8+0j)</td>\n",
       "      <td>0.0</td>\n",
       "    </tr>\n",
       "    <tr>\n",
       "      <th>2</th>\n",
       "      <td>[[XY, YX], [YZ, YI]]</td>\n",
       "      <td>(16+0j)</td>\n",
       "      <td>0j</td>\n",
       "      <td>(8+0j)</td>\n",
       "      <td>(8+0j)</td>\n",
       "      <td>(8+0j)</td>\n",
       "      <td>32.0</td>\n",
       "    </tr>\n",
       "    <tr>\n",
       "      <th>10</th>\n",
       "      <td>[[XY], [YZ], [YX, YI]]</td>\n",
       "      <td>(12+0j)</td>\n",
       "      <td>(12+0j)</td>\n",
       "      <td>(12+0j)</td>\n",
       "      <td>(12+0j)</td>\n",
       "      <td>(12+0j)</td>\n",
       "      <td>0.0</td>\n",
       "    </tr>\n",
       "    <tr>\n",
       "      <th>12</th>\n",
       "      <td>[[YX], [XY, YZ], [YI]]</td>\n",
       "      <td>(12+0j)</td>\n",
       "      <td>(12+0j)</td>\n",
       "      <td>(12+0j)</td>\n",
       "      <td>(12+0j)</td>\n",
       "      <td>(12+0j)</td>\n",
       "      <td>0.0</td>\n",
       "    </tr>\n",
       "    <tr>\n",
       "      <th>4</th>\n",
       "      <td>[[XY], [YX], [YZ, YI]]</td>\n",
       "      <td>(18+0j)</td>\n",
       "      <td>(6+0j)</td>\n",
       "      <td>(18+0j)</td>\n",
       "      <td>(6+0j)</td>\n",
       "      <td>(12+0j)</td>\n",
       "      <td>36.0</td>\n",
       "    </tr>\n",
       "    <tr>\n",
       "      <th>11</th>\n",
       "      <td>[[XY, YX], [YZ], [YI]]</td>\n",
       "      <td>(18+0j)</td>\n",
       "      <td>(6+0j)</td>\n",
       "      <td>(6+0j)</td>\n",
       "      <td>(18+0j)</td>\n",
       "      <td>(12+0j)</td>\n",
       "      <td>36.0</td>\n",
       "    </tr>\n",
       "    <tr>\n",
       "      <th>14</th>\n",
       "      <td>[[XY], [YX], [YZ], [YI]]</td>\n",
       "      <td>(16+0j)</td>\n",
       "      <td>(16+0j)</td>\n",
       "      <td>(16+0j)</td>\n",
       "      <td>(16+0j)</td>\n",
       "      <td>(16+0j)</td>\n",
       "      <td>0.0</td>\n",
       "    </tr>\n",
       "  </tbody>\n",
       "</table>\n",
       "</div>"
      ],
      "text/plain": [
       "                   partition   state0   state1   state2   state3  row_mean  \\\n",
       "8       [[XY, YZ], [YX, YI]]   (8+0j)   (8+0j)   (8+0j)   (8+0j)    (8+0j)   \n",
       "2       [[XY, YX], [YZ, YI]]  (16+0j)       0j   (8+0j)   (8+0j)    (8+0j)   \n",
       "10    [[XY], [YZ], [YX, YI]]  (12+0j)  (12+0j)  (12+0j)  (12+0j)   (12+0j)   \n",
       "12    [[YX], [XY, YZ], [YI]]  (12+0j)  (12+0j)  (12+0j)  (12+0j)   (12+0j)   \n",
       "4     [[XY], [YX], [YZ, YI]]  (18+0j)   (6+0j)  (18+0j)   (6+0j)   (12+0j)   \n",
       "11    [[XY, YX], [YZ], [YI]]  (18+0j)   (6+0j)   (6+0j)  (18+0j)   (12+0j)   \n",
       "14  [[XY], [YX], [YZ], [YI]]  (16+0j)  (16+0j)  (16+0j)  (16+0j)   (16+0j)   \n",
       "\n",
       "    row_var  \n",
       "8       0.0  \n",
       "2      32.0  \n",
       "10      0.0  \n",
       "12      0.0  \n",
       "4      36.0  \n",
       "11     36.0  \n",
       "14      0.0  "
      ]
     },
     "execution_count": 116,
     "metadata": {},
     "output_type": "execute_result"
    }
   ],
   "source": [
    "basis_states_mean_state_preps_2"
   ]
  },
  {
   "cell_type": "code",
   "execution_count": 117,
   "metadata": {},
   "outputs": [
    {
     "data": {
      "text/html": [
       "<div>\n",
       "<style scoped>\n",
       "    .dataframe tbody tr th:only-of-type {\n",
       "        vertical-align: middle;\n",
       "    }\n",
       "\n",
       "    .dataframe tbody tr th {\n",
       "        vertical-align: top;\n",
       "    }\n",
       "\n",
       "    .dataframe thead th {\n",
       "        text-align: right;\n",
       "    }\n",
       "</style>\n",
       "<table border=\"1\" class=\"dataframe\">\n",
       "  <thead>\n",
       "    <tr style=\"text-align: right;\">\n",
       "      <th></th>\n",
       "      <th>partition</th>\n",
       "      <th>state0</th>\n",
       "      <th>state1</th>\n",
       "      <th>state2</th>\n",
       "      <th>state3</th>\n",
       "      <th>state4</th>\n",
       "      <th>state5</th>\n",
       "      <th>state6</th>\n",
       "      <th>state7</th>\n",
       "      <th>state8</th>\n",
       "      <th>state9</th>\n",
       "      <th>row_mean</th>\n",
       "      <th>row_var</th>\n",
       "    </tr>\n",
       "  </thead>\n",
       "  <tbody>\n",
       "    <tr>\n",
       "      <th>8</th>\n",
       "      <td>[[XY, YZ], [YX, YI]]</td>\n",
       "      <td>(4.98+0j)</td>\n",
       "      <td>(6.68-0j)</td>\n",
       "      <td>(8.08+0j)</td>\n",
       "      <td>(4.06-0j)</td>\n",
       "      <td>(5.8-0j)</td>\n",
       "      <td>(6.63-0j)</td>\n",
       "      <td>(4.64+0j)</td>\n",
       "      <td>(5.7-0j)</td>\n",
       "      <td>(4.99+0j)</td>\n",
       "      <td>(6.25-0j)</td>\n",
       "      <td>(5.78-0j)</td>\n",
       "      <td>1.26</td>\n",
       "    </tr>\n",
       "    <tr>\n",
       "      <th>2</th>\n",
       "      <td>[[XY, YX], [YZ, YI]]</td>\n",
       "      <td>(8.34-0j)</td>\n",
       "      <td>(8.88+0j)</td>\n",
       "      <td>(6.79+0j)</td>\n",
       "      <td>(5.37-0j)</td>\n",
       "      <td>(5.41+0j)</td>\n",
       "      <td>(6.45-0j)</td>\n",
       "      <td>(7.14-0j)</td>\n",
       "      <td>(5.24+0j)</td>\n",
       "      <td>(4.93+0j)</td>\n",
       "      <td>(8.2+0j)</td>\n",
       "      <td>(6.67-0j)</td>\n",
       "      <td>1.87</td>\n",
       "    </tr>\n",
       "    <tr>\n",
       "      <th>12</th>\n",
       "      <td>[[YX], [XY, YZ], [YI]]</td>\n",
       "      <td>(10.95+0j)</td>\n",
       "      <td>(8.45+0j)</td>\n",
       "      <td>(9.77+0j)</td>\n",
       "      <td>(6.32-0j)</td>\n",
       "      <td>(8.36-0j)</td>\n",
       "      <td>(8.01-0j)</td>\n",
       "      <td>(9.93-0j)</td>\n",
       "      <td>(7.73-0j)</td>\n",
       "      <td>(7.01+0j)</td>\n",
       "      <td>(11.5-0j)</td>\n",
       "      <td>(8.8-0j)</td>\n",
       "      <td>2.56</td>\n",
       "    </tr>\n",
       "    <tr>\n",
       "      <th>10</th>\n",
       "      <td>[[XY], [YZ], [YX, YI]]</td>\n",
       "      <td>(6.13+0j)</td>\n",
       "      <td>(11.75-0j)</td>\n",
       "      <td>(11.87+0j)</td>\n",
       "      <td>(8.22-0j)</td>\n",
       "      <td>(9.2-0j)</td>\n",
       "      <td>(11.04-0j)</td>\n",
       "      <td>(6.92+0j)</td>\n",
       "      <td>(8.58-0j)</td>\n",
       "      <td>(8.18+0j)</td>\n",
       "      <td>(6.68-0j)</td>\n",
       "      <td>(8.86-0j)</td>\n",
       "      <td>3.93</td>\n",
       "    </tr>\n",
       "    <tr>\n",
       "      <th>11</th>\n",
       "      <td>[[XY, YX], [YZ], [YI]]</td>\n",
       "      <td>(11.82+0j)</td>\n",
       "      <td>(10.61+0j)</td>\n",
       "      <td>(10.56+0j)</td>\n",
       "      <td>(8-0j)</td>\n",
       "      <td>(7.82+0j)</td>\n",
       "      <td>(10.49-0j)</td>\n",
       "      <td>(8.49-0j)</td>\n",
       "      <td>(8.22+0j)</td>\n",
       "      <td>(7.28+0j)</td>\n",
       "      <td>(10.05+0j)</td>\n",
       "      <td>(9.33-0j)</td>\n",
       "      <td>2.14</td>\n",
       "    </tr>\n",
       "    <tr>\n",
       "      <th>4</th>\n",
       "      <td>[[XY], [YX], [YZ, YI]]</td>\n",
       "      <td>(10.29-0j)</td>\n",
       "      <td>(12.89+0j)</td>\n",
       "      <td>(9.15+0j)</td>\n",
       "      <td>(8.5-0j)</td>\n",
       "      <td>(9.15-0j)</td>\n",
       "      <td>(8.28-0j)</td>\n",
       "      <td>(12.12-0j)</td>\n",
       "      <td>(7.4+0j)</td>\n",
       "      <td>(7.82+0j)</td>\n",
       "      <td>(11.05+0j)</td>\n",
       "      <td>(9.67-0j)</td>\n",
       "      <td>3.11</td>\n",
       "    </tr>\n",
       "    <tr>\n",
       "      <th>14</th>\n",
       "      <td>[[XY], [YX], [YZ], [YI]]</td>\n",
       "      <td>(12.8+0j)</td>\n",
       "      <td>(13.57+0j)</td>\n",
       "      <td>(12.69+0j)</td>\n",
       "      <td>(11.27-0j)</td>\n",
       "      <td>(11.81-0j)</td>\n",
       "      <td>(12.13-0j)</td>\n",
       "      <td>(13.2-0j)</td>\n",
       "      <td>(10.35+0j)</td>\n",
       "      <td>(10.28+0j)</td>\n",
       "      <td>(11.73+0j)</td>\n",
       "      <td>(11.98+0j)</td>\n",
       "      <td>1.14</td>\n",
       "    </tr>\n",
       "  </tbody>\n",
       "</table>\n",
       "</div>"
      ],
      "text/plain": [
       "                   partition      state0      state1      state2      state3  \\\n",
       "8       [[XY, YZ], [YX, YI]]   (4.98+0j)   (6.68-0j)   (8.08+0j)   (4.06-0j)   \n",
       "2       [[XY, YX], [YZ, YI]]   (8.34-0j)   (8.88+0j)   (6.79+0j)   (5.37-0j)   \n",
       "12    [[YX], [XY, YZ], [YI]]  (10.95+0j)   (8.45+0j)   (9.77+0j)   (6.32-0j)   \n",
       "10    [[XY], [YZ], [YX, YI]]   (6.13+0j)  (11.75-0j)  (11.87+0j)   (8.22-0j)   \n",
       "11    [[XY, YX], [YZ], [YI]]  (11.82+0j)  (10.61+0j)  (10.56+0j)      (8-0j)   \n",
       "4     [[XY], [YX], [YZ, YI]]  (10.29-0j)  (12.89+0j)   (9.15+0j)    (8.5-0j)   \n",
       "14  [[XY], [YX], [YZ], [YI]]   (12.8+0j)  (13.57+0j)  (12.69+0j)  (11.27-0j)   \n",
       "\n",
       "        state4      state5      state6      state7      state8      state9  \\\n",
       "8     (5.8-0j)   (6.63-0j)   (4.64+0j)    (5.7-0j)   (4.99+0j)   (6.25-0j)   \n",
       "2    (5.41+0j)   (6.45-0j)   (7.14-0j)   (5.24+0j)   (4.93+0j)    (8.2+0j)   \n",
       "12   (8.36-0j)   (8.01-0j)   (9.93-0j)   (7.73-0j)   (7.01+0j)   (11.5-0j)   \n",
       "10    (9.2-0j)  (11.04-0j)   (6.92+0j)   (8.58-0j)   (8.18+0j)   (6.68-0j)   \n",
       "11   (7.82+0j)  (10.49-0j)   (8.49-0j)   (8.22+0j)   (7.28+0j)  (10.05+0j)   \n",
       "4    (9.15-0j)   (8.28-0j)  (12.12-0j)    (7.4+0j)   (7.82+0j)  (11.05+0j)   \n",
       "14  (11.81-0j)  (12.13-0j)   (13.2-0j)  (10.35+0j)  (10.28+0j)  (11.73+0j)   \n",
       "\n",
       "      row_mean  row_var  \n",
       "8    (5.78-0j)     1.26  \n",
       "2    (6.67-0j)     1.87  \n",
       "12    (8.8-0j)     2.56  \n",
       "10   (8.86-0j)     3.93  \n",
       "11   (9.33-0j)     2.14  \n",
       "4    (9.67-0j)     3.11  \n",
       "14  (11.98+0j)     1.14  "
      ]
     },
     "execution_count": 117,
     "metadata": {},
     "output_type": "execute_result"
    }
   ],
   "source": [
    "random_states_mean_state_preps_2"
   ]
  },
  {
   "cell_type": "code",
   "execution_count": 118,
   "metadata": {},
   "outputs": [
    {
     "data": {
      "text/plain": [
       "(0.981445650802395+0j)"
      ]
     },
     "execution_count": 118,
     "metadata": {},
     "output_type": "execute_result"
    }
   ],
   "source": [
    "np.corrcoef(basis_states_mean_state_preps_2['row_mean'],\n",
    "           random_states_mean_state_preps_2['row_mean'])[0,1]"
   ]
  },
  {
   "cell_type": "code",
   "execution_count": null,
   "metadata": {},
   "outputs": [],
   "source": []
  },
  {
   "cell_type": "code",
   "execution_count": null,
   "metadata": {},
   "outputs": [],
   "source": []
  },
  {
   "cell_type": "markdown",
   "metadata": {},
   "source": [
    "## Lithium Hydride"
   ]
  },
  {
   "cell_type": "markdown",
   "metadata": {},
   "source": [
    "### Read in Hamiltonians"
   ]
  },
  {
   "cell_type": "code",
   "execution_count": 54,
   "metadata": {},
   "outputs": [],
   "source": [
    "def construct_full_term_string(specified_term_list, n):\n",
    "    \"\"\"\n",
    "    Given a list of terms, e.g. ['X1', 'Z3'] \n",
    "    Input:\n",
    "      List of specified terms: e.g. ['X1', 'Z3']\n",
    "      Number of total terms: e.g. 4\n",
    "    Outputs:\n",
    "      String of the full term, e.g. IXIZ\n",
    "    \"\"\"\n",
    "    building_string = ['I']*n # default is that the position should be an I\n",
    "    for term in specified_term_list:\n",
    "        split_string = list(term) # e.g. list('X1') becomes ['X', '1']\n",
    "        building_string[int(split_string[1])] = split_string[0]\n",
    "    return(''.join(building_string))"
   ]
  },
  {
   "cell_type": "code",
   "execution_count": 55,
   "metadata": {},
   "outputs": [
    {
     "name": "stdout",
     "output_type": "stream",
     "text": [
      "['IIII', 'XXYY', 'XYYX', 'YXXY', 'YYXX', 'ZIII', 'ZZII', 'ZIZI', 'ZIIZ', 'IZII', 'IZZI', 'IZIZ', 'IIZI', 'IIZZ', 'IIIZ']\n",
      "[2.806800745053043, -0.006811585442824442, 0.006811585442824442, 0.006811585442824442, -0.006811585442824442, -0.007220443762164415, 0.24086324970819822, 0.09808757340260295, 0.10489915884542617, -0.007220443762164414, 0.10489915884542617, 0.09808757340260295, -0.47497738101613074, 0.09255914539024543, -0.47497738101613074]\n",
      "['IIII', 'XXYY', 'XYYX', 'XZXI', 'XZXZ', 'XIXI', 'YXXY', 'YYXX', 'YZYI', 'YZYZ', 'YIYI', 'ZIII', 'ZXZX', 'ZYZY', 'ZZII', 'ZIZI', 'ZIIZ', 'IXZX', 'IXIX', 'IYZY', 'IYIY', 'IZII', 'IZZI', 'IZIZ', 'IIZI', 'IIZZ', 'IIIZ']\n",
      "[-7.49894690201071, -0.0029329964409502266, 0.0029329964409502266, 0.01291078027311749, -0.0013743761078958677, 0.011536413200774975, 0.0029329964409502266, -0.0029329964409502266, 0.01291078027311749, -0.0013743761078958677, 0.011536413200774975, 0.16199475388004184, 0.011536413200774975, 0.011536413200774975, 0.12444770133137588, 0.054130445793298836, 0.05706344223424907, 0.012910780273117487, -0.0013743761078958677, 0.012910780273117487, -0.0013743761078958677, 0.16199475388004186, 0.05706344223424907, 0.054130445793298836, -0.013243698330265966, 0.08479609543670981, -0.013243698330265952]\n",
      "['IIII', 'XXXI', 'XXXZ', 'XYYI', 'XZXI', 'XZXZ', 'YXYI', 'YXYZ', 'YYXI', 'YZYI', 'YZYZ', 'ZIII', 'ZXZI', 'ZXZZ', 'ZXIZ', 'ZZII', 'ZZZI', 'ZZZZ', 'ZIZI', 'ZIZZ', 'IXII', 'IXZI', 'IXIZ', 'IZII', 'IZZZ', 'IZIZ', 'IIZI']\n",
      "[-7.49894690201071, 0.011536413200774975, 0.0013743761078958677, 0.01291078027311749, 0.0029329964409502266, 0.0029329964409502266, 0.011536413200774975, 0.0013743761078958677, -0.01291078027311749, 0.0029329964409502266, 0.0029329964409502266, 0.16199475388004184, 0.011536413200774975, 0.0013743761078958677, -0.012910780273117487, 0.16199475388004186, 0.05706344223424907, 0.05706344223424907, 0.054130445793298836, 0.054130445793298836, -0.0013743761078958677, 0.012910780273117487, -0.011536413200774975, 0.12444770133137588, -0.013243698330265952, 0.08479609543670981, -0.013243698330265966]\n"
     ]
    }
   ],
   "source": [
    "from term_grouping import parseHamiltonian\n",
    "sample_h1 = parseHamiltonian('hamiltonians/sampleH1.txt')\n",
    "sample_h1_terms = [construct_full_term_string(x[1], 4) for x in sample_h1]\n",
    "sample_h1_coefs = [x[0] for x in sample_h1]\n",
    "print(sample_h1_terms)\n",
    "print(sample_h1_coefs)\n",
    "\n",
    "lih_jw = parseHamiltonian('hamiltonians/LiH_JW.txt')\n",
    "lih_jw_terms = [construct_full_term_string(x[1], 4) for x in lih_jw]\n",
    "lih_jw_coefs = [x[0] for x in lih_jw]\n",
    "print(lih_jw_terms)\n",
    "print(lih_jw_coefs)\n",
    "\n",
    "lih_bk = parseHamiltonian('hamiltonians/LiH_BK.txt')\n",
    "lih_bk_terms = [construct_full_term_string(x[1], 4) for x in lih_bk]\n",
    "lih_bk_coefs = [x[0] for x in lih_bk]\n",
    "print(lih_bk_terms)\n",
    "print(lih_bk_coefs)"
   ]
  },
  {
   "cell_type": "code",
   "execution_count": 56,
   "metadata": {},
   "outputs": [],
   "source": [
    "basis_states_16 = [qutip.basis(16,i).full() for i in range(16)]"
   ]
  },
  {
   "cell_type": "code",
   "execution_count": 57,
   "metadata": {},
   "outputs": [],
   "source": [
    "# TIMES OUT\n",
    "# calculate_expected_state_preps_valid_partitions(lih_jw_terms, basis_states_16[0])"
   ]
  },
  {
   "cell_type": "markdown",
   "metadata": {},
   "source": [
    "### Optimal groupings for LiH_BK"
   ]
  },
  {
   "cell_type": "code",
   "execution_count": null,
   "metadata": {},
   "outputs": [],
   "source": []
  },
  {
   "cell_type": "markdown",
   "metadata": {},
   "source": [
    "### Optimal groupings for LiH_JW"
   ]
  },
  {
   "cell_type": "code",
   "execution_count": null,
   "metadata": {},
   "outputs": [],
   "source": []
  }
 ],
 "metadata": {
  "kernelspec": {
   "display_name": "Python 3",
   "language": "python",
   "name": "python3"
  },
  "language_info": {
   "codemirror_mode": {
    "name": "ipython",
    "version": 3
   },
   "file_extension": ".py",
   "mimetype": "text/x-python",
   "name": "python",
   "nbconvert_exporter": "python",
   "pygments_lexer": "ipython3",
   "version": "3.7.3"
  }
 },
 "nbformat": 4,
 "nbformat_minor": 2
}
