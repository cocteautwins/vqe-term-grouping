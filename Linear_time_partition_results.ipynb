{
 "cells": [
  {
   "cell_type": "code",
   "execution_count": 6,
   "metadata": {},
   "outputs": [],
   "source": [
    "import matplotlib.pyplot as plt"
   ]
  },
  {
   "cell_type": "code",
   "execution_count": 111,
   "metadata": {},
   "outputs": [],
   "source": [
    "def linear_time_partition_model(N):\n",
    "    naive = 0\n",
    "    \n",
    "    # h_pq terms:\n",
    "    naive += N  # p = q, yields Z_p\n",
    "    if naive >= 2:\n",
    "        naive += N * (N - 1) / 2 * 4  # p != q, each yields 4 Pauli strings\n",
    "    \n",
    "    # h_pqrs terms:\n",
    "    naive +=  0  # p = q = r = s terms already covered in h_pq\n",
    "    naive +=  0  # N choose 2 terms already covered in h_pq as well\n",
    "    if naive >= 3:  # 3 unique indices, yields 8 Pauli strings\n",
    "        naive += N * (N - 1) * (N - 2) / 6 * 8\n",
    "    if naive >= 4:  # p > q > r > s, each yields 16 Pauli strings\n",
    "        naive += N * (N - 1) * (N - 2) * (N - 3) / 24 * 16\n",
    "    \n",
    "    simultaneous = 0\n",
    "    simultaneous += 1  # covers all number operators and number-excitation operators via Z-basis\n",
    "    if N >= 3:\n",
    "        simultaneous += N * (N - 1) * (N - 2) / 6 * 2\n",
    "    if N >= 4:\n",
    "        simultaneous += N * (N - 1) * (N - 2) * (N - 3) / 24 * 2\n",
    "    \n",
    "    return simultaneous, naive"
   ]
  },
  {
   "cell_type": "code",
   "execution_count": 113,
   "metadata": {},
   "outputs": [],
   "source": [
    "simultaneous_list = [linear_time_partition_model(N)[0] for N in range(2, 8)]\n",
    "naive_list = [linear_time_partition_model(N)[1] for N in range(2, 8)]\n",
    "simultaneous_factor = [naive / simultaneous for simultaneous, naive in zip(simultaneous_list, naive_list)]"
   ]
  },
  {
   "cell_type": "code",
   "execution_count": 114,
   "metadata": {},
   "outputs": [
    {
     "data": {
      "text/plain": [
       "<matplotlib.collections.PathCollection at 0x11cf5cb00>"
      ]
     },
     "execution_count": 114,
     "metadata": {},
     "output_type": "execute_result"
    },
    {
     "data": {
      "image/png": "[encoded data removed]",
      "text/plain": [
       "<Figure size 432x288 with 1 Axes>"
      ]
     },
     "metadata": {
      "needs_background": "light"
     },
     "output_type": "display_data"
    }
   ],
   "source": [
    "plt.scatter(naive_list, simultaneous_factor)"
   ]
  },
  {
   "cell_type": "code",
   "execution_count": 115,
   "metadata": {},
   "outputs": [
    {
     "data": {
      "text/plain": [
       "[6.0, 23.0, 76.0, 205.0, 466.0, 931.0]"
      ]
     },
     "execution_count": 115,
     "metadata": {},
     "output_type": "execute_result"
    }
   ],
   "source": [
    "naive_list"
   ]
  },
  {
   "cell_type": "code",
   "execution_count": 116,
   "metadata": {},
   "outputs": [
    {
     "name": "stdout",
     "output_type": "stream",
     "text": [
      "[6.0, 7.666666666666667, 6.909090909090909, 6.612903225806452, 6.563380281690141, 6.602836879432624]\n"
     ]
    }
   ],
   "source": [
    "print(simultaneous_factor)"
   ]
  },
  {
   "cell_type": "code",
   "execution_count": null,
   "metadata": {},
   "outputs": [],
   "source": []
  }
 ],
 "metadata": {
  "kernelspec": {
   "display_name": "Python 3",
   "language": "python",
   "name": "python3"
  },
  "language_info": {
   "codemirror_mode": {
    "name": "ipython",
    "version": 3
   },
   "file_extension": ".py",
   "mimetype": "text/x-python",
   "name": "python",
   "nbconvert_exporter": "python",
   "pygments_lexer": "ipython3",
   "version": "3.7.1"
  }
 },
 "nbformat": 4,
 "nbformat_minor": 2
}
