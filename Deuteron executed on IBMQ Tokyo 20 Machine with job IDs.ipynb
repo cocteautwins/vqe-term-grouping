{
 "cells": [
  {
   "cell_type": "code",
   "execution_count": 1,
   "metadata": {},
   "outputs": [],
   "source": [
    "import time, sys\n",
    "\n",
    "# Import the Qiskit \n",
    "from qiskit import QuantumCircuit, ClassicalRegister, QuantumRegister, QiskitError\n",
    "from qiskit import execute, IBMQ, BasicAer, transpiler, Aer\n",
    "from qiskit.providers.ibmq import least_busy\n",
    "from qiskit.tools.monitor import job_monitor\n",
    "from qiskit.mapper import Layout\n",
    "\n",
    "import numpy as np\n",
    "import qiskit"
   ]
  },
  {
   "cell_type": "markdown",
   "metadata": {},
   "source": [
    "# Define your backend"
   ]
  },
  {
   "cell_type": "code",
   "execution_count": 2,
   "metadata": {},
   "outputs": [
    {
     "name": "stderr",
     "output_type": "stream",
     "text": [
      "Remote backend \"ibmqx_qasm_simulator\" could not be instantiated due to an invalid config: {'local': ['Missing data for required field.'], 'backend_version': ['Missing data for required field.'], 'open_pulse': ['Missing data for required field.'], 'gates': {0: {'qasm_def': ['Missing data for required field.'], 'parameters': ['Missing data for required field.'], 'name': ['Missing data for required field.']}}, 'max_shots': ['Missing data for required field.'], 'memory': ['Missing data for required field.'], 'basis_gates': ['Missing data for required field.'], 'n_qubits': ['Missing data for required field.'], 'backend_name': ['Missing data for required field.'], 'conditional': ['Missing data for required field.']}\n"
     ]
    },
    {
     "name": "stdout",
     "output_type": "stream",
     "text": [
      "Available backends:\n"
     ]
    },
    {
     "data": {
      "text/plain": [
       "[<IBMQSimulator('ibmq_qasm_simulator') from IBMQ(ibm-q-ornl, bes-qis, argonne)>,\n",
       " <IBMQBackend('ibmq_20_tokyo') from IBMQ(ibm-q-ornl, bes-qis, argonne)>,\n",
       " <IBMQBackend('ibmq_poughkeepsie') from IBMQ(ibm-q-ornl, bes-qis, argonne)>]"
      ]
     },
     "execution_count": 2,
     "metadata": {},
     "output_type": "execute_result"
    }
   ],
   "source": [
    "from qiskit import IBMQ\n",
    "\n",
    "# insert your token & URL here\n",
    "IBMQ.enable_account('<token>',\n",
    "                    url='<url>')\n",
    "\n",
    "# check available backends\n",
    "print(\"Available backends:\")\n",
    "IBMQ.backends()"
   ]
  },
  {
   "cell_type": "markdown",
   "metadata": {},
   "source": [
    "# Define the layout"
   ]
  },
  {
   "cell_type": "code",
   "execution_count": 7,
   "metadata": {},
   "outputs": [
    {
     "name": "stdout",
     "output_type": "stream",
     "text": [
      "ibmq_20_tokyo\n"
     ]
    },
    {
     "data": {
      "text/plain": [
       "BackendStatus(backend_name='ibmq_20_tokyo', backend_version='1.2.6', operational=True, pending_jobs=0, status_msg='active')"
      ]
     },
     "execution_count": 7,
     "metadata": {},
     "output_type": "execute_result"
    }
   ],
   "source": [
    "# execute on the IBM Tokyo 20 Qubit Machine\n",
    "#backend = IBMQ.get_backend('ibmq_qasm_simulator')\n",
    "backend = IBMQ.get_backend('ibmq_20_tokyo')\n",
    "print(backend)\n",
    "backend.status()"
   ]
  },
  {
   "cell_type": "markdown",
   "metadata": {},
   "source": [
    "# Define the UCCSD ansatz circuit"
   ]
  },
  {
   "cell_type": "code",
   "execution_count": 4,
   "metadata": {
    "scrolled": true
   },
   "outputs": [],
   "source": [
    "def get_ucc_ansatz(theta):\n",
    "    circuit = QuantumCircuit(2, 2)\n",
    "    circuit.x(0)\n",
    "    circuit.ry(theta, 1)\n",
    "    circuit.cx(1, 0)\n",
    "    return circuit"
   ]
  },
  {
   "cell_type": "markdown",
   "metadata": {},
   "source": [
    "# Define the naive measurement circuits"
   ]
  },
  {
   "cell_type": "code",
   "execution_count": 5,
   "metadata": {},
   "outputs": [],
   "source": [
    "shots1 = 25\n",
    "\n",
    "def measure_zi_simple(theta, ZI_job_IDs):\n",
    "    circuit = get_ucc_ansatz(theta)\n",
    "    circuit.measure(0, 0)\n",
    "    circuit.measure(1, 1)\n",
    "    job = qiskit.execute(circuit, backend=backend, shots=shots1)\n",
    "    print(job.job_id())\n",
    "    ZI_job_IDs.append(job.job_id())\n",
    "    \n",
    "def measure_iz_simple(theta, IZ_job_IDs):\n",
    "    circuit = get_ucc_ansatz(theta)\n",
    "    circuit.measure(0, 0)\n",
    "    circuit.measure(1, 1)\n",
    "    job = qiskit.execute(circuit, backend=backend, shots=shots1)\n",
    "    print(job.job_id())\n",
    "    IZ_job_IDs.append(job.job_id())\n",
    "    \n",
    "def measure_xx_simple(theta, XX_job_IDs):\n",
    "    circuit = get_ucc_ansatz(theta)\n",
    "    circuit.h(0)\n",
    "    circuit.h(1)\n",
    "    circuit.measure(0, 0)\n",
    "    circuit.measure(1, 1)\n",
    "    job = qiskit.execute(circuit, backend=backend, shots=shots1)\n",
    "    print(job.job_id())\n",
    "    XX_job_IDs.append(job.job_id())\n",
    "\n",
    "def measure_yy_simple(theta, YY_job_IDs):\n",
    "    circuit = get_ucc_ansatz(theta)\n",
    "    circuit.h(0)\n",
    "    circuit.sdg(0)\n",
    "    circuit.h(1)\n",
    "    circuit.sdg(1)\n",
    "    circuit.measure(0, 0)\n",
    "    circuit.measure(1, 1)\n",
    "    job = qiskit.execute(circuit, backend=backend, shots=shots1)\n",
    "    print(job.job_id())\n",
    "    YY_job_IDs.append(job.job_id())\n",
    "\n",
    "def measure_hamiltonian_simple(theta, ZI_job_IDs, IZ_job_IDs, XX_job_IDs, YY_job_IDs):\n",
    "    measure_zi_simple(theta, ZI_job_IDs)\n",
    "    measure_iz_simple(theta, IZ_job_IDs)\n",
    "    measure_xx_simple(theta, XX_job_IDs)\n",
    "    measure_yy_simple(theta, YY_job_IDs)"
   ]
  },
  {
   "cell_type": "markdown",
   "metadata": {},
   "source": [
    "# Define the simultaneous measurement circuits"
   ]
  },
  {
   "cell_type": "code",
   "execution_count": 6,
   "metadata": {},
   "outputs": [],
   "source": [
    "shots2 = 50\n",
    "\n",
    "def measure_zi_and_iz(theta, ZI_and_IZ_job_IDs):\n",
    "    circuit = get_ucc_ansatz(theta)\n",
    "    circuit.measure(0, 0)\n",
    "    circuit.measure(1, 1)\n",
    "    job = qiskit.execute(circuit, backend=backend, shots=shots2)\n",
    "    print(job.job_id())\n",
    "    ZI_and_IZ_job_IDs.append(job.job_id())\n",
    "    \n",
    "def measure_xx_and_yy(theta, XX_and_YY_job_IDs):\n",
    "    circuit = get_ucc_ansatz(theta)\n",
    "    circuit.cx(0, 1)\n",
    "    circuit.h(0)\n",
    "    circuit.measure(0, 0)\n",
    "    circuit.measure(1, 1)\n",
    "    job = qiskit.execute(circuit, backend=backend, shots=shots2)\n",
    "    print(job.job_id())\n",
    "    XX_and_YY_job_IDs.append(job.job_id())\n",
    "\n",
    "def measure_simultaneously_hamiltonian_simple(theta, ZI_and_IZ_job_IDs, XX_and_YY_job_IDs):\n",
    "    measure_zi_and_iz(theta, ZI_and_IZ_job_IDs)\n",
    "    measure_xx_and_yy(theta, XX_and_YY_job_IDs)"
   ]
  },
  {
   "cell_type": "markdown",
   "metadata": {},
   "source": [
    "# Submit the job to Qiskit and get the job IDs"
   ]
  },
  {
   "cell_type": "code",
   "execution_count": 7,
   "metadata": {
    "scrolled": false
   },
   "outputs": [
    {
     "name": "stdout",
     "output_type": "stream",
     "text": [
      "-3.141592653589793\n",
      "5d3a276cda29d900188ab2f1\n",
      "5d3a277035aebf00180b0086\n",
      "5d3a2774512e5300182a101c\n",
      "5d3a2779ee3e7000180cd4e0\n",
      "5d3a277dee3e7000180cd4e2\n",
      "5d3a2781cf4ef70018f2aa78\n",
      "-2.8797932657906435\n",
      "5d3a2785da29d900188ab2f3\n",
      "5d3a2789dc54600019d89c81\n",
      "5d3a278dcf4ef70018f2aa7a\n",
      "5d3a279135aebf00180b0088\n",
      "5d3a2795dc54600019d89c83\n",
      "5d3a27998ffd270018151d94\n",
      "-2.617993877991494\n",
      "5d3a279dee3e7000180cd4e4\n",
      "5d3a27a5512e5300182a101e\n",
      "5d3a27a9cf4ef70018f2aa7c\n",
      "5d3a27ad35aebf00180b008a\n",
      "5d3a27b1baa4500018f8865e\n",
      "5d3a27babaa4500018f88660\n",
      "-2.3561944901923444\n",
      "5d3a27bedc54600019d89c85\n",
      "5d3a27c5baa4500018f88662\n",
      "5d3a27c9f68fb70018990dd3\n",
      "5d3a27cdbaa4500018f88664\n",
      "5d3a27d1f68fb70018990dd5\n",
      "5d3a27d5f68fb70018990dd7\n",
      "-2.094395102393195\n",
      "5d3a27daee3e7000180cd4e6\n",
      "5d3a27de512e5300182a1020\n",
      "5d3a27e235aebf00180b008c\n",
      "5d3a27e68ffd270018151d96\n",
      "5d3a27eabaa4500018f88666\n",
      "5d3a27ee35aebf00180b008e\n",
      "-1.8325957145940452\n",
      "5d3a27f2512e5300182a1022\n",
      "5d3a27f643f0a3001927de24\n",
      "5d3a27facf4ef70018f2aa7e\n",
      "5d3a27fe512e5300182a1024\n",
      "5d3a2802baa4500018f88668\n",
      "5d3a280635aebf00180b0090\n",
      "-1.5707963267948957\n",
      "5d3a280bbaa4500018f8866a\n",
      "5d3a281035aebf00180b0092\n",
      "5d3a2818ee3e7000180cd4e8\n",
      "5d3a281cee3e7000180cd4ea\n",
      "5d3a2820dc54600019d89c87\n",
      "5d3a2824cf4ef70018f2aa80\n",
      "-1.308996938995746\n",
      "5d3a2829f68fb70018990dd9\n",
      "5d3a282ddc54600019d89c89\n",
      "5d3a2832dc54600019d89c8b\n",
      "5d3a283635aebf00180b0094\n",
      "5d3a283b43f0a3001927de26\n",
      "5d3a283fee3e7000180cd4ec\n",
      "-1.0471975511965965\n",
      "5d3a2844cf4ef70018f2aa82\n",
      "5d3a2848dc54600019d89c8d\n",
      "5d3a284cf68fb70018990ddb\n",
      "5d3a2850ee3e7000180cd4ee\n",
      "5d3a28558ffd270018151d98\n",
      "5d3a285a8ffd270018151d9a\n",
      "-0.785398163397447\n",
      "5d3a285e35aebf00180b0096\n",
      "5d3a286435aebf00180b0098\n",
      "5d3a2869dc54600019d89c8f\n",
      "5d3a286d8ffd270018151d9c\n",
      "5d3a2871ee3e7000180cd4f0\n",
      "5d3a2875da29d900188ab2f5\n",
      "-0.5235987755982974\n",
      "5d3a2879512e5300182a1026\n",
      "5d3a287d8ffd270018151d9e\n",
      "5d3a2881cf4ef70018f2aa84\n",
      "5d3a2885cf4ef70018f2aa86\n",
      "5d3a2889ee3e7000180cd4f2\n",
      "5d3a289035aebf00180b009a\n",
      "-0.2617993877991478\n",
      "5d3a2895ee3e7000180cd4f4\n",
      "5d3a2899dc54600019d89c91\n",
      "5d3a289d35aebf00180b009c\n",
      "5d3a28a1f68fb70018990ddd\n",
      "5d3a28a5da29d900188ab2f7\n",
      "5d3a28aada29d900188ab2f9\n",
      "1.7763568394002505e-15\n",
      "5d3a28ae512e5300182a1028\n",
      "5d3a28b4512e5300182a102a\n",
      "5d3a28b78ffd270018151da0\n",
      "5d3a28bcdc54600019d89c93\n",
      "5d3a28c08ffd270018151da2\n",
      "5d3a28c4cf4ef70018f2aa88\n",
      "0.26179938779915135\n",
      "5d3a28c8baa4500018f8866c\n",
      "5d3a28ccee3e7000180cd4f6\n",
      "5d3a28d143f0a3001927de28\n",
      "5d3a28d735aebf00180b009e\n",
      "5d3a28da8ffd270018151da4\n",
      "5d3a28de512e5300182a102c\n",
      "0.5235987755983009\n",
      "5d3a28e243f0a3001927de2a\n",
      "5d3a28e6dc54600019d89c95\n",
      "5d3a28f08ffd270018151da6\n",
      "5d3a28f4cf4ef70018f2aa8a\n",
      "5d3a28f8dc54600019d89c97\n",
      "5d3a28fdda29d900188ab2fb\n",
      "0.7853981633974505\n",
      "5d3a2901ee3e7000180cd4f8\n",
      "5d3a2905baa4500018f8866e\n",
      "5d3a290abaa4500018f88670\n",
      "5d3a290e43f0a3001927de2c\n",
      "5d3a2912da29d900188ab2fd\n",
      "5d3a2917da29d900188ab2ff\n",
      "1.0471975511966\n",
      "5d3a291bbaa4500018f88672\n",
      "5d3a291fbaa4500018f88674\n",
      "5d3a2923dc54600019d89c99\n",
      "5d3a2928dc54600019d89c9b\n",
      "5d3a292cf68fb70018990ddf\n",
      "5d3a293035aebf00180b00a0\n",
      "1.3089969389957492\n",
      "5d3a2935f68fb70018990de1\n",
      "5d3a2939baa4500018f88676\n",
      "5d3a293edc54600019d89c9d\n",
      "5d3a2942ee3e7000180cd4fa\n",
      "5d3a2947f68fb70018990de3\n",
      "5d3a294c43f0a3001927de2e\n",
      "1.5707963267948992\n",
      "5d3a294fda29d900188ab301\n",
      "5d3a2953ee3e7000180cd4fc\n",
      "5d3a2957da29d900188ab303\n",
      "5d3a295f8ffd270018151da8\n",
      "5d3a2964512e5300182a102e\n",
      "5d3a296835aebf00180b00a2\n",
      "1.8325957145940492\n",
      "5d3a296cdc54600019d89c9f\n",
      "5d3a2973ee3e7000180cd4fe\n",
      "5d3a2978baa4500018f88678\n",
      "5d3a297dda29d900188ab305\n",
      "5d3a2983da29d900188ab307\n",
      "5d3a2987baa4500018f8867a\n",
      "2.0943951023931984\n",
      "5d3a298dcf4ef70018f2aa8c\n",
      "5d3a29928ffd270018151daa\n",
      "5d3a299635aebf00180b00a4\n",
      "5d3a299bcf4ef70018f2aa8e\n",
      "5d3a299ecf4ef70018f2aa90\n",
      "5d3a29a2da29d900188ab309\n",
      "2.3561944901923475\n",
      "5d3a29a8512e5300182a1030\n",
      "5d3a29ac8ffd270018151dac\n",
      "5d3a29b0ee3e7000180cd500\n",
      "5d3a29b7da29d900188ab30b\n",
      "5d3a29babaa4500018f8867c\n",
      "5d3a29c1f68fb70018990de5\n",
      "2.6179938779914975\n",
      "5d3a29c6f68fb70018990de7\n",
      "5d3a29cdf68fb70018990de9\n",
      "5d3a29d1baa4500018f8867e\n",
      "5d3a29d543f0a3001927de30\n",
      "5d3a29dbdc54600019d89ca1\n",
      "5d3a29dfda29d900188ab30d\n",
      "2.8797932657906475\n",
      "5d3a29e3512e5300182a1032\n",
      "5d3a29e7512e5300182a1034\n",
      "5d3a29eb35aebf00180b00a6\n",
      "5d3a29f043f0a3001927de32\n",
      "5d3a29f4512e5300182a1036\n",
      "5d3a29fdcf4ef70018f2aa92\n",
      "Done!\n"
     ]
    }
   ],
   "source": [
    "import numpy as np\n",
    "import qiskit\n",
    "\n",
    "ZI_job_IDs = []\n",
    "IZ_job_IDs = []\n",
    "XX_job_IDs = []\n",
    "YY_job_IDs = []\n",
    "\n",
    "ZI_and_IZ_job_IDs = []\n",
    "XX_and_YY_job_IDs = []\n",
    "\n",
    "theta_values = []\n",
    "\n",
    "for theta in np.arange(-np.pi, np.pi, np.pi / 12):\n",
    "    print(theta)\n",
    "    measure_hamiltonian_simple(theta, ZI_job_IDs, IZ_job_IDs, XX_job_IDs, YY_job_IDs)\n",
    "    measure_simultaneously_hamiltonian_simple(theta, ZI_and_IZ_job_IDs, XX_and_YY_job_IDs)\n",
    "    theta_values.append(theta)\n",
    "print('Done!')"
   ]
  },
  {
   "cell_type": "markdown",
   "metadata": {},
   "source": [
    "# push job IDs to list for easier processing\n",
    "you will need to do this before closing the computer to make your life easier later on :)"
   ]
  },
  {
   "cell_type": "code",
   "execution_count": 9,
   "metadata": {
    "scrolled": true
   },
   "outputs": [
    {
     "name": "stdout",
     "output_type": "stream",
     "text": [
      "ZI_job_IDs is :\n",
      "['5d3a276cda29d900188ab2f1', '5d3a2785da29d900188ab2f3', '5d3a279dee3e7000180cd4e4', '5d3a27bedc54600019d89c85', '5d3a27daee3e7000180cd4e6', '5d3a27f2512e5300182a1022', '5d3a280bbaa4500018f8866a', '5d3a2829f68fb70018990dd9', '5d3a2844cf4ef70018f2aa82', '5d3a285e35aebf00180b0096', '5d3a2879512e5300182a1026', '5d3a2895ee3e7000180cd4f4', '5d3a28ae512e5300182a1028', '5d3a28c8baa4500018f8866c', '5d3a28e243f0a3001927de2a', '5d3a2901ee3e7000180cd4f8', '5d3a291bbaa4500018f88672', '5d3a2935f68fb70018990de1', '5d3a294fda29d900188ab301', '5d3a296cdc54600019d89c9f', '5d3a298dcf4ef70018f2aa8c', '5d3a29a8512e5300182a1030', '5d3a29c6f68fb70018990de7', '5d3a29e3512e5300182a1032']\n",
      "\n",
      "IZ_job_IDs is :\n",
      "['5d3a277035aebf00180b0086', '5d3a2789dc54600019d89c81', '5d3a27a5512e5300182a101e', '5d3a27c5baa4500018f88662', '5d3a27de512e5300182a1020', '5d3a27f643f0a3001927de24', '5d3a281035aebf00180b0092', '5d3a282ddc54600019d89c89', '5d3a2848dc54600019d89c8d', '5d3a286435aebf00180b0098', '5d3a287d8ffd270018151d9e', '5d3a2899dc54600019d89c91', '5d3a28b4512e5300182a102a', '5d3a28ccee3e7000180cd4f6', '5d3a28e6dc54600019d89c95', '5d3a2905baa4500018f8866e', '5d3a291fbaa4500018f88674', '5d3a2939baa4500018f88676', '5d3a2953ee3e7000180cd4fc', '5d3a2973ee3e7000180cd4fe', '5d3a29928ffd270018151daa', '5d3a29ac8ffd270018151dac', '5d3a29cdf68fb70018990de9', '5d3a29e7512e5300182a1034']\n",
      "\n",
      "XX_job_IDs is :\n",
      "['5d3a2774512e5300182a101c', '5d3a278dcf4ef70018f2aa7a', '5d3a27a9cf4ef70018f2aa7c', '5d3a27c9f68fb70018990dd3', '5d3a27e235aebf00180b008c', '5d3a27facf4ef70018f2aa7e', '5d3a2818ee3e7000180cd4e8', '5d3a2832dc54600019d89c8b', '5d3a284cf68fb70018990ddb', '5d3a2869dc54600019d89c8f', '5d3a2881cf4ef70018f2aa84', '5d3a289d35aebf00180b009c', '5d3a28b78ffd270018151da0', '5d3a28d143f0a3001927de28', '5d3a28f08ffd270018151da6', '5d3a290abaa4500018f88670', '5d3a2923dc54600019d89c99', '5d3a293edc54600019d89c9d', '5d3a2957da29d900188ab303', '5d3a2978baa4500018f88678', '5d3a299635aebf00180b00a4', '5d3a29b0ee3e7000180cd500', '5d3a29d1baa4500018f8867e', '5d3a29eb35aebf00180b00a6']\n",
      "\n",
      "YY_job_IDs is :\n",
      "['5d3a2779ee3e7000180cd4e0', '5d3a279135aebf00180b0088', '5d3a27ad35aebf00180b008a', '5d3a27cdbaa4500018f88664', '5d3a27e68ffd270018151d96', '5d3a27fe512e5300182a1024', '5d3a281cee3e7000180cd4ea', '5d3a283635aebf00180b0094', '5d3a2850ee3e7000180cd4ee', '5d3a286d8ffd270018151d9c', '5d3a2885cf4ef70018f2aa86', '5d3a28a1f68fb70018990ddd', '5d3a28bcdc54600019d89c93', '5d3a28d735aebf00180b009e', '5d3a28f4cf4ef70018f2aa8a', '5d3a290e43f0a3001927de2c', '5d3a2928dc54600019d89c9b', '5d3a2942ee3e7000180cd4fa', '5d3a295f8ffd270018151da8', '5d3a297dda29d900188ab305', '5d3a299bcf4ef70018f2aa8e', '5d3a29b7da29d900188ab30b', '5d3a29d543f0a3001927de30', '5d3a29f043f0a3001927de32']\n",
      "\n",
      "ZI_and_IZ_job_IDs is :\n",
      "['5d3a277dee3e7000180cd4e2', '5d3a2795dc54600019d89c83', '5d3a27b1baa4500018f8865e', '5d3a27d1f68fb70018990dd5', '5d3a27eabaa4500018f88666', '5d3a2802baa4500018f88668', '5d3a2820dc54600019d89c87', '5d3a283b43f0a3001927de26', '5d3a28558ffd270018151d98', '5d3a2871ee3e7000180cd4f0', '5d3a2889ee3e7000180cd4f2', '5d3a28a5da29d900188ab2f7', '5d3a28c08ffd270018151da2', '5d3a28da8ffd270018151da4', '5d3a28f8dc54600019d89c97', '5d3a2912da29d900188ab2fd', '5d3a292cf68fb70018990ddf', '5d3a2947f68fb70018990de3', '5d3a2964512e5300182a102e', '5d3a2983da29d900188ab307', '5d3a299ecf4ef70018f2aa90', '5d3a29babaa4500018f8867c', '5d3a29dbdc54600019d89ca1', '5d3a29f4512e5300182a1036']\n",
      "\n",
      "XX_and_YY_job_IDs is :\n",
      "['5d3a2781cf4ef70018f2aa78', '5d3a27998ffd270018151d94', '5d3a27babaa4500018f88660', '5d3a27d5f68fb70018990dd7', '5d3a27ee35aebf00180b008e', '5d3a280635aebf00180b0090', '5d3a2824cf4ef70018f2aa80', '5d3a283fee3e7000180cd4ec', '5d3a285a8ffd270018151d9a', '5d3a2875da29d900188ab2f5', '5d3a289035aebf00180b009a', '5d3a28aada29d900188ab2f9', '5d3a28c4cf4ef70018f2aa88', '5d3a28de512e5300182a102c', '5d3a28fdda29d900188ab2fb', '5d3a2917da29d900188ab2ff', '5d3a293035aebf00180b00a0', '5d3a294c43f0a3001927de2e', '5d3a296835aebf00180b00a2', '5d3a2987baa4500018f8867a', '5d3a29a2da29d900188ab309', '5d3a29c1f68fb70018990de5', '5d3a29dfda29d900188ab30d', '5d3a29fdcf4ef70018f2aa92']\n",
      "\n",
      "theta values are\n",
      "[-3.141592653589793, -2.8797932657906435, -2.617993877991494, -2.3561944901923444, -2.094395102393195, -1.8325957145940452, -1.5707963267948957, -1.308996938995746, -1.0471975511965965, -0.785398163397447, -0.5235987755982974, -0.2617993877991478, 1.7763568394002505e-15, 0.26179938779915135, 0.5235987755983009, 0.7853981633974505, 1.0471975511966, 1.3089969389957492, 1.5707963267948992, 1.8325957145940492, 2.0943951023931984, 2.3561944901923475, 2.6179938779914975, 2.8797932657906475]\n"
     ]
    }
   ],
   "source": [
    "print('ZI_job_IDs is = ')\n",
    "print(ZI_job_IDs)\n",
    "print()\n",
    "\n",
    "print('IZ_job_IDs is = ')\n",
    "print(IZ_job_IDs)\n",
    "print()\n",
    "\n",
    "print('XX_job_IDs is = ')\n",
    "print(XX_job_IDs)\n",
    "print()\n",
    "\n",
    "print('YY_job_IDs = ')\n",
    "print(YY_job_IDs)\n",
    "print()\n",
    "\n",
    "print('ZI_and_IZ_job_IDs = ')\n",
    "print(ZI_and_IZ_job_IDs)\n",
    "print()\n",
    "\n",
    "print('XX_and_YY_job_IDs = :')\n",
    "print(XX_and_YY_job_IDs)\n",
    "print()\n",
    "\n",
    "print('theta_values = ')\n",
    "print(theta_values)"
   ]
  },
  {
   "cell_type": "markdown",
   "metadata": {},
   "source": [
    "### (Check the status of the specific job)"
   ]
  },
  {
   "cell_type": "code",
   "execution_count": 7,
   "metadata": {},
   "outputs": [
    {
     "data": {
      "text/plain": [
       "<JobStatus.DONE: 'job has successfully run'>"
      ]
     },
     "execution_count": 7,
     "metadata": {},
     "output_type": "execute_result"
    }
   ],
   "source": [
    "backend.retrieve_job('').status()"
   ]
  },
  {
   "cell_type": "markdown",
   "metadata": {},
   "source": [
    "# Retyping the job IDs\n",
    "just copy and paste from the print statement results in the previous block that shows the list"
   ]
  },
  {
   "cell_type": "code",
   "execution_count": 5,
   "metadata": {},
   "outputs": [],
   "source": [
    "ZI_job_IDs = []\n",
    "..."
   ]
  },
  {
   "cell_type": "markdown",
   "metadata": {},
   "source": [
    "# Retrieve the job results"
   ]
  },
  {
   "cell_type": "markdown",
   "metadata": {},
   "source": [
    "### compute the energy sums for naive measurement"
   ]
  },
  {
   "cell_type": "code",
   "execution_count": 9,
   "metadata": {},
   "outputs": [
    {
     "name": "stdout",
     "output_type": "stream",
     "text": [
      "10.7148\n",
      "12.138\n",
      "12.1076\n",
      "11.9204\n",
      "10.448\n",
      "9.8004\n",
      "9.624\n",
      "7.6268\n",
      "5.274000000000001\n",
      "3.8428000000000013\n",
      "1.8348000000000018\n",
      "0.7984000000000007\n",
      "-0.25479999999999914\n",
      "-1.1315999999999988\n",
      "-1.0708000000000002\n",
      "-0.7895999999999994\n",
      "-1.1356000000000002\n",
      "1.2499999999999996\n",
      "1.992400000000001\n",
      "3.846800000000001\n",
      "5.7216000000000005\n",
      "6.9536\n",
      "9.4132\n",
      "10.901200000000003\n"
     ]
    }
   ],
   "source": [
    "#backend = IBMQ.get_backend('')\n",
    "shots1 = 25\n",
    "final_result_naive = []\n",
    "for i in range (len(theta_values)):\n",
    "    \n",
    "    zi_counts = backend.retrieve_job(ZI_job_IDs[i]).result().get_counts()\n",
    "    zi_contribution = (zi_counts.get('00', 0) + zi_counts.get('10', 0) \n",
    "                       - zi_counts.get('11', 0) - zi_counts.get('01', 0)) / shots1\n",
    "    #print(zi_counts)\n",
    "    #print(zi_counts.get('10', 0))\n",
    "    #print(zi_contribution)\n",
    "    \n",
    "    iz_counts = backend.retrieve_job(IZ_job_IDs[i]).result().get_counts()\n",
    "    iz_contribution = (iz_counts.get('00', 0) + iz_counts.get('01', 0) \n",
    "                       - iz_counts.get('10', 0) - iz_counts.get('11', 0)) / shots1\n",
    "    \n",
    "    xx_counts = backend.retrieve_job(XX_job_IDs[i]).result().get_counts()\n",
    "    xx_contribution = (xx_counts.get('00', 0) + xx_counts.get('11', 0) \n",
    "                       - xx_counts.get('01', 0) - xx_counts.get('10', 0)) / shots1\n",
    "    \n",
    "    yy_counts = backend.retrieve_job(YY_job_IDs[i]).result().get_counts()\n",
    "    yy_contribution = (yy_counts.get('00', 0) + yy_counts.get('11', 0) \n",
    "                       - yy_counts.get('01', 0) - yy_counts.get('10', 0)) / shots1\n",
    "    \n",
    "    total = 5.9 + .22 * zi_contribution - 6.1 * iz_contribution - 2.14 * xx_contribution - 2.14 * yy_contribution\n",
    "    final_result_naive.append(total)\n",
    "    print(total)"
   ]
  },
  {
   "cell_type": "markdown",
   "metadata": {},
   "source": [
    "### compute the energy sums for simultaneous measurement"
   ]
  },
  {
   "cell_type": "code",
   "execution_count": 12,
   "metadata": {},
   "outputs": [
    {
     "name": "stdout",
     "output_type": "stream",
     "text": [
      "11.497608000000001\n",
      "11.616200000000001\n",
      "11.88044\n",
      "11.21974\n",
      "11.486404\n",
      "9.949722000000001\n",
      "9.228010000000001\n",
      "7.436040000000002\n",
      "5.8725200000000015\n",
      "3.6337960000000002\n",
      "2.4998400000000007\n",
      "0.9269600000000018\n",
      "-0.11220999999999971\n",
      "-1.1195680000000001\n",
      "-0.7141519999999991\n",
      "-1.4844799999999991\n",
      "-0.2040200000000001\n",
      "0.5369399999999998\n",
      "2.8495600000000003\n",
      "3.33702\n",
      "4.4882800000000005\n",
      "7.845826\n",
      "8.968991999999998\n",
      "10.12722\n"
     ]
    }
   ],
   "source": [
    "#backend = IBMQ.get_backend('ibmq_qasm_simulator')\n",
    "shots2 = 50\n",
    "\n",
    "final_result_simultaneous = []\n",
    "for i in range (len(theta_values)):\n",
    "    zi_and_iz_counts = backend.retrieve_job(ZI_and_IZ_job_IDs[i]).result().get_counts()\n",
    "    zi_contribution = (zi_and_iz_counts.get('00', 0) + zi_and_iz_counts.get('10', 0) \n",
    "                       - zi_and_iz_counts.get('11', 0) - zi_and_iz_counts.get('01', 0)) / shots2\n",
    "    iz_contribution = (zi_and_iz_counts.get('00', 0) + zi_and_iz_counts.get('01', 0) \n",
    "                       - zi_and_iz_counts.get('10', 0) - zi_and_iz_counts.get('11', 0)) / shots2\n",
    "    #print(zi_and_iz_counts)\n",
    "    xx_and_yy_counts = backend.retrieve_job(XX_and_YY_job_IDs[i]).result().get_counts()\n",
    "    xx_contribution = (xx_and_yy_counts.get('00', 0) + xx_and_yy_counts.get('10', 0) \n",
    "                       - xx_and_yy_counts.get('11', 0) - xx_and_yy_counts.get('01', 0)) / shots2\n",
    "    zz_contribution = (xx_and_yy_counts.get('00', 0) + xx_and_yy_counts.get('01', 0) \n",
    "                       - xx_and_yy_counts.get('10', 0) - xx_and_yy_counts.get('11', 0)) / shots2\n",
    "    yy_contribution = -xx_contribution * zz_contribution\n",
    "    total = 5.9 + .22 * zi_contribution - 6.1 * iz_contribution - 2.14 * xx_contribution - 2.14 * yy_contribution\n",
    "    final_result_simultaneous.append(total)\n",
    "    print(total)"
   ]
  },
  {
   "cell_type": "markdown",
   "metadata": {},
   "source": [
    "# Superimpose naive vs. simultaneous results"
   ]
  },
  {
   "cell_type": "code",
   "execution_count": 14,
   "metadata": {
    "scrolled": true
   },
   "outputs": [
    {
     "data": {
      "image/png": "[encoded data removed]",
      "text/plain": [
       "<Figure size 432x288 with 1 Axes>"
      ]
     },
     "metadata": {
      "needs_background": "light"
     },
     "output_type": "display_data"
    }
   ],
   "source": [
    "import matplotlib.pyplot as plt\n",
    "plt.plot(theta_values, final_result_naive, 'g^', label = \"naive measurement\")\n",
    "plt.plot(theta_values, final_result_naive)\n",
    "plt.plot(theta_values, final_result_simultaneous, 'bs', label = \"simultaneous measurement\")\n",
    "plt.plot(theta_values, final_result_simultaneous)\n",
    "plt.legend(loc='best')\n",
    "plt.xlabel('theta values')\n",
    "plt.ylabel('energy sums')\n",
    "plt.show()"
   ]
  },
  {
   "cell_type": "markdown",
   "metadata": {},
   "source": [
    "# Compute and plot the difference from theory (many shots running on simulator)"
   ]
  },
  {
   "cell_type": "code",
   "execution_count": 16,
   "metadata": {},
   "outputs": [],
   "source": [
    "values_theory = [12.191751999999997, 13.15524, 13.462224, 13.381992, 12.837567999999997, 11.637923999999998, 10.217920000000001, 8.380472000000001, 6.38668, 4.4392, 2.5525520000000013, 0.8814480000000007, -0.42213999999999907, -1.3090319999999995, -1.7176839999999993, -1.5886079999999994, -0.9050319999999998, 0.2661680000000004, 1.5365760000000002, 3.4022159999999992, 5.413296000000001, 7.372232, 9.278692, 10.918935999999999]\n",
    "value_diff, value2_diff = [], []\n",
    "for theta in range(len(theta_values)):\n",
    "    value_diff.append(abs(final_result_naive[theta] - values_theory[theta]))\n",
    "    value2_diff.append(abs(final_result_simultaneous[theta] - values_theory[theta]))"
   ]
  },
  {
   "cell_type": "code",
   "execution_count": 20,
   "metadata": {},
   "outputs": [
    {
     "data": {
      "image/png": "[encoded data removed]",
      "text/plain": [
       "<Figure size 432x288 with 1 Axes>"
      ]
     },
     "metadata": {
      "needs_background": "light"
     },
     "output_type": "display_data"
    }
   ],
   "source": [
    "import matplotlib.pyplot as plt\n",
    "plt.plot(theta_values, value_diff, 'bs', label='naive')\n",
    "plt.plot(theta_values, value2_diff, 'r^', label='simultaneous')\n",
    "plt.xlabel('theta values')\n",
    "plt.ylabel('energy sums')\n",
    "plt.title('difference between simultaneous and naive for simulator')\n",
    "plt.legend()\n",
    "plt.show()"
   ]
  },
  {
   "cell_type": "code",
   "execution_count": 25,
   "metadata": {},
   "outputs": [
    {
     "data": {
      "text/plain": [
       "9"
      ]
     },
     "execution_count": 25,
     "metadata": {},
     "output_type": "execute_result"
    }
   ],
   "source": [
    "len(['hi' for v1, v2 in zip(value_diff, value2_diff) if v1 > v2])"
   ]
  },
  {
   "cell_type": "code",
   "execution_count": 23,
   "metadata": {},
   "outputs": [
    {
     "name": "stdout",
     "output_type": "stream",
     "text": [
      "18.179623999999983\n"
     ]
    }
   ],
   "source": [
    "print(sum(value_diff))"
   ]
  },
  {
   "cell_type": "code",
   "execution_count": 24,
   "metadata": {},
   "outputs": [
    {
     "name": "stdout",
     "output_type": "stream",
     "text": [
      "18.82575999999999\n"
     ]
    }
   ],
   "source": [
    "print(sum(value2_diff))"
   ]
  },
  {
   "cell_type": "code",
   "execution_count": null,
   "metadata": {},
   "outputs": [],
   "source": []
  }
 ],
 "metadata": {
  "kernelspec": {
   "display_name": "Python 3",
   "language": "python",
   "name": "python3"
  },
  "language_info": {
   "codemirror_mode": {
    "name": "ipython",
    "version": 3
   },
   "file_extension": ".py",
   "mimetype": "text/x-python",
   "name": "python",
   "nbconvert_exporter": "python",
   "pygments_lexer": "ipython3",
   "version": "3.7.3"
  }
 },
 "nbformat": 4,
 "nbformat_minor": 2
}
